{
 "cells": [
  {
   "cell_type": "markdown",
   "metadata": {},
   "source": [
    "## Data Lookup"
   ]
  },
  {
   "cell_type": "code",
   "execution_count": 1,
   "metadata": {},
   "outputs": [
    {
     "name": "stdout",
     "output_type": "stream",
     "text": [
      "22/09/05 12:39:32 WARN Utils: Your hostname, LAPTOP-URHBN55Q resolves to a loopback address: 127.0.1.1; using 10.13.207.233 instead (on interface wifi0)\n",
      "22/09/05 12:39:32 WARN Utils: Set SPARK_LOCAL_IP if you need to bind to another address\n"
     ]
    },
    {
     "name": "stderr",
     "output_type": "stream",
     "text": [
      "Setting default log level to \"WARN\".\n",
      "To adjust logging level use sc.setLogLevel(newLevel). For SparkR, use setLogLevel(newLevel).\n"
     ]
    },
    {
     "name": "stdout",
     "output_type": "stream",
     "text": [
      "22/09/05 12:39:33 WARN NativeCodeLoader: Unable to load native-hadoop library for your platform... using builtin-java classes where applicable\n"
     ]
    }
   ],
   "source": [
    "# Start Spark Session\n",
    "from pyspark.sql import SparkSession\n",
    "spark = (\n",
    "    SparkSession.builder.appName(\"MAST30034 Project 2 BNPL\")\n",
    "    .config(\"spark.sql.repl.eagerEval.enabled\", True) \n",
    "    .config(\"spark.sql.parquet.cacheMetadata\", \"true\")\n",
    "    .config(\"spark.sql.session.timeZone\", \"Etc/UTC\")\n",
    "    .config(\"spark.driver.memory\", \"4g\")\n",
    "    .config(\"spark.executor.memory\", \"8g\")\n",
    "    .getOrCreate()\n",
    ")"
   ]
  },
  {
   "cell_type": "code",
   "execution_count": 2,
   "metadata": {},
   "outputs": [
    {
     "name": "stderr",
     "output_type": "stream",
     "text": [
      "                                                                                \r"
     ]
    }
   ],
   "source": [
    "consumer = spark.read.csv(\"../data/tables/tbl_consumer.csv\", header=True, sep=\"|\")"
   ]
  },
  {
   "cell_type": "code",
   "execution_count": 3,
   "metadata": {},
   "outputs": [
    {
     "name": "stdout",
     "output_type": "stream",
     "text": [
      "-RECORD 0---------------------------\n",
      " name        | Yolanda Williams     \n",
      " address     | 413 Haney Gardens... \n",
      " state       | WA                   \n",
      " postcode    | 6935                 \n",
      " gender      | Female               \n",
      " consumer_id | 1195503              \n",
      "only showing top 1 row\n",
      "\n"
     ]
    }
   ],
   "source": [
    "consumer.show(1, vertical=True)"
   ]
  },
  {
   "cell_type": "code",
   "execution_count": 4,
   "metadata": {},
   "outputs": [],
   "source": [
    "details = spark.read.parquet(\"../data/tables/consumer_user_details.parquet\")"
   ]
  },
  {
   "cell_type": "code",
   "execution_count": 5,
   "metadata": {},
   "outputs": [
    {
     "name": "stdout",
     "output_type": "stream",
     "text": [
      "-RECORD 0--------------\n",
      " user_id     | 1       \n",
      " consumer_id | 1195503 \n",
      "-RECORD 1--------------\n",
      " user_id     | 2       \n",
      " consumer_id | 179208  \n",
      "-RECORD 2--------------\n",
      " user_id     | 3       \n",
      " consumer_id | 1194530 \n",
      "-RECORD 3--------------\n",
      " user_id     | 4       \n",
      " consumer_id | 154128  \n",
      "-RECORD 4--------------\n",
      " user_id     | 5       \n",
      " consumer_id | 712975  \n",
      "-RECORD 5--------------\n",
      " user_id     | 6       \n",
      " consumer_id | 407340  \n",
      "-RECORD 6--------------\n",
      " user_id     | 7       \n",
      " consumer_id | 511685  \n",
      "-RECORD 7--------------\n",
      " user_id     | 8       \n",
      " consumer_id | 448088  \n",
      "-RECORD 8--------------\n",
      " user_id     | 9       \n",
      " consumer_id | 650435  \n",
      "-RECORD 9--------------\n",
      " user_id     | 10      \n",
      " consumer_id | 1058499 \n",
      "only showing top 10 rows\n",
      "\n"
     ]
    },
    {
     "name": "stderr",
     "output_type": "stream",
     "text": [
      "                                                                                \r"
     ]
    }
   ],
   "source": [
    "details.show(10, vertical=True)"
   ]
  },
  {
   "cell_type": "code",
   "execution_count": 6,
   "metadata": {},
   "outputs": [],
   "source": [
    "merchants = spark.read.parquet(\"../data/tables/tbl_merchants.parquet\")"
   ]
  },
  {
   "cell_type": "code",
   "execution_count": 7,
   "metadata": {},
   "outputs": [
    {
     "name": "stdout",
     "output_type": "stream",
     "text": [
      "-RECORD 0----------------------------\n",
      " name         | Felis Limited        \n",
      " tags         | ((furniture, home... \n",
      " merchant_abn | 10023283211          \n",
      "-RECORD 1----------------------------\n",
      " name         | Arcu Ac Orci Corp... \n",
      " tags         | ([cable, satellit... \n",
      " merchant_abn | 10142254217          \n",
      "-RECORD 2----------------------------\n",
      " name         | Nunc Sed Company     \n",
      " tags         | ([jewelry, watch,... \n",
      " merchant_abn | 10165489824          \n",
      "only showing top 3 rows\n",
      "\n"
     ]
    }
   ],
   "source": [
    "merchants.show(3, vertical=True)"
   ]
  },
  {
   "cell_type": "code",
   "execution_count": 8,
   "metadata": {},
   "outputs": [
    {
     "name": "stderr",
     "output_type": "stream",
     "text": [
      "                                                                                \r"
     ]
    }
   ],
   "source": [
    "transactions = spark.read.parquet(\"../data/tables/transactions_20210228_20210827_snapshot/\")"
   ]
  },
  {
   "cell_type": "code",
   "execution_count": 9,
   "metadata": {},
   "outputs": [
    {
     "name": "stdout",
     "output_type": "stream",
     "text": [
      "-RECORD 0------------------------------\n",
      " user_id        | 18478                \n",
      " merchant_abn   | 62191208634          \n",
      " dollar_value   | 63.255848959735246   \n",
      " order_id       | 949a63c8-29f7-4ab... \n",
      " order_datetime | 2021-08-20           \n",
      "only showing top 1 row\n",
      "\n"
     ]
    }
   ],
   "source": [
    "transactions.show(1, vertical=True)"
   ]
  },
  {
   "cell_type": "code",
   "execution_count": 10,
   "metadata": {},
   "outputs": [],
   "source": [
    "# Join consumers with their respective details\n",
    "consumer_user = consumer.join(details, on=\"consumer_id\")"
   ]
  },
  {
   "cell_type": "code",
   "execution_count": 11,
   "metadata": {},
   "outputs": [],
   "source": [
    "# Join consumers with their respective transactions\n",
    "consumer_transactions = consumer_user.join(transactions, on=\"user_id\")"
   ]
  },
  {
   "cell_type": "code",
   "execution_count": 12,
   "metadata": {},
   "outputs": [
    {
     "name": "stderr",
     "output_type": "stream",
     "text": [
      "[Stage 14:>                                                         (0 + 1) / 1]\r"
     ]
    },
    {
     "name": "stdout",
     "output_type": "stream",
     "text": [
      "-RECORD 0------------------------------\n",
      " user_id        | 7                    \n",
      " consumer_id    | 511685               \n",
      " name           | Andrea Jones         \n",
      " address        | 122 Brandon Cliff    \n",
      " state          | QLD                  \n",
      " postcode       | 4606                 \n",
      " gender         | Female               \n",
      " merchant_abn   | 33064796871          \n",
      " dollar_value   | 373.0873675184212    \n",
      " order_id       | fe188788-b89f-4dd... \n",
      " order_datetime | 2021-08-20           \n",
      "-RECORD 1------------------------------\n",
      " user_id        | 7                    \n",
      " consumer_id    | 511685               \n",
      " name           | Andrea Jones         \n",
      " address        | 122 Brandon Cliff    \n",
      " state          | QLD                  \n",
      " postcode       | 4606                 \n",
      " gender         | Female               \n",
      " merchant_abn   | 68435002949          \n",
      " dollar_value   | 232.5364986739752    \n",
      " order_id       | b4a89891-a113-45e... \n",
      " order_datetime | 2021-08-20           \n",
      "-RECORD 2------------------------------\n",
      " user_id        | 7                    \n",
      " consumer_id    | 511685               \n",
      " name           | Andrea Jones         \n",
      " address        | 122 Brandon Cliff    \n",
      " state          | QLD                  \n",
      " postcode       | 4606                 \n",
      " gender         | Female               \n",
      " merchant_abn   | 41944909975          \n",
      " dollar_value   | 30.910755230234322   \n",
      " order_id       | 302ae628-8eba-4a5... \n",
      " order_datetime | 2021-08-20           \n",
      "-RECORD 3------------------------------\n",
      " user_id        | 7                    \n",
      " consumer_id    | 511685               \n",
      " name           | Andrea Jones         \n",
      " address        | 122 Brandon Cliff    \n",
      " state          | QLD                  \n",
      " postcode       | 4606                 \n",
      " gender         | Female               \n",
      " merchant_abn   | 21439773999          \n",
      " dollar_value   | 91.18655746114226    \n",
      " order_id       | 4524fdc9-73f0-477... \n",
      " order_datetime | 2021-08-21           \n",
      "-RECORD 4------------------------------\n",
      " user_id        | 7                    \n",
      " consumer_id    | 511685               \n",
      " name           | Andrea Jones         \n",
      " address        | 122 Brandon Cliff    \n",
      " state          | QLD                  \n",
      " postcode       | 4606                 \n",
      " gender         | Female               \n",
      " merchant_abn   | 86662713230          \n",
      " dollar_value   | 38.8137172956379     \n",
      " order_id       | 28f9e0f3-858d-445... \n",
      " order_datetime | 2021-08-19           \n",
      "only showing top 5 rows\n",
      "\n"
     ]
    },
    {
     "name": "stderr",
     "output_type": "stream",
     "text": [
      "                                                                                \r"
     ]
    }
   ],
   "source": [
    "consumer_transactions.show(5, vertical=True)"
   ]
  },
  {
   "cell_type": "code",
   "execution_count": 13,
   "metadata": {},
   "outputs": [],
   "source": [
    "# Join transactions with the respective merchants\n",
    "consumer_merchants = consumer_transactions.join(merchants, on=\"merchant_abn\")"
   ]
  },
  {
   "cell_type": "code",
   "execution_count": 14,
   "metadata": {},
   "outputs": [
    {
     "name": "stderr",
     "output_type": "stream",
     "text": [
      "[Stage 18:==============>                                           (2 + 6) / 8]\r"
     ]
    },
    {
     "name": "stdout",
     "output_type": "stream",
     "text": [
      "-RECORD 0------------------------------\n",
      " merchant_abn   | 33064796871          \n",
      " user_id        | 7                    \n",
      " consumer_id    | 511685               \n",
      " name           | Andrea Jones         \n",
      " address        | 122 Brandon Cliff    \n",
      " state          | QLD                  \n",
      " postcode       | 4606                 \n",
      " gender         | Female               \n",
      " dollar_value   | 373.0873675184212    \n",
      " order_id       | fe188788-b89f-4dd... \n",
      " order_datetime | 2021-08-20           \n",
      " name           | Curabitur Massa C... \n",
      " tags           | ((computer progra... \n",
      "-RECORD 1------------------------------\n",
      " merchant_abn   | 68435002949          \n",
      " user_id        | 7                    \n",
      " consumer_id    | 511685               \n",
      " name           | Andrea Jones         \n",
      " address        | 122 Brandon Cliff    \n",
      " state          | QLD                  \n",
      " postcode       | 4606                 \n",
      " gender         | Female               \n",
      " dollar_value   | 232.5364986739752    \n",
      " order_id       | b4a89891-a113-45e... \n",
      " order_datetime | 2021-08-20           \n",
      " name           | Aliquam Eu Inc.      \n",
      " tags           | [(artist supply a... \n",
      "-RECORD 2------------------------------\n",
      " merchant_abn   | 41944909975          \n",
      " user_id        | 7                    \n",
      " consumer_id    | 511685               \n",
      " name           | Andrea Jones         \n",
      " address        | 122 Brandon Cliff    \n",
      " state          | QLD                  \n",
      " postcode       | 4606                 \n",
      " gender         | Female               \n",
      " dollar_value   | 30.910755230234322   \n",
      " order_id       | 302ae628-8eba-4a5... \n",
      " order_datetime | 2021-08-20           \n",
      " name           | Et Nunc Consulting   \n",
      " tags           | ([books, periodic... \n",
      "-RECORD 3------------------------------\n",
      " merchant_abn   | 21439773999          \n",
      " user_id        | 7                    \n",
      " consumer_id    | 511685               \n",
      " name           | Andrea Jones         \n",
      " address        | 122 Brandon Cliff    \n",
      " state          | QLD                  \n",
      " postcode       | 4606                 \n",
      " gender         | Female               \n",
      " dollar_value   | 91.18655746114226    \n",
      " order_id       | 4524fdc9-73f0-477... \n",
      " order_datetime | 2021-08-21           \n",
      " name           | Mauris Non Institute \n",
      " tags           | ([cable, satellit... \n",
      "-RECORD 4------------------------------\n",
      " merchant_abn   | 86662713230          \n",
      " user_id        | 7                    \n",
      " consumer_id    | 511685               \n",
      " name           | Andrea Jones         \n",
      " address        | 122 Brandon Cliff    \n",
      " state          | QLD                  \n",
      " postcode       | 4606                 \n",
      " gender         | Female               \n",
      " dollar_value   | 38.8137172956379     \n",
      " order_id       | 28f9e0f3-858d-445... \n",
      " order_datetime | 2021-08-19           \n",
      " name           | Vestibulum Accums... \n",
      " tags           | [[watch, clock, a... \n",
      "only showing top 5 rows\n",
      "\n"
     ]
    },
    {
     "name": "stderr",
     "output_type": "stream",
     "text": [
      "                                                                                \r"
     ]
    }
   ],
   "source": [
    "consumer_merchants.show(5, vertical=True)"
   ]
  },
  {
   "cell_type": "code",
   "execution_count": 15,
   "metadata": {},
   "outputs": [
    {
     "name": "stderr",
     "output_type": "stream",
     "text": [
      "[Stage 29:>                                                       (0 + 16) / 16]\r"
     ]
    },
    {
     "name": "stdout",
     "output_type": "stream",
     "text": [
      "+-----------------------------------------------------------------------------------------------------------------+-----+\n",
      "|tags                                                                                                             |count|\n",
      "+-----------------------------------------------------------------------------------------------------------------+-----+\n",
      "|((lawn and garden suppLy outlets, including nurseries), (a), (take rate: 6.02))                                  |148  |\n",
      "|[[watch, clock, and jewelry repair shops], [a], [take rate: 5.93]]                                               |2502 |\n",
      "|[[florists supplies, nursery stock, and flowers], [a], [take rate: 5.58]]                                        |163  |\n",
      "|([artist supply and craft shops], [a], [take rate: 6.04])                                                        |452  |\n",
      "|((tent and awning shops), (b), (take rate: 3.43))                                                                |336  |\n",
      "|([tent and awning shops], [a], [take rate: 5.81])                                                                |344  |\n",
      "|[[opticians, optical goods, and eyeglasses], [b], [take rate: 4.00]]                                             |2002 |\n",
      "|([stationery, office supplies anD printing  and writing paper], [b], [take rate: 3.33])                          |111  |\n",
      "|[[cable, satellite, and other pay television and radio services], [a], [take rate: 5.75]]                        |901  |\n",
      "|([computer programming , data processing, and integrated systems design services], [a], [take rate: 6.79])       |513  |\n",
      "|((gift, card, novelty, and souvenir shops), (c), (take rate: 2.75))                                              |946  |\n",
      "|[[books, periodicals, and newspapers], [c], [take rate: 1.60]]                                                   |288  |\n",
      "|[(gift, card, novelty, and souvenir shops), (c), (take rate: 1.41)]                                              |762  |\n",
      "|((computer programming , data processing, and integrated systems design services), (c), (take rate: 1.67))       |134  |\n",
      "|[(tent and awning shops), (b), (take rate: 4.71)]                                                                |30   |\n",
      "|[[motor vehicle supplies and new parts], [a], [take rate: 6.43]]                                                 |48   |\n",
      "|[(opticians, optical goods, and eyeglasses), (b), (take rate: 4.50)]                                             |4428 |\n",
      "|([furniture, home furnishings and equipment shops, and manufacturers, except applIances], [b], [take rate: 4.28])|1324 |\n",
      "|((hobby, toy and game shops), (c), (take rate: 2.28))                                                            |1311 |\n",
      "|([cable, satellite, and other pay television and radio services], [a], [take rate: 6.88])                        |1336 |\n",
      "+-----------------------------------------------------------------------------------------------------------------+-----+\n",
      "only showing top 20 rows\n",
      "\n"
     ]
    },
    {
     "name": "stderr",
     "output_type": "stream",
     "text": [
      "                                                                                \r"
     ]
    }
   ],
   "source": [
    "# Explore product tags for purchase frequency\n",
    "consumer_merchants.groupby(\"tags\").count().show(truncate=False)"
   ]
  },
  {
   "cell_type": "code",
   "execution_count": 21,
   "metadata": {},
   "outputs": [
    {
     "name": "stderr",
     "output_type": "stream",
     "text": [
      "                                                                                \r"
     ]
    },
    {
     "data": {
      "text/html": [
       "<table border='1'>\n",
       "<tr><th>merchant_abn</th><th>user_id</th><th>consumer_id</th><th>name</th><th>address</th><th>state</th><th>postcode</th><th>gender</th><th>dollar_value</th><th>order_id</th><th>order_datetime</th><th>name</th><th>tags</th></tr>\n",
       "<tr><td>20985347699</td><td>3685</td><td>407965</td><td>Alejandro Pacheco</td><td>2388 Huang Viaduc...</td><td>NT</td><td>880</td><td>Male</td><td>5.828568140638751</td><td>82605a7d-39a4-449...</td><td>2021-08-21</td><td>Semper Tellus PC</td><td>[(tent and awning...</td></tr>\n",
       "<tr><td>24852446429</td><td>3685</td><td>407965</td><td>Alejandro Pacheco</td><td>2388 Huang Viaduc...</td><td>NT</td><td>880</td><td>Male</td><td>41.80185559348712</td><td>1651a8a9-8d44-458...</td><td>2021-08-22</td><td>Erat Vitae LLP</td><td>[(florists suppli...</td></tr>\n",
       "<tr><td>58019702129</td><td>3685</td><td>407965</td><td>Alejandro Pacheco</td><td>2388 Huang Viaduc...</td><td>NT</td><td>880</td><td>Male</td><td>21.828673359894463</td><td>227851a2-1468-4cc...</td><td>2021-08-14</td><td>Sapien Cras Insti...</td><td>([artist supply a...</td></tr>\n",
       "<tr><td>25235376304</td><td>3685</td><td>407965</td><td>Alejandro Pacheco</td><td>2388 Huang Viaduc...</td><td>NT</td><td>880</td><td>Male</td><td>197.96974393449446</td><td>bd1ac945-5dd2-451...</td><td>2021-07-15</td><td>Pellentesque Tell...</td><td>[(lawn and garden...</td></tr>\n",
       "<tr><td>67794222692</td><td>3685</td><td>407965</td><td>Alejandro Pacheco</td><td>2388 Huang Viaduc...</td><td>NT</td><td>880</td><td>Male</td><td>23.493501201394803</td><td>6595c880-39b6-408...</td><td>2021-08-16</td><td>Nunc Ut Inc.</td><td>((digital goods: ...</td></tr>\n",
       "<tr><td>75646866762</td><td>3685</td><td>407965</td><td>Alejandro Pacheco</td><td>2388 Huang Viaduc...</td><td>NT</td><td>880</td><td>Male</td><td>282.90234741912445</td><td>69717812-8e1a-469...</td><td>2021-08-13</td><td>Facilisis Limited</td><td>[(florists suppli...</td></tr>\n",
       "<tr><td>82065156333</td><td>3685</td><td>407965</td><td>Alejandro Pacheco</td><td>2388 Huang Viaduc...</td><td>NT</td><td>880</td><td>Male</td><td>22.41360665908334</td><td>b0e426d7-57e0-487...</td><td>2021-08-13</td><td>Nascetur Ridiculu...</td><td>([tent and awning...</td></tr>\n",
       "<tr><td>13255205539</td><td>3685</td><td>407965</td><td>Alejandro Pacheco</td><td>2388 Huang Viaduc...</td><td>NT</td><td>880</td><td>Male</td><td>211.29174176195065</td><td>39f6006b-0017-415...</td><td>2021-07-16</td><td>In Aliquet Inc.</td><td>((shoe shops), (a...</td></tr>\n",
       "<tr><td>64203420245</td><td>9548</td><td>496454</td><td>Kristen Salas</td><td>637 Micheal Alley</td><td>NT</td><td>880</td><td>Female</td><td>42.89248125090715</td><td>99435a0c-f0a0-47f...</td><td>2021-08-20</td><td>Pede Nonummy Corp.</td><td>((tent and awning...</td></tr>\n",
       "<tr><td>45466221547</td><td>9548</td><td>496454</td><td>Kristen Salas</td><td>637 Micheal Alley</td><td>NT</td><td>880</td><td>Female</td><td>28.254490280764742</td><td>ad4dac78-1ab6-46d...</td><td>2021-08-21</td><td>Eu LLC</td><td>[(computers, comp...</td></tr>\n",
       "<tr><td>46804135891</td><td>9548</td><td>496454</td><td>Kristen Salas</td><td>637 Micheal Alley</td><td>NT</td><td>880</td><td>Female</td><td>10.36113282869425</td><td>9f8bd459-ea69-468...</td><td>2021-08-21</td><td>Suspendisse Dui C...</td><td>((opticians, opti...</td></tr>\n",
       "<tr><td>68216911708</td><td>9548</td><td>496454</td><td>Kristen Salas</td><td>637 Micheal Alley</td><td>NT</td><td>880</td><td>Female</td><td>13.482376422965668</td><td>0e767d0f-2035-4a4...</td><td>2021-08-22</td><td>Placerat Eget Ven...</td><td>[[computers, comp...</td></tr>\n",
       "<tr><td>22795471441</td><td>9548</td><td>496454</td><td>Kristen Salas</td><td>637 Micheal Alley</td><td>NT</td><td>880</td><td>Female</td><td>84.73547082782153</td><td>1dc9a61e-6d8c-4b3...</td><td>2021-08-14</td><td>Etiam Gravida Mol...</td><td>([bicycle shops -...</td></tr>\n",
       "<tr><td>51550230865</td><td>9548</td><td>496454</td><td>Kristen Salas</td><td>637 Micheal Alley</td><td>NT</td><td>880</td><td>Female</td><td>169.0912794853701</td><td>6a9c7687-935d-403...</td><td>2021-08-14</td><td>Mauris Corp.</td><td>[(watch, clock, a...</td></tr>\n",
       "<tr><td>60956456424</td><td>9548</td><td>496454</td><td>Kristen Salas</td><td>637 Micheal Alley</td><td>NT</td><td>880</td><td>Female</td><td>102.08725318308015</td><td>288c2100-3359-459...</td><td>2021-08-16</td><td>Ultricies Digniss...</td><td>([gift, card, Nov...</td></tr>\n",
       "<tr><td>35223308778</td><td>9548</td><td>496454</td><td>Kristen Salas</td><td>637 Micheal Alley</td><td>NT</td><td>880</td><td>Female</td><td>132.56249289359567</td><td>3d628df6-aad3-4f8...</td><td>2021-08-16</td><td>Euismod In Corp.</td><td>[(books, periodic...</td></tr>\n",
       "<tr><td>20885454195</td><td>9548</td><td>496454</td><td>Kristen Salas</td><td>637 Micheal Alley</td><td>NT</td><td>880</td><td>Female</td><td>75.54380895506213</td><td>72d6dfd0-9fef-43c...</td><td>2021-08-27</td><td>Pharetra Ut Indus...</td><td>((cable, satellit...</td></tr>\n",
       "<tr><td>45946543693</td><td>16524</td><td>946166</td><td>Cody Guerrero</td><td>9758 Nathan Stree...</td><td>NT</td><td>880</td><td>Male</td><td>657.2377551798891</td><td>89614fcb-a2df-404...</td><td>2021-08-20</td><td>Egestas Hendrerit...</td><td>([health and beau...</td></tr>\n",
       "<tr><td>49505931725</td><td>16524</td><td>946166</td><td>Cody Guerrero</td><td>9758 Nathan Stree...</td><td>NT</td><td>880</td><td>Male</td><td>98.87149856866314</td><td>a6e4fb52-e179-46c...</td><td>2021-08-20</td><td>Suspendisse Ac As...</td><td>([digital goods: ...</td></tr>\n",
       "<tr><td>64203420245</td><td>16524</td><td>946166</td><td>Cody Guerrero</td><td>9758 Nathan Stree...</td><td>NT</td><td>880</td><td>Male</td><td>4.946370873665735</td><td>33e14d64-9b24-46e...</td><td>2021-08-20</td><td>Pede Nonummy Corp.</td><td>((tent and awning...</td></tr>\n",
       "</table>\n",
       "only showing top 20 rows\n"
      ],
      "text/plain": [
       "+------------+-------+-----------+-----------------+--------------------+-----+--------+------+------------------+--------------------+--------------+--------------------+--------------------+\n",
       "|merchant_abn|user_id|consumer_id|             name|             address|state|postcode|gender|      dollar_value|            order_id|order_datetime|                name|                tags|\n",
       "+------------+-------+-----------+-----------------+--------------------+-----+--------+------+------------------+--------------------+--------------+--------------------+--------------------+\n",
       "| 20985347699|   3685|     407965|Alejandro Pacheco|2388 Huang Viaduc...|   NT|     880|  Male| 5.828568140638751|82605a7d-39a4-449...|    2021-08-21|    Semper Tellus PC|[(tent and awning...|\n",
       "| 24852446429|   3685|     407965|Alejandro Pacheco|2388 Huang Viaduc...|   NT|     880|  Male| 41.80185559348712|1651a8a9-8d44-458...|    2021-08-22|      Erat Vitae LLP|[(florists suppli...|\n",
       "| 58019702129|   3685|     407965|Alejandro Pacheco|2388 Huang Viaduc...|   NT|     880|  Male|21.828673359894463|227851a2-1468-4cc...|    2021-08-14|Sapien Cras Insti...|([artist supply a...|\n",
       "| 25235376304|   3685|     407965|Alejandro Pacheco|2388 Huang Viaduc...|   NT|     880|  Male|197.96974393449446|bd1ac945-5dd2-451...|    2021-07-15|Pellentesque Tell...|[(lawn and garden...|\n",
       "| 67794222692|   3685|     407965|Alejandro Pacheco|2388 Huang Viaduc...|   NT|     880|  Male|23.493501201394803|6595c880-39b6-408...|    2021-08-16|        Nunc Ut Inc.|((digital goods: ...|\n",
       "| 75646866762|   3685|     407965|Alejandro Pacheco|2388 Huang Viaduc...|   NT|     880|  Male|282.90234741912445|69717812-8e1a-469...|    2021-08-13|   Facilisis Limited|[(florists suppli...|\n",
       "| 82065156333|   3685|     407965|Alejandro Pacheco|2388 Huang Viaduc...|   NT|     880|  Male| 22.41360665908334|b0e426d7-57e0-487...|    2021-08-13|Nascetur Ridiculu...|([tent and awning...|\n",
       "| 13255205539|   3685|     407965|Alejandro Pacheco|2388 Huang Viaduc...|   NT|     880|  Male|211.29174176195065|39f6006b-0017-415...|    2021-07-16|     In Aliquet Inc.|((shoe shops), (a...|\n",
       "| 64203420245|   9548|     496454|    Kristen Salas|   637 Micheal Alley|   NT|     880|Female| 42.89248125090715|99435a0c-f0a0-47f...|    2021-08-20|  Pede Nonummy Corp.|((tent and awning...|\n",
       "| 45466221547|   9548|     496454|    Kristen Salas|   637 Micheal Alley|   NT|     880|Female|28.254490280764742|ad4dac78-1ab6-46d...|    2021-08-21|              Eu LLC|[(computers, comp...|\n",
       "| 46804135891|   9548|     496454|    Kristen Salas|   637 Micheal Alley|   NT|     880|Female| 10.36113282869425|9f8bd459-ea69-468...|    2021-08-21|Suspendisse Dui C...|((opticians, opti...|\n",
       "| 68216911708|   9548|     496454|    Kristen Salas|   637 Micheal Alley|   NT|     880|Female|13.482376422965668|0e767d0f-2035-4a4...|    2021-08-22|Placerat Eget Ven...|[[computers, comp...|\n",
       "| 22795471441|   9548|     496454|    Kristen Salas|   637 Micheal Alley|   NT|     880|Female| 84.73547082782153|1dc9a61e-6d8c-4b3...|    2021-08-14|Etiam Gravida Mol...|([bicycle shops -...|\n",
       "| 51550230865|   9548|     496454|    Kristen Salas|   637 Micheal Alley|   NT|     880|Female| 169.0912794853701|6a9c7687-935d-403...|    2021-08-14|        Mauris Corp.|[(watch, clock, a...|\n",
       "| 60956456424|   9548|     496454|    Kristen Salas|   637 Micheal Alley|   NT|     880|Female|102.08725318308015|288c2100-3359-459...|    2021-08-16|Ultricies Digniss...|([gift, card, Nov...|\n",
       "| 35223308778|   9548|     496454|    Kristen Salas|   637 Micheal Alley|   NT|     880|Female|132.56249289359567|3d628df6-aad3-4f8...|    2021-08-16|    Euismod In Corp.|[(books, periodic...|\n",
       "| 20885454195|   9548|     496454|    Kristen Salas|   637 Micheal Alley|   NT|     880|Female| 75.54380895506213|72d6dfd0-9fef-43c...|    2021-08-27|Pharetra Ut Indus...|((cable, satellit...|\n",
       "| 45946543693|  16524|     946166|    Cody Guerrero|9758 Nathan Stree...|   NT|     880|  Male| 657.2377551798891|89614fcb-a2df-404...|    2021-08-20|Egestas Hendrerit...|([health and beau...|\n",
       "| 49505931725|  16524|     946166|    Cody Guerrero|9758 Nathan Stree...|   NT|     880|  Male| 98.87149856866314|a6e4fb52-e179-46c...|    2021-08-20|Suspendisse Ac As...|([digital goods: ...|\n",
       "| 64203420245|  16524|     946166|    Cody Guerrero|9758 Nathan Stree...|   NT|     880|  Male| 4.946370873665735|33e14d64-9b24-46e...|    2021-08-20|  Pede Nonummy Corp.|((tent and awning...|\n",
       "+------------+-------+-----------+-----------------+--------------------+-----+--------+------+------------------+--------------------+--------------+--------------------+--------------------+\n",
       "only showing top 20 rows"
      ]
     },
     "execution_count": 21,
     "metadata": {},
     "output_type": "execute_result"
    }
   ],
   "source": []
  }
 ],
 "metadata": {
  "kernelspec": {
   "display_name": "Python 3.8.9 64-bit",
   "language": "python",
   "name": "python3"
  },
  "language_info": {
   "codemirror_mode": {
    "name": "ipython",
    "version": 3
   },
   "file_extension": ".py",
   "mimetype": "text/x-python",
   "name": "python",
   "nbconvert_exporter": "python",
   "pygments_lexer": "ipython3",
   "version": "3.8.9"
  },
  "orig_nbformat": 4,
  "vscode": {
   "interpreter": {
    "hash": "31f2aee4e71d21fbe5cf8b01ff0e069b9275f58929596ceb00d14d90e3e16cd6"
   }
  }
 },
 "nbformat": 4,
 "nbformat_minor": 2
}
