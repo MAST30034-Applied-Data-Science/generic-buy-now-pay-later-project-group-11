{
 "cells": [
  {
   "cell_type": "code",
   "execution_count": 2,
   "metadata": {},
   "outputs": [
    {
     "name": "stdout",
     "output_type": "stream",
     "text": [
      "22/08/29 13:02:18 WARN Utils: Your hostname, LAPTOP-URHBN55Q resolves to a loopback address: 127.0.1.1; using 10.13.199.115 instead (on interface wifi0)\n",
      "22/08/29 13:02:18 WARN Utils: Set SPARK_LOCAL_IP if you need to bind to another address\n"
     ]
    },
    {
     "name": "stderr",
     "output_type": "stream",
     "text": [
      "Setting default log level to \"WARN\".\n",
      "To adjust logging level use sc.setLogLevel(newLevel). For SparkR, use setLogLevel(newLevel).\n"
     ]
    },
    {
     "name": "stdout",
     "output_type": "stream",
     "text": [
      "22/08/29 13:02:19 WARN NativeCodeLoader: Unable to load native-hadoop library for your platform... using builtin-java classes where applicable\n"
     ]
    }
   ],
   "source": [
    "from pyspark.sql import SparkSession\n",
    "spark = (\n",
    "    SparkSession.builder.appName(\"MAST30034 Project 2 BNPL\")\n",
    "    .config(\"spark.sql.repl.eagerEval.enabled\", True) \n",
    "    .config(\"spark.sql.parquet.cacheMetadata\", \"true\")\n",
    "    .config(\"spark.sql.session.timeZone\", \"Etc/UTC\")\n",
    "    .config(\"spark.driver.memory\", \"4g\")\n",
    "    .config(\"spark.executor.memory\", \"8g\")\n",
    "    .getOrCreate()\n",
    ")"
   ]
  },
  {
   "cell_type": "code",
   "execution_count": 7,
   "metadata": {},
   "outputs": [],
   "source": [
    "consumer = spark.read.csv(\"../data/tables/tbl_consumer.csv\", header=True, sep=\"|\")"
   ]
  },
  {
   "cell_type": "code",
   "execution_count": 8,
   "metadata": {},
   "outputs": [
    {
     "name": "stdout",
     "output_type": "stream",
     "text": [
      "-RECORD 0---------------------------\n",
      " name        | Yolanda Williams     \n",
      " address     | 413 Haney Gardens... \n",
      " state       | WA                   \n",
      " postcode    | 6935                 \n",
      " gender      | Female               \n",
      " consumer_id | 1195503              \n",
      "only showing top 1 row\n",
      "\n"
     ]
    }
   ],
   "source": [
    "consumer.show(1, vertical=True)"
   ]
  },
  {
   "cell_type": "code",
   "execution_count": 9,
   "metadata": {},
   "outputs": [],
   "source": [
    "details = spark.read.parquet(\"../data/tables/consumer_user_details.parquet\")"
   ]
  },
  {
   "cell_type": "code",
   "execution_count": 11,
   "metadata": {},
   "outputs": [
    {
     "name": "stdout",
     "output_type": "stream",
     "text": [
      "-RECORD 0--------------\n",
      " user_id     | 1       \n",
      " consumer_id | 1195503 \n",
      "-RECORD 1--------------\n",
      " user_id     | 2       \n",
      " consumer_id | 179208  \n",
      "-RECORD 2--------------\n",
      " user_id     | 3       \n",
      " consumer_id | 1194530 \n",
      "-RECORD 3--------------\n",
      " user_id     | 4       \n",
      " consumer_id | 154128  \n",
      "-RECORD 4--------------\n",
      " user_id     | 5       \n",
      " consumer_id | 712975  \n",
      "-RECORD 5--------------\n",
      " user_id     | 6       \n",
      " consumer_id | 407340  \n",
      "-RECORD 6--------------\n",
      " user_id     | 7       \n",
      " consumer_id | 511685  \n",
      "-RECORD 7--------------\n",
      " user_id     | 8       \n",
      " consumer_id | 448088  \n",
      "-RECORD 8--------------\n",
      " user_id     | 9       \n",
      " consumer_id | 650435  \n",
      "-RECORD 9--------------\n",
      " user_id     | 10      \n",
      " consumer_id | 1058499 \n",
      "only showing top 10 rows\n",
      "\n"
     ]
    }
   ],
   "source": [
    "details.show(10, vertical=True)"
   ]
  },
  {
   "cell_type": "code",
   "execution_count": 12,
   "metadata": {},
   "outputs": [],
   "source": [
    "merchants = spark.read.parquet(\"../data/tables/tbl_merchants.parquet\")"
   ]
  },
  {
   "cell_type": "code",
   "execution_count": 13,
   "metadata": {},
   "outputs": [
    {
     "name": "stdout",
     "output_type": "stream",
     "text": [
      "-RECORD 0----------------------------\n",
      " name         | Felis Limited        \n",
      " tags         | ((furniture, home... \n",
      " merchant_abn | 10023283211          \n",
      "-RECORD 1----------------------------\n",
      " name         | Arcu Ac Orci Corp... \n",
      " tags         | ([cable, satellit... \n",
      " merchant_abn | 10142254217          \n",
      "-RECORD 2----------------------------\n",
      " name         | Nunc Sed Company     \n",
      " tags         | ([jewelry, watch,... \n",
      " merchant_abn | 10165489824          \n",
      "only showing top 3 rows\n",
      "\n"
     ]
    }
   ],
   "source": [
    "merchants.show(3, vertical=True)"
   ]
  },
  {
   "cell_type": "code",
   "execution_count": 14,
   "metadata": {},
   "outputs": [
    {
     "name": "stderr",
     "output_type": "stream",
     "text": [
      "                                                                                \r"
     ]
    }
   ],
   "source": [
    "transactions = spark.read.parquet(\"../data/tables/transactions_20210228_20210827_snapshot/\")"
   ]
  },
  {
   "cell_type": "code",
   "execution_count": 15,
   "metadata": {},
   "outputs": [
    {
     "name": "stdout",
     "output_type": "stream",
     "text": [
      "-RECORD 0------------------------------\n",
      " user_id        | 18478                \n",
      " merchant_abn   | 62191208634          \n",
      " dollar_value   | 63.255848959735246   \n",
      " order_id       | 949a63c8-29f7-4ab... \n",
      " order_datetime | 2021-08-20           \n",
      "only showing top 1 row\n",
      "\n"
     ]
    }
   ],
   "source": [
    "transactions.show(1, vertical=True)"
   ]
  },
  {
   "cell_type": "code",
   "execution_count": 16,
   "metadata": {},
   "outputs": [],
   "source": [
    "consumer_user = consumer.join(details, on=\"consumer_id\")"
   ]
  },
  {
   "cell_type": "code",
   "execution_count": 18,
   "metadata": {},
   "outputs": [],
   "source": [
    "consumer_transactions = consumer_user.join(transactions, on=\"user_id\")"
   ]
  },
  {
   "cell_type": "code",
   "execution_count": 19,
   "metadata": {},
   "outputs": [
    {
     "name": "stderr",
     "output_type": "stream",
     "text": [
      "[Stage 21:>                                                         (0 + 1) / 1]\r"
     ]
    },
    {
     "name": "stdout",
     "output_type": "stream",
     "text": [
      "-RECORD 0------------------------------\n",
      " user_id        | 7                    \n",
      " consumer_id    | 511685               \n",
      " name           | Andrea Jones         \n",
      " address        | 122 Brandon Cliff    \n",
      " state          | QLD                  \n",
      " postcode       | 4606                 \n",
      " gender         | Female               \n",
      " merchant_abn   | 33064796871          \n",
      " dollar_value   | 373.0873675184212    \n",
      " order_id       | fe188788-b89f-4dd... \n",
      " order_datetime | 2021-08-20           \n",
      "-RECORD 1------------------------------\n",
      " user_id        | 7                    \n",
      " consumer_id    | 511685               \n",
      " name           | Andrea Jones         \n",
      " address        | 122 Brandon Cliff    \n",
      " state          | QLD                  \n",
      " postcode       | 4606                 \n",
      " gender         | Female               \n",
      " merchant_abn   | 68435002949          \n",
      " dollar_value   | 232.5364986739752    \n",
      " order_id       | b4a89891-a113-45e... \n",
      " order_datetime | 2021-08-20           \n",
      "-RECORD 2------------------------------\n",
      " user_id        | 7                    \n",
      " consumer_id    | 511685               \n",
      " name           | Andrea Jones         \n",
      " address        | 122 Brandon Cliff    \n",
      " state          | QLD                  \n",
      " postcode       | 4606                 \n",
      " gender         | Female               \n",
      " merchant_abn   | 41944909975          \n",
      " dollar_value   | 30.910755230234322   \n",
      " order_id       | 302ae628-8eba-4a5... \n",
      " order_datetime | 2021-08-20           \n",
      "-RECORD 3------------------------------\n",
      " user_id        | 7                    \n",
      " consumer_id    | 511685               \n",
      " name           | Andrea Jones         \n",
      " address        | 122 Brandon Cliff    \n",
      " state          | QLD                  \n",
      " postcode       | 4606                 \n",
      " gender         | Female               \n",
      " merchant_abn   | 21439773999          \n",
      " dollar_value   | 91.18655746114226    \n",
      " order_id       | 4524fdc9-73f0-477... \n",
      " order_datetime | 2021-08-21           \n",
      "-RECORD 4------------------------------\n",
      " user_id        | 7                    \n",
      " consumer_id    | 511685               \n",
      " name           | Andrea Jones         \n",
      " address        | 122 Brandon Cliff    \n",
      " state          | QLD                  \n",
      " postcode       | 4606                 \n",
      " gender         | Female               \n",
      " merchant_abn   | 86662713230          \n",
      " dollar_value   | 38.8137172956379     \n",
      " order_id       | 28f9e0f3-858d-445... \n",
      " order_datetime | 2021-08-19           \n",
      "only showing top 5 rows\n",
      "\n"
     ]
    },
    {
     "name": "stderr",
     "output_type": "stream",
     "text": [
      "                                                                                \r"
     ]
    }
   ],
   "source": [
    "consumer_transactions.show(5, vertical=True)"
   ]
  },
  {
   "cell_type": "code",
   "execution_count": 20,
   "metadata": {},
   "outputs": [],
   "source": [
    "consumer_merchants = consumer_transactions.join(merchants, on=\"merchant_abn\")"
   ]
  },
  {
   "cell_type": "code",
   "execution_count": 21,
   "metadata": {},
   "outputs": [
    {
     "name": "stderr",
     "output_type": "stream",
     "text": [
      "[Stage 25:=====================>                                    (3 + 5) / 8]\r"
     ]
    },
    {
     "name": "stdout",
     "output_type": "stream",
     "text": [
      "-RECORD 0------------------------------\n",
      " merchant_abn   | 33064796871          \n",
      " user_id        | 7                    \n",
      " consumer_id    | 511685               \n",
      " name           | Andrea Jones         \n",
      " address        | 122 Brandon Cliff    \n",
      " state          | QLD                  \n",
      " postcode       | 4606                 \n",
      " gender         | Female               \n",
      " dollar_value   | 373.0873675184212    \n",
      " order_id       | fe188788-b89f-4dd... \n",
      " order_datetime | 2021-08-20           \n",
      " name           | Curabitur Massa C... \n",
      " tags           | ((computer progra... \n",
      "-RECORD 1------------------------------\n",
      " merchant_abn   | 68435002949          \n",
      " user_id        | 7                    \n",
      " consumer_id    | 511685               \n",
      " name           | Andrea Jones         \n",
      " address        | 122 Brandon Cliff    \n",
      " state          | QLD                  \n",
      " postcode       | 4606                 \n",
      " gender         | Female               \n",
      " dollar_value   | 232.5364986739752    \n",
      " order_id       | b4a89891-a113-45e... \n",
      " order_datetime | 2021-08-20           \n",
      " name           | Aliquam Eu Inc.      \n",
      " tags           | [(artist supply a... \n",
      "-RECORD 2------------------------------\n",
      " merchant_abn   | 41944909975          \n",
      " user_id        | 7                    \n",
      " consumer_id    | 511685               \n",
      " name           | Andrea Jones         \n",
      " address        | 122 Brandon Cliff    \n",
      " state          | QLD                  \n",
      " postcode       | 4606                 \n",
      " gender         | Female               \n",
      " dollar_value   | 30.910755230234322   \n",
      " order_id       | 302ae628-8eba-4a5... \n",
      " order_datetime | 2021-08-20           \n",
      " name           | Et Nunc Consulting   \n",
      " tags           | ([books, periodic... \n",
      "-RECORD 3------------------------------\n",
      " merchant_abn   | 21439773999          \n",
      " user_id        | 7                    \n",
      " consumer_id    | 511685               \n",
      " name           | Andrea Jones         \n",
      " address        | 122 Brandon Cliff    \n",
      " state          | QLD                  \n",
      " postcode       | 4606                 \n",
      " gender         | Female               \n",
      " dollar_value   | 91.18655746114226    \n",
      " order_id       | 4524fdc9-73f0-477... \n",
      " order_datetime | 2021-08-21           \n",
      " name           | Mauris Non Institute \n",
      " tags           | ([cable, satellit... \n",
      "-RECORD 4------------------------------\n",
      " merchant_abn   | 86662713230          \n",
      " user_id        | 7                    \n",
      " consumer_id    | 511685               \n",
      " name           | Andrea Jones         \n",
      " address        | 122 Brandon Cliff    \n",
      " state          | QLD                  \n",
      " postcode       | 4606                 \n",
      " gender         | Female               \n",
      " dollar_value   | 38.8137172956379     \n",
      " order_id       | 28f9e0f3-858d-445... \n",
      " order_datetime | 2021-08-19           \n",
      " name           | Vestibulum Accums... \n",
      " tags           | [[watch, clock, a... \n",
      "only showing top 5 rows\n",
      "\n"
     ]
    },
    {
     "name": "stderr",
     "output_type": "stream",
     "text": [
      "                                                                                \r"
     ]
    }
   ],
   "source": [
    "consumer_merchants.show(5, vertical=True)"
   ]
  }
 ],
 "metadata": {
  "kernelspec": {
   "display_name": "Python 3.8.10 64-bit",
   "language": "python",
   "name": "python3"
  },
  "language_info": {
   "codemirror_mode": {
    "name": "ipython",
    "version": 3
   },
   "file_extension": ".py",
   "mimetype": "text/x-python",
   "name": "python",
   "nbconvert_exporter": "python",
   "pygments_lexer": "ipython3",
   "version": "3.8.10"
  },
  "orig_nbformat": 4,
  "vscode": {
   "interpreter": {
    "hash": "916dbcbb3f70747c44a77c7bcd40155683ae19c65e1c03b4aa3499c5328201f1"
   }
  }
 },
 "nbformat": 4,
 "nbformat_minor": 2
}
