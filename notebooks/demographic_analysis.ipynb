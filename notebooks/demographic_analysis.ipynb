{
 "cells": [
  {
   "cell_type": "markdown",
   "metadata": {},
   "source": [
    "## Analyzing Customer Demographic"
   ]
  },
  {
   "cell_type": "code",
   "execution_count": 1,
   "metadata": {},
   "outputs": [
    {
     "name": "stderr",
     "output_type": "stream",
     "text": [
      "Setting default log level to \"WARN\".\n",
      "To adjust logging level use sc.setLogLevel(newLevel). For SparkR, use setLogLevel(newLevel).\n"
     ]
    },
    {
     "name": "stdout",
     "output_type": "stream",
     "text": [
      "22/09/11 15:08:36 WARN NativeCodeLoader: Unable to load native-hadoop library for your platform... using builtin-java classes where applicable\n"
     ]
    }
   ],
   "source": [
    "# Start Spark Session\n",
    "from pyspark.sql import SparkSession\n",
    "spark = (\n",
    "    SparkSession.builder.appName(\"MAST30034 Project 2 BNPL\")\n",
    "    .config(\"spark.sql.repl.eagerEval.enabled\", True) \n",
    "    .config(\"spark.sql.parquet.cacheMetadata\", \"true\")\n",
    "    .config(\"spark.sql.session.timeZone\", \"Etc/UTC\")\n",
    "    .config(\"spark.driver.memory\", \"20g\")\n",
    "    .config(\"spark.executor.memory\", \"20g\")\n",
    "    .getOrCreate()\n",
    ")"
   ]
  },
  {
   "cell_type": "code",
   "execution_count": 2,
   "metadata": {},
   "outputs": [
    {
     "name": "stderr",
     "output_type": "stream",
     "text": [
      "                                                                                \r"
     ]
    }
   ],
   "source": [
    "# Opening 'BNPL' dataset\n",
    "merchants = spark.read.parquet(\"/Users/roseline/Documents/GitHub/generic-buy-now-pay-later-project-group-11/data/tables/tbl_merchants.parquet\")\n",
    "consumer = spark.read.csv(\"/Users/roseline/Documents/GitHub/generic-buy-now-pay-later-project-group-11/data/tables/tbl_consumer.csv\", header=True, sep=\"|\")\n",
    "details = spark.read.parquet(\"/Users/roseline/Documents/GitHub/generic-buy-now-pay-later-project-group-11/data/tables/consumer_user_details.parquet\")"
   ]
  },
  {
   "cell_type": "code",
   "execution_count": 3,
   "metadata": {},
   "outputs": [
    {
     "name": "stderr",
     "output_type": "stream",
     "text": [
      "                                                                                \r"
     ]
    },
    {
     "name": "stdout",
     "output_type": "stream",
     "text": [
      "added Documents\n"
     ]
    },
    {
     "name": "stderr",
     "output_type": "stream",
     "text": [
      "                                                                                \r"
     ]
    },
    {
     "name": "stdout",
     "output_type": "stream",
     "text": [
      "added Documents\n"
     ]
    }
   ],
   "source": [
    "# load all transactions datasets\n",
    "paths=['/Users/roseline/Documents/GitHub/generic-buy-now-pay-later-project-group-11/data/tables/transactions_20210228_20210827_snapshot',\n",
    "       '/Users/roseline/Documents/GitHub/generic-buy-now-pay-later-project-group-11/data/tables/transactions_20210828_20220227_snapshot']\n",
    "\n",
    "first = 1\n",
    "for path in paths:\n",
    "    if first:\n",
    "        transactions = spark.read.parquet(path)\n",
    "        print(f'added {path.split(\"/\")[3]}')\n",
    "        first = 0\n",
    "    else:\n",
    "        append_transactions = spark.read.parquet(path)\n",
    "        transactions = transactions.union(append_transactions)\n",
    "        print(f'added {path.split(\"/\")[3]}')"
   ]
  },
  {
   "cell_type": "code",
   "execution_count": 4,
   "metadata": {},
   "outputs": [],
   "source": [
    "# rename columns\n",
    "merchants = merchants.withColumnRenamed('name', 'merchant_name')\n",
    "consumer = consumer.withColumnRenamed('name', 'consumer_name')"
   ]
  },
  {
   "cell_type": "code",
   "execution_count": 19,
   "metadata": {},
   "outputs": [],
   "source": [
    "# Join consumers with their respective details\n",
    "consumer_detail = consumer.join(details, on=\"consumer_id\")\n",
    "\n",
    "# Join consumers with their respective transactions\n",
    "consumer_trx = consumer_detail.join(transactions, on=\"user_id\")\n",
    "\n",
    "# Join transactions with the respective merchants\n",
    "df_trx = consumer_trx.join(merchants, on=\"merchant_abn\")"
   ]
  },
  {
   "cell_type": "markdown",
   "metadata": {},
   "source": [
    "---\n",
    "### Customer gender proportion based on transactions data"
   ]
  },
  {
   "cell_type": "code",
   "execution_count": 6,
   "metadata": {},
   "outputs": [],
   "source": [
    "# Importing relevant functions\n",
    "from pyspark.sql import functions as F"
   ]
  },
  {
   "cell_type": "code",
   "execution_count": 7,
   "metadata": {},
   "outputs": [
    {
     "name": "stderr",
     "output_type": "stream",
     "text": [
      "[Stage 7:============================================>              (3 + 1) / 4]\r"
     ]
    },
    {
     "name": "stdout",
     "output_type": "stream",
     "text": [
      "+-----------+\n",
      "|     gender|\n",
      "+-----------+\n",
      "|Undisclosed|\n",
      "|     Female|\n",
      "|       Male|\n",
      "+-----------+\n",
      "\n"
     ]
    },
    {
     "name": "stderr",
     "output_type": "stream",
     "text": [
      "                                                                                \r"
     ]
    }
   ],
   "source": [
    "# Find distinct values on the 'gender' column\n",
    "consumer.select('gender').distinct().show()"
   ]
  },
  {
   "cell_type": "code",
   "execution_count": 20,
   "metadata": {},
   "outputs": [
    {
     "name": "stderr",
     "output_type": "stream",
     "text": [
      "                                                                                \r"
     ]
    },
    {
     "data": {
      "text/html": [
       "<table border='1'>\n",
       "<tr><th>gender</th><th>count</th></tr>\n",
       "<tr><td>Undisclosed</td><td>828354</td></tr>\n",
       "<tr><td>Female</td><td>3623408</td></tr>\n",
       "<tr><td>Male</td><td>3699610</td></tr>\n",
       "</table>\n"
      ],
      "text/plain": [
       "+-----------+-------+\n",
       "|     gender|  count|\n",
       "+-----------+-------+\n",
       "|Undisclosed| 828354|\n",
       "|     Female|3623408|\n",
       "|       Male|3699610|\n",
       "+-----------+-------+"
      ]
     },
     "execution_count": 20,
     "metadata": {},
     "output_type": "execute_result"
    }
   ],
   "source": [
    "# Count the proportion on each of the distinct values in 'gender' (on percentage)\n",
    "consumer_trx2 = consumer_trx.groupby('gender').count()\n",
    "consumer_trx2"
   ]
  },
  {
   "cell_type": "code",
   "execution_count": 21,
   "metadata": {},
   "outputs": [
    {
     "name": "stderr",
     "output_type": "stream",
     "text": [
      "                                                                                \r"
     ]
    }
   ],
   "source": [
    "# Count the proportion on each of the distinct values in 'gender' (on percentage)\n",
    "total_consumer = consumer_trx.count()\n",
    "female_proportion = (consumer_trx2.collect()[1][1] / total_consumer)*100\n",
    "male_proportion = (consumer_trx2.collect()[2][1] / total_consumer)*100\n",
    "undisclosed_proportion = (consumer_trx2.collect()[0][1] / total_consumer)*100"
   ]
  },
  {
   "cell_type": "code",
   "execution_count": 22,
   "metadata": {},
   "outputs": [
    {
     "name": "stdout",
     "output_type": "stream",
     "text": [
      "root\n",
      " |-- gender: string (nullable = true)\n",
      " |-- gender_proportion: string (nullable = true)\n",
      "\n",
      "+-----------+------------------+\n",
      "|gender     |gender_proportion |\n",
      "+-----------+------------------+\n",
      "|female     |44.45151073954176 |\n",
      "|male       |45.386347230871074|\n",
      "|undisclosed|10.162142029587166|\n",
      "+-----------+------------------+\n",
      "\n"
     ]
    }
   ],
   "source": [
    "# Create new dataframe to store gender proportion data\n",
    "from pyspark.sql.types import StructType, StructField, StringType\n",
    "\n",
    "data2 = [('female', female_proportion), ('male', male_proportion), ('undisclosed', undisclosed_proportion)]\n",
    "\n",
    "schema2 = StructType([\\\n",
    "    StructField('gender',StringType(),True), \\\n",
    "    StructField('gender_proportion',StringType(),True), \\\n",
    "        ])\n",
    "\n",
    "gender_prop = spark.createDataFrame(data=data2,schema=schema2)\n",
    "gender_prop.printSchema()\n",
    "gender_prop.show(truncate=False)"
   ]
  },
  {
   "cell_type": "code",
   "execution_count": 12,
   "metadata": {},
   "outputs": [
    {
     "data": {
      "image/png": "[encoded data removed]",
      "text/plain": [
       "<Figure size 432x288 with 1 Axes>"
      ]
     },
     "metadata": {},
     "output_type": "display_data"
    }
   ],
   "source": [
    "# Simple visualisations for gender proportion\n",
    "import matplotlib.pyplot as plt\n",
    "plt.style.use('seaborn-white')\n",
    "import pandas as pd\n",
    "import numpy as np\n",
    "\n",
    "y = np.array([female_proportion, male_proportion, undisclosed_proportion])\n",
    "mylabels = ['Female', 'Male', 'Undisclosed']\n",
    "\n",
    "fig = plt.pie(y, labels = mylabels, colors = ['lightcoral', 'lightskyblue', 'navajowhite'], autopct='%1.0f%%')\n",
    "plt.title('Gender Proportion on Transaction Data')\n",
    "plt.savefig(\"pie_chart_gender.jpeg\")\n",
    "plt.show()"
   ]
  },
  {
   "cell_type": "markdown",
   "metadata": {},
   "source": [
    "---\n",
    "### Calculate proportion of merchants level"
   ]
  },
  {
   "cell_type": "code",
   "execution_count": 13,
   "metadata": {},
   "outputs": [],
   "source": [
    "from pyspark.sql.functions import split"
   ]
  },
  {
   "cell_type": "code",
   "execution_count": 28,
   "metadata": {},
   "outputs": [
    {
     "name": "stderr",
     "output_type": "stream",
     "text": [
      "                                                                                \r"
     ]
    },
    {
     "name": "stdout",
     "output_type": "stream",
     "text": [
      "+-----+\n",
      "|level|\n",
      "+-----+\n",
      "|a    |\n",
      "|a    |\n",
      "|b    |\n",
      "|c    |\n",
      "|b    |\n",
      "|c    |\n",
      "|a    |\n",
      "|b    |\n",
      "|a    |\n",
      "|c    |\n",
      "|a    |\n",
      "|b    |\n",
      "|b    |\n",
      "|a    |\n",
      "|a    |\n",
      "|a    |\n",
      "|e    |\n",
      "|d    |\n",
      "|a    |\n",
      "|a    |\n",
      "+-----+\n",
      "only showing top 20 rows\n",
      "\n"
     ]
    }
   ],
   "source": [
    "# Extracting the merchants level from 'tags' column\n",
    "from pyspark.sql.functions import substring, length, col, expr\n",
    "df_trx = df_trx.withColumn('temp_level',expr(\"substring(tags, 1, length(tags)-21)\"))\n",
    "df_trx = df_trx.withColumn('level', df_trx.temp_level.substr(-1,1))\n",
    "df_trx.select('level').show(truncate=False)"
   ]
  },
  {
   "cell_type": "code",
   "execution_count": 29,
   "metadata": {},
   "outputs": [
    {
     "name": "stderr",
     "output_type": "stream",
     "text": [
      "[Stage 219:==========================================>              (3 + 1) / 4]\r"
     ]
    },
    {
     "name": "stdout",
     "output_type": "stream",
     "text": [
      "+-----+\n",
      "|level|\n",
      "+-----+\n",
      "|    e|\n",
      "|    d|\n",
      "|    c|\n",
      "|    b|\n",
      "|    a|\n",
      "+-----+\n",
      "\n"
     ]
    },
    {
     "name": "stderr",
     "output_type": "stream",
     "text": [
      "                                                                                \r"
     ]
    }
   ],
   "source": [
    "df_trx.select('level').distinct().show()"
   ]
  },
  {
   "cell_type": "code",
   "execution_count": 55,
   "metadata": {},
   "outputs": [
    {
     "name": "stderr",
     "output_type": "stream",
     "text": [
      "                                                                                \r"
     ]
    },
    {
     "data": {
      "text/html": [
       "<table border='1'>\n",
       "<tr><th>level</th><th>count</th></tr>\n",
       "<tr><td>a</td><td>3509188</td></tr>\n",
       "<tr><td>b</td><td>2251496</td></tr>\n",
       "<tr><td>c</td><td>1909472</td></tr>\n",
       "<tr><td>d</td><td>78521</td></tr>\n",
       "<tr><td>e</td><td>69053</td></tr>\n",
       "</table>\n"
      ],
      "text/plain": [
       "+-----+-------+\n",
       "|level|  count|\n",
       "+-----+-------+\n",
       "|    a|3509188|\n",
       "|    b|2251496|\n",
       "|    c|1909472|\n",
       "|    d|  78521|\n",
       "|    e|  69053|\n",
       "+-----+-------+"
      ]
     },
     "execution_count": 55,
     "metadata": {},
     "output_type": "execute_result"
    }
   ],
   "source": [
    "# Count the proportion on each of the distinct values in 'gender' (on percentage)\n",
    "df_trx_count = df_trx.groupBy('level').count().sort('level')\n",
    "df_trx_count"
   ]
  },
  {
   "cell_type": "code",
   "execution_count": 56,
   "metadata": {},
   "outputs": [
    {
     "name": "stderr",
     "output_type": "stream",
     "text": [
      "                                                                                \r"
     ]
    }
   ],
   "source": [
    "# Proportion of merchants per level\n",
    "total_merchants = df_trx.count()\n",
    "merchants_level_a = (df_trx_count.collect()[0][1] / total_merchants)*100\n",
    "merchants_level_b = (df_trx_count.collect()[1][1] / total_merchants)*100\n",
    "merchants_level_c = (df_trx_count.collect()[2][1] / total_merchants)*100\n",
    "merchants_level_d = (df_trx_count.collect()[3][1] / total_merchants)*100\n",
    "merchants_level_e = (df_trx_count.collect()[4][1] / total_merchants)*100"
   ]
  },
  {
   "cell_type": "code",
   "execution_count": 57,
   "metadata": {},
   "outputs": [
    {
     "name": "stdout",
     "output_type": "stream",
     "text": [
      "root\n",
      " |-- level: string (nullable = true)\n",
      " |-- merchant_level_proportion: string (nullable = true)\n",
      "\n",
      "+-----+-------------------------+\n",
      "|level|merchant_level_proportion|\n",
      "+-----+-------------------------+\n",
      "|a    |44.88755687392632        |\n",
      "|b    |28.79986901568614        |\n",
      "|c    |24.42489060123591        |\n",
      "|d    |1.0043964168626955       |\n",
      "|e    |0.8832870922889381       |\n",
      "+-----+-------------------------+\n",
      "\n"
     ]
    }
   ],
   "source": [
    "# Create new dataframe to store gender proportion data\n",
    "from pyspark.sql.types import StructType, StructField, StringType\n",
    "\n",
    "data3 = [('a', merchants_level_a), ('b', merchants_level_b), ('c', merchants_level_c), ('d', merchants_level_d), ('e', merchants_level_e)]\n",
    "\n",
    "schema3 = StructType([\\\n",
    "    StructField('level',StringType(),True), \\\n",
    "    StructField('merchant_level_proportion',StringType(),True), \\\n",
    "        ])\n",
    "\n",
    "merchant_proportion = spark.createDataFrame(data=data3,schema=schema3)\n",
    "merchant_proportion.printSchema()\n",
    "merchant_proportion.show(truncate=False)"
   ]
  },
  {
   "cell_type": "markdown",
   "metadata": {},
   "source": [
    "---\n",
    "### Transaction Frequency (Monthly)"
   ]
  },
  {
   "cell_type": "code",
   "execution_count": 35,
   "metadata": {},
   "outputs": [
    {
     "name": "stdout",
     "output_type": "stream",
     "text": [
      "root\n",
      " |-- user_id: long (nullable = true)\n",
      " |-- merchant_abn: long (nullable = true)\n",
      " |-- dollar_value: double (nullable = true)\n",
      " |-- order_id: string (nullable = true)\n",
      " |-- order_datetime: date (nullable = true)\n",
      "\n"
     ]
    }
   ],
   "source": [
    "transactions.printSchema()"
   ]
  },
  {
   "cell_type": "code",
   "execution_count": 36,
   "metadata": {},
   "outputs": [
    {
     "name": "stdout",
     "output_type": "stream",
     "text": [
      "+-------+------------+------------------+------------------------------------+--------------+----+-----+----+\n",
      "|user_id|merchant_abn|dollar_value      |order_id                            |order_datetime|year|month|date|\n",
      "+-------+------------+------------------+------------------------------------+--------------+----+-----+----+\n",
      "|18478  |62191208634 |63.255848959735246|949a63c8-29f7-4ab0-ada4-99ac50a88952|2021-08-20    |2021|08   |20  |\n",
      "|2      |15549624934 |130.3505283105634 |6a84c3cf-612a-4574-835b-144a47353eff|2021-08-20    |2021|08   |20  |\n",
      "|18479  |64403598239 |120.15860593212783|b10dcc33-e53f-4254-863c-de5266810cbc|2021-08-20    |2021|08   |20  |\n",
      "|3      |60956456424 |136.6785200286976 |0f09c5a5-784e-4477-b049-8ee4dd069b7b|2021-08-20    |2021|08   |20  |\n",
      "|18479  |94493496784 |72.96316578355305 |f6c78c1a-4600-4c5f-8e97-6e9eb534b586|2021-08-20    |2021|08   |20  |\n",
      "|3      |76819856970 |448.529684285612  |5ace6a24-cdf0-4aa3-b571-1d9406b352b5|2021-08-20    |2021|08   |20  |\n",
      "|18479  |67609108741 |86.4040605836911  |d0e180f0-cb06-42a3-bd1a-c47dca15bc55|2021-08-20    |2021|08   |20  |\n",
      "|3      |34096466752 |301.5793450525113 |6fb1ff48-24bb-4f97-9a96-d2e8ca009bda|2021-08-20    |2021|08   |20  |\n",
      "|18482  |70501974849 |68.75486276223054 |8505fb33-b69a-412a-a8e1-827983a66577|2021-08-20    |2021|08   |20  |\n",
      "|4      |49891706470 |48.89796461900801 |ed11e477-b09f-4ae0-84fb-74531ce8c30c|2021-08-20    |2021|08   |20  |\n",
      "|18482  |46804135891 |6.6168976971833615|05b5edb5-b925-414d-92da-ae71d3b9625e|2021-08-20    |2021|08   |20  |\n",
      "|7      |33064796871 |373.0873675184212 |fe188788-b89f-4dde-acc1-39cd91806c0d|2021-08-20    |2021|08   |20  |\n",
      "|18483  |44160392990 |83.98473054761176 |7c44302d-98b3-48be-809e-fb3d99a4d365|2021-08-20    |2021|08   |20  |\n",
      "|7      |68435002949 |232.5364986739752 |b4a89891-a113-45ef-ae78-ed413546c551|2021-08-20    |2021|08   |20  |\n",
      "|18484  |70033549200 |871.7678061729196 |4b1d941a-21a1-43ea-a972-55af2d236f38|2021-08-20    |2021|08   |20  |\n",
      "|7      |41944909975 |30.910755230234322|302ae628-8eba-4a52-b77f-9f8aedc906e8|2021-08-20    |2021|08   |20  |\n",
      "|18485  |41705715409 |309.5417224575787 |67f4f98e-3149-4e8f-b418-e726dce669eb|2021-08-20    |2021|08   |20  |\n",
      "|8      |29566626791 |74.15732460440282 |71a81652-cc91-4bf5-b1b0-b074ec72478d|2021-08-20    |2021|08   |20  |\n",
      "|18487  |32361057556 |119.19055863068847|15577921-1104-4704-a06d-9f73724b36c4|2021-08-20    |2021|08   |20  |\n",
      "|9      |47663262928 |36.69873283148887 |c4fcb49a-ce87-4e15-944e-0e6bdd660e8d|2021-08-20    |2021|08   |20  |\n",
      "+-------+------------+------------------+------------------------------------+--------------+----+-----+----+\n",
      "only showing top 20 rows\n",
      "\n"
     ]
    }
   ],
   "source": [
    "# Splitting the 'order_datetime' column based on year, month, and date\n",
    "transactions = transactions.withColumn('year', split(transactions['order_datetime'], '-').getItem(0)) \\\n",
    "                           .withColumn('month', split(transactions['order_datetime'], '-').getItem(1)) \\\n",
    "                           .withColumn('date', split(transactions['order_datetime'], '-').getItem(2))\n",
    "transactions.show(truncate=False)"
   ]
  },
  {
   "cell_type": "code",
   "execution_count": 37,
   "metadata": {},
   "outputs": [],
   "source": [
    "# Divide transactions according to year\n",
    "tx_2021 = transactions.filter(transactions.year == '2021')\n",
    "tx_2022 = transactions.filter(transactions.year == '2022')"
   ]
  },
  {
   "cell_type": "code",
   "execution_count": 38,
   "metadata": {},
   "outputs": [
    {
     "name": "stderr",
     "output_type": "stream",
     "text": [
      "                                                                                \r"
     ]
    },
    {
     "name": "stdout",
     "output_type": "stream",
     "text": [
      "+-----+\n",
      "|month|\n",
      "+-----+\n",
      "|   07|\n",
      "|   05|\n",
      "|   08|\n",
      "|   06|\n",
      "|   04|\n",
      "|   03|\n",
      "|   02|\n",
      "|   11|\n",
      "|   12|\n",
      "|   09|\n",
      "|   10|\n",
      "+-----+\n",
      "\n"
     ]
    },
    {
     "name": "stderr",
     "output_type": "stream",
     "text": [
      "[Stage 299:==============>                                          (1 + 3) / 4]\r"
     ]
    },
    {
     "name": "stdout",
     "output_type": "stream",
     "text": [
      "+-----+\n",
      "|month|\n",
      "+-----+\n",
      "|   01|\n",
      "|   02|\n",
      "+-----+\n",
      "\n"
     ]
    },
    {
     "name": "stderr",
     "output_type": "stream",
     "text": [
      "                                                                                \r"
     ]
    }
   ],
   "source": [
    "# Find distinct month on both year '2021' and '2022'\n",
    "tx_2021.select('month').distinct().show()\n",
    "tx_2022.select('month').distinct().show()"
   ]
  },
  {
   "cell_type": "code",
   "execution_count": 41,
   "metadata": {},
   "outputs": [
    {
     "name": "stderr",
     "output_type": "stream",
     "text": [
      "                                                                                \r"
     ]
    },
    {
     "data": {
      "text/html": [
       "<table border='1'>\n",
       "<tr><th>month</th><th>count</th></tr>\n",
       "<tr><td>02</td><td>17107</td></tr>\n",
       "<tr><td>03</td><td>546333</td></tr>\n",
       "<tr><td>04</td><td>560680</td></tr>\n",
       "<tr><td>05</td><td>636666</td></tr>\n",
       "<tr><td>06</td><td>627148</td></tr>\n",
       "<tr><td>07</td><td>655279</td></tr>\n",
       "<tr><td>08</td><td>688822</td></tr>\n",
       "<tr><td>09</td><td>678524</td></tr>\n",
       "<tr><td>10</td><td>729619</td></tr>\n",
       "<tr><td>11</td><td>991226</td></tr>\n",
       "<tr><td>12</td><td>957647</td></tr>\n",
       "</table>\n"
      ],
      "text/plain": [
       "+-----+------+\n",
       "|month| count|\n",
       "+-----+------+\n",
       "|   02| 17107|\n",
       "|   03|546333|\n",
       "|   04|560680|\n",
       "|   05|636666|\n",
       "|   06|627148|\n",
       "|   07|655279|\n",
       "|   08|688822|\n",
       "|   09|678524|\n",
       "|   10|729619|\n",
       "|   11|991226|\n",
       "|   12|957647|\n",
       "+-----+------+"
      ]
     },
     "execution_count": 41,
     "metadata": {},
     "output_type": "execute_result"
    }
   ],
   "source": [
    "# Count transactions monthly for year '2021'\n",
    "tx_2021_new = tx_2021.groupBy('month').count().sort('month')\n",
    "tx_2021_new"
   ]
  },
  {
   "cell_type": "code",
   "execution_count": 43,
   "metadata": {},
   "outputs": [
    {
     "name": "stderr",
     "output_type": "stream",
     "text": [
      "                                                                                \r"
     ]
    },
    {
     "data": {
      "text/html": [
       "<table border='1'>\n",
       "<tr><th>month</th><th>count</th></tr>\n",
       "<tr><td>01</td><td>552478</td></tr>\n",
       "<tr><td>02</td><td>509843</td></tr>\n",
       "</table>\n"
      ],
      "text/plain": [
       "+-----+------+\n",
       "|month| count|\n",
       "+-----+------+\n",
       "|   01|552478|\n",
       "|   02|509843|\n",
       "+-----+------+"
      ]
     },
     "execution_count": 43,
     "metadata": {},
     "output_type": "execute_result"
    }
   ],
   "source": [
    "# Count transactions monthly for year '2022'\n",
    "tx_2022_new = tx_2022.groupBy('month').count().sort('month')\n",
    "tx_2022_new"
   ]
  },
  {
   "cell_type": "code",
   "execution_count": 42,
   "metadata": {},
   "outputs": [
    {
     "name": "stderr",
     "output_type": "stream",
     "text": [
      "                                                                                \r"
     ]
    }
   ],
   "source": [
    "# Count transactions monthly for year '2021'\n",
    "tx_02_2021 = tx_2021_new.collect()[0][1]\n",
    "tx_03_2021 = tx_2021_new.collect()[1][1]\n",
    "tx_04_2021 = tx_2021_new.collect()[2][1]\n",
    "tx_05_2021 = tx_2021_new.collect()[3][1]\n",
    "tx_06_2021 = tx_2021_new.collect()[4][1]\n",
    "tx_07_2021 = tx_2021_new.collect()[5][1]\n",
    "tx_08_2021 = tx_2021_new.collect()[6][1]\n",
    "tx_09_2021 = tx_2021_new.collect()[7][1]\n",
    "tx_10_2021 = tx_2021_new.collect()[8][1]\n",
    "tx_11_2021 = tx_2021_new.collect()[9][1]\n",
    "tx_12_2021 = tx_2021_new.collect()[10][1]"
   ]
  },
  {
   "cell_type": "code",
   "execution_count": 44,
   "metadata": {},
   "outputs": [
    {
     "name": "stderr",
     "output_type": "stream",
     "text": [
      "                                                                                \r"
     ]
    }
   ],
   "source": [
    "# Count transactions monthly for year '2022'\n",
    "tx_01_2022 = tx_2022_new.collect()[0][1]\n",
    "tx_02_2022 = tx_2022_new.collect()[1][1]"
   ]
  },
  {
   "cell_type": "code",
   "execution_count": 45,
   "metadata": {},
   "outputs": [
    {
     "name": "stdout",
     "output_type": "stream",
     "text": [
      "root\n",
      " |-- year: string (nullable = true)\n",
      " |-- month: string (nullable = true)\n",
      " |-- transaction_frequency: string (nullable = true)\n",
      "\n",
      "+----+-----+---------------------+\n",
      "|year|month|transaction_frequency|\n",
      "+----+-----+---------------------+\n",
      "|2021|02   |17107                |\n",
      "|2021|03   |546333               |\n",
      "|2021|04   |560680               |\n",
      "|2021|05   |636666               |\n",
      "|2021|06   |627148               |\n",
      "|2021|07   |655279               |\n",
      "|2021|08   |688822               |\n",
      "|2021|09   |678524               |\n",
      "|2021|10   |729619               |\n",
      "|2021|11   |991226               |\n",
      "|2021|12   |957647               |\n",
      "|2022|01   |552478               |\n",
      "|2022|02   |509843               |\n",
      "+----+-----+---------------------+\n",
      "\n"
     ]
    }
   ],
   "source": [
    "# Create new dataframe to store transaction frequency data\n",
    "from pyspark.sql.types import StructType, StructField, StringType\n",
    "\n",
    "data = [('2021', '02', tx_02_2021), ('2021', '03', tx_03_2021), ('2021', '04', tx_04_2021), ('2021', '05', tx_05_2021),\n",
    "        ('2021', '06', tx_06_2021), ('2021', '07', tx_07_2021), ('2021', '08', tx_08_2021), ('2021', '09', tx_09_2021),\n",
    "        ('2021', '10', tx_10_2021), ('2021', '11', tx_11_2021), ('2021', '12', tx_12_2021), ('2022', '01', tx_01_2022),\n",
    "        ('2022', '02', tx_02_2022)]\n",
    "\n",
    "schema = StructType([\\\n",
    "    StructField('year',StringType(),True), \\\n",
    "    StructField('month',StringType(),True), \\\n",
    "    StructField('transaction_frequency',StringType(),True), \\\n",
    "        ])\n",
    "\n",
    "tx_frequency = spark.createDataFrame(data=data,schema=schema)\n",
    "tx_frequency.printSchema()\n",
    "tx_frequency.show(truncate=False)"
   ]
  },
  {
   "cell_type": "markdown",
   "metadata": {},
   "source": [
    "---\n",
    "### Counting the number of unique customers"
   ]
  },
  {
   "cell_type": "code",
   "execution_count": 46,
   "metadata": {},
   "outputs": [
    {
     "name": "stdout",
     "output_type": "stream",
     "text": [
      "root\n",
      " |-- user_id: long (nullable = true)\n",
      " |-- consumer_id: string (nullable = true)\n",
      " |-- consumer_name: string (nullable = true)\n",
      " |-- address: string (nullable = true)\n",
      " |-- state: string (nullable = true)\n",
      " |-- postcode: string (nullable = true)\n",
      " |-- gender: string (nullable = true)\n",
      " |-- merchant_abn: long (nullable = true)\n",
      " |-- dollar_value: double (nullable = true)\n",
      " |-- order_id: string (nullable = true)\n",
      " |-- order_datetime: date (nullable = true)\n",
      "\n"
     ]
    }
   ],
   "source": [
    "consumer_trx.printSchema()"
   ]
  },
  {
   "cell_type": "code",
   "execution_count": 47,
   "metadata": {},
   "outputs": [],
   "source": [
    "# Splitting the 'order_datetime' column based on year, month, and date\n",
    "consumer_trx = consumer_trx.withColumn('year', split(consumer_trx['order_datetime'], '-').getItem(0)) \\\n",
    "                           .withColumn('month', split(consumer_trx['order_datetime'], '-').getItem(1)) \\\n",
    "                           .withColumn('date', split(consumer_trx['order_datetime'], '-').getItem(2))"
   ]
  },
  {
   "cell_type": "code",
   "execution_count": 48,
   "metadata": {},
   "outputs": [],
   "source": [
    "# Divide transactions according to year\n",
    "consumer_trx_2021 = consumer_trx.filter(consumer_trx.year == '2021')\n",
    "consumer_trx_2022 = consumer_trx.filter(consumer_trx.year == '2022')"
   ]
  },
  {
   "cell_type": "code",
   "execution_count": 49,
   "metadata": {},
   "outputs": [
    {
     "name": "stderr",
     "output_type": "stream",
     "text": [
      "                                                                                \r"
     ]
    },
    {
     "name": "stdout",
     "output_type": "stream",
     "text": [
      "+----------------------------+\n",
      "|count(DISTINCT merchant_abn)|\n",
      "+----------------------------+\n",
      "|                        4406|\n",
      "+----------------------------+\n",
      "\n"
     ]
    },
    {
     "name": "stderr",
     "output_type": "stream",
     "text": [
      "[Stage 391:==========================================>              (3 + 1) / 4]\r"
     ]
    },
    {
     "name": "stdout",
     "output_type": "stream",
     "text": [
      "+----------------------------+\n",
      "|count(DISTINCT merchant_abn)|\n",
      "+----------------------------+\n",
      "|                        4166|\n",
      "+----------------------------+\n",
      "\n"
     ]
    },
    {
     "name": "stderr",
     "output_type": "stream",
     "text": [
      "                                                                                \r"
     ]
    }
   ],
   "source": [
    "# Calculating the number of unique customers in year '2021' and '2022'\n",
    "from pyspark.sql.functions import countDistinct\n",
    "\n",
    "consumer_trx_2021.select(countDistinct('merchant_abn')).show()\n",
    "consumer_trx_2022.select(countDistinct('merchant_abn')).show()"
   ]
  },
  {
   "cell_type": "markdown",
   "metadata": {},
   "source": [
    "---\n",
    "### Calculate average transaction amount per merchant "
   ]
  },
  {
   "cell_type": "code",
   "execution_count": 50,
   "metadata": {},
   "outputs": [
    {
     "name": "stdout",
     "output_type": "stream",
     "text": [
      "root\n",
      " |-- merchant_abn: long (nullable = true)\n",
      " |-- user_id: long (nullable = true)\n",
      " |-- consumer_id: string (nullable = true)\n",
      " |-- consumer_name: string (nullable = true)\n",
      " |-- address: string (nullable = true)\n",
      " |-- state: string (nullable = true)\n",
      " |-- postcode: string (nullable = true)\n",
      " |-- gender: string (nullable = true)\n",
      " |-- dollar_value: double (nullable = true)\n",
      " |-- order_id: string (nullable = true)\n",
      " |-- order_datetime: date (nullable = true)\n",
      " |-- merchant_name: string (nullable = true)\n",
      " |-- tags: string (nullable = true)\n",
      " |-- temp_level: string (nullable = true)\n",
      " |-- level: string (nullable = true)\n",
      "\n"
     ]
    }
   ],
   "source": [
    "df_trx.printSchema()"
   ]
  },
  {
   "cell_type": "code",
   "execution_count": 58,
   "metadata": {},
   "outputs": [
    {
     "name": "stderr",
     "output_type": "stream",
     "text": [
      "                                                                                \r"
     ]
    },
    {
     "data": {
      "text/html": [
       "<table border='1'>\n",
       "<tr><th>level</th><th>sum(dollar_value)</th></tr>\n",
       "<tr><td>a</td><td>4.992719890010322E8</td></tr>\n",
       "<tr><td>b</td><td>4.440593165425465E8</td></tr>\n",
       "<tr><td>c</td><td>2.6056001034780312E8</td></tr>\n",
       "<tr><td>d</td><td>2.1559245778400015E7</td></tr>\n",
       "<tr><td>e</td><td>1.4246462010845559E7</td></tr>\n",
       "</table>\n"
      ],
      "text/plain": [
       "+-----+--------------------+\n",
       "|level|   sum(dollar_value)|\n",
       "+-----+--------------------+\n",
       "|    a| 4.992719890010322E8|\n",
       "|    b| 4.440593165425465E8|\n",
       "|    c|2.6056001034780312E8|\n",
       "|    d|2.1559245778400015E7|\n",
       "|    e|1.4246462010845559E7|\n",
       "+-----+--------------------+"
      ]
     },
     "execution_count": 58,
     "metadata": {},
     "output_type": "execute_result"
    }
   ],
   "source": [
    "# Transaction per merchant\n",
    "df_trx_new = df_trx.groupBy('level').agg({'dollar_value': 'sum'}).sort('level')\n",
    "df_trx_new"
   ]
  },
  {
   "cell_type": "code",
   "execution_count": 59,
   "metadata": {},
   "outputs": [
    {
     "name": "stderr",
     "output_type": "stream",
     "text": [
      "                                                                                \r"
     ]
    }
   ],
   "source": [
    "# Average transaction per merchant\n",
    "avg_trx_a = (df_trx_new.collect()[0][1] / df_trx_count.collect()[0][1])\n",
    "avg_trx_b = (df_trx_new.collect()[1][1] / df_trx_count.collect()[1][1])\n",
    "avg_trx_c = (df_trx_new.collect()[2][1] / df_trx_count.collect()[2][1])\n",
    "avg_trx_d = (df_trx_new.collect()[3][1] / df_trx_count.collect()[3][1])\n",
    "avg_trx_e = (df_trx_new.collect()[4][1] / df_trx_count.collect()[4][1])"
   ]
  },
  {
   "cell_type": "code",
   "execution_count": 60,
   "metadata": {},
   "outputs": [
    {
     "name": "stdout",
     "output_type": "stream",
     "text": [
      "root\n",
      " |-- level: string (nullable = true)\n",
      " |-- average_transaction: string (nullable = true)\n",
      "\n",
      "+-----+-------------------+\n",
      "|level|average_transaction|\n",
      "+-----+-------------------+\n",
      "|a    |142.27564581921294 |\n",
      "|b    |197.22856116224347 |\n",
      "|c    |136.45657561242223 |\n",
      "|d    |274.56662266654797 |\n",
      "|e    |206.31199239490766 |\n",
      "+-----+-------------------+\n",
      "\n"
     ]
    }
   ],
   "source": [
    "# Storing the average_transaction into a new data frame\n",
    "from pyspark.sql.types import StructType, StructField, StringType\n",
    "\n",
    "data1 = [('a', avg_trx_a), ('b', avg_trx_b), ('c', avg_trx_c), ('d', avg_trx_d), ('e', avg_trx_e)]\n",
    "\n",
    "schema1 = StructType([\\\n",
    "    StructField('level',StringType(),True), \\\n",
    "    StructField('average_transaction',StringType(),True), \\\n",
    "        ])\n",
    "\n",
    "avg_trx = spark.createDataFrame(data=data1,schema=schema1)\n",
    "avg_trx.printSchema()\n",
    "avg_trx.show(truncate=False)"
   ]
  },
  {
   "cell_type": "markdown",
   "metadata": {},
   "source": [
    "--- \n",
    "### Calculate the median of age from the population dataset"
   ]
  },
  {
   "cell_type": "code",
   "execution_count": null,
   "metadata": {},
   "outputs": [],
   "source": []
  },
  {
   "cell_type": "markdown",
   "metadata": {},
   "source": [
    "--- \n",
    "### Calculate the mode of age group"
   ]
  },
  {
   "cell_type": "code",
   "execution_count": null,
   "metadata": {},
   "outputs": [],
   "source": []
  }
 ],
 "metadata": {
  "kernelspec": {
   "display_name": "Python 3.9.7 ('base')",
   "language": "python",
   "name": "python3"
  },
  "language_info": {
   "codemirror_mode": {
    "name": "ipython",
    "version": 3
   },
   "file_extension": ".py",
   "mimetype": "text/x-python",
   "name": "python",
   "nbconvert_exporter": "python",
   "pygments_lexer": "ipython3",
   "version": "3.9.7"
  },
  "orig_nbformat": 4,
  "vscode": {
   "interpreter": {
    "hash": "e620930cb2387514ed83d64398b9d779b3d32ded40344532af752d0dc8991f1e"
   }
  }
 },
 "nbformat": 4,
 "nbformat_minor": 2
}
