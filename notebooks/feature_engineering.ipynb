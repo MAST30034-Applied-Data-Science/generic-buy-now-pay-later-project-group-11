{
 "cells": [
  {
   "cell_type": "markdown",
   "id": "7ebfb4bd-68f8-44e4-805c-0c67371f882d",
   "metadata": {},
   "source": [
    "**Steps:**\n",
    "- Take 20220228_20220828 as test data\n",
    "- Groupby merchant abn & month\n",
    "- Transaction merge w/ consumer SA2\n",
    "- Take the most common SA2 to be merchant SA2\n",
    "\n",
    "**Features:**\n",
    "1. _External Data:_\n",
    "- Income by SA2 (median AUD income & median age income)\n",
    "- Age population by SA2 (age 20 - 55)\n",
    "2. _Internal Data:_ \n",
    "- Tags (one hot encoding)\n",
    "- Transaction frequency\n",
    "- Number of new consumers during the specified month\n",
    "- Number of active days\n",
    "- Average growth % Month to Month per merchant \n",
    "- Fraud likeliness (wait for Andrew)"
   ]
  },
  {
   "cell_type": "code",
   "execution_count": 1,
   "id": "63c6adc3-c067-49e4-b3dd-25a48acd83c6",
   "metadata": {},
   "outputs": [],
   "source": [
    "import pandas as pd\n",
    "import numpy as np\n",
    "import seaborn as sns\n",
    "import geopandas as gpd\n",
    "from datetime import datetime\n",
    "import matplotlib.pyplot as plt\n",
    "%matplotlib inline\n",
    "\n",
    "import geopandas as gpd\n",
    "import folium\n",
    "from pyspark.sql import SparkSession, Window, functions as F\n",
    "from pyspark.sql.functions import countDistinct, col, date_format\n",
    "import numpy as np\n",
    "import pyspark.sql.functions as func\n",
    "from pyspark.sql.functions import sum, avg, count, lag, date_sub, split\n",
    "from pyspark.sql.window import Window\n",
    "from pyspark.sql.types import (\n",
    "    StringType,\n",
    "    LongType,\n",
    "    DoubleType,\n",
    "    StructField,\n",
    "    StructType,\n",
    "    FloatType\n",
    ")\n",
    "from scipy.stats import zscore\n",
    "\n",
    "import warnings\n",
    "warnings.filterwarnings(\"ignore\")"
   ]
  },
  {
   "cell_type": "code",
   "execution_count": 2,
   "id": "c6c02d07-5412-4a1e-8ede-9556dcdf430c",
   "metadata": {},
   "outputs": [
    {
     "name": "stderr",
     "output_type": "stream",
     "text": [
      "Setting default log level to \"WARN\".\n",
      "To adjust logging level use sc.setLogLevel(newLevel). For SparkR, use setLogLevel(newLevel).\n"
     ]
    },
    {
     "name": "stdout",
     "output_type": "stream",
     "text": [
      "22/10/03 01:18:02 WARN NativeCodeLoader: Unable to load native-hadoop library for your platform... using builtin-java classes where applicable\n",
      "22/10/03 01:18:02 WARN Utils: Service 'SparkUI' could not bind on port 4040. Attempting port 4041.\n"
     ]
    }
   ],
   "source": [
    "# Start Spark Session\n",
    "spark = (\n",
    "    SparkSession.builder.appName(\"MAST30034 Project 2 BNPL\")\n",
    "    .config(\"spark.sql.repl.eagerEval.enabled\", True) \n",
    "    .config(\"spark.sql.parquet.cacheMetadata\", \"true\")\n",
    "    .config(\"spark.sql.session.timeZone\", \"Etc/UTC\")\n",
    "    .getOrCreate()\n",
    ")"
   ]
  },
  {
   "cell_type": "code",
   "execution_count": 3,
   "id": "564e97a9-f2b5-42e9-88e9-eaacf2d87308",
   "metadata": {},
   "outputs": [],
   "source": [
    "# load BNPL dataset\n",
    "consumer = spark.read.csv(\"../data/tables/tbl_consumer.csv\", header=True, sep=\"|\")\n",
    "details = spark.read.parquet(\"../data/tables/consumer_user_details.parquet\")\n",
    "merchants = spark.read.parquet(\"../data/tables/tbl_merchants.parquet\")"
   ]
  },
  {
   "cell_type": "code",
   "execution_count": 4,
   "id": "e6532878-3cd0-49c3-87e5-9921c7962055",
   "metadata": {},
   "outputs": [],
   "source": [
    "fraud_consumer_train = spark.read.parquet('../data/curated/fraud_consumer_train.parquet', header=True)\n",
    "fraud_consumer_test = spark.read.parquet('../data/curated/fraud_consumer_test.parquet', header=True)\n",
    "fraud_merchant_train = spark.read.parquet('../data/curated/fraud_merchant_train.parquet', header=True)\n",
    "fraud_merchant_test = spark.read.parquet('../data/curated/fraud_merchant_test.parquet', header=True)"
   ]
  },
  {
   "cell_type": "code",
   "execution_count": 5,
   "id": "c5d2dd0b-4d50-43ff-a37b-31a054ace2a4",
   "metadata": {},
   "outputs": [
    {
     "name": "stderr",
     "output_type": "stream",
     "text": [
      "                                                                                \r"
     ]
    },
    {
     "name": "stdout",
     "output_type": "stream",
     "text": [
      "added transactions_20210228_20210827_snapshot\n"
     ]
    },
    {
     "name": "stderr",
     "output_type": "stream",
     "text": [
      "                                                                                \r"
     ]
    },
    {
     "name": "stdout",
     "output_type": "stream",
     "text": [
      "added transactions_20210828_20220227_snapshot\n"
     ]
    },
    {
     "name": "stderr",
     "output_type": "stream",
     "text": [
      "                                                                                \r"
     ]
    }
   ],
   "source": [
    "# load all transactions datasets\n",
    "paths=['../data/tables/transactions_20210228_20210827_snapshot',\n",
    "       '../data/tables/transactions_20210828_20220227_snapshot']\n",
    "\n",
    "first = 1\n",
    "for path in paths:\n",
    "    if first:\n",
    "        transactions = spark.read.parquet(path)\n",
    "        print(f'added {path.split(\"/\")[3]}')\n",
    "        first = 0\n",
    "    else:\n",
    "        append_transactions = spark.read.parquet(path)\n",
    "        transactions = transactions.union(append_transactions)\n",
    "        print(f'added {path.split(\"/\")[3]}')\n",
    "\n",
    "test_path = '../data/tables/transactions_20220228_20220828_snapshot'\n",
    "test_trx = spark.read.parquet(test_path)"
   ]
  },
  {
   "cell_type": "code",
   "execution_count": 6,
   "id": "12d8338e-dea3-4fe7-ba82-2f11120b3602",
   "metadata": {},
   "outputs": [],
   "source": [
    "age = gpd.read_file(\"../data/abs/sa2_age.gml\")\n",
    "income = gpd.read_file(\"../data/abs/sa2_income.gml\")"
   ]
  },
  {
   "cell_type": "code",
   "execution_count": 7,
   "id": "3a5d6b9a-93f3-410e-bab4-8e95f5035e98",
   "metadata": {},
   "outputs": [],
   "source": [
    "# load poa_to_sa2 dataset\n",
    "poa_to_sa2 = spark.read.csv(\"../data/curated/poa_w_sa2.csv\", header=True)"
   ]
  },
  {
   "cell_type": "code",
   "execution_count": 8,
   "id": "14d5cffe-d812-4fb5-9874-3fa2dda16eb7",
   "metadata": {},
   "outputs": [],
   "source": [
    "# rename columns\n",
    "merchants = merchants.withColumnRenamed('name', 'merchant_name')\n",
    "consumer = consumer.withColumnRenamed('name', 'consumer_name')"
   ]
  },
  {
   "cell_type": "code",
   "execution_count": 9,
   "id": "dc43bfad-5ed1-42b1-92c2-33f9cae2f270",
   "metadata": {},
   "outputs": [],
   "source": [
    "# Join consumers with their respective details\n",
    "consumer_detail = consumer.join(details, on=\"consumer_id\")\n",
    "\n",
    "# Join consumers with their respective transactions\n",
    "consumer_trx = consumer_detail.join(transactions, on=\"user_id\")\n",
    "consumer_trx_test = consumer_detail.join(test_trx, on=\"user_id\")\n",
    "\n",
    "# Join transactions with the respective merchants\n",
    "df_trx = consumer_trx.join(merchants, on=\"merchant_abn\")\n",
    "df_trx_test = consumer_trx_test.join(merchants, on=\"merchant_abn\")\n"
   ]
  },
  {
   "cell_type": "code",
   "execution_count": 10,
   "id": "945c1418-0533-4eca-a1f4-cadc7163ec25",
   "metadata": {},
   "outputs": [],
   "source": [
    "# translate postcodes in transaction to sa2 codes\n",
    "sa2_cols = ['poa_name_2016', 'sa2_maincode_2016', 'sa2_name_2016', 'geometry']\n",
    "df_trx_sa2 = (df_trx \\\n",
    "                .join(poa_to_sa2[sa2_cols], \n",
    "                     on=[df_trx['postcode'] == poa_to_sa2['poa_name_2016']],\n",
    "                     how='inner')\n",
    "                .drop('poa_name_2016')\n",
    "             )\n",
    "\n",
    "df_trx_sa2_test = (df_trx_test \\\n",
    "                    .join(poa_to_sa2[sa2_cols], \n",
    "                         on=[df_trx_test['postcode'] == \n",
    "                             poa_to_sa2['poa_name_2016']],\n",
    "                         how='inner')\n",
    "                    .drop('poa_name_2016')\n",
    "                  )"
   ]
  },
  {
   "cell_type": "code",
   "execution_count": 11,
   "id": "c905cb2c-ba1d-41a3-84b4-2bd2a49290da",
   "metadata": {},
   "outputs": [],
   "source": [
    "from pyspark.sql import functions as F\n",
    "from pyspark.sql.types import *\n",
    "@F.udf(StringType())\n",
    "def normalize_tags(col):\n",
    "    return col.replace(\"(\", \"[\").replace(\")\", \"]\")[1:-1]\n",
    "\n",
    "df_trx_sa2 = df_trx_sa2.withColumn(\"tags\", normalize_tags(F.col(\"tags\")))\n",
    "df_trx_sa2_test = df_trx_sa2_test.withColumn(\"tags\", \n",
    "                                             normalize_tags(F.col(\"tags\")))"
   ]
  },
  {
   "cell_type": "code",
   "execution_count": 12,
   "id": "301b8bd5-4f45-47f9-96f3-5c5925d9dda7",
   "metadata": {},
   "outputs": [],
   "source": [
    "def clean_tags(trx_sa2):\n",
    "    '''\n",
    "    Split elements in tags into:\n",
    "    - categories\n",
    "    - revenue_level\n",
    "    - take_rate\n",
    "    '''\n",
    "    trx_sa2 = (trx_sa2\n",
    "                  .withColumn(\"categories\", \n",
    "                              F.regexp_extract(\"tags\", \"(?<=\\[)(.*?)(?=\\])\", 1))\n",
    "                  .withColumn(\"revenue_level\", \n",
    "                              F.regexp_extract(\"tags\", \"(?<=,\\s\\[)([a-e]+?)(?=\\],)\", 1))\n",
    "                  .withColumn(\"take_rate\", \n",
    "                              F.regexp_extract(\"tags\", \"(?<=\\[take rate: )(.*?)(?=\\])\", 1))\n",
    "                  .withColumn(\"take_rate\", \n",
    "                              F.col(\"take_rate\").astype(FloatType()))\n",
    "              )\n",
    "    return trx_sa2\n",
    "\n",
    "df_trx_sa2 = clean_tags(df_trx_sa2)\n",
    "df_trx_sa2_test = clean_tags(df_trx_sa2_test)\n"
   ]
  },
  {
   "cell_type": "code",
   "execution_count": 13,
   "id": "7911b6cb-66ce-4983-940f-aff2084aa111",
   "metadata": {},
   "outputs": [],
   "source": [
    "df_trx_sa2 = df_trx_sa2[df_trx_sa2[\"dollar_value\"] >= 35]\n",
    "df_trx_sa2_test = df_trx_sa2_test[df_trx_sa2_test[\"dollar_value\"] >= 35]"
   ]
  },
  {
   "cell_type": "code",
   "execution_count": 14,
   "id": "e898f5f7-5929-4843-993a-ead1abc72df3",
   "metadata": {},
   "outputs": [],
   "source": [
    "@F.udf(StringType())\n",
    "def clean_string(col):\n",
    "    col = col.lower()\n",
    "    return \" \".join(col.split())\n",
    "\n",
    "df_trx_sa2 = df_trx_sa2.withColumn(\"categories\", clean_string(F.col(\"categories\")))\n",
    "df_trx_sa2_test = df_trx_sa2_test.withColumn(\"categories\", clean_string(F.col(\"categories\")))"
   ]
  },
  {
   "cell_type": "code",
   "execution_count": 15,
   "id": "ebc54ea9-6b37-4d29-a48b-9e6f876bc305",
   "metadata": {},
   "outputs": [],
   "source": [
    "@F.udf(FloatType())\n",
    "def get_revenue(take_rate, dollar_value):\n",
    "    return (take_rate / 100) * dollar_value\n",
    "\n",
    "df_trx_sa2 = df_trx_sa2.withColumn(\"revenue\", get_revenue(F.col(\"take_rate\"), F.col(\"dollar_value\")))\n",
    "df_trx_sa2_test = df_trx_sa2_test.withColumn(\"revenue\", get_revenue(F.col(\"take_rate\"), F.col(\"dollar_value\")))"
   ]
  },
  {
   "cell_type": "code",
   "execution_count": 16,
   "id": "11446416-f6bd-4ae4-9e86-3f424ae3bf2a",
   "metadata": {},
   "outputs": [],
   "source": [
    "df_trx_sa2 = df_trx_sa2.drop('tags')\n",
    "df_trx_sa2_test = df_trx_sa2_test.drop('tags')"
   ]
  },
  {
   "cell_type": "code",
   "execution_count": 17,
   "id": "6c2076dc-63dd-49be-b5d0-a41571daf222",
   "metadata": {
    "tags": []
   },
   "outputs": [
    {
     "name": "stdout",
     "output_type": "stream",
     "text": [
      "<class 'geopandas.geodataframe.GeoDataFrame'>\n",
      "RangeIndex: 2288 entries, 0 to 2287\n",
      "Data columns (total 69 columns):\n",
      " #   Column               Non-Null Count  Dtype   \n",
      "---  ------               --------------  -----   \n",
      " 0   gml_id               2288 non-null   object  \n",
      " 1   sa2_main16           2288 non-null   int64   \n",
      " 2   state_code           2288 non-null   int64   \n",
      " 3   state_name           2288 non-null   object  \n",
      " 4   gccsa_code16         2288 non-null   object  \n",
      " 5   gccsa_name16         2288 non-null   object  \n",
      " 6   sa4_code16           2288 non-null   int64   \n",
      " 7   sa4_name16           2288 non-null   object  \n",
      " 8   sa3_code16           2288 non-null   int64   \n",
      " 9   sa3_name16           2288 non-null   object  \n",
      " 10  sa2_name16           2288 non-null   object  \n",
      " 11  females_age_0_4      2288 non-null   int64   \n",
      " 12  females_age_10_14    2288 non-null   int64   \n",
      " 13  females_age_15_19    2288 non-null   int64   \n",
      " 14  females_age_20_24    2288 non-null   int64   \n",
      " 15  females_age_25_29    2288 non-null   int64   \n",
      " 16  females_age_30_34    2288 non-null   int64   \n",
      " 17  females_age_35_39    2288 non-null   int64   \n",
      " 18  females_age_40_44    2288 non-null   int64   \n",
      " 19  females_age_45_49    2288 non-null   int64   \n",
      " 20  females_age_50_54    2288 non-null   int64   \n",
      " 21  females_age_55_59    2288 non-null   int64   \n",
      " 22  females_age_5_9      2288 non-null   int64   \n",
      " 23  females_age_60_64    2288 non-null   int64   \n",
      " 24  females_age_65_69    2288 non-null   int64   \n",
      " 25  females_age_70_74    2288 non-null   int64   \n",
      " 26  females_age_75_79    2288 non-null   int64   \n",
      " 27  females_age_80_84    2288 non-null   int64   \n",
      " 28  females_age_85_plus  2288 non-null   int64   \n",
      " 29  females_total        2288 non-null   int64   \n",
      " 30  males_age_0_4        2288 non-null   int64   \n",
      " 31  males_age_10_14      2288 non-null   int64   \n",
      " 32  males_age_15_19      2288 non-null   int64   \n",
      " 33  males_age_20_24      2288 non-null   int64   \n",
      " 34  males_age_25_29      2288 non-null   int64   \n",
      " 35  males_age_30_34      2288 non-null   int64   \n",
      " 36  males_age_35_39      2288 non-null   int64   \n",
      " 37  males_age_40_44      2288 non-null   int64   \n",
      " 38  males_age_45_49      2288 non-null   int64   \n",
      " 39  males_age_50_54      2288 non-null   int64   \n",
      " 40  males_age_55_59      2288 non-null   int64   \n",
      " 41  males_age_5_9        2288 non-null   int64   \n",
      " 42  males_age_60_64      2288 non-null   int64   \n",
      " 43  males_age_65_69      2288 non-null   int64   \n",
      " 44  males_age_70_74      2288 non-null   int64   \n",
      " 45  males_age_75_79      2288 non-null   int64   \n",
      " 46  males_age_80_84      2288 non-null   int64   \n",
      " 47  males_age_85_plus    2288 non-null   int64   \n",
      " 48  males_total          2288 non-null   int64   \n",
      " 49  persons_age_0_4      2288 non-null   int64   \n",
      " 50  persons_age_10_14    2288 non-null   int64   \n",
      " 51  persons_age_15_19    2288 non-null   int64   \n",
      " 52  persons_age_20_24    2288 non-null   int64   \n",
      " 53  persons_age_25_29    2288 non-null   int64   \n",
      " 54  persons_age_30_34    2288 non-null   int64   \n",
      " 55  persons_age_35_39    2288 non-null   int64   \n",
      " 56  persons_age_40_44    2288 non-null   int64   \n",
      " 57  persons_age_45_49    2288 non-null   int64   \n",
      " 58  persons_age_50_54    2288 non-null   int64   \n",
      " 59  persons_age_55_59    2288 non-null   int64   \n",
      " 60  persons_age_5_9      2288 non-null   int64   \n",
      " 61  persons_age_60_64    2288 non-null   int64   \n",
      " 62  persons_age_65_69    2288 non-null   int64   \n",
      " 63  persons_age_70_74    2288 non-null   int64   \n",
      " 64  persons_age_75_79    2288 non-null   int64   \n",
      " 65  persons_age_80_84    2288 non-null   int64   \n",
      " 66  persons_age_85_plus  2288 non-null   int64   \n",
      " 67  persons_total        2288 non-null   int64   \n",
      " 68  geometry             2288 non-null   geometry\n",
      "dtypes: geometry(1), int64(61), object(7)\n",
      "memory usage: 1.2+ MB\n"
     ]
    }
   ],
   "source": [
    "age.info()"
   ]
  },
  {
   "cell_type": "code",
   "execution_count": 18,
   "id": "7876db67-e88c-48dc-9d30-152b8a8e9f90",
   "metadata": {},
   "outputs": [],
   "source": [
    "# calculate population of age above 20\n",
    "\n",
    "def get_age_pop(age_start, age_end):\n",
    "    '''\n",
    "    Create new columns that sum the age population that is in the range of\n",
    "    age_start and age_end from the age dataframe.\n",
    "    '''\n",
    "    \n",
    "    left_age = age_start\n",
    "    right_age = left_age + 4\n",
    "    \n",
    "    age[f'males_age_{age_start}_{age_end}'] = age[f'males_age_{left_age}_{right_age}']\n",
    "    age[f'females_age_{age_start}_{age_end}'] = age[f'females_age_{left_age}_{right_age}']\n",
    "    \n",
    "    while right_age < age_end + 1:\n",
    "        left_age += 5\n",
    "        right_age += 5\n",
    "        \n",
    "        age[f'males_age_{age_start}_{age_end}'] += age[f'males_age_{left_age}_{right_age}']\n",
    "        age[f'females_age_{age_start}_{age_end}'] += age[f'females_age_{left_age}_{right_age}']\n",
    "    \n",
    "    return age\n",
    "        \n",
    "    \n",
    "age = get_age_pop(20, 44)\n",
    "age = get_age_pop(45, 60)\n",
    "\n",
    "age = age[['sa2_main16', 'males_age_20_44', 'females_age_20_44', \n",
    "           'males_age_45_60', 'females_age_45_60']]\n",
    "\n",
    "# change gpd dataframe to sdf\n",
    "age_sdf = spark.createDataFrame(age)"
   ]
  },
  {
   "cell_type": "code",
   "execution_count": 19,
   "id": "d7efae5b-6dc2-4349-9905-6c5ac0c2e3bd",
   "metadata": {},
   "outputs": [],
   "source": [
    "# change gpd dataframe to sdf\n",
    "cols = ['sa2_code', 'median_age_of_earners_years', 'median_aud', \n",
    "        'gini_coefficient_coef']\n",
    "income_sdf = spark.createDataFrame(income[cols])"
   ]
  },
  {
   "cell_type": "code",
   "execution_count": 20,
   "id": "41e0b722-e05b-473c-9eb5-0065a95f3926",
   "metadata": {},
   "outputs": [
    {
     "name": "stdout",
     "output_type": "stream",
     "text": [
      "root\n",
      " |-- merchant_abn: long (nullable = true)\n",
      " |-- order_datetime: date (nullable = true)\n",
      " |-- possible_fraud: float (nullable = true)\n",
      " |-- month: integer (nullable = true)\n",
      " |-- order_year_month: string (nullable = true)\n",
      "\n"
     ]
    }
   ],
   "source": [
    "fraud_merchant_test.printSchema()"
   ]
  },
  {
   "cell_type": "code",
   "execution_count": 21,
   "id": "93d8ee09-1a54-4f12-abe0-546834fd3444",
   "metadata": {},
   "outputs": [],
   "source": [
    "from pyspark.sql.functions import dayofmonth\n",
    "df_trx_sa2 = (df_trx_sa2.withColumn(\"day\", \n",
    "                                dayofmonth(col(\"order_datetime\"))))\n",
    "df_trx_sa2_test = (df_trx_sa2_test.withColumn(\"day\", \n",
    "                                dayofmonth(col(\"order_datetime\"))))\n",
    "\n",
    "fraud_consumer_train = (fraud_consumer_train.withColumn(\"day\", \n",
    "                                dayofmonth(col(\"order_datetime\"))))\n",
    "fraud_consumer_test = (fraud_consumer_test.withColumn(\"day\", \n",
    "                                dayofmonth(col(\"order_datetime\"))))\n",
    "\n",
    "fraud_merchant_train = (fraud_merchant_train.withColumn(\"day\", \n",
    "                                dayofmonth(col(\"order_datetime\"))))\n",
    "fraud_merchant_test = (fraud_merchant_test.withColumn(\"day\", \n",
    "                                dayofmonth(col(\"order_datetime\"))))"
   ]
  },
  {
   "cell_type": "code",
   "execution_count": 22,
   "id": "ef4496a5-f838-4738-a71b-ce0f11050448",
   "metadata": {},
   "outputs": [],
   "source": [
    "df_trx_sa2 = (df_trx_sa2.withColumn(\"order_year_month\", \n",
    "                                date_format(col(\"order_datetime\"), 'yyyy-MM')))\n",
    "df_trx_sa2_test = (df_trx_sa2_test.withColumn(\"order_year_month\", \n",
    "                                date_format(col(\"order_datetime\"), 'yyyy-MM')))"
   ]
  },
  {
   "cell_type": "code",
   "execution_count": 23,
   "id": "45ef681d-be34-4a7b-a961-6395baa9f445",
   "metadata": {},
   "outputs": [
    {
     "name": "stdout",
     "output_type": "stream",
     "text": [
      "root\n",
      " |-- merchant_abn: long (nullable = true)\n",
      " |-- order_datetime: date (nullable = true)\n",
      " |-- possible_fraud: float (nullable = true)\n",
      " |-- month: integer (nullable = true)\n",
      " |-- order_year_month: string (nullable = true)\n",
      " |-- day: integer (nullable = true)\n",
      "\n"
     ]
    }
   ],
   "source": [
    "fraud_merchant_test.printSchema()"
   ]
  },
  {
   "cell_type": "code",
   "execution_count": 24,
   "id": "94866bed-99a2-4c54-99c6-6f4a1908e6a9",
   "metadata": {},
   "outputs": [],
   "source": [
    "# # Join consumers fraud data to transaction\n",
    "# col = ['user_id', 'order_year_month', 'day', 'possible_fraud']\n",
    "# train = (df_trx_sa2.join(fraud_consumer_train[col], \n",
    "#                      on=[\"user_id\", \"order_year_month\", 'day'], how=\"left\")\n",
    "#                 .withColumnRenamed('possible_fraud', 'cons_possible_fraud'))\n",
    "# test = (df_trx_sa2_test.join(fraud_consumer_test[col], \n",
    "#                                 on=[\"user_id\", \"order_year_month\", \"day\"], how=\"left\")\n",
    "#                           .withColumnRenamed('possible_fraud', 'cons_possible_fraud'))\n",
    "\n",
    "# # Join merchants fraud data to transaction\n",
    "# col = ['merchant_abn', 'order_year_month', 'day', 'possible_fraud']\n",
    "# df_trx_sa2 = (df_trx_sa2.join(fraud_merchant_train[col], \n",
    "#                      on=[\"merchant_abn\", \"order_year_month\", \"day\"], how=\"left\")\n",
    "#                 .withColumnRenamed('possible_fraud', 'merc_possible_fraud'))\n",
    "# df_trx_sa2_test = (df_trx_sa2_test.join(fraud_merchant_test[col], \n",
    "#                                 on=[\"merchant_abn\", \"order_year_month\", \"day\"], how=\"left\")\n",
    "#                           .withColumnRenamed('possible_fraud', 'merc_possible_fraud'))"
   ]
  },
  {
   "cell_type": "markdown",
   "id": "9be2598f-d330-4e27-9397-4209c8656e13",
   "metadata": {},
   "source": [
    "---"
   ]
  },
  {
   "cell_type": "code",
   "execution_count": 25,
   "id": "6a89fd2f-17a8-4448-8547-6f56d1e4f131",
   "metadata": {},
   "outputs": [
    {
     "name": "stdout",
     "output_type": "stream",
     "text": [
      "root\n",
      " |-- merchant_abn: long (nullable = true)\n",
      " |-- user_id: long (nullable = true)\n",
      " |-- consumer_id: string (nullable = true)\n",
      " |-- consumer_name: string (nullable = true)\n",
      " |-- address: string (nullable = true)\n",
      " |-- state: string (nullable = true)\n",
      " |-- postcode: string (nullable = true)\n",
      " |-- gender: string (nullable = true)\n",
      " |-- dollar_value: double (nullable = true)\n",
      " |-- order_id: string (nullable = true)\n",
      " |-- order_datetime: date (nullable = true)\n",
      " |-- merchant_name: string (nullable = true)\n",
      " |-- sa2_maincode_2016: string (nullable = true)\n",
      " |-- sa2_name_2016: string (nullable = true)\n",
      " |-- geometry: string (nullable = true)\n",
      " |-- categories: string (nullable = true)\n",
      " |-- revenue_level: string (nullable = true)\n",
      " |-- take_rate: float (nullable = true)\n",
      " |-- revenue: float (nullable = true)\n",
      " |-- day: integer (nullable = true)\n",
      " |-- order_year_month: string (nullable = true)\n",
      "\n"
     ]
    }
   ],
   "source": [
    "df_trx_sa2.printSchema()"
   ]
  },
  {
   "cell_type": "code",
   "execution_count": 26,
   "id": "7cd3fdaa-71f9-43ca-be8c-ce0fb394f38b",
   "metadata": {},
   "outputs": [
    {
     "name": "stdout",
     "output_type": "stream",
     "text": [
      "root\n",
      " |-- merchant_abn: long (nullable = true)\n",
      " |-- user_id: long (nullable = true)\n",
      " |-- consumer_id: string (nullable = true)\n",
      " |-- consumer_name: string (nullable = true)\n",
      " |-- address: string (nullable = true)\n",
      " |-- state: string (nullable = true)\n",
      " |-- postcode: string (nullable = true)\n",
      " |-- gender: string (nullable = true)\n",
      " |-- dollar_value: double (nullable = true)\n",
      " |-- order_id: string (nullable = true)\n",
      " |-- order_datetime: date (nullable = true)\n",
      " |-- merchant_name: string (nullable = true)\n",
      " |-- sa2_maincode_2016: string (nullable = true)\n",
      " |-- sa2_name_2016: string (nullable = true)\n",
      " |-- geometry: string (nullable = true)\n",
      " |-- categories: string (nullable = true)\n",
      " |-- revenue_level: string (nullable = true)\n",
      " |-- take_rate: float (nullable = true)\n",
      " |-- revenue: float (nullable = true)\n",
      " |-- day: integer (nullable = true)\n",
      " |-- order_year_month: string (nullable = true)\n",
      "\n"
     ]
    }
   ],
   "source": [
    "df_trx_sa2_test.printSchema()"
   ]
  },
  {
   "cell_type": "code",
   "execution_count": 27,
   "id": "5810f7ac-70d4-43c7-b252-adf37948dab4",
   "metadata": {
    "tags": []
   },
   "outputs": [],
   "source": [
    "# df_trx_sa2.show(1, vertical=True)"
   ]
  },
  {
   "cell_type": "code",
   "execution_count": 28,
   "id": "1fc078cb-3781-46c4-b40b-88e5de91281e",
   "metadata": {},
   "outputs": [],
   "source": [
    "# df_trx_sa2_test.show(1, vertical=True)"
   ]
  },
  {
   "cell_type": "markdown",
   "id": "282012bd-4d9d-47e8-a0f6-3418f1ff18c9",
   "metadata": {},
   "source": [
    "# Feature Engineering"
   ]
  },
  {
   "cell_type": "code",
   "execution_count": 35,
   "id": "c690edb1-3b1e-487b-8c75-6412e7beefea",
   "metadata": {},
   "outputs": [],
   "source": [
    "def get_cat_merchant_data(product_category, trx_data):\n",
    "    '''\n",
    "    Group and Aggregate consolidated data to be used for modelling\n",
    "    '''\n",
    "\n",
    "    df_cat = trx_data.filter(F.col('categories').isin(product_category))\n",
    "    df_cat = df_cat.drop('consumer_name', 'address', 'geometry', 'sa2_code', \n",
    "                         'merchant_name', 'sa2_name_2016', 'postcode', 'state')\n",
    "\n",
    "    # create new year-month column from date\n",
    "    df_cat = (df_cat.withColumn(\"order_year_month\", \n",
    "                                date_format(col(\"order_datetime\"), 'yyyy-MM')\n",
    "                    .alias(\"yyyy-MM\")))\n",
    "\n",
    "    # create new order month column from date\n",
    "    df_cat = (df_cat.withColumn(\"order_month\", \n",
    "                                date_format(col(\"order_datetime\"), 'M')\n",
    "                                .cast('INT')))\n",
    "\n",
    "\n",
    "    ## consumer first transaction month\n",
    "    w = Window.partitionBy('consumer_id')\n",
    "    df_consumer_first = df_cat.withColumn('first_trx_date', F.min('order_datetime').over(w))\\\n",
    "                              .where(F.col('order_datetime') == F.col('first_trx_date')) \\\n",
    "                              .withColumn(\"first_trx_month\", \n",
    "                                          date_format(col(\"order_datetime\"), \n",
    "                                                      'yyyy-MM'))\n",
    "    df_consumer_first = df_consumer_first[['consumer_id', 'first_trx_month']]\n",
    "    df_cat = (df_cat \\\n",
    "                 .join(df_consumer_first, \n",
    "                       on=['consumer_id'], \n",
    "                       how='left') \\\n",
    "             )\n",
    "    df_cat = df_cat.withColumn(\n",
    "                                'is_consumer_first_trx',\n",
    "                                F.when(\n",
    "                                    (F.col('order_year_month') == \n",
    "                                     F.col(\"first_trx_month\")), 1\n",
    "                                ).otherwise(0)   \n",
    "                              )\n",
    "\n",
    "\n",
    "    ## take the most frequent consumer SA2 to be merchant SA2\n",
    "    df_sa2_count = (df_cat.groupby(['merchant_abn', 'sa2_maincode_2016'])\n",
    "                    .agg(F.count(\"sa2_maincode_2016\").alias(\"count\")))\n",
    "    w = Window().partitionBy(\"merchant_abn\").orderBy(F.desc(\"count\"))\n",
    "    df_with_rank = (df_sa2_count.withColumn(\"rank\", F.dense_rank().over(w)))\n",
    "\n",
    "    # get first row sa2 if ties exist\n",
    "    df_merchant_sa2 = (df_with_rank.where(F.col(\"rank\") == 1)\n",
    "                       .dropDuplicates(subset = ['merchant_abn'])\n",
    "                       .drop('Rank')\n",
    "                       .drop('count')\n",
    "                       .withColumnRenamed('sa2_maincode_2016', 'merchant_sa2'))\n",
    "\n",
    "    # join merchant sa2 to trx data\n",
    "    df_cat = (df_cat \\\n",
    "                 .join(df_merchant_sa2, \n",
    "                       on=['merchant_abn'], \n",
    "                       how='left')\n",
    "             )\n",
    "\n",
    "    ## Aggregate BNPL internal data\n",
    "    # transaction frequency, # active days, # unique consumer, # new consumer\n",
    "    # take rate, revenue (label), # possible merchant fraud trx,\n",
    "    # # possible consumer fraud trx\n",
    "    sdf = (df_cat.groupby(['merchant_abn', 'merchant_sa2', 'order_year_month', \n",
    "                           'order_month'])\n",
    "                 .agg(count('order_id'),\n",
    "                      countDistinct('order_datetime'),\n",
    "                      countDistinct('consumer_id'),\n",
    "                      sum('is_consumer_first_trx'),\n",
    "                      avg('take_rate'),\n",
    "                      sum('revenue'))\n",
    "                      # sum('cons_possible_fraud'),\n",
    "                      # sum('merc_possible_fraud'))\n",
    "                 .withColumnRenamed(\"count(order_id)\", 'trx_count')\n",
    "                 .withColumnRenamed(\"count(order_datetime)\", \n",
    "                                    'active_days')\n",
    "                 .withColumnRenamed(\"count(consumer_id)\", \n",
    "                                    'distinct_consumer')\n",
    "                 .withColumnRenamed(\"sum(is_consumer_first_trx)\", \n",
    "                                    'new_consumer')\n",
    "                 .withColumnRenamed(\"avg(take_rate)\", \n",
    "                                    'take_rate')\n",
    "                 .withColumnRenamed(\"sum(revenue)\", \n",
    "                                    'total_revenue'))\n",
    "                 # .withColumnRenamed(\"sum(cons_possible_fraud)\", \n",
    "                 #                    'n_trx_cons_possible_fraud')\n",
    "                 # .withColumnRenamed(\"sum(merc_possible_fraud)\", \n",
    "                 #                    'n_trx_merc_possible_fraud'))\n",
    "\n",
    "\n",
    "    # calculate the average monthly growth\n",
    "    df_cat_grouped = (df_cat.groupBy([\"merchant_abn\", 'order_year_month'])\n",
    "                            .sum(\"dollar_value\")\n",
    "                            .sort(['merchant_abn', 'order_year_month']))\n",
    "\n",
    "    win = Window.partitionBy(\"merchant_abn\").orderBy('order_year_month')\n",
    "    df_sales_diff = (df_cat_grouped.withColumn('sales_change', df_cat_grouped['sum(dollar_value)'] - lag(df_cat_grouped['sum(dollar_value)']).over(win))\n",
    "                                   .withColumn('last_sales',F.lag(df_cat_grouped['sum(dollar_value)']).over(win))\n",
    "                                   .withColumn('growth_perc', F.round((F.col('sales_change')/F.col('last_sales'))*100,2)))\n",
    "\n",
    "    df_sales_growth = (df_sales_diff.groupby('merchant_abn')\n",
    "                       .agg(avg('growth_perc'))\n",
    "                       .withColumn(\"avg(growth_perc)\", \n",
    "                                   F.round(F.col(\"avg(growth_perc)\"), 2))\n",
    "                       .withColumnRenamed('avg(growth_perc)', 'avg_monthly_growth'))\n",
    "    df_sales_diff = (df_sales_diff.na.fill(value=0, subset=[\"growth_perc\"]))\n",
    "\n",
    "    # join MoM growth\n",
    "    sdf = (sdf \\\n",
    "               .join(df_sales_diff[['merchant_abn', 'order_year_month', \n",
    "                                    'growth_perc']], \n",
    "                     on=['merchant_abn', 'order_year_month'], \n",
    "                     how='inner')\n",
    "          )\n",
    "\n",
    "\n",
    "    # join income by merchant_sa2\n",
    "    sdf = (sdf \\\n",
    "                 .join(income_sdf, \n",
    "                       on=sdf['merchant_sa2'] == income_sdf['sa2_code'], \n",
    "                       how='left') \\\n",
    "                 .drop('sa2_code')\n",
    "             )\n",
    "\n",
    "    ## join age by merchant_sa2\n",
    "    sdf = (sdf \\\n",
    "                 .join(age_sdf, \n",
    "                       on=[sdf['merchant_sa2'] == age_sdf['sa2_main16']], \n",
    "                       how='left') \\\n",
    "                 .drop('sa2_main16')\n",
    "             )\n",
    "    return sdf\n",
    "    "
   ]
  },
  {
   "cell_type": "markdown",
   "id": "89f9b0dd-7ab5-40a5-8fae-7f6d6c107dbb",
   "metadata": {},
   "source": [
    "# Product categories selection (3 categories)"
   ]
  },
  {
   "cell_type": "code",
   "execution_count": 30,
   "id": "9519af8e-e734-4360-a4eb-2be6b7396cca",
   "metadata": {},
   "outputs": [],
   "source": [
    "pc_month = df_trx_sa2.groupby(['categories', 'order_year_month']).agg(count('order_id'), sum('revenue'))"
   ]
  },
  {
   "cell_type": "code",
   "execution_count": 31,
   "id": "28f48804-6d0e-4f9a-8a80-db3dc59c5f81",
   "metadata": {},
   "outputs": [],
   "source": [
    "pc_selection = (pc_month.groupby('categories')\n",
    "                .agg(avg('sum(revenue)'))\n",
    "                .withColumnRenamed('avg(sum(revenue))', \n",
    "                                   'monthly_average_revenue')\n",
    "                .orderBy('monthly_average_revenue', ascending=False))"
   ]
  },
  {
   "cell_type": "code",
   "execution_count": 32,
   "id": "0668b212-6bbd-460e-a3e6-c3651b7e4428",
   "metadata": {
    "tags": []
   },
   "outputs": [
    {
     "name": "stderr",
     "output_type": "stream",
     "text": [
      "[Stage 23:>                                                         (0 + 4) / 5]\r"
     ]
    },
    {
     "name": "stdout",
     "output_type": "stream",
     "text": [
      "22/10/03 01:18:31 WARN RowBasedKeyValueBatch: Calling spill() on RowBasedKeyValueBatch. Will not spill but return 0.\n",
      "22/10/03 01:18:31 WARN RowBasedKeyValueBatch: Calling spill() on RowBasedKeyValueBatch. Will not spill but return 0.\n",
      "22/10/03 01:18:31 WARN RowBasedKeyValueBatch: Calling spill() on RowBasedKeyValueBatch. Will not spill but return 0.\n",
      "22/10/03 01:18:31 WARN RowBasedKeyValueBatch: Calling spill() on RowBasedKeyValueBatch. Will not spill but return 0.\n"
     ]
    },
    {
     "name": "stderr",
     "output_type": "stream",
     "text": [
      "                                                                                \r"
     ]
    }
   ],
   "source": [
    "df_pc_selection = pc_selection.toPandas()"
   ]
  },
  {
   "cell_type": "code",
   "execution_count": 33,
   "id": "aba9bbe5-0cbc-4485-8f7e-84a2e64f6d82",
   "metadata": {},
   "outputs": [
    {
     "data": {
      "text/html": [
       "<div>\n",
       "<style scoped>\n",
       "    .dataframe tbody tr th:only-of-type {\n",
       "        vertical-align: middle;\n",
       "    }\n",
       "\n",
       "    .dataframe tbody tr th {\n",
       "        vertical-align: top;\n",
       "    }\n",
       "\n",
       "    .dataframe thead th {\n",
       "        text-align: right;\n",
       "    }\n",
       "</style>\n",
       "<table border=\"1\" class=\"dataframe\">\n",
       "  <thead>\n",
       "    <tr style=\"text-align: right;\">\n",
       "      <th></th>\n",
       "      <th>categories</th>\n",
       "      <th>monthly_average_revenue</th>\n",
       "    </tr>\n",
       "  </thead>\n",
       "  <tbody>\n",
       "    <tr>\n",
       "      <th>0</th>\n",
       "      <td>tent and awning shops</td>\n",
       "      <td>222313.227312</td>\n",
       "    </tr>\n",
       "    <tr>\n",
       "      <th>1</th>\n",
       "      <td>artist supply and craft shops</td>\n",
       "      <td>194410.983251</td>\n",
       "    </tr>\n",
       "    <tr>\n",
       "      <th>2</th>\n",
       "      <td>motor vehicle supplies and new parts</td>\n",
       "      <td>187618.088489</td>\n",
       "    </tr>\n",
       "    <tr>\n",
       "      <th>3</th>\n",
       "      <td>computers, computer peripheral equipment, and ...</td>\n",
       "      <td>185586.251764</td>\n",
       "    </tr>\n",
       "    <tr>\n",
       "      <th>4</th>\n",
       "      <td>furniture, home furnishings and equipment shop...</td>\n",
       "      <td>185340.919196</td>\n",
       "    </tr>\n",
       "    <tr>\n",
       "      <th>5</th>\n",
       "      <td>gift, card, novelty, and souvenir shops</td>\n",
       "      <td>182776.079126</td>\n",
       "    </tr>\n",
       "    <tr>\n",
       "      <th>6</th>\n",
       "      <td>computer programming , data processing, and in...</td>\n",
       "      <td>163269.838478</td>\n",
       "    </tr>\n",
       "    <tr>\n",
       "      <th>7</th>\n",
       "      <td>lawn and garden supply outlets, including nurs...</td>\n",
       "      <td>161787.689201</td>\n",
       "    </tr>\n",
       "    <tr>\n",
       "      <th>8</th>\n",
       "      <td>florists supplies, nursery stock, and flowers</td>\n",
       "      <td>156583.882520</td>\n",
       "    </tr>\n",
       "    <tr>\n",
       "      <th>9</th>\n",
       "      <td>books, periodicals, and newspapers</td>\n",
       "      <td>151591.199593</td>\n",
       "    </tr>\n",
       "    <tr>\n",
       "      <th>10</th>\n",
       "      <td>music shops - musical instruments, pianos, and...</td>\n",
       "      <td>144023.517214</td>\n",
       "    </tr>\n",
       "    <tr>\n",
       "      <th>11</th>\n",
       "      <td>shoe shops</td>\n",
       "      <td>140293.594077</td>\n",
       "    </tr>\n",
       "    <tr>\n",
       "      <th>12</th>\n",
       "      <td>digital goods: books, movies, music</td>\n",
       "      <td>139380.276388</td>\n",
       "    </tr>\n",
       "    <tr>\n",
       "      <th>13</th>\n",
       "      <td>cable, satellite, and other pay television and...</td>\n",
       "      <td>128628.542700</td>\n",
       "    </tr>\n",
       "    <tr>\n",
       "      <th>14</th>\n",
       "      <td>bicycle shops - sales and service</td>\n",
       "      <td>126648.198705</td>\n",
       "    </tr>\n",
       "    <tr>\n",
       "      <th>15</th>\n",
       "      <td>watch, clock, and jewelry repair shops</td>\n",
       "      <td>123657.186011</td>\n",
       "    </tr>\n",
       "    <tr>\n",
       "      <th>16</th>\n",
       "      <td>stationery, office supplies and printing and w...</td>\n",
       "      <td>119885.203442</td>\n",
       "    </tr>\n",
       "    <tr>\n",
       "      <th>17</th>\n",
       "      <td>health and beauty spas</td>\n",
       "      <td>113193.966284</td>\n",
       "    </tr>\n",
       "    <tr>\n",
       "      <th>18</th>\n",
       "      <td>opticians, optical goods, and eyeglasses</td>\n",
       "      <td>112858.751331</td>\n",
       "    </tr>\n",
       "    <tr>\n",
       "      <th>19</th>\n",
       "      <td>hobby, toy and game shops</td>\n",
       "      <td>106214.048326</td>\n",
       "    </tr>\n",
       "    <tr>\n",
       "      <th>20</th>\n",
       "      <td>antique shops - sales, repairs, and restoratio...</td>\n",
       "      <td>99195.104236</td>\n",
       "    </tr>\n",
       "    <tr>\n",
       "      <th>21</th>\n",
       "      <td>telecom</td>\n",
       "      <td>86266.823810</td>\n",
       "    </tr>\n",
       "    <tr>\n",
       "      <th>22</th>\n",
       "      <td>art dealers and galleries</td>\n",
       "      <td>65516.121377</td>\n",
       "    </tr>\n",
       "    <tr>\n",
       "      <th>23</th>\n",
       "      <td>equipment, tool, furniture, and appliance rent...</td>\n",
       "      <td>64005.075179</td>\n",
       "    </tr>\n",
       "    <tr>\n",
       "      <th>24</th>\n",
       "      <td>jewelry, watch, clock, and silverware shops</td>\n",
       "      <td>62561.424433</td>\n",
       "    </tr>\n",
       "  </tbody>\n",
       "</table>\n",
       "</div>"
      ],
      "text/plain": [
       "                                           categories  monthly_average_revenue\n",
       "0                               tent and awning shops            222313.227312\n",
       "1                       artist supply and craft shops            194410.983251\n",
       "2                motor vehicle supplies and new parts            187618.088489\n",
       "3   computers, computer peripheral equipment, and ...            185586.251764\n",
       "4   furniture, home furnishings and equipment shop...            185340.919196\n",
       "5             gift, card, novelty, and souvenir shops            182776.079126\n",
       "6   computer programming , data processing, and in...            163269.838478\n",
       "7   lawn and garden supply outlets, including nurs...            161787.689201\n",
       "8       florists supplies, nursery stock, and flowers            156583.882520\n",
       "9                  books, periodicals, and newspapers            151591.199593\n",
       "10  music shops - musical instruments, pianos, and...            144023.517214\n",
       "11                                         shoe shops            140293.594077\n",
       "12                digital goods: books, movies, music            139380.276388\n",
       "13  cable, satellite, and other pay television and...            128628.542700\n",
       "14                  bicycle shops - sales and service            126648.198705\n",
       "15             watch, clock, and jewelry repair shops            123657.186011\n",
       "16  stationery, office supplies and printing and w...            119885.203442\n",
       "17                             health and beauty spas            113193.966284\n",
       "18           opticians, optical goods, and eyeglasses            112858.751331\n",
       "19                          hobby, toy and game shops            106214.048326\n",
       "20  antique shops - sales, repairs, and restoratio...             99195.104236\n",
       "21                                            telecom             86266.823810\n",
       "22                          art dealers and galleries             65516.121377\n",
       "23  equipment, tool, furniture, and appliance rent...             64005.075179\n",
       "24        jewelry, watch, clock, and silverware shops             62561.424433"
      ]
     },
     "execution_count": 33,
     "metadata": {},
     "output_type": "execute_result"
    }
   ],
   "source": [
    "df_pc_selection.sort_values(by='monthly_average_revenue', ascending=False)"
   ]
  },
  {
   "cell_type": "code",
   "execution_count": 36,
   "id": "3ca83b5a-6ede-4997-a690-b8711f154775",
   "metadata": {},
   "outputs": [],
   "source": [
    "technology = ['computers, computer peripheral equipment, and software',\n",
    "              'computer programming , data processing, and integrated systems design services']\n",
    "\n",
    "furniture = ['furniture, home furnishings and equipment shops, and manufacturers, except appliances',\n",
    "             'equipment, tool, furniture, and appliance rent al and leasing']\n",
    "\n",
    "hobby_toys = ['tent and awning shops', 'artist supply and craft shops', \n",
    "              'hobby, toy and game shops']\n",
    "\n",
    "tech_sdf = get_cat_merchant_data(technology, df_trx_sa2)\n",
    "furniture_sdf = get_cat_merchant_data(furniture, df_trx_sa2)\n",
    "hobby_sdf = get_cat_merchant_data(hobby_toys, df_trx_sa2)\n",
    "\n",
    "tech_sdf_test = get_cat_merchant_data(technology, df_trx_sa2_test)\n",
    "furniture_sdf_test = get_cat_merchant_data(furniture, df_trx_sa2_test)\n",
    "hobby_sdf_test = get_cat_merchant_data(hobby_toys, df_trx_sa2_test)\n",
    "\n"
   ]
  },
  {
   "cell_type": "code",
   "execution_count": null,
   "id": "c784d576-166f-45a4-af09-7da594f24e58",
   "metadata": {},
   "outputs": [],
   "source": [
    "tech_df = tech_sdf.toPandas()\n",
    "tech_df_test = tech_sdf_test.toPandas()"
   ]
  },
  {
   "cell_type": "code",
   "execution_count": null,
   "id": "761b8e38-d4b7-4d01-9f2e-1b24aae90a7d",
   "metadata": {},
   "outputs": [],
   "source": [
    "furniture_df = furniture_sdf.toPandas()\n",
    "furniture_df_test = furniture_sdf_test.toPandas()"
   ]
  },
  {
   "cell_type": "code",
   "execution_count": null,
   "id": "9b6a810d-54c2-4060-a8ba-36df46970db9",
   "metadata": {},
   "outputs": [],
   "source": [
    "hobby_df = hobby_sdf.toPandas()\n",
    "hobby_df_test = hobby_sdf_test.toPandas()"
   ]
  },
  {
   "cell_type": "code",
   "execution_count": null,
   "id": "74fdaab9-159c-4c93-93ab-12f9ccfb727f",
   "metadata": {},
   "outputs": [],
   "source": [
    "print(len(tech_df), len(furniture_df), len(hobby_df))\n",
    "print(len(tech_df_test), len(furniture_df_test), len(hobby_df_test))"
   ]
  },
  {
   "cell_type": "code",
   "execution_count": null,
   "id": "15c7f1ac-28e9-4213-8f6e-67375ccc3dce",
   "metadata": {},
   "outputs": [],
   "source": [
    "all_df = pd.concat([tech_df,furniture_df,hobby_df],axis=0)"
   ]
  },
  {
   "cell_type": "code",
   "execution_count": null,
   "id": "4d952850-58de-41e2-b073-e5cc6fbbc3ab",
   "metadata": {},
   "outputs": [],
   "source": [
    "fields = ['total_revenue', 'trx_count', 'distinct_consumer', 'new_consumer', \n",
    "          'take_rate', 'growth_perc', 'median_age_of_earners_years', \n",
    "          'median_aud', 'gini_coefficient_coef', 'males_age_20_44', \n",
    "          'females_age_20_44', 'males_age_45_60', 'females_age_45_60',\n",
    "          'order_month', 'active_days']\n",
    "plt.figure(figsize=(12,7))\n",
    "sns.heatmap(all_df[fields].corr(method='pearson'), \n",
    "            vmin=-1, vmax=1, annot=True, cmap='BrBG')\n",
    "\n",
    "plt.title('Pearson Correlation Metrics', fontsize=18)\n",
    "plt.show()"
   ]
  },
  {
   "cell_type": "code",
   "execution_count": null,
   "id": "65620ec2-c1d3-4ef9-ad9b-9c7b3d15d263",
   "metadata": {},
   "outputs": [],
   "source": [
    "def fill_na_w_mean(df):\n",
    "    '''\n",
    "    Fill any na values in dataframe with the column mean\n",
    "    '''\n",
    "    for col in df.columns:\n",
    "        if df[col].isna().sum() > 0:\n",
    "            mean_value = df[col].mean()\n",
    "            df[col].fillna(value=mean_value, inplace=True)"
   ]
  },
  {
   "cell_type": "code",
   "execution_count": null,
   "id": "cc8ada9a-7f17-4816-b17b-9022e187390d",
   "metadata": {},
   "outputs": [],
   "source": [
    "fill_na_w_mean(tech_df)\n",
    "fill_na_w_mean(tech_df_test)\n",
    "fill_na_w_mean(furniture_df)\n",
    "fill_na_w_mean(furniture_df_test)\n",
    "fill_na_w_mean(hobby_df)\n",
    "fill_na_w_mean(hobby_df_test)"
   ]
  },
  {
   "cell_type": "code",
   "execution_count": null,
   "id": "d4e7230b-a1a3-4e05-961f-9b6123579d0b",
   "metadata": {},
   "outputs": [],
   "source": [
    "tech_df.to_csv('../data/curated/tech_df.csv')\n",
    "furniture_df.to_csv('../data/curated/furniture_df.csv')\n",
    "hobby_df.to_csv('../data/curated/hobby_df.csv')\n",
    "\n",
    "tech_df_test.to_csv('../data/curated/tech_df_test.csv')\n",
    "furniture_df_test.to_csv('../data/curated/furniture_df_test.csv')\n",
    "hobby_df_test.to_csv('../data/curated/hobby_df_test.csv')"
   ]
  },
  {
   "cell_type": "code",
   "execution_count": null,
   "id": "6d7ed147-882a-4a54-b8c9-fa6f8ed48e04",
   "metadata": {},
   "outputs": [],
   "source": []
  },
  {
   "cell_type": "code",
   "execution_count": null,
   "id": "256bab86-0627-4d84-b154-5852e9086a4a",
   "metadata": {},
   "outputs": [],
   "source": []
  }
 ],
 "metadata": {
  "kernelspec": {
   "display_name": "Python 3 (ipykernel)",
   "language": "python",
   "name": "python3"
  },
  "language_info": {
   "codemirror_mode": {
    "name": "ipython",
    "version": 3
   },
   "file_extension": ".py",
   "mimetype": "text/x-python",
   "name": "python",
   "nbconvert_exporter": "python",
   "pygments_lexer": "ipython3",
   "version": "3.9.7"
  }
 },
 "nbformat": 4,
 "nbformat_minor": 5
}
