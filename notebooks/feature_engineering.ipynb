{
 "cells": [
  {
   "cell_type": "markdown",
   "id": "7ebfb4bd-68f8-44e4-805c-0c67371f882d",
   "metadata": {},
   "source": [
    "**Steps:**\n",
    "- Take 20220228_20220828 as test data\n",
    "- Groupby merchant abn & month\n",
    "- Transaction merge w/ consumer SA2\n",
    "- Take the most common SA2 to be merchant SA2\n",
    "\n",
    "**Features:**\n",
    "1. _External Data:_\n",
    "- Income by SA2 (median AUD income & median age income)\n",
    "- Age population by SA2 (age 20 - 55)\n",
    "2. _Internal Data:_ \n",
    "- Tags (one hot encoding)\n",
    "- Transaction frequency\n",
    "- Number of new consumers during the specified month\n",
    "- Number of active days\n",
    "- Average growth % Month to Month per merchant \n",
    "- Fraud likeliness (wait for Andrew)"
   ]
  },
  {
   "cell_type": "code",
   "execution_count": 1,
   "id": "63c6adc3-c067-49e4-b3dd-25a48acd83c6",
   "metadata": {},
   "outputs": [],
   "source": [
    "import pandas as pd\n",
    "import numpy as np\n",
    "import seaborn as sns\n",
    "import geopandas as gpd\n",
    "from datetime import datetime\n",
    "import matplotlib.pyplot as plt\n",
    "%matplotlib inline\n",
    "\n",
    "from pyspark.sql import SparkSession, Window, functions as F\n",
    "from pyspark.sql.functions import countDistinct, col, date_format\n",
    "import numpy as np\n",
    "import pyspark.sql.functions as func\n",
    "from pyspark.sql.functions import sum, avg, count, lag, date_sub, split\n",
    "from pyspark.sql.window import Window\n",
    "from pyspark.sql.types import (\n",
    "    StringType,\n",
    "    LongType,\n",
    "    DoubleType,\n",
    "    StructField,\n",
    "    StructType,\n",
    "    FloatType\n",
    ")\n",
    "from scipy.stats import zscore\n",
    "\n",
    "import warnings\n",
    "warnings.filterwarnings(\"ignore\")"
   ]
  },
  {
   "cell_type": "code",
   "execution_count": 2,
   "id": "c6c02d07-5412-4a1e-8ede-9556dcdf430c",
   "metadata": {},
   "outputs": [
    {
     "name": "stderr",
     "output_type": "stream",
     "text": [
      "Setting default log level to \"WARN\".\n",
      "To adjust logging level use sc.setLogLevel(newLevel). For SparkR, use setLogLevel(newLevel).\n"
     ]
    },
    {
     "name": "stdout",
     "output_type": "stream",
     "text": [
      "22/10/06 17:20:50 WARN NativeCodeLoader: Unable to load native-hadoop library for your platform... using builtin-java classes where applicable\n",
      "22/10/06 17:20:51 WARN Utils: Service 'SparkUI' could not bind on port 4040. Attempting port 4041.\n"
     ]
    }
   ],
   "source": [
    "# Start Spark Session\n",
    "spark = (\n",
    "    SparkSession.builder.appName(\"MAST30034 Project 2 BNPL\")\n",
    "    .config(\"spark.sql.repl.eagerEval.enabled\", True) \n",
    "    .config(\"spark.sql.parquet.cacheMetadata\", \"true\")\n",
    "    .config(\"spark.sql.session.timeZone\", \"Etc/UTC\")\n",
    "    .getOrCreate()\n",
    ")"
   ]
  },
  {
   "cell_type": "code",
   "execution_count": 3,
   "id": "0d3f0ee7-506f-4bb5-9cdc-62ffa29e3d80",
   "metadata": {},
   "outputs": [
    {
     "name": "stderr",
     "output_type": "stream",
     "text": [
      "                                                                                \r"
     ]
    }
   ],
   "source": [
    "# load data from fraud.py\n",
    "df_trx_sa2 = spark.read.parquet('../data/curated/fin_df_trx_sa2.parquet')\n",
    "df_trx_sa2_test = spark.read.parquet('../data/curated/fin_df_trx_sa2_test.parquet')"
   ]
  },
  {
   "cell_type": "code",
   "execution_count": 4,
   "id": "12d8338e-dea3-4fe7-ba82-2f11120b3602",
   "metadata": {},
   "outputs": [],
   "source": [
    "age = gpd.read_file(\"../data/abs/sa2_age.gml\")\n",
    "income = gpd.read_file(\"../data/abs/sa2_income.gml\")"
   ]
  },
  {
   "cell_type": "code",
   "execution_count": 5,
   "id": "6c2076dc-63dd-49be-b5d0-a41571daf222",
   "metadata": {
    "tags": []
   },
   "outputs": [
    {
     "name": "stdout",
     "output_type": "stream",
     "text": [
      "<class 'geopandas.geodataframe.GeoDataFrame'>\n",
      "RangeIndex: 2288 entries, 0 to 2287\n",
      "Data columns (total 69 columns):\n",
      " #   Column               Non-Null Count  Dtype   \n",
      "---  ------               --------------  -----   \n",
      " 0   gml_id               2288 non-null   object  \n",
      " 1   sa2_main16           2288 non-null   int64   \n",
      " 2   state_code           2288 non-null   int64   \n",
      " 3   state_name           2288 non-null   object  \n",
      " 4   gccsa_code16         2288 non-null   object  \n",
      " 5   gccsa_name16         2288 non-null   object  \n",
      " 6   sa4_code16           2288 non-null   int64   \n",
      " 7   sa4_name16           2288 non-null   object  \n",
      " 8   sa3_code16           2288 non-null   int64   \n",
      " 9   sa3_name16           2288 non-null   object  \n",
      " 10  sa2_name16           2288 non-null   object  \n",
      " 11  females_age_0_4      2288 non-null   int64   \n",
      " 12  females_age_10_14    2288 non-null   int64   \n",
      " 13  females_age_15_19    2288 non-null   int64   \n",
      " 14  females_age_20_24    2288 non-null   int64   \n",
      " 15  females_age_25_29    2288 non-null   int64   \n",
      " 16  females_age_30_34    2288 non-null   int64   \n",
      " 17  females_age_35_39    2288 non-null   int64   \n",
      " 18  females_age_40_44    2288 non-null   int64   \n",
      " 19  females_age_45_49    2288 non-null   int64   \n",
      " 20  females_age_50_54    2288 non-null   int64   \n",
      " 21  females_age_55_59    2288 non-null   int64   \n",
      " 22  females_age_5_9      2288 non-null   int64   \n",
      " 23  females_age_60_64    2288 non-null   int64   \n",
      " 24  females_age_65_69    2288 non-null   int64   \n",
      " 25  females_age_70_74    2288 non-null   int64   \n",
      " 26  females_age_75_79    2288 non-null   int64   \n",
      " 27  females_age_80_84    2288 non-null   int64   \n",
      " 28  females_age_85_plus  2288 non-null   int64   \n",
      " 29  females_total        2288 non-null   int64   \n",
      " 30  males_age_0_4        2288 non-null   int64   \n",
      " 31  males_age_10_14      2288 non-null   int64   \n",
      " 32  males_age_15_19      2288 non-null   int64   \n",
      " 33  males_age_20_24      2288 non-null   int64   \n",
      " 34  males_age_25_29      2288 non-null   int64   \n",
      " 35  males_age_30_34      2288 non-null   int64   \n",
      " 36  males_age_35_39      2288 non-null   int64   \n",
      " 37  males_age_40_44      2288 non-null   int64   \n",
      " 38  males_age_45_49      2288 non-null   int64   \n",
      " 39  males_age_50_54      2288 non-null   int64   \n",
      " 40  males_age_55_59      2288 non-null   int64   \n",
      " 41  males_age_5_9        2288 non-null   int64   \n",
      " 42  males_age_60_64      2288 non-null   int64   \n",
      " 43  males_age_65_69      2288 non-null   int64   \n",
      " 44  males_age_70_74      2288 non-null   int64   \n",
      " 45  males_age_75_79      2288 non-null   int64   \n",
      " 46  males_age_80_84      2288 non-null   int64   \n",
      " 47  males_age_85_plus    2288 non-null   int64   \n",
      " 48  males_total          2288 non-null   int64   \n",
      " 49  persons_age_0_4      2288 non-null   int64   \n",
      " 50  persons_age_10_14    2288 non-null   int64   \n",
      " 51  persons_age_15_19    2288 non-null   int64   \n",
      " 52  persons_age_20_24    2288 non-null   int64   \n",
      " 53  persons_age_25_29    2288 non-null   int64   \n",
      " 54  persons_age_30_34    2288 non-null   int64   \n",
      " 55  persons_age_35_39    2288 non-null   int64   \n",
      " 56  persons_age_40_44    2288 non-null   int64   \n",
      " 57  persons_age_45_49    2288 non-null   int64   \n",
      " 58  persons_age_50_54    2288 non-null   int64   \n",
      " 59  persons_age_55_59    2288 non-null   int64   \n",
      " 60  persons_age_5_9      2288 non-null   int64   \n",
      " 61  persons_age_60_64    2288 non-null   int64   \n",
      " 62  persons_age_65_69    2288 non-null   int64   \n",
      " 63  persons_age_70_74    2288 non-null   int64   \n",
      " 64  persons_age_75_79    2288 non-null   int64   \n",
      " 65  persons_age_80_84    2288 non-null   int64   \n",
      " 66  persons_age_85_plus  2288 non-null   int64   \n",
      " 67  persons_total        2288 non-null   int64   \n",
      " 68  geometry             2288 non-null   geometry\n",
      "dtypes: geometry(1), int64(61), object(7)\n",
      "memory usage: 1.2+ MB\n"
     ]
    }
   ],
   "source": [
    "age.info()"
   ]
  },
  {
   "cell_type": "code",
   "execution_count": 6,
   "id": "ef4496a5-f838-4738-a71b-ce0f11050448",
   "metadata": {},
   "outputs": [],
   "source": [
    "df_trx_sa2 = (df_trx_sa2.withColumn(\"order_year_month\", \n",
    "                                date_format(col(\"order_datetime\"), 'yyyy-MM')))\n",
    "df_trx_sa2_test = (df_trx_sa2_test.withColumn(\"order_year_month\", \n",
    "                                date_format(col(\"order_datetime\"), 'yyyy-MM')))"
   ]
  },
  {
   "cell_type": "markdown",
   "id": "9be2598f-d330-4e27-9397-4209c8656e13",
   "metadata": {},
   "source": [
    "---"
   ]
  },
  {
   "cell_type": "code",
   "execution_count": 7,
   "id": "6a89fd2f-17a8-4448-8547-6f56d1e4f131",
   "metadata": {},
   "outputs": [
    {
     "name": "stdout",
     "output_type": "stream",
     "text": [
      "root\n",
      " |-- merchant_abn: long (nullable = true)\n",
      " |-- user_id: long (nullable = true)\n",
      " |-- consumer_id: string (nullable = true)\n",
      " |-- gender: string (nullable = true)\n",
      " |-- dollar_value: double (nullable = true)\n",
      " |-- order_id: string (nullable = true)\n",
      " |-- order_datetime: date (nullable = true)\n",
      " |-- sa2_maincode_2016: string (nullable = true)\n",
      " |-- categories: string (nullable = true)\n",
      " |-- revenue_level: string (nullable = true)\n",
      " |-- take_rate: float (nullable = true)\n",
      " |-- revenue: float (nullable = true)\n",
      " |-- __index_level_0__: long (nullable = true)\n",
      " |-- order_year_month: string (nullable = true)\n",
      "\n"
     ]
    }
   ],
   "source": [
    "df_trx_sa2.printSchema()"
   ]
  },
  {
   "cell_type": "code",
   "execution_count": 8,
   "id": "7cd3fdaa-71f9-43ca-be8c-ce0fb394f38b",
   "metadata": {},
   "outputs": [
    {
     "name": "stdout",
     "output_type": "stream",
     "text": [
      "root\n",
      " |-- merchant_abn: long (nullable = true)\n",
      " |-- user_id: long (nullable = true)\n",
      " |-- consumer_id: string (nullable = true)\n",
      " |-- gender: string (nullable = true)\n",
      " |-- dollar_value: double (nullable = true)\n",
      " |-- order_id: string (nullable = true)\n",
      " |-- order_datetime: date (nullable = true)\n",
      " |-- sa2_maincode_2016: string (nullable = true)\n",
      " |-- categories: string (nullable = true)\n",
      " |-- revenue_level: string (nullable = true)\n",
      " |-- take_rate: float (nullable = true)\n",
      " |-- revenue: float (nullable = true)\n",
      " |-- __index_level_0__: long (nullable = true)\n",
      " |-- order_year_month: string (nullable = true)\n",
      "\n"
     ]
    }
   ],
   "source": [
    "df_trx_sa2_test.printSchema()"
   ]
  },
  {
   "cell_type": "code",
   "execution_count": 9,
   "id": "5810f7ac-70d4-43c7-b252-adf37948dab4",
   "metadata": {
    "tags": []
   },
   "outputs": [],
   "source": [
    "# df_trx_sa2.show(1, vertical=True)"
   ]
  },
  {
   "cell_type": "code",
   "execution_count": 10,
   "id": "1fc078cb-3781-46c4-b40b-88e5de91281e",
   "metadata": {},
   "outputs": [],
   "source": [
    "# df_trx_sa2_test.show(1, vertical=True)"
   ]
  },
  {
   "cell_type": "code",
   "execution_count": 11,
   "id": "33326777-2ba3-4206-86b2-40a0da9b5dd5",
   "metadata": {},
   "outputs": [],
   "source": [
    "# calculate population of age above 20\n",
    "def get_age_pop(age_start, age_end):\n",
    "    '''\n",
    "    Create new columns that sum the age population that is in the range of\n",
    "    age_start and age_end from the age dataframe.\n",
    "    '''\n",
    "    \n",
    "    left_age = age_start\n",
    "    right_age = left_age + 4\n",
    "    \n",
    "    age[f'males_age_{age_start}_{age_end}'] = age[f'males_age_{left_age}_{right_age}']\n",
    "    age[f'females_age_{age_start}_{age_end}'] = age[f'females_age_{left_age}_{right_age}']\n",
    "    \n",
    "    while right_age < age_end + 1:\n",
    "        left_age += 5\n",
    "        right_age += 5\n",
    "        \n",
    "        age[f'males_age_{age_start}_{age_end}'] += age[f'males_age_{left_age}_{right_age}']\n",
    "        age[f'females_age_{age_start}_{age_end}'] += age[f'females_age_{left_age}_{right_age}']\n",
    "    \n",
    "    return age\n",
    "        \n",
    "    \n",
    "age = get_age_pop(20, 44)\n",
    "age = get_age_pop(45, 60)\n",
    "\n",
    "age = age[['sa2_main16', 'males_age_20_44', 'females_age_20_44', \n",
    "           'males_age_45_60', 'females_age_45_60']]\n",
    "\n",
    "# change age gpd dataframe to sdf\n",
    "age_sdf = spark.createDataFrame(age)\n",
    "\n",
    "# change income gpd dataframe to sdf\n",
    "cols = ['sa2_code', 'median_age_of_earners_years', 'median_aud', \n",
    "        'gini_coefficient_coef']\n",
    "income_sdf = spark.createDataFrame(income[cols])"
   ]
  },
  {
   "cell_type": "code",
   "execution_count": 12,
   "id": "f62c445b-64c9-4769-a1a7-b547c9101fdd",
   "metadata": {},
   "outputs": [
    {
     "name": "stderr",
     "output_type": "stream",
     "text": [
      "                                                                                \r"
     ]
    },
    {
     "data": {
      "text/html": [
       "<table border='1'>\n",
       "<tr><th>merchant_abn</th><th>user_id</th><th>consumer_id</th><th>gender</th><th>dollar_value</th><th>order_id</th><th>order_datetime</th><th>sa2_maincode_2016</th><th>categories</th><th>revenue_level</th><th>take_rate</th><th>revenue</th><th>__index_level_0__</th><th>order_year_month</th></tr>\n",
       "<tr><td>79417999332</td><td>10</td><td>1058499</td><td>Female</td><td>50.62647394670802</td><td>30e3f217-9ba4-439...</td><td>2021-08-19</td><td>203021046.0</td><td>gift, card, novel...</td><td>b</td><td>4.95</td><td>2.8060102</td><td>0</td><td>2021-08</td></tr>\n",
       "</table>\n"
      ],
      "text/plain": [
       "+------------+-------+-----------+------+-----------------+--------------------+--------------+-----------------+--------------------+-------------+---------+---------+-----------------+----------------+\n",
       "|merchant_abn|user_id|consumer_id|gender|     dollar_value|            order_id|order_datetime|sa2_maincode_2016|          categories|revenue_level|take_rate|  revenue|__index_level_0__|order_year_month|\n",
       "+------------+-------+-----------+------+-----------------+--------------------+--------------+-----------------+--------------------+-------------+---------+---------+-----------------+----------------+\n",
       "| 79417999332|     10|    1058499|Female|50.62647394670802|30e3f217-9ba4-439...|    2021-08-19|      203021046.0|gift, card, novel...|            b|     4.95|2.8060102|                0|         2021-08|\n",
       "+------------+-------+-----------+------+-----------------+--------------------+--------------+-----------------+--------------------+-------------+---------+---------+-----------------+----------------+"
      ]
     },
     "execution_count": 12,
     "metadata": {},
     "output_type": "execute_result"
    }
   ],
   "source": [
    "df_trx_sa2.limit(1)"
   ]
  },
  {
   "cell_type": "code",
   "execution_count": 13,
   "id": "abe0eb42-75c3-44bf-b644-08de5a279060",
   "metadata": {},
   "outputs": [],
   "source": [
    "df_trx_sa2 = df_trx_sa2.withColumn(\n",
    "                                    'is_male_buyer',\n",
    "                                    F.when(\n",
    "                                        (F.col('gender') == 'Male'), 1\n",
    "                                    ).otherwise(0)  \n",
    "                                  )\n",
    "df_trx_sa2 = df_trx_sa2.withColumn(\n",
    "                                    'is_female_buyer',\n",
    "                                    F.when(\n",
    "                                        (F.col('gender') == 'Female'), 1\n",
    "                                    ).otherwise(0)  \n",
    "                                  )\n",
    "\n",
    "df_trx_sa2_test = df_trx_sa2_test.withColumn(\n",
    "                                    'is_male_buyer',\n",
    "                                    F.when(\n",
    "                                        (F.col('gender') == 'Male'), 1\n",
    "                                    ).otherwise(0)  \n",
    "                                  )\n",
    "df_trx_sa2_test = df_trx_sa2_test.withColumn(\n",
    "                                    'is_female_buyer',\n",
    "                                    F.when(\n",
    "                                        (F.col('gender') == 'Female'), 1\n",
    "                                    ).otherwise(0)  \n",
    "                                  )"
   ]
  },
  {
   "cell_type": "markdown",
   "id": "282012bd-4d9d-47e8-a0f6-3418f1ff18c9",
   "metadata": {},
   "source": [
    "# Feature Engineering"
   ]
  },
  {
   "cell_type": "code",
   "execution_count": 14,
   "id": "c690edb1-3b1e-487b-8c75-6412e7beefea",
   "metadata": {},
   "outputs": [],
   "source": [
    "def get_cat_merchant_data(product_category, trx_data):\n",
    "    '''\n",
    "    Group and Aggregate consolidated data to be used for modelling\n",
    "    '''\n",
    "\n",
    "    df_cat = trx_data.filter(F.col('categories').isin(product_category))\n",
    "    df_cat = df_cat.drop('consumer_name', 'address', 'geometry', 'sa2_code', \n",
    "                         'merchant_name', 'sa2_name_2016', 'postcode', 'state')\n",
    "\n",
    "    # create new year-month column from date\n",
    "    df_cat = (df_cat.withColumn(\"order_year_month\", \n",
    "                                date_format(col(\"order_datetime\"), 'yyyy-MM')\n",
    "                    .alias(\"yyyy-MM\")))\n",
    "\n",
    "    # create new order month column from date\n",
    "    df_cat = (df_cat.withColumn(\"order_month\", \n",
    "                                date_format(col(\"order_datetime\"), 'M')\n",
    "                                .cast('INT')))\n",
    "\n",
    "\n",
    "    ## consumer first transaction month\n",
    "    w = Window.partitionBy('consumer_id')\n",
    "    df_consumer_first = df_cat.withColumn('first_trx_date', F.min('order_datetime').over(w))\\\n",
    "                              .where(F.col('order_datetime') == F.col('first_trx_date')) \\\n",
    "                              .withColumn(\"first_trx_month\", \n",
    "                                          date_format(col(\"order_datetime\"), \n",
    "                                                      'yyyy-MM'))\n",
    "    df_consumer_first = df_consumer_first[['consumer_id', 'first_trx_month']]\n",
    "    df_cat = (df_cat \\\n",
    "                 .join(df_consumer_first, \n",
    "                       on=['consumer_id'], \n",
    "                       how='left') \\\n",
    "             )\n",
    "    df_cat = df_cat.withColumn(\n",
    "                                'is_consumer_first_trx',\n",
    "                                F.when(\n",
    "                                    (F.col('order_year_month') == \n",
    "                                     F.col(\"first_trx_month\")), 1\n",
    "                                ).otherwise(0)  \n",
    "                              )\n",
    "\n",
    "    \n",
    "    ## take the most frequent consumer SA2 to be merchant SA2\n",
    "    df_sa2_count = (df_cat.groupby(['merchant_abn', 'sa2_maincode_2016'])\n",
    "                    .agg(F.count(\"sa2_maincode_2016\").alias(\"count\")))\n",
    "    w = Window().partitionBy(\"merchant_abn\").orderBy(F.desc(\"count\"))\n",
    "    df_with_rank = (df_sa2_count.withColumn(\"rank\", F.dense_rank().over(w)))\n",
    "\n",
    "    # get first row sa2 if ties exist\n",
    "    df_merchant_sa2 = (df_with_rank.where(F.col(\"rank\") == 1)\n",
    "                       .dropDuplicates(subset = ['merchant_abn'])\n",
    "                       .drop('Rank')\n",
    "                       .drop('count')\n",
    "                       .withColumnRenamed('sa2_maincode_2016', 'merchant_sa2'))\n",
    "\n",
    "    # join merchant sa2 to trx data\n",
    "    df_cat = (df_cat \\\n",
    "                 .join(df_merchant_sa2, \n",
    "                       on=['merchant_abn'], \n",
    "                       how='left')\n",
    "             )\n",
    "\n",
    "    ## Aggregate BNPL internal data\n",
    "    # transaction frequency, # active days, # unique consumer, # new consumer\n",
    "    # take rate, # female buyer, # male buyer, revenue (label)\n",
    "    sdf = (df_cat.groupby(['merchant_abn', 'merchant_sa2', 'order_year_month', \n",
    "                           'order_month'])\n",
    "                 .agg(count('order_id'),\n",
    "                      countDistinct('order_datetime'),\n",
    "                      countDistinct('consumer_id'),\n",
    "                      sum('is_consumer_first_trx'),\n",
    "                      avg('take_rate'),\n",
    "                      sum('is_male_buyer'),\n",
    "                      sum('is_female_buyer'),\n",
    "                      sum('revenue'))\n",
    "                 .withColumnRenamed(\"count(order_id)\", 'trx_count')\n",
    "                 .withColumnRenamed(\"count(order_datetime)\", \n",
    "                                    'active_days')\n",
    "                 .withColumnRenamed(\"count(consumer_id)\", \n",
    "                                    'distinct_consumer')\n",
    "                 .withColumnRenamed(\"sum(is_consumer_first_trx)\", \n",
    "                                    'new_consumer')\n",
    "                 .withColumnRenamed(\"avg(take_rate)\", \n",
    "                                    'take_rate')\n",
    "                 .withColumnRenamed(\"sum(is_male_buyer)\", \n",
    "                                    'male_buyer')\n",
    "                 .withColumnRenamed(\"sum(is_female_buyer)\", \n",
    "                                    'female_buyer')\n",
    "                 .withColumnRenamed(\"sum(revenue)\", \n",
    "                                    'total_revenue'))\n",
    "\n",
    "\n",
    "    # calculate the average monthly growth\n",
    "    df_cat_grouped = (df_cat.groupBy([\"merchant_abn\", 'order_year_month'])\n",
    "                            .sum(\"dollar_value\")\n",
    "                            .sort(['merchant_abn', 'order_year_month']))\n",
    "\n",
    "    win = Window.partitionBy(\"merchant_abn\").orderBy('order_year_month')\n",
    "    df_sales_diff = (df_cat_grouped.withColumn('sales_change', df_cat_grouped['sum(dollar_value)'] - lag(df_cat_grouped['sum(dollar_value)']).over(win))\n",
    "                                   .withColumn('last_sales',F.lag(df_cat_grouped['sum(dollar_value)']).over(win))\n",
    "                                   .withColumn('growth_perc', F.round((F.col('sales_change')/F.col('last_sales'))*100,2)))\n",
    "\n",
    "    df_sales_growth = (df_sales_diff.groupby('merchant_abn')\n",
    "                       .agg(avg('growth_perc'))\n",
    "                       .withColumn(\"avg(growth_perc)\", \n",
    "                                   F.round(F.col(\"avg(growth_perc)\"), 2))\n",
    "                       .withColumnRenamed('avg(growth_perc)', 'avg_monthly_growth'))\n",
    "    df_sales_diff = (df_sales_diff.na.fill(value=0, subset=[\"growth_perc\"]))\n",
    "\n",
    "    # join MoM growth\n",
    "    sdf = (sdf \\\n",
    "               .join(df_sales_diff[['merchant_abn', 'order_year_month', \n",
    "                                    'growth_perc']], \n",
    "                     on=['merchant_abn', 'order_year_month'], \n",
    "                     how='inner')\n",
    "          )\n",
    "\n",
    "\n",
    "    # join income by merchant_sa2\n",
    "    sdf = (sdf \\\n",
    "                 .join(income_sdf, \n",
    "                       on=sdf['merchant_sa2'] == income_sdf['sa2_code'], \n",
    "                       how='left') \\\n",
    "                 .drop('sa2_code')\n",
    "             )\n",
    "\n",
    "    ## join age by merchant_sa2\n",
    "    sdf = (sdf \\\n",
    "                 .join(age_sdf, \n",
    "                       on=[sdf['merchant_sa2'] == age_sdf['sa2_main16']], \n",
    "                       how='left') \\\n",
    "                 .drop('sa2_main16')\n",
    "             )\n",
    "    return sdf\n",
    "    "
   ]
  },
  {
   "cell_type": "markdown",
   "id": "89f9b0dd-7ab5-40a5-8fae-7f6d6c107dbb",
   "metadata": {},
   "source": [
    "# Product categories selection (3 categories)"
   ]
  },
  {
   "cell_type": "code",
   "execution_count": 15,
   "id": "9519af8e-e734-4360-a4eb-2be6b7396cca",
   "metadata": {},
   "outputs": [],
   "source": [
    "pc_month = df_trx_sa2.groupby(['categories', 'order_year_month']).agg(count('order_id'), sum('revenue'))"
   ]
  },
  {
   "cell_type": "code",
   "execution_count": 16,
   "id": "28f48804-6d0e-4f9a-8a80-db3dc59c5f81",
   "metadata": {},
   "outputs": [],
   "source": [
    "pc_selection = (pc_month.groupby('categories')\n",
    "                .agg(avg('sum(revenue)'))\n",
    "                .withColumnRenamed('avg(sum(revenue))', \n",
    "                                   'monthly_average_revenue')\n",
    "                .orderBy('monthly_average_revenue', ascending=False))"
   ]
  },
  {
   "cell_type": "code",
   "execution_count": 17,
   "id": "0668b212-6bbd-460e-a3e6-c3651b7e4428",
   "metadata": {
    "tags": []
   },
   "outputs": [
    {
     "name": "stderr",
     "output_type": "stream",
     "text": [
      "                                                                                \r"
     ]
    }
   ],
   "source": [
    "df_pc_selection = pc_selection.toPandas()"
   ]
  },
  {
   "cell_type": "code",
   "execution_count": 18,
   "id": "aba9bbe5-0cbc-4485-8f7e-84a2e64f6d82",
   "metadata": {},
   "outputs": [
    {
     "data": {
      "text/html": [
       "<div>\n",
       "<style scoped>\n",
       "    .dataframe tbody tr th:only-of-type {\n",
       "        vertical-align: middle;\n",
       "    }\n",
       "\n",
       "    .dataframe tbody tr th {\n",
       "        vertical-align: top;\n",
       "    }\n",
       "\n",
       "    .dataframe thead th {\n",
       "        text-align: right;\n",
       "    }\n",
       "</style>\n",
       "<table border=\"1\" class=\"dataframe\">\n",
       "  <thead>\n",
       "    <tr style=\"text-align: right;\">\n",
       "      <th></th>\n",
       "      <th>categories</th>\n",
       "      <th>monthly_average_revenue</th>\n",
       "    </tr>\n",
       "  </thead>\n",
       "  <tbody>\n",
       "    <tr>\n",
       "      <th>0</th>\n",
       "      <td>tent and awning shops</td>\n",
       "      <td>188555.942907</td>\n",
       "    </tr>\n",
       "    <tr>\n",
       "      <th>1</th>\n",
       "      <td>gift, card, novelty, and souvenir shops</td>\n",
       "      <td>186391.194705</td>\n",
       "    </tr>\n",
       "    <tr>\n",
       "      <th>2</th>\n",
       "      <td>artist supply and craft shops</td>\n",
       "      <td>181661.992151</td>\n",
       "    </tr>\n",
       "    <tr>\n",
       "      <th>3</th>\n",
       "      <td>computers, computer peripheral equipment, and ...</td>\n",
       "      <td>176754.117705</td>\n",
       "    </tr>\n",
       "    <tr>\n",
       "      <th>4</th>\n",
       "      <td>computer programming , data processing, and in...</td>\n",
       "      <td>159296.080014</td>\n",
       "    </tr>\n",
       "    <tr>\n",
       "      <th>5</th>\n",
       "      <td>motor vehicle supplies and new parts</td>\n",
       "      <td>151250.476025</td>\n",
       "    </tr>\n",
       "    <tr>\n",
       "      <th>6</th>\n",
       "      <td>florists supplies, nursery stock, and flowers</td>\n",
       "      <td>150517.926506</td>\n",
       "    </tr>\n",
       "    <tr>\n",
       "      <th>7</th>\n",
       "      <td>books, periodicals, and newspapers</td>\n",
       "      <td>145698.405642</td>\n",
       "    </tr>\n",
       "    <tr>\n",
       "      <th>8</th>\n",
       "      <td>furniture, home furnishings and equipment shop...</td>\n",
       "      <td>143227.423406</td>\n",
       "    </tr>\n",
       "    <tr>\n",
       "      <th>9</th>\n",
       "      <td>digital goods: books, movies, music</td>\n",
       "      <td>142426.776227</td>\n",
       "    </tr>\n",
       "    <tr>\n",
       "      <th>10</th>\n",
       "      <td>lawn and garden supply outlets, including nurs...</td>\n",
       "      <td>139609.932677</td>\n",
       "    </tr>\n",
       "    <tr>\n",
       "      <th>11</th>\n",
       "      <td>shoe shops</td>\n",
       "      <td>135628.667490</td>\n",
       "    </tr>\n",
       "    <tr>\n",
       "      <th>12</th>\n",
       "      <td>music shops - musical instruments, pianos, and...</td>\n",
       "      <td>132315.608234</td>\n",
       "    </tr>\n",
       "    <tr>\n",
       "      <th>13</th>\n",
       "      <td>cable, satellite, and other pay television and...</td>\n",
       "      <td>130324.398188</td>\n",
       "    </tr>\n",
       "    <tr>\n",
       "      <th>14</th>\n",
       "      <td>watch, clock, and jewelry repair shops</td>\n",
       "      <td>124266.455658</td>\n",
       "    </tr>\n",
       "    <tr>\n",
       "      <th>15</th>\n",
       "      <td>stationery, office supplies and printing and w...</td>\n",
       "      <td>113195.178273</td>\n",
       "    </tr>\n",
       "    <tr>\n",
       "      <th>16</th>\n",
       "      <td>health and beauty spas</td>\n",
       "      <td>108107.969027</td>\n",
       "    </tr>\n",
       "    <tr>\n",
       "      <th>17</th>\n",
       "      <td>opticians, optical goods, and eyeglasses</td>\n",
       "      <td>107911.045276</td>\n",
       "    </tr>\n",
       "    <tr>\n",
       "      <th>18</th>\n",
       "      <td>bicycle shops - sales and service</td>\n",
       "      <td>107489.628827</td>\n",
       "    </tr>\n",
       "    <tr>\n",
       "      <th>19</th>\n",
       "      <td>hobby, toy and game shops</td>\n",
       "      <td>86449.792386</td>\n",
       "    </tr>\n",
       "    <tr>\n",
       "      <th>20</th>\n",
       "      <td>telecom</td>\n",
       "      <td>44127.050315</td>\n",
       "    </tr>\n",
       "    <tr>\n",
       "      <th>21</th>\n",
       "      <td>antique shops - sales, repairs, and restoratio...</td>\n",
       "      <td>40797.722009</td>\n",
       "    </tr>\n",
       "    <tr>\n",
       "      <th>22</th>\n",
       "      <td>equipment, tool, furniture, and appliance rent...</td>\n",
       "      <td>34993.376663</td>\n",
       "    </tr>\n",
       "    <tr>\n",
       "      <th>23</th>\n",
       "      <td>art dealers and galleries</td>\n",
       "      <td>34615.886630</td>\n",
       "    </tr>\n",
       "    <tr>\n",
       "      <th>24</th>\n",
       "      <td>jewelry, watch, clock, and silverware shops</td>\n",
       "      <td>11951.879654</td>\n",
       "    </tr>\n",
       "  </tbody>\n",
       "</table>\n",
       "</div>"
      ],
      "text/plain": [
       "                                           categories  monthly_average_revenue\n",
       "0                               tent and awning shops            188555.942907\n",
       "1             gift, card, novelty, and souvenir shops            186391.194705\n",
       "2                       artist supply and craft shops            181661.992151\n",
       "3   computers, computer peripheral equipment, and ...            176754.117705\n",
       "4   computer programming , data processing, and in...            159296.080014\n",
       "5                motor vehicle supplies and new parts            151250.476025\n",
       "6       florists supplies, nursery stock, and flowers            150517.926506\n",
       "7                  books, periodicals, and newspapers            145698.405642\n",
       "8   furniture, home furnishings and equipment shop...            143227.423406\n",
       "9                 digital goods: books, movies, music            142426.776227\n",
       "10  lawn and garden supply outlets, including nurs...            139609.932677\n",
       "11                                         shoe shops            135628.667490\n",
       "12  music shops - musical instruments, pianos, and...            132315.608234\n",
       "13  cable, satellite, and other pay television and...            130324.398188\n",
       "14             watch, clock, and jewelry repair shops            124266.455658\n",
       "15  stationery, office supplies and printing and w...            113195.178273\n",
       "16                             health and beauty spas            108107.969027\n",
       "17           opticians, optical goods, and eyeglasses            107911.045276\n",
       "18                  bicycle shops - sales and service            107489.628827\n",
       "19                          hobby, toy and game shops             86449.792386\n",
       "20                                            telecom             44127.050315\n",
       "21  antique shops - sales, repairs, and restoratio...             40797.722009\n",
       "22  equipment, tool, furniture, and appliance rent...             34993.376663\n",
       "23                          art dealers and galleries             34615.886630\n",
       "24        jewelry, watch, clock, and silverware shops             11951.879654"
      ]
     },
     "execution_count": 18,
     "metadata": {},
     "output_type": "execute_result"
    }
   ],
   "source": [
    "df_pc_selection.sort_values(by='monthly_average_revenue', ascending=False)"
   ]
  },
  {
   "cell_type": "code",
   "execution_count": 19,
   "id": "3ca83b5a-6ede-4997-a690-b8711f154775",
   "metadata": {},
   "outputs": [],
   "source": [
    "technology = ['computers, computer peripheral equipment, and software',\n",
    "              'computer programming , data processing, and integrated systems design services']\n",
    "\n",
    "furniture = ['furniture, home furnishings and equipment shops, and manufacturers, except appliances',\n",
    "             'equipment, tool, furniture, and appliance rent al and leasing']\n",
    "\n",
    "hobby_toys = ['tent and awning shops', 'artist supply and craft shops', \n",
    "              'hobby, toy and game shops']\n",
    "\n",
    "tech_sdf = get_cat_merchant_data(technology, df_trx_sa2)\n",
    "furniture_sdf = get_cat_merchant_data(furniture, df_trx_sa2)\n",
    "hobby_sdf = get_cat_merchant_data(hobby_toys, df_trx_sa2)\n",
    "\n",
    "tech_sdf_test = get_cat_merchant_data(technology, df_trx_sa2_test)\n",
    "furniture_sdf_test = get_cat_merchant_data(furniture, df_trx_sa2_test)\n",
    "hobby_sdf_test = get_cat_merchant_data(hobby_toys, df_trx_sa2_test)\n",
    "\n"
   ]
  },
  {
   "cell_type": "code",
   "execution_count": 20,
   "id": "c784d576-166f-45a4-af09-7da594f24e58",
   "metadata": {},
   "outputs": [
    {
     "name": "stderr",
     "output_type": "stream",
     "text": [
      "                                                                                \r"
     ]
    }
   ],
   "source": [
    "tech_df = tech_sdf.toPandas()\n",
    "tech_df_test = tech_sdf_test.toPandas()"
   ]
  },
  {
   "cell_type": "code",
   "execution_count": 21,
   "id": "761b8e38-d4b7-4d01-9f2e-1b24aae90a7d",
   "metadata": {},
   "outputs": [
    {
     "name": "stderr",
     "output_type": "stream",
     "text": [
      "                                                                                \r"
     ]
    }
   ],
   "source": [
    "furniture_df = furniture_sdf.toPandas()\n",
    "furniture_df_test = furniture_sdf_test.toPandas()"
   ]
  },
  {
   "cell_type": "code",
   "execution_count": 22,
   "id": "9b6a810d-54c2-4060-a8ba-36df46970db9",
   "metadata": {},
   "outputs": [
    {
     "name": "stderr",
     "output_type": "stream",
     "text": [
      "                                                                                \r"
     ]
    }
   ],
   "source": [
    "hobby_df = hobby_sdf.toPandas()\n",
    "hobby_df_test = hobby_sdf_test.toPandas()"
   ]
  },
  {
   "cell_type": "code",
   "execution_count": 23,
   "id": "74fdaab9-159c-4c93-93ab-12f9ccfb727f",
   "metadata": {},
   "outputs": [
    {
     "name": "stdout",
     "output_type": "stream",
     "text": [
      "4501 3181 5746\n",
      "2351 1723 3041\n"
     ]
    }
   ],
   "source": [
    "print(len(tech_df), len(furniture_df), len(hobby_df))\n",
    "print(len(tech_df_test), len(furniture_df_test), len(hobby_df_test))"
   ]
  },
  {
   "cell_type": "code",
   "execution_count": 24,
   "id": "4d952850-58de-41e2-b073-e5cc6fbbc3ab",
   "metadata": {},
   "outputs": [
    {
     "data": {
      "image/png": "[encoded data removed]",
      "text/plain": [
       "<Figure size 864x504 with 2 Axes>"
      ]
     },
     "metadata": {
      "needs_background": "light"
     },
     "output_type": "display_data"
    }
   ],
   "source": [
    "all_df = pd.concat([tech_df,furniture_df,hobby_df],axis=0)\n",
    "fields = ['total_revenue', 'trx_count', 'distinct_consumer', 'new_consumer', \n",
    "          'take_rate', 'growth_perc', 'median_age_of_earners_years', \n",
    "          'median_aud', 'gini_coefficient_coef', 'males_age_20_44', \n",
    "          'females_age_20_44', 'males_age_45_60', 'females_age_45_60',\n",
    "          'order_month', 'active_days', 'male_buyer', 'female_buyer']\n",
    "plt.figure(figsize=(12,7))\n",
    "sns.heatmap(all_df[fields].corr(method='pearson'), \n",
    "            vmin=-1, vmax=1, annot=True, cmap='BrBG')\n",
    "\n",
    "plt.title('Pearson Correlation Metrics', fontsize=18)\n",
    "plt.show()"
   ]
  },
  {
   "cell_type": "code",
   "execution_count": 25,
   "id": "65620ec2-c1d3-4ef9-ad9b-9c7b3d15d263",
   "metadata": {},
   "outputs": [],
   "source": [
    "def fill_na_w_mean(df):\n",
    "    '''\n",
    "    Fill any na values in dataframe with the column mean\n",
    "    '''\n",
    "    for col in df.columns:\n",
    "        if df[col].isna().sum() > 0:\n",
    "            mean_value = df[col].mean()\n",
    "            df[col].fillna(value=mean_value, inplace=True)"
   ]
  },
  {
   "cell_type": "code",
   "execution_count": 26,
   "id": "cc8ada9a-7f17-4816-b17b-9022e187390d",
   "metadata": {},
   "outputs": [],
   "source": [
    "fill_na_w_mean(tech_df)\n",
    "fill_na_w_mean(tech_df_test)\n",
    "fill_na_w_mean(furniture_df)\n",
    "fill_na_w_mean(furniture_df_test)\n",
    "fill_na_w_mean(hobby_df)\n",
    "fill_na_w_mean(hobby_df_test)"
   ]
  },
  {
   "cell_type": "code",
   "execution_count": 27,
   "id": "d4e7230b-a1a3-4e05-961f-9b6123579d0b",
   "metadata": {},
   "outputs": [],
   "source": [
    "tech_df.to_csv('../data/curated/tech_df.csv')\n",
    "furniture_df.to_csv('../data/curated/furniture_df.csv')\n",
    "hobby_df.to_csv('../data/curated/hobby_df.csv')\n",
    "\n",
    "tech_df_test.to_csv('../data/curated/tech_df_test.csv')\n",
    "furniture_df_test.to_csv('../data/curated/furniture_df_test.csv')\n",
    "hobby_df_test.to_csv('../data/curated/hobby_df_test.csv')"
   ]
  },
  {
   "cell_type": "code",
   "execution_count": 28,
   "id": "24a7219b-f97b-4141-96dd-da1bddcb61a2",
   "metadata": {
    "collapsed": true,
    "jupyter": {
     "outputs_hidden": true
    },
    "tags": []
   },
   "outputs": [
    {
     "name": "stderr",
     "output_type": "stream",
     "text": [
      "[Stage 359:==>(3 + 1) / 4][Stage 367:>  (0 + 3) / 4][Stage 369:>  (0 + 0) / 1]4]\r"
     ]
    },
    {
     "name": "stdout",
     "output_type": "stream",
     "text": [
      "22/10/06 17:22:24 WARN RowBasedKeyValueBatch: Calling spill() on RowBasedKeyValueBatch. Will not spill but return 0.\n",
      "22/10/06 17:22:24 WARN RowBasedKeyValueBatch: Calling spill() on RowBasedKeyValueBatch. Will not spill but return 0.\n"
     ]
    },
    {
     "name": "stderr",
     "output_type": "stream",
     "text": [
      "[Stage 367:>  (0 + 4) / 4][Stage 369:>  (0 + 0) / 1][Stage 371:>  (0 + 0) / 1]\r"
     ]
    },
    {
     "name": "stdout",
     "output_type": "stream",
     "text": [
      "22/10/06 17:22:25 WARN RowBasedKeyValueBatch: Calling spill() on RowBasedKeyValueBatch. Will not spill but return 0.\n",
      "22/10/06 17:22:25 WARN RowBasedKeyValueBatch: Calling spill() on RowBasedKeyValueBatch. Will not spill but return 0.\n",
      "22/10/06 17:22:25 WARN RowBasedKeyValueBatch: Calling spill() on RowBasedKeyValueBatch. Will not spill but return 0.\n",
      "22/10/06 17:22:25 WARN RowBasedKeyValueBatch: Calling spill() on RowBasedKeyValueBatch. Will not spill but return 0.\n",
      "22/10/06 17:22:26 WARN RowBasedKeyValueBatch: Calling spill() on RowBasedKeyValueBatch. Will not spill but return 0.\n",
      "22/10/06 17:22:27 WARN RowBasedKeyValueBatch: Calling spill() on RowBasedKeyValueBatch. Will not spill but return 0.\n",
      "22/10/06 17:22:27 WARN RowBasedKeyValueBatch: Calling spill() on RowBasedKeyValueBatch. Will not spill but return 0.\n",
      "22/10/06 17:22:27 WARN RowBasedKeyValueBatch: Calling spill() on RowBasedKeyValueBatch. Will not spill but return 0.\n",
      "22/10/06 17:22:28 WARN RowBasedKeyValueBatch: Calling spill() on RowBasedKeyValueBatch. Will not spill but return 0.\n"
     ]
    },
    {
     "name": "stderr",
     "output_type": "stream",
     "text": [
      "[Stage 375:==============>  (5 + 1) / 6][Stage 385:>                (0 + 3) / 5]\r"
     ]
    },
    {
     "name": "stdout",
     "output_type": "stream",
     "text": [
      "22/10/06 17:22:43 WARN RowBasedKeyValueBatch: Calling spill() on RowBasedKeyValueBatch. Will not spill but return 0.\n",
      "22/10/06 17:22:44 WARN RowBasedKeyValueBatch: Calling spill() on RowBasedKeyValueBatch. Will not spill but return 0.\n",
      "22/10/06 17:22:44 WARN RowBasedKeyValueBatch: Calling spill() on RowBasedKeyValueBatch. Will not spill but return 0.\n"
     ]
    },
    {
     "name": "stderr",
     "output_type": "stream",
     "text": [
      "[Stage 385:>                                                        (0 + 4) / 5]\r"
     ]
    },
    {
     "name": "stdout",
     "output_type": "stream",
     "text": [
      "22/10/06 17:22:45 WARN RowBasedKeyValueBatch: Calling spill() on RowBasedKeyValueBatch. Will not spill but return 0.\n"
     ]
    },
    {
     "name": "stderr",
     "output_type": "stream",
     "text": [
      "[Stage 392:>                (0 + 4) / 5][Stage 396:>                (0 + 0) / 6]\r"
     ]
    },
    {
     "name": "stdout",
     "output_type": "stream",
     "text": [
      "22/10/06 17:22:47 WARN RowBasedKeyValueBatch: Calling spill() on RowBasedKeyValueBatch. Will not spill but return 0.\n",
      "22/10/06 17:22:47 WARN RowBasedKeyValueBatch: Calling spill() on RowBasedKeyValueBatch. Will not spill but return 0.\n",
      "22/10/06 17:22:47 WARN RowBasedKeyValueBatch: Calling spill() on RowBasedKeyValueBatch. Will not spill but return 0.\n",
      "22/10/06 17:22:47 WARN RowBasedKeyValueBatch: Calling spill() on RowBasedKeyValueBatch. Will not spill but return 0.\n"
     ]
    },
    {
     "name": "stderr",
     "output_type": "stream",
     "text": [
      "[Stage 396:>                (0 + 4) / 6][Stage 401:>                (0 + 0) / 1]\r"
     ]
    },
    {
     "name": "stdout",
     "output_type": "stream",
     "text": [
      "22/10/06 17:22:51 WARN RowBasedKeyValueBatch: Calling spill() on RowBasedKeyValueBatch. Will not spill but return 0.\n",
      "22/10/06 17:22:51 WARN RowBasedKeyValueBatch: Calling spill() on RowBasedKeyValueBatch. Will not spill but return 0.\n",
      "22/10/06 17:22:51 WARN RowBasedKeyValueBatch: Calling spill() on RowBasedKeyValueBatch. Will not spill but return 0.\n",
      "22/10/06 17:22:51 WARN RowBasedKeyValueBatch: Calling spill() on RowBasedKeyValueBatch. Will not spill but return 0.\n",
      "22/10/06 17:22:51 WARN RowBasedKeyValueBatch: Calling spill() on RowBasedKeyValueBatch. Will not spill but return 0.\n",
      "22/10/06 17:22:52 WARN RowBasedKeyValueBatch: Calling spill() on RowBasedKeyValueBatch. Will not spill but return 0.\n",
      "22/10/06 17:22:52 WARN RowBasedKeyValueBatch: Calling spill() on RowBasedKeyValueBatch. Will not spill but return 0.\n",
      "22/10/06 17:22:52 WARN RowBasedKeyValueBatch: Calling spill() on RowBasedKeyValueBatch. Will not spill but return 0.\n",
      "22/10/06 17:22:52 WARN RowBasedKeyValueBatch: Calling spill() on RowBasedKeyValueBatch. Will not spill but return 0.\n",
      "22/10/06 17:22:54 WARN RowBasedKeyValueBatch: Calling spill() on RowBasedKeyValueBatch. Will not spill but return 0.\n",
      "22/10/06 17:22:54 WARN RowBasedKeyValueBatch: Calling spill() on RowBasedKeyValueBatch. Will not spill but return 0.\n",
      "22/10/06 17:22:54 WARN RowBasedKeyValueBatch: Calling spill() on RowBasedKeyValueBatch. Will not spill but return 0.\n",
      "22/10/06 17:22:54 WARN RowBasedKeyValueBatch: Calling spill() on RowBasedKeyValueBatch. Will not spill but return 0.\n",
      "22/10/06 17:22:55 WARN RowBasedKeyValueBatch: Calling spill() on RowBasedKeyValueBatch. Will not spill but return 0.\n",
      "22/10/06 17:22:55 WARN RowBasedKeyValueBatch: Calling spill() on RowBasedKeyValueBatch. Will not spill but return 0.\n",
      "22/10/06 17:22:55 WARN RowBasedKeyValueBatch: Calling spill() on RowBasedKeyValueBatch. Will not spill but return 0.\n",
      "22/10/06 17:22:55 WARN RowBasedKeyValueBatch: Calling spill() on RowBasedKeyValueBatch. Will not spill but return 0.\n",
      "22/10/06 17:22:55 WARN RowBasedKeyValueBatch: Calling spill() on RowBasedKeyValueBatch. Will not spill but return 0.\n",
      "22/10/06 17:22:55 WARN RowBasedKeyValueBatch: Calling spill() on RowBasedKeyValueBatch. Will not spill but return 0.\n",
      "22/10/06 17:22:55 WARN RowBasedKeyValueBatch: Calling spill() on RowBasedKeyValueBatch. Will not spill but return 0.\n",
      "22/10/06 17:22:55 WARN RowBasedKeyValueBatch: Calling spill() on RowBasedKeyValueBatch. Will not spill but return 0.\n",
      "22/10/06 17:22:59 WARN RowBasedKeyValueBatch: Calling spill() on RowBasedKeyValueBatch. Will not spill but return 0.\n",
      "22/10/06 17:22:59 WARN RowBasedKeyValueBatch: Calling spill() on RowBasedKeyValueBatch. Will not spill but return 0.\n",
      "22/10/06 17:22:59 WARN RowBasedKeyValueBatch: Calling spill() on RowBasedKeyValueBatch. Will not spill but return 0.\n",
      "22/10/06 17:22:59 WARN RowBasedKeyValueBatch: Calling spill() on RowBasedKeyValueBatch. Will not spill but return 0.\n",
      "22/10/06 17:22:59 WARN RowBasedKeyValueBatch: Calling spill() on RowBasedKeyValueBatch. Will not spill but return 0.\n",
      "22/10/06 17:22:59 WARN RowBasedKeyValueBatch: Calling spill() on RowBasedKeyValueBatch. Will not spill but return 0.\n",
      "22/10/06 17:22:59 WARN RowBasedKeyValueBatch: Calling spill() on RowBasedKeyValueBatch. Will not spill but return 0.\n",
      "22/10/06 17:23:00 WARN RowBasedKeyValueBatch: Calling spill() on RowBasedKeyValueBatch. Will not spill but return 0.\n"
     ]
    },
    {
     "name": "stderr",
     "output_type": "stream",
     "text": [
      "[Stage 396:===============================================>         (5 + 1) / 6]\r"
     ]
    },
    {
     "name": "stdout",
     "output_type": "stream",
     "text": [
      "22/10/06 17:23:07 WARN RowBasedKeyValueBatch: Calling spill() on RowBasedKeyValueBatch. Will not spill but return 0.\n"
     ]
    },
    {
     "name": "stderr",
     "output_type": "stream",
     "text": [
      "[Stage 415:>                                                        (0 + 4) / 5]\r"
     ]
    },
    {
     "name": "stdout",
     "output_type": "stream",
     "text": [
      "22/10/06 17:23:09 WARN RowBasedKeyValueBatch: Calling spill() on RowBasedKeyValueBatch. Will not spill but return 0.\n",
      "22/10/06 17:23:09 WARN RowBasedKeyValueBatch: Calling spill() on RowBasedKeyValueBatch. Will not spill but return 0.\n",
      "22/10/06 17:23:09 WARN RowBasedKeyValueBatch: Calling spill() on RowBasedKeyValueBatch. Will not spill but return 0.\n",
      "22/10/06 17:23:09 WARN RowBasedKeyValueBatch: Calling spill() on RowBasedKeyValueBatch. Will not spill but return 0.\n",
      "22/10/06 17:23:09 WARN RowBasedKeyValueBatch: Calling spill() on RowBasedKeyValueBatch. Will not spill but return 0.\n",
      "22/10/06 17:23:09 WARN RowBasedKeyValueBatch: Calling spill() on RowBasedKeyValueBatch. Will not spill but return 0.\n",
      "22/10/06 17:23:09 WARN RowBasedKeyValueBatch: Calling spill() on RowBasedKeyValueBatch. Will not spill but return 0.\n",
      "22/10/06 17:23:09 WARN RowBasedKeyValueBatch: Calling spill() on RowBasedKeyValueBatch. Will not spill but return 0.\n",
      "22/10/06 17:23:09 WARN RowBasedKeyValueBatch: Calling spill() on RowBasedKeyValueBatch. Will not spill but return 0.\n",
      "22/10/06 17:23:09 WARN RowBasedKeyValueBatch: Calling spill() on RowBasedKeyValueBatch. Will not spill but return 0.\n",
      "22/10/06 17:23:10 WARN RowBasedKeyValueBatch: Calling spill() on RowBasedKeyValueBatch. Will not spill but return 0.\n",
      "22/10/06 17:23:10 WARN RowBasedKeyValueBatch: Calling spill() on RowBasedKeyValueBatch. Will not spill but return 0.\n",
      "22/10/06 17:23:10 WARN RowBasedKeyValueBatch: Calling spill() on RowBasedKeyValueBatch. Will not spill but return 0.\n",
      "22/10/06 17:23:10 WARN RowBasedKeyValueBatch: Calling spill() on RowBasedKeyValueBatch. Will not spill but return 0.\n",
      "22/10/06 17:23:10 WARN RowBasedKeyValueBatch: Calling spill() on RowBasedKeyValueBatch. Will not spill but return 0.\n",
      "22/10/06 17:23:10 WARN RowBasedKeyValueBatch: Calling spill() on RowBasedKeyValueBatch. Will not spill but return 0.\n",
      "22/10/06 17:23:10 WARN RowBasedKeyValueBatch: Calling spill() on RowBasedKeyValueBatch. Will not spill but return 0.\n",
      "22/10/06 17:23:10 WARN RowBasedKeyValueBatch: Calling spill() on RowBasedKeyValueBatch. Will not spill but return 0.\n",
      "22/10/06 17:23:11 WARN RowBasedKeyValueBatch: Calling spill() on RowBasedKeyValueBatch. Will not spill but return 0.\n",
      "22/10/06 17:23:11 WARN RowBasedKeyValueBatch: Calling spill() on RowBasedKeyValueBatch. Will not spill but return 0.\n",
      "22/10/06 17:23:11 WARN RowBasedKeyValueBatch: Calling spill() on RowBasedKeyValueBatch. Will not spill but return 0.\n",
      "22/10/06 17:23:11 WARN RowBasedKeyValueBatch: Calling spill() on RowBasedKeyValueBatch. Will not spill but return 0.\n",
      "22/10/06 17:23:11 WARN RowBasedKeyValueBatch: Calling spill() on RowBasedKeyValueBatch. Will not spill but return 0.\n",
      "22/10/06 17:23:11 WARN RowBasedKeyValueBatch: Calling spill() on RowBasedKeyValueBatch. Will not spill but return 0.\n",
      "22/10/06 17:23:11 WARN RowBasedKeyValueBatch: Calling spill() on RowBasedKeyValueBatch. Will not spill but return 0.\n",
      "22/10/06 17:23:11 WARN RowBasedKeyValueBatch: Calling spill() on RowBasedKeyValueBatch. Will not spill but return 0.\n"
     ]
    },
    {
     "name": "stderr",
     "output_type": "stream",
     "text": [
      "[Stage 425:==>(3 + 1) / 4][Stage 435:=> (2 + 2) / 4][Stage 439:>  (0 + 1) / 4]  \r"
     ]
    },
    {
     "name": "stdout",
     "output_type": "stream",
     "text": [
      "22/10/06 17:23:26 WARN RowBasedKeyValueBatch: Calling spill() on RowBasedKeyValueBatch. Will not spill but return 0.\n"
     ]
    },
    {
     "name": "stderr",
     "output_type": "stream",
     "text": [
      "[Stage 462:>                (0 + 4) / 5][Stage 467:>                (0 + 0) / 1]\r"
     ]
    },
    {
     "name": "stdout",
     "output_type": "stream",
     "text": [
      "22/10/06 17:23:40 WARN RowBasedKeyValueBatch: Calling spill() on RowBasedKeyValueBatch. Will not spill but return 0.\n",
      "22/10/06 17:23:40 WARN RowBasedKeyValueBatch: Calling spill() on RowBasedKeyValueBatch. Will not spill but return 0.\n",
      "22/10/06 17:23:40 WARN RowBasedKeyValueBatch: Calling spill() on RowBasedKeyValueBatch. Will not spill but return 0.\n",
      "22/10/06 17:23:40 WARN RowBasedKeyValueBatch: Calling spill() on RowBasedKeyValueBatch. Will not spill but return 0.\n",
      "22/10/06 17:23:41 WARN RowBasedKeyValueBatch: Calling spill() on RowBasedKeyValueBatch. Will not spill but return 0.\n",
      "22/10/06 17:23:41 WARN RowBasedKeyValueBatch: Calling spill() on RowBasedKeyValueBatch. Will not spill but return 0.\n",
      "22/10/06 17:23:41 WARN RowBasedKeyValueBatch: Calling spill() on RowBasedKeyValueBatch. Will not spill but return 0.\n",
      "22/10/06 17:23:41 WARN RowBasedKeyValueBatch: Calling spill() on RowBasedKeyValueBatch. Will not spill but return 0.\n",
      "22/10/06 17:23:42 WARN RowBasedKeyValueBatch: Calling spill() on RowBasedKeyValueBatch. Will not spill but return 0.\n",
      "22/10/06 17:23:42 WARN RowBasedKeyValueBatch: Calling spill() on RowBasedKeyValueBatch. Will not spill but return 0.\n",
      "22/10/06 17:23:42 WARN RowBasedKeyValueBatch: Calling spill() on RowBasedKeyValueBatch. Will not spill but return 0.\n",
      "22/10/06 17:23:42 WARN RowBasedKeyValueBatch: Calling spill() on RowBasedKeyValueBatch. Will not spill but return 0.\n",
      "22/10/06 17:23:42 WARN RowBasedKeyValueBatch: Calling spill() on RowBasedKeyValueBatch. Will not spill but return 0.\n",
      "22/10/06 17:23:42 WARN RowBasedKeyValueBatch: Calling spill() on RowBasedKeyValueBatch. Will not spill but return 0.\n",
      "22/10/06 17:23:42 WARN RowBasedKeyValueBatch: Calling spill() on RowBasedKeyValueBatch. Will not spill but return 0.\n",
      "22/10/06 17:23:42 WARN RowBasedKeyValueBatch: Calling spill() on RowBasedKeyValueBatch. Will not spill but return 0.\n"
     ]
    },
    {
     "name": "stderr",
     "output_type": "stream",
     "text": [
      "[Stage 475:>                (0 + 4) / 4][Stage 481:>                (0 + 0) / 1]\r"
     ]
    },
    {
     "name": "stdout",
     "output_type": "stream",
     "text": [
      "22/10/06 17:23:47 WARN RowBasedKeyValueBatch: Calling spill() on RowBasedKeyValueBatch. Will not spill but return 0.\n",
      "22/10/06 17:23:47 WARN RowBasedKeyValueBatch: Calling spill() on RowBasedKeyValueBatch. Will not spill but return 0.\n",
      "22/10/06 17:23:47 WARN RowBasedKeyValueBatch: Calling spill() on RowBasedKeyValueBatch. Will not spill but return 0.\n",
      "22/10/06 17:23:47 WARN RowBasedKeyValueBatch: Calling spill() on RowBasedKeyValueBatch. Will not spill but return 0.\n",
      "22/10/06 17:23:47 WARN RowBasedKeyValueBatch: Calling spill() on RowBasedKeyValueBatch. Will not spill but return 0.\n",
      "22/10/06 17:23:47 WARN RowBasedKeyValueBatch: Calling spill() on RowBasedKeyValueBatch. Will not spill but return 0.\n",
      "22/10/06 17:23:47 WARN RowBasedKeyValueBatch: Calling spill() on RowBasedKeyValueBatch. Will not spill but return 0.\n",
      "22/10/06 17:23:47 WARN RowBasedKeyValueBatch: Calling spill() on RowBasedKeyValueBatch. Will not spill but return 0.\n",
      "22/10/06 17:23:47 WARN RowBasedKeyValueBatch: Calling spill() on RowBasedKeyValueBatch. Will not spill but return 0.\n"
     ]
    },
    {
     "name": "stderr",
     "output_type": "stream",
     "text": [
      "                                                                                \r"
     ]
    }
   ],
   "source": [
    "all_catg = df_pc_selection['categories'].values.tolist()\n",
    "\n",
    "all_df = get_cat_merchant_data(all_catg, df_trx_sa2).toPandas()\n",
    "all_df_test = get_cat_merchant_data(all_catg, df_trx_sa2_test).toPandas()\n",
    "\n",
    "fill_na_w_mean(all_df)\n",
    "fill_na_w_mean(all_df_test)\n",
    "\n",
    "all_df.to_csv(f'../data/curated/all_df.csv')\n",
    "all_df_test.to_csv(f'../data/curated/all_df_test.csv')"
   ]
  },
  {
   "cell_type": "code",
   "execution_count": null,
   "id": "4905e91d-aa56-42ec-acbf-20949a8b5b44",
   "metadata": {},
   "outputs": [],
   "source": []
  }
 ],
 "metadata": {
  "kernelspec": {
   "display_name": "Python 3 (ipykernel)",
   "language": "python",
   "name": "python3"
  },
  "language_info": {
   "codemirror_mode": {
    "name": "ipython",
    "version": 3
   },
   "file_extension": ".py",
   "mimetype": "text/x-python",
   "name": "python",
   "nbconvert_exporter": "python",
   "pygments_lexer": "ipython3",
   "version": "3.9.7"
  }
 },
 "nbformat": 4,
 "nbformat_minor": 5
}
