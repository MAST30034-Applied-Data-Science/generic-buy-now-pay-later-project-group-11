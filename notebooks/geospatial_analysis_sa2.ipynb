{
 "cells": [
  {
   "cell_type": "markdown",
   "metadata": {},
   "source": [
    "## Geospatial Analysis by SA2\n",
    "1. By Population Number\n",
    "2. By Age Median\n",
    "3. By Income\n",
    "4. By Transaction Frequency"
   ]
  },
  {
   "cell_type": "markdown",
   "metadata": {},
   "source": [
    "#### Import Libraries"
   ]
  },
  {
   "cell_type": "code",
   "execution_count": null,
   "metadata": {},
   "outputs": [],
   "source": [
    "import pandas as pd\n",
    "import numpy as np\n",
    "import seaborn as sns\n",
    "import geopandas as gpd\n",
    "from datetime import datetime\n",
    "import matplotlib.pyplot as plt\n",
    "%matplotlib inline\n",
    "\n",
    "import geopandas as gpd\n",
    "import folium\n",
    "from pyspark.sql import SparkSession, Window, functions as F\n",
    "from pyspark.sql.functions import countDistinct, col, date_format\n",
    "import numpy as np\n",
    "import pyspark.sql.functions as func\n",
    "from pyspark.sql.types import (\n",
    "    StringType,\n",
    "    LongType,\n",
    "    DoubleType,\n",
    "    StructField,\n",
    "    StructType,\n",
    "    FloatType\n",
    ")\n",
    "\n",
    "import warnings\n",
    "warnings.filterwarnings(\"ignore\")"
   ]
  },
  {
   "cell_type": "code",
   "execution_count": null,
   "metadata": {},
   "outputs": [],
   "source": [
    "# Start Spark Session\n",
    "from pyspark.sql import SparkSession\n",
    "spark = (\n",
    "    SparkSession.builder.appName(\"MAST30034 Project 2 BNPL\")\n",
    "    .config(\"spark.sql.repl.eagerEval.enabled\", True) \n",
    "    .config(\"spark.sql.parquet.cacheMetadata\", \"true\")\n",
    "    .config(\"spark.sql.session.timeZone\", \"Etc/UTC\")\n",
    "    .config(\"spark.driver.memory\", \"4g\")\n",
    "    .config(\"spark.executor.memory\", \"8g\")\n",
    "    .getOrCreate()\n",
    ")"
   ]
  },
  {
   "cell_type": "markdown",
   "metadata": {},
   "source": [
    "#### Load Datasets"
   ]
  },
  {
   "cell_type": "code",
   "execution_count": null,
   "metadata": {},
   "outputs": [],
   "source": [
    "# load BNPL dataset\n",
    "consumer = spark.read.csv(\"../data/tables/tbl_consumer.csv\", header=True, sep=\"|\")\n",
    "details = spark.read.parquet(\"../data/tables/consumer_user_details.parquet\")\n",
    "merchants = spark.read.parquet(\"../data/tables/tbl_merchants.parquet\")"
   ]
  },
  {
   "cell_type": "code",
   "execution_count": null,
   "metadata": {},
   "outputs": [],
   "source": [
    "# load population data\n",
    "pop_df = gpd.read_file(f'../data/abs/2021_population_census.gml')\n",
    "\n",
    "# Select 2021 population census\n",
    "area_id = ['gml_id', 'primaryindex', 'state_code_2016', 'sa2_maincode_2016',\n",
    "           'sa2_name_2016']\n",
    "col_2021 = [x for x in pop_df.columns if '2021' in x or '2020_21' in x]\n",
    "pop_21 = pop_df[area_id + col_2021]"
   ]
  },
  {
   "cell_type": "code",
   "execution_count": null,
   "metadata": {},
   "outputs": [],
   "source": [
    "# load population income data\n",
    "sa2_income = gpd.read_file(f'../data/abs/sa2_income.gml')"
   ]
  },
  {
   "cell_type": "code",
   "execution_count": null,
   "metadata": {},
   "outputs": [],
   "source": [
    "# load all transactions datasets\n",
    "paths=['../data/tables/transactions_20210228_20210827_snapshot',\n",
    "       '../data/tables/transactions_20210828_20220227_snapshot']\n",
    "\n",
    "first = 1\n",
    "for path in paths:\n",
    "    if first:\n",
    "        transactions = spark.read.parquet(path)\n",
    "        print(f'added {path.split(\"/\")[3]}')\n",
    "        first = 0\n",
    "    else:\n",
    "        append_transactions = spark.read.parquet(path)\n",
    "        transactions = transactions.union(append_transactions)\n",
    "        print(f'added {path.split(\"/\")[3]}')"
   ]
  },
  {
   "cell_type": "code",
   "execution_count": null,
   "metadata": {},
   "outputs": [],
   "source": [
    "# load poa_to_sa2 dataset\n",
    "poa_to_sa2 = spark.read.csv(\"../data/curated/poa_w_sa2.csv\", header=True)"
   ]
  },
  {
   "cell_type": "code",
   "execution_count": null,
   "metadata": {},
   "outputs": [],
   "source": [
    "poa_to_sa2.show(5, vertical=True)"
   ]
  },
  {
   "cell_type": "code",
   "execution_count": null,
   "metadata": {},
   "outputs": [],
   "source": [
    "# rename columns\n",
    "merchants = merchants.withColumnRenamed('name', 'merchant_name')\n",
    "consumer = consumer.withColumnRenamed('name', 'consumer_name')"
   ]
  },
  {
   "cell_type": "markdown",
   "metadata": {},
   "source": [
    "#### Merge SA2 to transaction by postcode"
   ]
  },
  {
   "cell_type": "code",
   "execution_count": null,
   "id": "2dbbfd14-868f-4438-8025-9ec0f78beaa3",
   "metadata": {},
   "outputs": [],
   "source": [
    "# Join consumers with their respective details\n",
    "consumer_detail = consumer.join(details, on=\"consumer_id\")\n",
    "\n",
    "# Join consumers with their respective transactions\n",
    "consumer_trx = consumer_detail.join(transactions, on=\"user_id\")\n",
    "\n",
    "# Join transactions with the respective merchants\n",
    "df_trx = consumer_trx.join(merchants, on=\"merchant_abn\")"
   ]
  },
  {
   "cell_type": "code",
   "execution_count": null,
   "id": "04bd350b-3e62-4849-8b4a-8a4fe42698a5",
   "metadata": {
    "tags": []
   },
   "outputs": [],
   "source": [
    "df_trx.show(5, vertical=True)"
   ]
  },
  {
   "cell_type": "code",
   "execution_count": null,
   "id": "2c2604c8-4e1c-45d2-b915-5f566311c485",
   "metadata": {},
   "outputs": [],
   "source": [
    "# translate postcodes in transaction to sa2 codes\n",
    "sa2_cols = ['poa_name_2016', 'sa2_maincode_2016', 'sa2_name_2016', 'geometry']\n",
    "df_trx_sa2 = (df_trx \\\n",
    "                .join(poa_to_sa2[sa2_cols], \n",
    "                     on=[df_trx['postcode'] == poa_to_sa2['poa_name_2016']],\n",
    "                     how='inner')\n",
    "                .drop('poa_name_2016')\n",
    "             )"
   ]
  },
  {
   "cell_type": "code",
   "execution_count": null,
   "metadata": {},
   "outputs": [],
   "source": [
    "df_trx_sa2.printSchema()"
   ]
  },
  {
   "cell_type": "markdown",
   "metadata": {},
   "source": [
    "---\n",
    "### Geospatial Analysis"
   ]
  },
  {
   "cell_type": "code",
   "execution_count": null,
   "metadata": {},
   "outputs": [],
   "source": [
    "poa_to_sa2_pd = pd.read_csv(\"../data/curated/poa_w_sa2.csv\")"
   ]
  },
  {
   "cell_type": "code",
   "execution_count": null,
   "metadata": {},
   "outputs": [],
   "source": [
    "poa_to_sa2_pd = poa_to_sa2_pd.dropna()"
   ]
  },
  {
   "cell_type": "code",
   "execution_count": null,
   "metadata": {},
   "outputs": [],
   "source": [
    "from shapely import wkt\n",
    "\n",
    "poa_to_sa2_pd['geometry'] = poa_to_sa2_pd['geometry'].astype('str').apply(wkt.loads)\n",
    "gdf = gpd.GeoDataFrame(poa_to_sa2_pd, crs='epsg:4326')"
   ]
  },
  {
   "cell_type": "code",
   "execution_count": null,
   "metadata": {},
   "outputs": [],
   "source": [
    "gdf['geometry'] = gdf['geometry'].to_crs(\"+proj=longlat +ellps=WGS84 +datum=WGS84 +no_defs\")"
   ]
  },
  {
   "cell_type": "code",
   "execution_count": null,
   "metadata": {},
   "outputs": [],
   "source": [
    "# create a JSON \n",
    "geoJSON = gdf[['sa2_maincode_2016', 'geometry']].drop_duplicates('sa2_maincode_2016').to_json()"
   ]
  },
  {
   "cell_type": "markdown",
   "metadata": {},
   "source": [
    "#### 1. Geospatial Analysis by Population Number"
   ]
  },
  {
   "cell_type": "code",
   "execution_count": null,
   "metadata": {},
   "outputs": [],
   "source": [
    "m = folium.Map(location=[-38.043995, 145.264296], tiles=\"Stamen Terrain\", zoom_start=8)\n",
    "m.add_child(folium.Choropleth(\n",
    "    geo_data=geoJSON, # geoJSON \n",
    "    data=pop_21, \n",
    "    columns = ['sa2_maincode_2016', 'erp_2021'], \n",
    "    key_on = 'properties.sa2_maincode_2016', \n",
    "    fill_color='YlGnBu', \n",
    "    name='choropleth', \n",
    "    legend_name='Estimated Population Number per Area'))\n",
    "m"
   ]
  },
  {
   "cell_type": "markdown",
   "metadata": {},
   "source": [
    "#### 2. Geospatial Analysis by Median Age of Earners"
   ]
  },
  {
   "cell_type": "code",
   "execution_count": null,
   "metadata": {},
   "outputs": [],
   "source": []
  },
  {
   "cell_type": "markdown",
   "metadata": {},
   "source": [
    "#### 3. Geospatial Analysis by Income"
   ]
  },
  {
   "cell_type": "code",
   "execution_count": null,
   "metadata": {},
   "outputs": [],
   "source": [
    "m = folium.Map(location=[-38.043995, 145.264296], tiles=\"Stamen Terrain\", zoom_start=8)\n",
    "m.add_child(folium.Choropleth(\n",
    "    geo_data=geoJSON, # geoJSON \n",
    "    data=sa2_income, \n",
    "    columns = ['sa2_code', 'median_age_of_earners_years'], \n",
    "    key_on = 'properties.sa2_maincode_2016', \n",
    "    fill_color='YlGnBu', \n",
    "    name='choropleth', \n",
    "    legend_name='Estimated Population Number per Area'))\n",
    "m"
   ]
  },
  {
   "cell_type": "markdown",
   "metadata": {},
   "source": [
    "#### 4. Geospatial Analysis by Transaction"
   ]
  },
  {
   "cell_type": "code",
   "execution_count": null,
   "metadata": {},
   "outputs": [],
   "source": [
    "m = folium.Map(location=[-38.043995, 145.264296], tiles=\"Stamen Terrain\", zoom_start=8)\n",
    "m.add_child(folium.Choropleth(\n",
    "    geo_data=geoJSON, # geoJSON \n",
    "    data=df_trx_sa2, \n",
    "    columns = ['sa2_code', 'median_age_of_earners_years'], \n",
    "    key_on = 'properties.sa2_maincode_2016', \n",
    "    fill_color='YlGnBu', \n",
    "    name='choropleth', \n",
    "    legend_name='Estimated Population Number per Area'))\n",
    "m"
   ]
  }
 ],
 "metadata": {
  "kernelspec": {
   "display_name": "Python 3.8.9 64-bit",
   "language": "python",
   "name": "python3"
  },
  "language_info": {
   "codemirror_mode": {
    "name": "ipython",
    "version": 3
   },
   "file_extension": ".py",
   "mimetype": "text/x-python",
   "name": "python",
   "nbconvert_exporter": "python",
   "pygments_lexer": "ipython3",
   "version": "3.8.9"
  },
  "orig_nbformat": 4,
  "vscode": {
   "interpreter": {
    "hash": "31f2aee4e71d21fbe5cf8b01ff0e069b9275f58929596ceb00d14d90e3e16cd6"
   }
  }
 },
 "nbformat": 4,
 "nbformat_minor": 2
}
