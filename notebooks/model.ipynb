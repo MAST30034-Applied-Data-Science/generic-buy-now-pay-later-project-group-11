{
 "cells": [
  {
   "cell_type": "code",
   "execution_count": 1,
   "id": "7893cfe2-de4a-4931-a8d4-0d6c4eace70f",
   "metadata": {},
   "outputs": [],
   "source": [
    "import pandas as pd\n",
    "import numpy as np\n",
    "import seaborn as sns\n",
    "import geopandas as gpd\n",
    "from datetime import datetime\n",
    "import matplotlib.pyplot as plt\n",
    "%matplotlib inline\n",
    "\n",
    "import geopandas as gpd\n",
    "import folium\n",
    "from pyspark.sql import SparkSession, Window, functions as F\n",
    "from pyspark.sql.functions import countDistinct, col, date_format\n",
    "import numpy as np\n",
    "import pyspark.sql.functions as func\n",
    "from pyspark.sql.functions import sum, avg, count, lag, date_sub, split\n",
    "from pyspark.sql.window import Window\n",
    "from pyspark.sql.types import (\n",
    "    StringType,\n",
    "    LongType,\n",
    "    DoubleType,\n",
    "    StructField,\n",
    "    StructType,\n",
    "    FloatType\n",
    ")\n",
    "from scipy.stats import zscore\n",
    "\n",
    "import warnings\n",
    "warnings.filterwarnings(\"ignore\")"
   ]
  },
  {
   "cell_type": "code",
   "execution_count": 2,
   "id": "c6c02d07-5412-4a1e-8ede-9556dcdf430c",
   "metadata": {},
   "outputs": [
    {
     "name": "stderr",
     "output_type": "stream",
     "text": [
      "Setting default log level to \"WARN\".\n",
      "To adjust logging level use sc.setLogLevel(newLevel). For SparkR, use setLogLevel(newLevel).\n"
     ]
    },
    {
     "name": "stdout",
     "output_type": "stream",
     "text": [
      "22/09/18 23:21:59 WARN NativeCodeLoader: Unable to load native-hadoop library for your platform... using builtin-java classes where applicable\n"
     ]
    }
   ],
   "source": [
    "# Start Spark Session\n",
    "spark = (\n",
    "    SparkSession.builder.appName(\"MAST30034 Project 2 BNPL\")\n",
    "    .config(\"spark.sql.repl.eagerEval.enabled\", True) \n",
    "    .config(\"spark.sql.parquet.cacheMetadata\", \"true\")\n",
    "    .config(\"spark.sql.session.timeZone\", \"Etc/UTC\")\n",
    "    .getOrCreate()\n",
    ")"
   ]
  },
  {
   "cell_type": "code",
   "execution_count": 3,
   "id": "564e97a9-f2b5-42e9-88e9-eaacf2d87308",
   "metadata": {},
   "outputs": [],
   "source": [
    "# load BNPL dataset\n",
    "consumer = spark.read.csv(\"../data/tables/tbl_consumer.csv\", header=True, sep=\"|\")\n",
    "details = spark.read.parquet(\"../data/tables/consumer_user_details.parquet\")\n",
    "merchants = spark.read.parquet(\"../data/tables/tbl_merchants.parquet\")"
   ]
  },
  {
   "cell_type": "code",
   "execution_count": 4,
   "id": "c5d2dd0b-4d50-43ff-a37b-31a054ace2a4",
   "metadata": {},
   "outputs": [
    {
     "name": "stderr",
     "output_type": "stream",
     "text": [
      "                                                                                \r"
     ]
    },
    {
     "name": "stdout",
     "output_type": "stream",
     "text": [
      "added transactions_20210228_20210827_snapshot\n"
     ]
    },
    {
     "name": "stderr",
     "output_type": "stream",
     "text": [
      "                                                                                \r"
     ]
    },
    {
     "name": "stdout",
     "output_type": "stream",
     "text": [
      "added transactions_20210828_20220227_snapshot\n"
     ]
    },
    {
     "name": "stderr",
     "output_type": "stream",
     "text": [
      "[Stage 7:=====================================================> (236 + 4) / 241]\r"
     ]
    },
    {
     "name": "stdout",
     "output_type": "stream",
     "text": [
      "added transactions_20220228_20220828_snapshot\n"
     ]
    },
    {
     "name": "stderr",
     "output_type": "stream",
     "text": [
      "                                                                                \r"
     ]
    }
   ],
   "source": [
    "# load all transactions datasets\n",
    "paths=['../data/tables/transactions_20210228_20210827_snapshot',\n",
    "       '../data/tables/transactions_20210828_20220227_snapshot',\n",
    "       '../data/tables/transactions_20220228_20220828_snapshot']\n",
    "\n",
    "first = 1\n",
    "for path in paths:\n",
    "    if first:\n",
    "        transactions = spark.read.parquet(path)\n",
    "        print(f'added {path.split(\"/\")[3]}')\n",
    "        first = 0\n",
    "    else:\n",
    "        append_transactions = spark.read.parquet(path)\n",
    "        transactions = transactions.union(append_transactions)\n",
    "        print(f'added {path.split(\"/\")[3]}')"
   ]
  },
  {
   "cell_type": "code",
   "execution_count": 5,
   "id": "12d8338e-dea3-4fe7-ba82-2f11120b3602",
   "metadata": {},
   "outputs": [],
   "source": [
    "age = gpd.read_file(\"../data/abs/sa2_age.gml\")"
   ]
  },
  {
   "cell_type": "code",
   "execution_count": 6,
   "id": "3a5d6b9a-93f3-410e-bab4-8e95f5035e98",
   "metadata": {},
   "outputs": [],
   "source": [
    "# load poa_to_sa2 dataset\n",
    "poa_to_sa2 = spark.read.csv(\"../data/curated/poa_w_sa2.csv\", header=True)"
   ]
  },
  {
   "cell_type": "code",
   "execution_count": 7,
   "id": "14d5cffe-d812-4fb5-9874-3fa2dda16eb7",
   "metadata": {},
   "outputs": [],
   "source": [
    "# rename columns\n",
    "merchants = merchants.withColumnRenamed('name', 'merchant_name')\n",
    "consumer = consumer.withColumnRenamed('name', 'consumer_name')"
   ]
  },
  {
   "cell_type": "code",
   "execution_count": 8,
   "id": "dc43bfad-5ed1-42b1-92c2-33f9cae2f270",
   "metadata": {},
   "outputs": [],
   "source": [
    "# Join consumers with their respective details\n",
    "consumer_detail = consumer.join(details, on=\"consumer_id\")\n",
    "\n",
    "# Join consumers with their respective transactions\n",
    "consumer_trx = consumer_detail.join(transactions, on=\"user_id\")\n",
    "\n",
    "# Join transactions with the respective merchants\n",
    "df_trx = consumer_trx.join(merchants, on=\"merchant_abn\")"
   ]
  },
  {
   "cell_type": "code",
   "execution_count": 9,
   "id": "945c1418-0533-4eca-a1f4-cadc7163ec25",
   "metadata": {},
   "outputs": [],
   "source": [
    "# translate postcodes in transaction to sa2 codes\n",
    "sa2_cols = ['poa_name_2016', 'sa2_maincode_2016', 'sa2_name_2016', 'geometry']\n",
    "df_trx_sa2 = (df_trx \\\n",
    "                .join(poa_to_sa2[sa2_cols], \n",
    "                     on=[df_trx['postcode'] == poa_to_sa2['poa_name_2016']],\n",
    "                     how='inner')\n",
    "                .drop('poa_name_2016')\n",
    "             )"
   ]
  },
  {
   "cell_type": "code",
   "execution_count": 10,
   "id": "c905cb2c-ba1d-41a3-84b4-2bd2a49290da",
   "metadata": {},
   "outputs": [],
   "source": [
    "from pyspark.sql import functions as F\n",
    "from pyspark.sql.types import *\n",
    "@F.udf(StringType())\n",
    "def normalize_tags(col):\n",
    "    return col.replace(\"(\", \"[\").replace(\")\", \"]\")[1:-1]\n",
    "\n",
    "df_trx_sa2 = df_trx_sa2.withColumn(\"tags\", normalize_tags(F.col(\"tags\")))"
   ]
  },
  {
   "cell_type": "code",
   "execution_count": 11,
   "id": "301b8bd5-4f45-47f9-96f3-5c5925d9dda7",
   "metadata": {},
   "outputs": [],
   "source": [
    "df_trx_sa2 = df_trx_sa2.withColumn(\"categories\", F.regexp_extract(\"tags\", \"(?<=\\[)(.*?)(?=\\])\", 1))\n",
    "df_trx_sa2 = df_trx_sa2.withColumn(\"revenue_level\", F.regexp_extract(\"tags\", \"(?<=,\\s\\[)([a-e]+?)(?=\\],)\", 1))\n",
    "df_trx_sa2 = df_trx_sa2.withColumn(\"take_rate\", F.regexp_extract(\"tags\", \"(?<=\\[take rate: )(.*?)(?=\\])\", 1))\n",
    "df_trx_sa2 = df_trx_sa2.withColumn(\"take_rate\", F.col(\"take_rate\").astype(FloatType()))"
   ]
  },
  {
   "cell_type": "code",
   "execution_count": 12,
   "id": "7911b6cb-66ce-4983-940f-aff2084aa111",
   "metadata": {},
   "outputs": [],
   "source": [
    "df_trx_sa2 = df_trx_sa2[df_trx_sa2[\"dollar_value\"] >= 35]"
   ]
  },
  {
   "cell_type": "code",
   "execution_count": 13,
   "id": "e898f5f7-5929-4843-993a-ead1abc72df3",
   "metadata": {},
   "outputs": [],
   "source": [
    "@F.udf(StringType())\n",
    "def clean_string(col):\n",
    "    col = col.lower()\n",
    "    return \" \".join(col.split())\n",
    "\n",
    "df_trx_sa2 = df_trx_sa2.withColumn(\"categories\", clean_string(F.col(\"categories\")))"
   ]
  },
  {
   "cell_type": "code",
   "execution_count": 14,
   "id": "ebc54ea9-6b37-4d29-a48b-9e6f876bc305",
   "metadata": {},
   "outputs": [],
   "source": [
    "@F.udf(FloatType())\n",
    "def get_revenue(take_rate, dollar_value):\n",
    "    return (take_rate / 100) * dollar_value\n",
    "\n",
    "df_trx_sa2 = df_trx_sa2.withColumn(\"revenue\", get_revenue(F.col(\"take_rate\"), F.col(\"dollar_value\")))"
   ]
  },
  {
   "cell_type": "code",
   "execution_count": 15,
   "id": "11446416-f6bd-4ae4-9e86-3f424ae3bf2a",
   "metadata": {},
   "outputs": [],
   "source": [
    "df_trx_sa2 = df_trx_sa2.drop('tags')"
   ]
  },
  {
   "cell_type": "code",
   "execution_count": 16,
   "id": "7876db67-e88c-48dc-9d30-152b8a8e9f90",
   "metadata": {},
   "outputs": [],
   "source": [
    "# calculate population of age above 20\n",
    "left_age = 25\n",
    "right_age = 29\n",
    "age['males_age_20_50'] = age['males_age_20_24']\n",
    "age['females_age_20_50'] = age['females_age_20_24']\n",
    "age['persons_age_20_50'] = age['persons_age_20_24']\n",
    "\n",
    "while right_age < 50:\n",
    "\n",
    "    age['males_age_20_50'] += age[f'males_age_{left_age}_{right_age}']\n",
    "    age['females_age_20_50'] += age[f'females_age_{left_age}_{right_age}']\n",
    "    age['persons_age_20_50'] += age[f'persons_age_{left_age}_{right_age}']\n",
    "    \n",
    "    left_age += 5\n",
    "    right_age += 5"
   ]
  },
  {
   "cell_type": "markdown",
   "id": "9be2598f-d330-4e27-9397-4209c8656e13",
   "metadata": {},
   "source": [
    "---"
   ]
  },
  {
   "cell_type": "code",
   "execution_count": 17,
   "id": "6a89fd2f-17a8-4448-8547-6f56d1e4f131",
   "metadata": {},
   "outputs": [
    {
     "name": "stdout",
     "output_type": "stream",
     "text": [
      "root\n",
      " |-- merchant_abn: long (nullable = true)\n",
      " |-- user_id: long (nullable = true)\n",
      " |-- consumer_id: string (nullable = true)\n",
      " |-- consumer_name: string (nullable = true)\n",
      " |-- address: string (nullable = true)\n",
      " |-- state: string (nullable = true)\n",
      " |-- postcode: string (nullable = true)\n",
      " |-- gender: string (nullable = true)\n",
      " |-- dollar_value: double (nullable = true)\n",
      " |-- order_id: string (nullable = true)\n",
      " |-- order_datetime: date (nullable = true)\n",
      " |-- merchant_name: string (nullable = true)\n",
      " |-- sa2_maincode_2016: string (nullable = true)\n",
      " |-- sa2_name_2016: string (nullable = true)\n",
      " |-- geometry: string (nullable = true)\n",
      " |-- categories: string (nullable = true)\n",
      " |-- revenue_level: string (nullable = true)\n",
      " |-- take_rate: float (nullable = true)\n",
      " |-- revenue: float (nullable = true)\n",
      "\n"
     ]
    }
   ],
   "source": [
    "df_trx_sa2.printSchema()"
   ]
  },
  {
   "cell_type": "code",
   "execution_count": 18,
   "id": "5810f7ac-70d4-43c7-b252-adf37948dab4",
   "metadata": {},
   "outputs": [
    {
     "name": "stderr",
     "output_type": "stream",
     "text": [
      "[Stage 22:>                                                         (0 + 1) / 1]\r"
     ]
    },
    {
     "name": "stdout",
     "output_type": "stream",
     "text": [
      "-RECORD 0---------------------------------\n",
      " merchant_abn      | 23661821077          \n",
      " user_id           | 13882                \n",
      " consumer_id       | 151968               \n",
      " consumer_name     | Scott Dean           \n",
      " address           | 09010 Brandi Prairie \n",
      " state             | NSW                  \n",
      " postcode          | 2016                 \n",
      " gender            | Male                 \n",
      " dollar_value      | 51.527409870273424   \n",
      " order_id          | f20fdc13-9500-483... \n",
      " order_datetime    | 2021-08-19           \n",
      " merchant_name     | Suspendisse Eleif... \n",
      " sa2_maincode_2016 | 117031335.0          \n",
      " sa2_name_2016     | Redfern - Chippen... \n",
      " geometry          | POLYGON ((151.196... \n",
      " categories        | computer programm... \n",
      " revenue_level     | c                    \n",
      " take_rate         | 3.0                  \n",
      " revenue           | 1.5458223            \n",
      "only showing top 1 row\n",
      "\n"
     ]
    },
    {
     "name": "stderr",
     "output_type": "stream",
     "text": [
      "                                                                                \r"
     ]
    }
   ],
   "source": [
    "df_trx_sa2.show(1, vertical=True)"
   ]
  },
  {
   "cell_type": "code",
   "execution_count": 19,
   "id": "c690edb1-3b1e-487b-8c75-6412e7beefea",
   "metadata": {},
   "outputs": [
    {
     "ename": "SyntaxError",
     "evalue": "invalid syntax (146930404.py, line 5)",
     "output_type": "error",
     "traceback": [
      "\u001b[0;36m  File \u001b[0;32m\"/var/folders/kn/0h56wsl91tz9kbw4pcdll7zw0000gn/T/ipykernel_6869/146930404.py\"\u001b[0;36m, line \u001b[0;32m5\u001b[0m\n\u001b[0;31m    df_cat.groupby('category').\u001b[0m\n\u001b[0m                               ^\u001b[0m\n\u001b[0;31mSyntaxError\u001b[0m\u001b[0;31m:\u001b[0m invalid syntax\n"
     ]
    }
   ],
   "source": [
    "def get_cat_merchant_data(product_category):\n",
    "    df_cat = df_trx_sa2.filter(F.col('category') == product_category)\n",
    "    \n",
    "    # unique consumer per merchant\n",
    "    df_cat.groupby('category')."
   ]
  },
  {
   "cell_type": "code",
   "execution_count": 20,
   "id": "d419abb6-e15d-4b5d-9cfd-2764a837d242",
   "metadata": {},
   "outputs": [
    {
     "name": "stderr",
     "output_type": "stream",
     "text": [
      "                                                                                \r"
     ]
    }
   ],
   "source": [
    "product_category = \"florists supplies, nursery stock, and flowers\"\n",
    "\n",
    "df_cat = df_trx_sa2.filter(F.col('categories') == product_category)\n",
    "df_cat = (df_cat.withColumn(\"order_year_month\", \n",
    "                            date_format(col(\"order_datetime\"), 'yyyy-MM')\n",
    "                .alias(\"yyyy-MM\")))\n",
    "\n",
    "\n",
    "\n",
    "# average order transactionn value, \n",
    "# total transaction frequency, unique consumer per merchant\n",
    "sdf = (df_cat.groupby(['merchant_abn', 'order_year_month'])\n",
    "             .agg(avg('dollar_value'),\n",
    "                  count('order_id'), \n",
    "                  countDistinct('consumer_id'),\n",
    "                  sum('dollar_value'))\n",
    "             .withColumnRenamed(\"avg(dollar_value)\", 'avg_order_val')\n",
    "             .withColumnRenamed(\"count(order_id)\", 'trx_count')\n",
    "             .withColumnRenamed(\"count(consumer_id)\", \n",
    "                                'distinct_consumer')\n",
    "             .withColumnRenamed(\"sum(dollar_value)\", 'total_sales'))\n",
    "\n",
    "\n",
    "# calculate the average monthly growth\n",
    "# exclude 2021-02 as it contains only one day\n",
    "df_cat = df_cat.filter(F.col('order_year_month') != '2021-02')\n",
    "df_cat_grouped = (df_cat.groupBy([\"merchant_abn\", 'order_year_month'])\n",
    "                        .sum(\"dollar_value\")\n",
    "                        .sort(['merchant_abn', 'order_year_month']))\n",
    "\n",
    "win = Window.partitionBy(\"merchant_abn\").orderBy('order_year_month')\n",
    "df_sales_diff = (df_cat_grouped.withColumn('sales_change', df_cat_grouped['sum(dollar_value)'] - lag(df_cat_grouped['sum(dollar_value)']).over(win))\n",
    "                               .withColumn('last_sales',F.lag(df_cat_grouped['sum(dollar_value)']).over(win))\n",
    "                               .withColumn('growth_perc', F.round((F.col('sales_change')/F.col('last_sales'))*100,2)))\n",
    "\n",
    "df_sales_growth = (df_sales_diff.groupby('merchant_abn')\n",
    "                   .agg(avg('growth_perc'))\n",
    "                   .withColumn(\"avg(growth_perc)\", \n",
    "                               F.round(F.col(\"avg(growth_perc)\"), 2))\n",
    "                   .withColumnRenamed('avg(growth_perc)', 'avg_monthly_growth'))\n",
    "df_sales_diff = (df_sales_diff.na.fill(value=0, subset=[\"growth_perc\"]))\n",
    "\n",
    "\n",
    "# consumer state\n",
    "df_state = (df_cat[['merchant_abn', 'order_year_month', 'state', 'order_id']]\n",
    "            .groupby(['merchant_abn', 'order_year_month']).pivot(\"state\").count())\n",
    "df_state = (df_state.na.fill(value=0,\n",
    "                             subset=[\"ACT\", \"NSW\", \"QLD\", \n",
    "                                     \"SA\", \"TAS\", \"VIC\", \"WA\"]))\n",
    "\n",
    "# merchant number of active months\n",
    "df_active = (df_cat.groupby(['merchant_abn', 'order_year_month'])\n",
    "             .agg(countDistinct('order_datetime'))\n",
    "             .withColumnRenamed(\"count(order_datetime)\", \"num_active_days\"))\n",
    "\n",
    "\n",
    "# latest 12 months total transaction value\n",
    "# col_earlist_date = date_sub(F.max('order_datetime'), 365).alias('earliest')\n",
    "# col_latest_date = F.max('order_datetime').alias('lastest')\n",
    "# last_12_m_date_range = df_cat.select(col_earlist_date, col_latest_date)\n",
    "# date_range = last_12_m_date_range.collect()\n",
    "\n",
    "# last_12_m_trx = df_cat.filter(F.col('order_datetime') >= date_range[0][0])\n",
    "# df_annual_trx_val = (last_12_m_trx.groupby('merchant_abn')\n",
    "#                                   .sum('dollar_value')\n",
    "#                                   .withColumnRenamed('sum(dollar_value)', \n",
    "#                                                      'annual_trx_val'))\n",
    "\n",
    "# assume that sa2 with most trx frequency is the merchant's SA2\n",
    "# w = Window.partitionBy(['merchant_abn', 'sa2_maincode_2016'])\n",
    "# df_merchant_sa2 = (df_cat['merchant_abn', 'sa2_maincode_2016', 'order_id']\n",
    "#                    .groupby(['merchant_abn', 'sa2_maincode_2016'])\n",
    "#                    .agg(count('order_id'))\n",
    "#                    .sort('merchant_abn'))\n",
    "\n",
    "# df_merchant_sa2 = df_merchant_sa2.withColumn('max_count', \n",
    "#                                              F.max('count(order_id)').over(w))\\\n",
    "#                     .where(F.col('count(order_id)') == F.col('max_count'))\\\n",
    "#                     .drop('max_count')\n",
    "\n",
    "\n",
    "# Join all features to sdf by merchant_abn\n",
    "def join_agg(sdf1, sdf2):\n",
    "    '''\n",
    "        take two dataframes and join the two dataframes\n",
    "    '''\n",
    "    sdf1 = (sdf1 \\\n",
    "               .join(sdf2, \n",
    "                     on=['merchant_abn', 'order_year_month'], \n",
    "                     how='inner')\n",
    "           )\n",
    "    return sdf1\n",
    "\n",
    "sdf = join_agg(sdf, df_sales_diff[['merchant_abn', 'order_year_month', 'growth_perc']])\n",
    "sdf = join_agg(sdf, df_state)\n",
    "sdf = join_agg(sdf, df_active)\n",
    "# sdf = join_agg(sdf, df_annual_trx_val)\n",
    "\n",
    "sdf = sdf.withColumn('order_month', \n",
    "                     split(sdf['order_year_month'], '-') \\\n",
    "                     .getItem(1).cast('INT'))"
   ]
  },
  {
   "cell_type": "code",
   "execution_count": 21,
   "id": "c92561f6-7a22-4221-b47f-3aac0db9f460",
   "metadata": {},
   "outputs": [],
   "source": [
    "sdf = sdf.withColumn('order_month', \n",
    "                     split(sdf['order_year_month'], '-') \\\n",
    "                     .getItem(1).cast('INT'))"
   ]
  },
  {
   "cell_type": "code",
   "execution_count": 22,
   "id": "48ccdfe6-9c9a-48d0-afe1-a235e9861708",
   "metadata": {},
   "outputs": [
    {
     "name": "stderr",
     "output_type": "stream",
     "text": [
      "[Stage 82:>   (0 + 4) / 5][Stage 84:>   (0 + 0) / 5][Stage 86:>   (0 + 0) / 4]5]\r"
     ]
    },
    {
     "name": "stdout",
     "output_type": "stream",
     "text": [
      "22/09/18 21:43:08 WARN RowBasedKeyValueBatch: Calling spill() on RowBasedKeyValueBatch. Will not spill but return 0.\n",
      "22/09/18 21:43:08 WARN RowBasedKeyValueBatch: Calling spill() on RowBasedKeyValueBatch. Will not spill but return 0.\n",
      "22/09/18 21:43:08 WARN RowBasedKeyValueBatch: Calling spill() on RowBasedKeyValueBatch. Will not spill but return 0.\n",
      "22/09/18 21:43:08 WARN RowBasedKeyValueBatch: Calling spill() on RowBasedKeyValueBatch. Will not spill but return 0.\n",
      "22/09/18 21:43:08 WARN RowBasedKeyValueBatch: Calling spill() on RowBasedKeyValueBatch. Will not spill but return 0.\n",
      "22/09/18 21:43:08 WARN RowBasedKeyValueBatch: Calling spill() on RowBasedKeyValueBatch. Will not spill but return 0.\n",
      "22/09/18 21:43:08 WARN RowBasedKeyValueBatch: Calling spill() on RowBasedKeyValueBatch. Will not spill but return 0.\n",
      "22/09/18 21:43:08 WARN RowBasedKeyValueBatch: Calling spill() on RowBasedKeyValueBatch. Will not spill but return 0.\n",
      "22/09/18 21:43:09 WARN RowBasedKeyValueBatch: Calling spill() on RowBasedKeyValueBatch. Will not spill but return 0.\n",
      "22/09/18 21:43:09 WARN RowBasedKeyValueBatch: Calling spill() on RowBasedKeyValueBatch. Will not spill but return 0.\n",
      "22/09/18 21:43:09 WARN RowBasedKeyValueBatch: Calling spill() on RowBasedKeyValueBatch. Will not spill but return 0.\n",
      "22/09/18 21:43:09 WARN RowBasedKeyValueBatch: Calling spill() on RowBasedKeyValueBatch. Will not spill but return 0.\n"
     ]
    },
    {
     "name": "stderr",
     "output_type": "stream",
     "text": [
      "[Stage 84:>   (0 + 4) / 5][Stage 86:>   (0 + 0) / 4][Stage 88:>   (0 + 0) / 4]\r"
     ]
    },
    {
     "name": "stdout",
     "output_type": "stream",
     "text": [
      "[220.730s][warning][gc,alloc] Executor task launch worker for task 0.0 in stage 84.0 (TID 955): Retried waiting for GCLocker too often allocating 8388610 words\n",
      "22/09/18 21:43:12 WARN TaskMemoryManager: Failed to allocate a page (67108864 bytes), try again.\n"
     ]
    },
    {
     "name": "stderr",
     "output_type": "stream",
     "text": [
      "[Stage 118:>  (0 + 4) / 5][Stage 120:>  (0 + 0) / 4][Stage 122:>  (0 + 0) / 4]  \r"
     ]
    },
    {
     "name": "stdout",
     "output_type": "stream",
     "text": [
      "22/09/18 21:43:43 WARN RowBasedKeyValueBatch: Calling spill() on RowBasedKeyValueBatch. Will not spill but return 0.\n",
      "22/09/18 21:43:43 WARN RowBasedKeyValueBatch: Calling spill() on RowBasedKeyValueBatch. Will not spill but return 0.\n",
      "22/09/18 21:43:44 WARN RowBasedKeyValueBatch: Calling spill() on RowBasedKeyValueBatch. Will not spill but return 0.\n",
      "22/09/18 21:43:44 WARN RowBasedKeyValueBatch: Calling spill() on RowBasedKeyValueBatch. Will not spill but return 0.\n",
      "22/09/18 21:43:44 WARN RowBasedKeyValueBatch: Calling spill() on RowBasedKeyValueBatch. Will not spill but return 0.\n",
      "22/09/18 21:43:44 WARN RowBasedKeyValueBatch: Calling spill() on RowBasedKeyValueBatch. Will not spill but return 0.\n",
      "22/09/18 21:43:44 WARN RowBasedKeyValueBatch: Calling spill() on RowBasedKeyValueBatch. Will not spill but return 0.\n",
      "22/09/18 21:43:44 WARN RowBasedKeyValueBatch: Calling spill() on RowBasedKeyValueBatch. Will not spill but return 0.\n",
      "22/09/18 21:43:45 WARN RowBasedKeyValueBatch: Calling spill() on RowBasedKeyValueBatch. Will not spill but return 0.\n",
      "22/09/18 21:43:45 WARN RowBasedKeyValueBatch: Calling spill() on RowBasedKeyValueBatch. Will not spill but return 0.\n",
      "22/09/18 21:43:45 WARN RowBasedKeyValueBatch: Calling spill() on RowBasedKeyValueBatch. Will not spill but return 0.\n",
      "22/09/18 21:43:45 WARN RowBasedKeyValueBatch: Calling spill() on RowBasedKeyValueBatch. Will not spill but return 0.\n"
     ]
    },
    {
     "name": "stderr",
     "output_type": "stream",
     "text": [
      "[Stage 188:==>(3 + 1) / 4][Stage 190:>  (0 + 3) / 5][Stage 193:>  (0 + 0) / 1]  \r"
     ]
    },
    {
     "name": "stdout",
     "output_type": "stream",
     "text": [
      "22/09/18 21:44:23 WARN RowBasedKeyValueBatch: Calling spill() on RowBasedKeyValueBatch. Will not spill but return 0.\n",
      "22/09/18 21:44:23 WARN RowBasedKeyValueBatch: Calling spill() on RowBasedKeyValueBatch. Will not spill but return 0.\n"
     ]
    },
    {
     "name": "stderr",
     "output_type": "stream",
     "text": [
      "[Stage 190:>  (0 + 4) / 5][Stage 193:>  (0 + 0) / 1][Stage 196:>  (0 + 0) / 1]\r"
     ]
    },
    {
     "name": "stdout",
     "output_type": "stream",
     "text": [
      "22/09/18 21:44:24 WARN RowBasedKeyValueBatch: Calling spill() on RowBasedKeyValueBatch. Will not spill but return 0.\n",
      "22/09/18 21:44:24 WARN RowBasedKeyValueBatch: Calling spill() on RowBasedKeyValueBatch. Will not spill but return 0.\n",
      "22/09/18 21:44:24 WARN RowBasedKeyValueBatch: Calling spill() on RowBasedKeyValueBatch. Will not spill but return 0.\n",
      "22/09/18 21:44:24 WARN RowBasedKeyValueBatch: Calling spill() on RowBasedKeyValueBatch. Will not spill but return 0.\n",
      "22/09/18 21:44:24 WARN RowBasedKeyValueBatch: Calling spill() on RowBasedKeyValueBatch. Will not spill but return 0.\n",
      "22/09/18 21:44:24 WARN RowBasedKeyValueBatch: Calling spill() on RowBasedKeyValueBatch. Will not spill but return 0.\n"
     ]
    },
    {
     "name": "stderr",
     "output_type": "stream",
     "text": [
      "                                                                                \r"
     ]
    },
    {
     "data": {
      "text/plain": [
       "{'merchant_abn': 0,\n",
       " 'avg_order_val': 0,\n",
       " 'trx_count': 0,\n",
       " 'distinct_consumer': 0,\n",
       " 'avg_monthly_growth': 0,\n",
       " 'ACT': 0,\n",
       " 'NSW': 0,\n",
       " 'QLD': 0,\n",
       " 'SA': 0,\n",
       " 'TAS': 0,\n",
       " 'VIC': 0,\n",
       " 'WA': 0,\n",
       " 'num_active_months': 0,\n",
       " 'annual_trx_val': 0}"
      ]
     },
     "execution_count": 22,
     "metadata": {},
     "output_type": "execute_result"
    }
   ],
   "source": [
    "dict_null = {col:sdf.filter(sdf[col].isNull()).count() \n",
    "             for col in sdf.columns}\n",
    "dict_null"
   ]
  },
  {
   "cell_type": "markdown",
   "id": "7faac0a0-2940-4d2a-8010-76dd13ecd3dd",
   "metadata": {},
   "source": [
    "### Model Training"
   ]
  },
  {
   "cell_type": "code",
   "execution_count": 23,
   "id": "98f02d36-82cc-4e9a-a1be-3f6d4f37b426",
   "metadata": {},
   "outputs": [
    {
     "name": "stdout",
     "output_type": "stream",
     "text": [
      "root\n",
      " |-- merchant_abn: long (nullable = true)\n",
      " |-- order_year_month: string (nullable = true)\n",
      " |-- avg_order_val: double (nullable = true)\n",
      " |-- trx_count: long (nullable = false)\n",
      " |-- distinct_consumer: long (nullable = false)\n",
      " |-- total_sales: double (nullable = true)\n",
      " |-- growth_perc: double (nullable = false)\n",
      " |-- ACT: long (nullable = true)\n",
      " |-- NSW: long (nullable = true)\n",
      " |-- QLD: long (nullable = true)\n",
      " |-- SA: long (nullable = true)\n",
      " |-- TAS: long (nullable = true)\n",
      " |-- VIC: long (nullable = true)\n",
      " |-- WA: long (nullable = true)\n",
      " |-- num_active_days: long (nullable = false)\n",
      " |-- order_month: integer (nullable = true)\n",
      "\n"
     ]
    }
   ],
   "source": [
    "sdf.printSchema()"
   ]
  },
  {
   "cell_type": "code",
   "execution_count": 25,
   "id": "7611d6d6-0af2-4faf-8ef4-b6f6f84a853d",
   "metadata": {
    "tags": []
   },
   "outputs": [],
   "source": [
    "df = sdf.toPandas()"
   ]
  },
  {
   "cell_type": "code",
   "execution_count": 26,
   "id": "8f88ebb4-4863-441e-98fa-c812a523d7ad",
   "metadata": {},
   "outputs": [
    {
     "name": "stdout",
     "output_type": "stream",
     "text": [
      "<class 'pandas.core.frame.DataFrame'>\n",
      "RangeIndex: 3543 entries, 0 to 3542\n",
      "Data columns (total 16 columns):\n",
      " #   Column             Non-Null Count  Dtype  \n",
      "---  ------             --------------  -----  \n",
      " 0   merchant_abn       3543 non-null   int64  \n",
      " 1   order_year_month   3543 non-null   object \n",
      " 2   avg_order_val      3543 non-null   float64\n",
      " 3   trx_count          3543 non-null   int64  \n",
      " 4   distinct_consumer  3543 non-null   int64  \n",
      " 5   total_sales        3543 non-null   float64\n",
      " 6   growth_perc        3543 non-null   float64\n",
      " 7   ACT                3543 non-null   int64  \n",
      " 8   NSW                3543 non-null   int64  \n",
      " 9   QLD                3543 non-null   int64  \n",
      " 10  SA                 3543 non-null   int64  \n",
      " 11  TAS                3543 non-null   int64  \n",
      " 12  VIC                3543 non-null   int64  \n",
      " 13  WA                 3543 non-null   int64  \n",
      " 14  num_active_days    3543 non-null   int64  \n",
      " 15  order_month        3543 non-null   int32  \n",
      "dtypes: float64(3), int32(1), int64(11), object(1)\n",
      "memory usage: 429.2+ KB\n"
     ]
    }
   ],
   "source": [
    "df.info()"
   ]
  },
  {
   "cell_type": "code",
   "execution_count": 27,
   "id": "b0a23091-ed22-4948-9f38-53b60153a2cf",
   "metadata": {},
   "outputs": [
    {
     "data": {
      "text/plain": [
       "Index(['merchant_abn', 'order_year_month', 'avg_order_val', 'trx_count',\n",
       "       'distinct_consumer', 'total_sales', 'growth_perc', 'ACT', 'NSW', 'QLD',\n",
       "       'SA', 'TAS', 'VIC', 'WA', 'num_active_days', 'order_month'],\n",
       "      dtype='object')"
      ]
     },
     "execution_count": 27,
     "metadata": {},
     "output_type": "execute_result"
    }
   ],
   "source": [
    "df.columns"
   ]
  },
  {
   "cell_type": "code",
   "execution_count": 35,
   "id": "f99b4d81-1f70-476a-9adf-ba2d9c563a24",
   "metadata": {},
   "outputs": [
    {
     "data": {
      "image/png": "[encoded data removed]",
      "text/plain": [
       "<Figure size 864x504 with 2 Axes>"
      ]
     },
     "metadata": {
      "needs_background": "light"
     },
     "output_type": "display_data"
    }
   ],
   "source": [
    "fields = ['order_month', 'avg_order_val', 'trx_count',\n",
    "          'distinct_consumer', 'total_sales', 'growth_perc', 'ACT', 'NSW', 'QLD',\n",
    "          'SA', 'TAS', 'VIC', 'WA', 'num_active_days']\n",
    "plt.figure(figsize=(12,7))\n",
    "sns.heatmap(df[fields].corr(method='pearson'), \n",
    "            vmin=-1, vmax=1, annot=True, cmap='BrBG')\n",
    "\n",
    "plt.title('Pearson Correlation Metrics', fontsize=18)\n",
    "plt.show()"
   ]
  },
  {
   "cell_type": "code",
   "execution_count": 55,
   "id": "ea66def6-fe19-4077-97d0-44624ccea80d",
   "metadata": {},
   "outputs": [
    {
     "name": "stdout",
     "output_type": "stream",
     "text": [
      "                            OLS Regression Results                            \n",
      "==============================================================================\n",
      "Dep. Variable:            total_sales   R-squared:                       0.868\n",
      "Model:                            OLS   Adj. R-squared:                  0.868\n",
      "Method:                 Least Squares   F-statistic:                     2112.\n",
      "Date:                Sun, 18 Sep 2022   Prob (F-statistic):               0.00\n",
      "Time:                        23:37:59   Log-Likelihood:                -39466.\n",
      "No. Observations:                3543   AIC:                         7.896e+04\n",
      "Df Residuals:                    3531   BIC:                         7.903e+04\n",
      "Df Model:                          11                                         \n",
      "Covariance Type:            nonrobust                                         \n",
      "=====================================================================================\n",
      "                        coef    std err          t      P>|t|      [0.025      0.975]\n",
      "-------------------------------------------------------------------------------------\n",
      "Intercept         -1.661e+04   1059.609    -15.674      0.000   -1.87e+04   -1.45e+04\n",
      "order_month         439.7425     92.432      4.757      0.000     258.516     620.969\n",
      "avg_order_val        33.9469      2.320     14.631      0.000      29.398      38.496\n",
      "trx_count          -734.4111     36.895    -19.905      0.000    -806.749    -662.073\n",
      "distinct_consumer  1097.9648     18.918     58.039      0.000    1060.874    1135.055\n",
      "ACT                 184.5575    237.124      0.778      0.436    -280.356     649.471\n",
      "NSW                 333.0772     59.144      5.632      0.000     217.117     449.037\n",
      "QLD                -626.9553     61.696    -10.162      0.000    -747.918    -505.992\n",
      "SA                  131.5436     75.051      1.753      0.080     -15.604     278.691\n",
      "TAS                  53.3428    109.886      0.485      0.627    -162.103     268.789\n",
      "VIC                -471.0688     55.962     -8.418      0.000    -580.790    -361.348\n",
      "WA                 -338.9081     68.123     -4.975      0.000    -472.473    -205.343\n",
      "num_active_days     597.1298     29.864     19.995      0.000     538.578     655.681\n",
      "==============================================================================\n",
      "Omnibus:                     2339.994   Durbin-Watson:                   1.984\n",
      "Prob(Omnibus):                  0.000   Jarque-Bera (JB):           712198.472\n",
      "Skew:                           1.982   Prob(JB):                         0.00\n",
      "Kurtosis:                      72.344   Cond. No.                     2.14e+16\n",
      "==============================================================================\n",
      "\n",
      "Notes:\n",
      "[1] Standard Errors assume that the covariance matrix of the errors is correctly specified.\n",
      "[2] The smallest eigenvalue is 4.12e-24. This might indicate that there are\n",
      "strong multicollinearity problems or that the design matrix is singular.\n"
     ]
    }
   ],
   "source": [
    "from statsmodels.formula.api import ols, glm\n",
    "\n",
    "fit = ols(\n",
    "    formula=\"total_sales ~ order_month + avg_order_val + trx_count + distinct_consumer + ACT + NSW + QLD + SA + TAS + VIC + WA + num_active_days\",\n",
    "    data=df\n",
    ").fit()\n",
    "\n",
    "print(fit.summary())"
   ]
  },
  {
   "cell_type": "code",
   "execution_count": 65,
   "id": "1fbb8936-83db-4a53-a853-0e0da246dd7c",
   "metadata": {},
   "outputs": [
    {
     "name": "stdout",
     "output_type": "stream",
     "text": [
      "                            OLS Regression Results                            \n",
      "==============================================================================\n",
      "Dep. Variable:            total_sales   R-squared:                       0.868\n",
      "Model:                            OLS   Adj. R-squared:                  0.868\n",
      "Method:                 Least Squares   F-statistic:                     2583.\n",
      "Date:                Sun, 18 Sep 2022   Prob (F-statistic):               0.00\n",
      "Time:                        23:39:30   Log-Likelihood:                -39466.\n",
      "No. Observations:                3543   AIC:                         7.895e+04\n",
      "Df Residuals:                    3533   BIC:                         7.901e+04\n",
      "Df Model:                           9                                         \n",
      "Covariance Type:            nonrobust                                         \n",
      "=====================================================================================\n",
      "                        coef    std err          t      P>|t|      [0.025      0.975]\n",
      "-------------------------------------------------------------------------------------\n",
      "Intercept         -1.662e+04   1059.254    -15.686      0.000   -1.87e+04   -1.45e+04\n",
      "order_month         441.2941     92.339      4.779      0.000     260.251     622.337\n",
      "avg_order_val        33.9427      2.320     14.633      0.000      29.395      38.491\n",
      "trx_count          -621.5129     54.069    -11.495      0.000    -727.523    -515.503\n",
      "distinct_consumer  1097.8263     18.825     58.317      0.000    1060.917    1134.736\n",
      "NSW                 222.0477     76.423      2.906      0.004      72.211     371.884\n",
      "QLD                -738.8865     81.270     -9.092      0.000    -898.228    -579.545\n",
      "VIC                -586.4214     76.159     -7.700      0.000    -735.741    -437.102\n",
      "WA                 -446.9131     85.503     -5.227      0.000    -614.552    -279.274\n",
      "num_active_days     597.2011     29.831     20.019      0.000     538.713     655.689\n",
      "==============================================================================\n",
      "Omnibus:                     2322.629   Durbin-Watson:                   1.983\n",
      "Prob(Omnibus):                  0.000   Jarque-Bera (JB):           709908.366\n",
      "Skew:                           1.954   Prob(JB):                         0.00\n",
      "Kurtosis:                      72.236   Cond. No.                     2.75e+03\n",
      "==============================================================================\n",
      "\n",
      "Notes:\n",
      "[1] Standard Errors assume that the covariance matrix of the errors is correctly specified.\n",
      "[2] The condition number is large, 2.75e+03. This might indicate that there are\n",
      "strong multicollinearity or other numerical problems.\n"
     ]
    }
   ],
   "source": [
    "fitter = ols(\n",
    "    formula=\"total_sales ~ order_month + avg_order_val + trx_count + distinct_consumer + NSW + QLD + VIC + WA + num_active_days\",\n",
    "    data=df\n",
    ").fit()\n",
    "\n",
    "print(fitter.summary())"
   ]
  },
  {
   "cell_type": "code",
   "execution_count": 66,
   "id": "224a071a-f2c1-46d2-9098-e474a3278730",
   "metadata": {},
   "outputs": [
    {
     "data": {
      "text/plain": [
       "(78955.25067309011, 78951.62477230722, 'abs diff: 3.6259007828921312')"
      ]
     },
     "execution_count": 66,
     "metadata": {},
     "output_type": "execute_result"
    }
   ],
   "source": [
    "fit.aic, fitter.aic, f\"abs diff: {abs(fitter.aic - fit.aic)}\""
   ]
  },
  {
   "cell_type": "code",
   "execution_count": 32,
   "id": "121197bc-ab00-4eb5-bacd-6096f06a2f2c",
   "metadata": {},
   "outputs": [
    {
     "data": {
      "text/html": [
       "<div>\n",
       "<style scoped>\n",
       "    .dataframe tbody tr th:only-of-type {\n",
       "        vertical-align: middle;\n",
       "    }\n",
       "\n",
       "    .dataframe tbody tr th {\n",
       "        vertical-align: top;\n",
       "    }\n",
       "\n",
       "    .dataframe thead th {\n",
       "        text-align: right;\n",
       "    }\n",
       "</style>\n",
       "<table border=\"1\" class=\"dataframe\">\n",
       "  <thead>\n",
       "    <tr style=\"text-align: right;\">\n",
       "      <th></th>\n",
       "      <th>merchant_abn</th>\n",
       "      <th>order_year_month</th>\n",
       "      <th>avg_order_val</th>\n",
       "      <th>trx_count</th>\n",
       "      <th>distinct_consumer</th>\n",
       "      <th>total_sales</th>\n",
       "      <th>growth_perc</th>\n",
       "      <th>ACT</th>\n",
       "      <th>NSW</th>\n",
       "      <th>QLD</th>\n",
       "      <th>SA</th>\n",
       "      <th>TAS</th>\n",
       "      <th>VIC</th>\n",
       "      <th>WA</th>\n",
       "      <th>num_active_days</th>\n",
       "      <th>order_month</th>\n",
       "    </tr>\n",
       "  </thead>\n",
       "  <tbody>\n",
       "    <tr>\n",
       "      <th>449</th>\n",
       "      <td>46666227102</td>\n",
       "      <td>2021-12</td>\n",
       "      <td>530.708724</td>\n",
       "      <td>3</td>\n",
       "      <td>3</td>\n",
       "      <td>1592.126171</td>\n",
       "      <td>92.59</td>\n",
       "      <td>0</td>\n",
       "      <td>0</td>\n",
       "      <td>1</td>\n",
       "      <td>0</td>\n",
       "      <td>0</td>\n",
       "      <td>1</td>\n",
       "      <td>1</td>\n",
       "      <td>2</td>\n",
       "      <td>12</td>\n",
       "    </tr>\n",
       "    <tr>\n",
       "      <th>453</th>\n",
       "      <td>46666227102</td>\n",
       "      <td>2021-06</td>\n",
       "      <td>680.615475</td>\n",
       "      <td>2</td>\n",
       "      <td>2</td>\n",
       "      <td>1361.230950</td>\n",
       "      <td>457.96</td>\n",
       "      <td>0</td>\n",
       "      <td>0</td>\n",
       "      <td>0</td>\n",
       "      <td>0</td>\n",
       "      <td>0</td>\n",
       "      <td>2</td>\n",
       "      <td>0</td>\n",
       "      <td>2</td>\n",
       "      <td>6</td>\n",
       "    </tr>\n",
       "    <tr>\n",
       "      <th>726</th>\n",
       "      <td>46666227102</td>\n",
       "      <td>2021-08</td>\n",
       "      <td>413.341843</td>\n",
       "      <td>2</td>\n",
       "      <td>2</td>\n",
       "      <td>826.683687</td>\n",
       "      <td>50.06</td>\n",
       "      <td>0</td>\n",
       "      <td>1</td>\n",
       "      <td>1</td>\n",
       "      <td>0</td>\n",
       "      <td>0</td>\n",
       "      <td>0</td>\n",
       "      <td>0</td>\n",
       "      <td>2</td>\n",
       "      <td>8</td>\n",
       "    </tr>\n",
       "    <tr>\n",
       "      <th>796</th>\n",
       "      <td>46666227102</td>\n",
       "      <td>2021-05</td>\n",
       "      <td>243.965092</td>\n",
       "      <td>1</td>\n",
       "      <td>1</td>\n",
       "      <td>243.965092</td>\n",
       "      <td>-74.98</td>\n",
       "      <td>0</td>\n",
       "      <td>0</td>\n",
       "      <td>0</td>\n",
       "      <td>0</td>\n",
       "      <td>0</td>\n",
       "      <td>0</td>\n",
       "      <td>1</td>\n",
       "      <td>1</td>\n",
       "      <td>5</td>\n",
       "    </tr>\n",
       "    <tr>\n",
       "      <th>1445</th>\n",
       "      <td>46666227102</td>\n",
       "      <td>2022-10</td>\n",
       "      <td>592.697438</td>\n",
       "      <td>4</td>\n",
       "      <td>4</td>\n",
       "      <td>2370.789752</td>\n",
       "      <td>109.39</td>\n",
       "      <td>0</td>\n",
       "      <td>1</td>\n",
       "      <td>1</td>\n",
       "      <td>0</td>\n",
       "      <td>0</td>\n",
       "      <td>1</td>\n",
       "      <td>1</td>\n",
       "      <td>3</td>\n",
       "      <td>10</td>\n",
       "    </tr>\n",
       "    <tr>\n",
       "      <th>1624</th>\n",
       "      <td>46666227102</td>\n",
       "      <td>2022-07</td>\n",
       "      <td>566.112977</td>\n",
       "      <td>2</td>\n",
       "      <td>2</td>\n",
       "      <td>1132.225954</td>\n",
       "      <td>640.72</td>\n",
       "      <td>0</td>\n",
       "      <td>1</td>\n",
       "      <td>0</td>\n",
       "      <td>0</td>\n",
       "      <td>1</td>\n",
       "      <td>0</td>\n",
       "      <td>0</td>\n",
       "      <td>2</td>\n",
       "      <td>7</td>\n",
       "    </tr>\n",
       "    <tr>\n",
       "      <th>3094</th>\n",
       "      <td>46666227102</td>\n",
       "      <td>2022-03</td>\n",
       "      <td>605.271031</td>\n",
       "      <td>1</td>\n",
       "      <td>1</td>\n",
       "      <td>605.271031</td>\n",
       "      <td>563.77</td>\n",
       "      <td>0</td>\n",
       "      <td>0</td>\n",
       "      <td>0</td>\n",
       "      <td>0</td>\n",
       "      <td>0</td>\n",
       "      <td>0</td>\n",
       "      <td>1</td>\n",
       "      <td>1</td>\n",
       "      <td>3</td>\n",
       "    </tr>\n",
       "    <tr>\n",
       "      <th>3170</th>\n",
       "      <td>46666227102</td>\n",
       "      <td>2022-05</td>\n",
       "      <td>152.854492</td>\n",
       "      <td>1</td>\n",
       "      <td>1</td>\n",
       "      <td>152.854492</td>\n",
       "      <td>-37.99</td>\n",
       "      <td>0</td>\n",
       "      <td>0</td>\n",
       "      <td>0</td>\n",
       "      <td>1</td>\n",
       "      <td>0</td>\n",
       "      <td>0</td>\n",
       "      <td>0</td>\n",
       "      <td>1</td>\n",
       "      <td>5</td>\n",
       "    </tr>\n",
       "    <tr>\n",
       "      <th>3205</th>\n",
       "      <td>46666227102</td>\n",
       "      <td>2021-03</td>\n",
       "      <td>487.564137</td>\n",
       "      <td>2</td>\n",
       "      <td>2</td>\n",
       "      <td>975.128273</td>\n",
       "      <td>0.00</td>\n",
       "      <td>0</td>\n",
       "      <td>0</td>\n",
       "      <td>0</td>\n",
       "      <td>1</td>\n",
       "      <td>0</td>\n",
       "      <td>0</td>\n",
       "      <td>1</td>\n",
       "      <td>2</td>\n",
       "      <td>3</td>\n",
       "    </tr>\n",
       "    <tr>\n",
       "      <th>3477</th>\n",
       "      <td>46666227102</td>\n",
       "      <td>2022-04</td>\n",
       "      <td>246.500957</td>\n",
       "      <td>1</td>\n",
       "      <td>1</td>\n",
       "      <td>246.500957</td>\n",
       "      <td>-59.27</td>\n",
       "      <td>0</td>\n",
       "      <td>0</td>\n",
       "      <td>0</td>\n",
       "      <td>0</td>\n",
       "      <td>0</td>\n",
       "      <td>0</td>\n",
       "      <td>1</td>\n",
       "      <td>1</td>\n",
       "      <td>4</td>\n",
       "    </tr>\n",
       "    <tr>\n",
       "      <th>3496</th>\n",
       "      <td>46666227102</td>\n",
       "      <td>2021-07</td>\n",
       "      <td>275.452683</td>\n",
       "      <td>2</td>\n",
       "      <td>2</td>\n",
       "      <td>550.905366</td>\n",
       "      <td>-59.53</td>\n",
       "      <td>0</td>\n",
       "      <td>0</td>\n",
       "      <td>1</td>\n",
       "      <td>0</td>\n",
       "      <td>0</td>\n",
       "      <td>1</td>\n",
       "      <td>0</td>\n",
       "      <td>2</td>\n",
       "      <td>7</td>\n",
       "    </tr>\n",
       "    <tr>\n",
       "      <th>3527</th>\n",
       "      <td>46666227102</td>\n",
       "      <td>2022-01</td>\n",
       "      <td>91.186227</td>\n",
       "      <td>1</td>\n",
       "      <td>1</td>\n",
       "      <td>91.186227</td>\n",
       "      <td>-94.27</td>\n",
       "      <td>0</td>\n",
       "      <td>0</td>\n",
       "      <td>1</td>\n",
       "      <td>0</td>\n",
       "      <td>0</td>\n",
       "      <td>0</td>\n",
       "      <td>0</td>\n",
       "      <td>1</td>\n",
       "      <td>1</td>\n",
       "    </tr>\n",
       "  </tbody>\n",
       "</table>\n",
       "</div>"
      ],
      "text/plain": [
       "      merchant_abn order_year_month  avg_order_val  trx_count  \\\n",
       "449    46666227102          2021-12     530.708724          3   \n",
       "453    46666227102          2021-06     680.615475          2   \n",
       "726    46666227102          2021-08     413.341843          2   \n",
       "796    46666227102          2021-05     243.965092          1   \n",
       "1445   46666227102          2022-10     592.697438          4   \n",
       "1624   46666227102          2022-07     566.112977          2   \n",
       "3094   46666227102          2022-03     605.271031          1   \n",
       "3170   46666227102          2022-05     152.854492          1   \n",
       "3205   46666227102          2021-03     487.564137          2   \n",
       "3477   46666227102          2022-04     246.500957          1   \n",
       "3496   46666227102          2021-07     275.452683          2   \n",
       "3527   46666227102          2022-01      91.186227          1   \n",
       "\n",
       "      distinct_consumer  total_sales  growth_perc  ACT  NSW  QLD  SA  TAS  \\\n",
       "449                   3  1592.126171        92.59    0    0    1   0    0   \n",
       "453                   2  1361.230950       457.96    0    0    0   0    0   \n",
       "726                   2   826.683687        50.06    0    1    1   0    0   \n",
       "796                   1   243.965092       -74.98    0    0    0   0    0   \n",
       "1445                  4  2370.789752       109.39    0    1    1   0    0   \n",
       "1624                  2  1132.225954       640.72    0    1    0   0    1   \n",
       "3094                  1   605.271031       563.77    0    0    0   0    0   \n",
       "3170                  1   152.854492       -37.99    0    0    0   1    0   \n",
       "3205                  2   975.128273         0.00    0    0    0   1    0   \n",
       "3477                  1   246.500957       -59.27    0    0    0   0    0   \n",
       "3496                  2   550.905366       -59.53    0    0    1   0    0   \n",
       "3527                  1    91.186227       -94.27    0    0    1   0    0   \n",
       "\n",
       "      VIC  WA  num_active_days  order_month  \n",
       "449     1   1                2           12  \n",
       "453     2   0                2            6  \n",
       "726     0   0                2            8  \n",
       "796     0   1                1            5  \n",
       "1445    1   1                3           10  \n",
       "1624    0   0                2            7  \n",
       "3094    0   1                1            3  \n",
       "3170    0   0                1            5  \n",
       "3205    0   1                2            3  \n",
       "3477    0   1                1            4  \n",
       "3496    1   0                2            7  \n",
       "3527    0   0                1            1  "
      ]
     },
     "execution_count": 32,
     "metadata": {},
     "output_type": "execute_result"
    }
   ],
   "source": [
    "df[df['merchant_abn']==46666227102]"
   ]
  },
  {
   "cell_type": "code",
   "execution_count": 82,
   "id": "d1ed2b0b-e80f-48c5-ab61-c8b4ebd49cbe",
   "metadata": {},
   "outputs": [
    {
     "data": {
      "text/html": [
       "<div>\n",
       "<style scoped>\n",
       "    .dataframe tbody tr th:only-of-type {\n",
       "        vertical-align: middle;\n",
       "    }\n",
       "\n",
       "    .dataframe tbody tr th {\n",
       "        vertical-align: top;\n",
       "    }\n",
       "\n",
       "    .dataframe thead th {\n",
       "        text-align: right;\n",
       "    }\n",
       "</style>\n",
       "<table border=\"1\" class=\"dataframe\">\n",
       "  <thead>\n",
       "    <tr style=\"text-align: right;\">\n",
       "      <th></th>\n",
       "      <th>order_month_1</th>\n",
       "      <th>order_month_2</th>\n",
       "      <th>order_month_3</th>\n",
       "      <th>order_month_4</th>\n",
       "      <th>order_month_5</th>\n",
       "      <th>order_month_6</th>\n",
       "      <th>order_month_7</th>\n",
       "      <th>order_month_8</th>\n",
       "      <th>order_month_9</th>\n",
       "      <th>order_month_10</th>\n",
       "      <th>order_month_11</th>\n",
       "      <th>order_month_12</th>\n",
       "    </tr>\n",
       "  </thead>\n",
       "  <tbody>\n",
       "    <tr>\n",
       "      <th>532</th>\n",
       "      <td>0</td>\n",
       "      <td>0</td>\n",
       "      <td>1</td>\n",
       "      <td>0</td>\n",
       "      <td>0</td>\n",
       "      <td>0</td>\n",
       "      <td>0</td>\n",
       "      <td>0</td>\n",
       "      <td>0</td>\n",
       "      <td>0</td>\n",
       "      <td>0</td>\n",
       "      <td>0</td>\n",
       "    </tr>\n",
       "    <tr>\n",
       "      <th>2013</th>\n",
       "      <td>0</td>\n",
       "      <td>1</td>\n",
       "      <td>0</td>\n",
       "      <td>0</td>\n",
       "      <td>0</td>\n",
       "      <td>0</td>\n",
       "      <td>0</td>\n",
       "      <td>0</td>\n",
       "      <td>0</td>\n",
       "      <td>0</td>\n",
       "      <td>0</td>\n",
       "      <td>0</td>\n",
       "    </tr>\n",
       "    <tr>\n",
       "      <th>2718</th>\n",
       "      <td>0</td>\n",
       "      <td>0</td>\n",
       "      <td>0</td>\n",
       "      <td>0</td>\n",
       "      <td>0</td>\n",
       "      <td>1</td>\n",
       "      <td>0</td>\n",
       "      <td>0</td>\n",
       "      <td>0</td>\n",
       "      <td>0</td>\n",
       "      <td>0</td>\n",
       "      <td>0</td>\n",
       "    </tr>\n",
       "    <tr>\n",
       "      <th>3540</th>\n",
       "      <td>0</td>\n",
       "      <td>0</td>\n",
       "      <td>0</td>\n",
       "      <td>0</td>\n",
       "      <td>1</td>\n",
       "      <td>0</td>\n",
       "      <td>0</td>\n",
       "      <td>0</td>\n",
       "      <td>0</td>\n",
       "      <td>0</td>\n",
       "      <td>0</td>\n",
       "      <td>0</td>\n",
       "    </tr>\n",
       "    <tr>\n",
       "      <th>1231</th>\n",
       "      <td>0</td>\n",
       "      <td>0</td>\n",
       "      <td>0</td>\n",
       "      <td>1</td>\n",
       "      <td>0</td>\n",
       "      <td>0</td>\n",
       "      <td>0</td>\n",
       "      <td>0</td>\n",
       "      <td>0</td>\n",
       "      <td>0</td>\n",
       "      <td>0</td>\n",
       "      <td>0</td>\n",
       "    </tr>\n",
       "    <tr>\n",
       "      <th>...</th>\n",
       "      <td>...</td>\n",
       "      <td>...</td>\n",
       "      <td>...</td>\n",
       "      <td>...</td>\n",
       "      <td>...</td>\n",
       "      <td>...</td>\n",
       "      <td>...</td>\n",
       "      <td>...</td>\n",
       "      <td>...</td>\n",
       "      <td>...</td>\n",
       "      <td>...</td>\n",
       "      <td>...</td>\n",
       "    </tr>\n",
       "    <tr>\n",
       "      <th>1130</th>\n",
       "      <td>0</td>\n",
       "      <td>0</td>\n",
       "      <td>0</td>\n",
       "      <td>0</td>\n",
       "      <td>0</td>\n",
       "      <td>0</td>\n",
       "      <td>0</td>\n",
       "      <td>0</td>\n",
       "      <td>0</td>\n",
       "      <td>0</td>\n",
       "      <td>1</td>\n",
       "      <td>0</td>\n",
       "    </tr>\n",
       "    <tr>\n",
       "      <th>1294</th>\n",
       "      <td>0</td>\n",
       "      <td>0</td>\n",
       "      <td>0</td>\n",
       "      <td>0</td>\n",
       "      <td>0</td>\n",
       "      <td>1</td>\n",
       "      <td>0</td>\n",
       "      <td>0</td>\n",
       "      <td>0</td>\n",
       "      <td>0</td>\n",
       "      <td>0</td>\n",
       "      <td>0</td>\n",
       "    </tr>\n",
       "    <tr>\n",
       "      <th>860</th>\n",
       "      <td>0</td>\n",
       "      <td>0</td>\n",
       "      <td>1</td>\n",
       "      <td>0</td>\n",
       "      <td>0</td>\n",
       "      <td>0</td>\n",
       "      <td>0</td>\n",
       "      <td>0</td>\n",
       "      <td>0</td>\n",
       "      <td>0</td>\n",
       "      <td>0</td>\n",
       "      <td>0</td>\n",
       "    </tr>\n",
       "    <tr>\n",
       "      <th>3507</th>\n",
       "      <td>0</td>\n",
       "      <td>0</td>\n",
       "      <td>0</td>\n",
       "      <td>0</td>\n",
       "      <td>1</td>\n",
       "      <td>0</td>\n",
       "      <td>0</td>\n",
       "      <td>0</td>\n",
       "      <td>0</td>\n",
       "      <td>0</td>\n",
       "      <td>0</td>\n",
       "      <td>0</td>\n",
       "    </tr>\n",
       "    <tr>\n",
       "      <th>3174</th>\n",
       "      <td>1</td>\n",
       "      <td>0</td>\n",
       "      <td>0</td>\n",
       "      <td>0</td>\n",
       "      <td>0</td>\n",
       "      <td>0</td>\n",
       "      <td>0</td>\n",
       "      <td>0</td>\n",
       "      <td>0</td>\n",
       "      <td>0</td>\n",
       "      <td>0</td>\n",
       "      <td>0</td>\n",
       "    </tr>\n",
       "  </tbody>\n",
       "</table>\n",
       "<p>2834 rows × 12 columns</p>\n",
       "</div>"
      ],
      "text/plain": [
       "      order_month_1  order_month_2  order_month_3  order_month_4  \\\n",
       "532               0              0              1              0   \n",
       "2013              0              1              0              0   \n",
       "2718              0              0              0              0   \n",
       "3540              0              0              0              0   \n",
       "1231              0              0              0              1   \n",
       "...             ...            ...            ...            ...   \n",
       "1130              0              0              0              0   \n",
       "1294              0              0              0              0   \n",
       "860               0              0              1              0   \n",
       "3507              0              0              0              0   \n",
       "3174              1              0              0              0   \n",
       "\n",
       "      order_month_5  order_month_6  order_month_7  order_month_8  \\\n",
       "532               0              0              0              0   \n",
       "2013              0              0              0              0   \n",
       "2718              0              1              0              0   \n",
       "3540              1              0              0              0   \n",
       "1231              0              0              0              0   \n",
       "...             ...            ...            ...            ...   \n",
       "1130              0              0              0              0   \n",
       "1294              0              1              0              0   \n",
       "860               0              0              0              0   \n",
       "3507              1              0              0              0   \n",
       "3174              0              0              0              0   \n",
       "\n",
       "      order_month_9  order_month_10  order_month_11  order_month_12  \n",
       "532               0               0               0               0  \n",
       "2013              0               0               0               0  \n",
       "2718              0               0               0               0  \n",
       "3540              0               0               0               0  \n",
       "1231              0               0               0               0  \n",
       "...             ...             ...             ...             ...  \n",
       "1130              0               0               1               0  \n",
       "1294              0               0               0               0  \n",
       "860               0               0               0               0  \n",
       "3507              0               0               0               0  \n",
       "3174              0               0               0               0  \n",
       "\n",
       "[2834 rows x 12 columns]"
      ]
     },
     "execution_count": 82,
     "metadata": {},
     "output_type": "execute_result"
    }
   ],
   "source": [
    "pd.get_dummies(X_train['order_month'], prefix='order_month')"
   ]
  },
  {
   "cell_type": "code",
   "execution_count": 98,
   "id": "db90813a-d470-4e27-ae55-cd9d586af160",
   "metadata": {},
   "outputs": [],
   "source": [
    "from sklearn.linear_model import LinearRegression\n",
    "from sklearn import metrics\n",
    "from sklearn.preprocessing import StandardScaler\n",
    "from sklearn.model_selection import cross_val_score\n",
    "from sklearn.model_selection import train_test_split\n",
    "\n",
    "X = df.loc[:, ~df.columns.isin(['total_sales'])]\n",
    "y = df.loc[:, df.columns.isin(['total_sales'])]\n",
    "\n",
    "\n",
    "X_train, X_test, y_train, y_test = train_test_split(\n",
    "    X, y, test_size=0.2, random_state=42)\n",
    "\n",
    "std_col = [\"avg_order_val\", \"trx_count\", \"distinct_consumer\", \n",
    "           \"NSW\", \"QLD\", \"VIC\", \"WA\", \"SA\", \"ACT\", \"num_active_days\"]\n",
    "X_train[std_col] = X_train[std_col].astype(float).apply(zscore)\n",
    "X_test[std_col] = X_test[std_col].astype(float).apply(zscore)\n",
    "\n",
    "x_train_enc = pd.get_dummies(X_train['order_month'], prefix='order_month')\n",
    "x_test_enc = pd.get_dummies(X_test['order_month'], prefix='order_month')\n",
    "X_train = pd.concat([X_train.loc[:, ~X_train.columns.isin(['order_month'])], \n",
    "                     x_train_enc], axis=1)\n",
    "X_test = pd.concat([X_test.loc[:, ~X_test.columns.isin(['order_month'])], \n",
    "                     x_test_enc], axis=1)\n",
    "\n",
    "# scaler_y_train = StandardScaler().fit(y_train[['annual_trx_val']])\n",
    "# y_train = np.ravel(scaler_y_train.transform(y_train[['annual_trx_val']]))\n",
    "\n",
    "# scaler_y_test = StandardScaler().fit(y_test[['annual_trx_val']])\n",
    "# y_test = np.ravel(scaler_y_test.transform(y_test[['annual_trx_val']]))\n",
    "\n",
    "\n",
    "x_exclude = ['merchant_abn', 'order_year_month']\n",
    "lr = LinearRegression().fit(X_train.loc[:, ~X_train.columns.isin(x_exclude)], y_train)"
   ]
  },
  {
   "cell_type": "code",
   "execution_count": 99,
   "id": "12db71f3-59e9-4fa7-98a9-da9995358eba",
   "metadata": {},
   "outputs": [],
   "source": [
    "y_pred = lr.predict(X_test.loc[:, ~X_test.columns.isin(x_exclude)])"
   ]
  },
  {
   "cell_type": "code",
   "execution_count": 100,
   "id": "193671be-e176-4785-ae20-d59c97756a58",
   "metadata": {
    "tags": []
   },
   "outputs": [
    {
     "name": "stdout",
     "output_type": "stream",
     "text": [
      "Root Mean Squared Error: 20314.430374634263\n",
      "Root Mean Absolute Percentage Error: 3.267256492685749\n",
      "R^2 Score: 0.8399362546994698\n"
     ]
    }
   ],
   "source": [
    "print('Root Mean Squared Error:', \n",
    "      np.sqrt(metrics.mean_squared_error(y_test, y_pred)))\n",
    "print('Root Mean Absolute Percentage Error:', \n",
    "      metrics.mean_absolute_percentage_error(y_test, y_pred))\n",
    "print('R^2 Score:', metrics.r2_score(y_test, y_pred))"
   ]
  },
  {
   "cell_type": "code",
   "execution_count": 101,
   "id": "bb31b3ee-fcf2-4127-b50c-8bcf1b396ce6",
   "metadata": {},
   "outputs": [
    {
     "data": {
      "image/png": "[encoded data removed]",
      "text/plain": [
       "<Figure size 1440x504 with 1 Axes>"
      ]
     },
     "metadata": {
      "needs_background": "light"
     },
     "output_type": "display_data"
    }
   ],
   "source": [
    "df1 = X_test[['merchant_abn', 'order_year_month']]\n",
    "df1['total_sales'] = y_pred\n",
    "df1['pred/act'] = 'Prediction'\n",
    "\n",
    "df2 = X_test[['merchant_abn', 'order_year_month']]\n",
    "df2['total_sales'] = y_test\n",
    "df2['pred/act'] = 'Actual'\n",
    "\n",
    "df_visualise = pd.concat([df1, df2],axis=0)\n",
    "\n",
    "df_vis = df_visualise[df_visualise['merchant_abn'] == 98957925622]\n",
    "plt.figure(figsize=(20, 7))\n",
    "sns.barplot(\n",
    "    x=\"order_year_month\", y=\"total_sales\", hue=\"pred/act\", data=df_vis, ci=95, \n",
    "    palette=\"Paired\"\n",
    ")\n",
    "plt.show()"
   ]
  },
  {
   "cell_type": "code",
   "execution_count": 102,
   "id": "5d41626a-7350-4296-b108-268e3c6a1d8b",
   "metadata": {},
   "outputs": [
    {
     "data": {
      "text/html": [
       "<div>\n",
       "<style scoped>\n",
       "    .dataframe tbody tr th:only-of-type {\n",
       "        vertical-align: middle;\n",
       "    }\n",
       "\n",
       "    .dataframe tbody tr th {\n",
       "        vertical-align: top;\n",
       "    }\n",
       "\n",
       "    .dataframe thead th {\n",
       "        text-align: right;\n",
       "    }\n",
       "</style>\n",
       "<table border=\"1\" class=\"dataframe\">\n",
       "  <thead>\n",
       "    <tr style=\"text-align: right;\">\n",
       "      <th></th>\n",
       "      <th>merchant_abn</th>\n",
       "      <th>order_year_month</th>\n",
       "      <th>total_sales</th>\n",
       "      <th>pred/act</th>\n",
       "    </tr>\n",
       "  </thead>\n",
       "  <tbody>\n",
       "    <tr>\n",
       "      <th>2210</th>\n",
       "      <td>98957925622</td>\n",
       "      <td>2021-06</td>\n",
       "      <td>4712.220811</td>\n",
       "      <td>Prediction</td>\n",
       "    </tr>\n",
       "    <tr>\n",
       "      <th>1583</th>\n",
       "      <td>98957925622</td>\n",
       "      <td>2022-08</td>\n",
       "      <td>5261.552934</td>\n",
       "      <td>Prediction</td>\n",
       "    </tr>\n",
       "    <tr>\n",
       "      <th>712</th>\n",
       "      <td>98957925622</td>\n",
       "      <td>2021-04</td>\n",
       "      <td>2230.342245</td>\n",
       "      <td>Prediction</td>\n",
       "    </tr>\n",
       "    <tr>\n",
       "      <th>3041</th>\n",
       "      <td>98957925622</td>\n",
       "      <td>2022-04</td>\n",
       "      <td>4765.708153</td>\n",
       "      <td>Prediction</td>\n",
       "    </tr>\n",
       "    <tr>\n",
       "      <th>2210</th>\n",
       "      <td>98957925622</td>\n",
       "      <td>2021-06</td>\n",
       "      <td>3411.520104</td>\n",
       "      <td>Actual</td>\n",
       "    </tr>\n",
       "    <tr>\n",
       "      <th>1583</th>\n",
       "      <td>98957925622</td>\n",
       "      <td>2022-08</td>\n",
       "      <td>4039.179538</td>\n",
       "      <td>Actual</td>\n",
       "    </tr>\n",
       "    <tr>\n",
       "      <th>712</th>\n",
       "      <td>98957925622</td>\n",
       "      <td>2021-04</td>\n",
       "      <td>2016.395358</td>\n",
       "      <td>Actual</td>\n",
       "    </tr>\n",
       "    <tr>\n",
       "      <th>3041</th>\n",
       "      <td>98957925622</td>\n",
       "      <td>2022-04</td>\n",
       "      <td>5168.070504</td>\n",
       "      <td>Actual</td>\n",
       "    </tr>\n",
       "  </tbody>\n",
       "</table>\n",
       "</div>"
      ],
      "text/plain": [
       "      merchant_abn order_year_month  total_sales    pred/act\n",
       "2210   98957925622          2021-06  4712.220811  Prediction\n",
       "1583   98957925622          2022-08  5261.552934  Prediction\n",
       "712    98957925622          2021-04  2230.342245  Prediction\n",
       "3041   98957925622          2022-04  4765.708153  Prediction\n",
       "2210   98957925622          2021-06  3411.520104      Actual\n",
       "1583   98957925622          2022-08  4039.179538      Actual\n",
       "712    98957925622          2021-04  2016.395358      Actual\n",
       "3041   98957925622          2022-04  5168.070504      Actual"
      ]
     },
     "execution_count": 102,
     "metadata": {},
     "output_type": "execute_result"
    }
   ],
   "source": [
    "df_visualise[df_visualise['merchant_abn'] == 98957925622]"
   ]
  },
  {
   "cell_type": "markdown",
   "id": "325f4b0c-52f8-45eb-b721-0380d189fb92",
   "metadata": {},
   "source": [
    "# To-do: Split Train Test by the merchant_abn instead of random"
   ]
  },
  {
   "cell_type": "code",
   "execution_count": null,
   "id": "cc08610c-9bd1-4c7e-bdff-c7a9c4786cfc",
   "metadata": {},
   "outputs": [],
   "source": []
  },
  {
   "cell_type": "code",
   "execution_count": null,
   "id": "fe005b9d-d0df-4a00-9e60-d6faa232e666",
   "metadata": {},
   "outputs": [],
   "source": []
  },
  {
   "cell_type": "code",
   "execution_count": null,
   "id": "c59d1cf0-c788-4975-820d-80bfb5d3909f",
   "metadata": {},
   "outputs": [],
   "source": []
  },
  {
   "cell_type": "markdown",
   "id": "34088ee6-b0c0-46e7-b3d9-abae11c9d82a",
   "metadata": {},
   "source": [
    "---\n",
    "# Backlog"
   ]
  },
  {
   "cell_type": "code",
   "execution_count": 28,
   "id": "f612a2a8-c272-4cb2-abff-3908c0eb60e3",
   "metadata": {},
   "outputs": [],
   "source": [
    "# conda install py-xgboost-gpu\n",
    "# pip install xgboost"
   ]
  },
  {
   "cell_type": "code",
   "execution_count": 29,
   "id": "8dab305f-2bfc-471a-a47e-f03381ec16db",
   "metadata": {},
   "outputs": [],
   "source": [
    "import xgboost as xgb\n",
    "from sklearn.model_selection import GroupShuffleSplit\n",
    "\n",
    "gss = GroupShuffleSplit(test_size=.33, n_splits=1, random_state = 7).split(df, groups=df['merchant_abn'])\n",
    "\n",
    "X_train_inds, X_test_inds = next(gss)\n",
    "\n",
    "train_data= df.iloc[X_train_inds]\n",
    "X_train = train_data.loc[:, ~train_data.columns.isin(['merchant_abn','annual_trx_val'])]\n",
    "y_train = train_data.loc[:, train_data.columns.isin(['annual_trx_val'])]\n",
    "\n",
    "groups = train_data.groupby('merchant_abn').size().to_frame('size')['size'].to_numpy()\n",
    "\n",
    "test_data = df.iloc[X_test_inds]\n",
    "\n",
    "#We need to keep the id for later predictions\n",
    "X_test = test_data.loc[:, ~test_data.columns.isin(['annual_trx_val'])]\n",
    "y_test = test_data.loc[:, test_data.columns.isin(['annual_trx_val'])]"
   ]
  },
  {
   "cell_type": "code",
   "execution_count": 41,
   "id": "38c4ed4b-5f58-4745-84e4-48ced746dc8e",
   "metadata": {
    "collapsed": true,
    "jupyter": {
     "outputs_hidden": true
    },
    "tags": []
   },
   "outputs": [
    {
     "data": {
      "text/html": [
       "<div>\n",
       "<style scoped>\n",
       "    .dataframe tbody tr th:only-of-type {\n",
       "        vertical-align: middle;\n",
       "    }\n",
       "\n",
       "    .dataframe tbody tr th {\n",
       "        vertical-align: top;\n",
       "    }\n",
       "\n",
       "    .dataframe thead th {\n",
       "        text-align: right;\n",
       "    }\n",
       "</style>\n",
       "<table border=\"1\" class=\"dataframe\">\n",
       "  <thead>\n",
       "    <tr style=\"text-align: right;\">\n",
       "      <th></th>\n",
       "      <th>annual_trx_val</th>\n",
       "    </tr>\n",
       "  </thead>\n",
       "  <tbody>\n",
       "    <tr>\n",
       "      <th>0</th>\n",
       "      <td>-0.469737</td>\n",
       "    </tr>\n",
       "    <tr>\n",
       "      <th>1</th>\n",
       "      <td>-0.315885</td>\n",
       "    </tr>\n",
       "    <tr>\n",
       "      <th>2</th>\n",
       "      <td>-0.216104</td>\n",
       "    </tr>\n",
       "    <tr>\n",
       "      <th>3</th>\n",
       "      <td>-0.456162</td>\n",
       "    </tr>\n",
       "    <tr>\n",
       "      <th>4</th>\n",
       "      <td>-0.472509</td>\n",
       "    </tr>\n",
       "    <tr>\n",
       "      <th>...</th>\n",
       "      <td>...</td>\n",
       "    </tr>\n",
       "    <tr>\n",
       "      <th>173</th>\n",
       "      <td>-0.317912</td>\n",
       "    </tr>\n",
       "    <tr>\n",
       "      <th>174</th>\n",
       "      <td>-0.446038</td>\n",
       "    </tr>\n",
       "    <tr>\n",
       "      <th>175</th>\n",
       "      <td>-0.263348</td>\n",
       "    </tr>\n",
       "    <tr>\n",
       "      <th>176</th>\n",
       "      <td>0.242387</td>\n",
       "    </tr>\n",
       "    <tr>\n",
       "      <th>177</th>\n",
       "      <td>-0.485224</td>\n",
       "    </tr>\n",
       "  </tbody>\n",
       "</table>\n",
       "<p>120 rows × 1 columns</p>\n",
       "</div>"
      ],
      "text/plain": [
       "     annual_trx_val\n",
       "0         -0.469737\n",
       "1         -0.315885\n",
       "2         -0.216104\n",
       "3         -0.456162\n",
       "4         -0.472509\n",
       "..              ...\n",
       "173       -0.317912\n",
       "174       -0.446038\n",
       "175       -0.263348\n",
       "176        0.242387\n",
       "177       -0.485224\n",
       "\n",
       "[120 rows x 1 columns]"
      ]
     },
     "execution_count": 41,
     "metadata": {},
     "output_type": "execute_result"
    }
   ],
   "source": [
    "y_train"
   ]
  },
  {
   "cell_type": "code",
   "execution_count": 42,
   "id": "8c0d2746-7598-4f71-8954-bab56c3d6fc6",
   "metadata": {},
   "outputs": [
    {
     "data": {
      "text/plain": [
       "XGBRanker(base_score=0.5, booster='gbtree', callbacks=None, colsample_bylevel=1,\n",
       "          colsample_bynode=1, colsample_bytree=0.9, early_stopping_rounds=None,\n",
       "          enable_categorical=False, eta=0.05, eval_metric=None, gamma=0,\n",
       "          gpu_id=-1, grow_policy='depthwise', importance_type=None,\n",
       "          interaction_constraints='', learning_rate=0.1, max_bin=256,\n",
       "          max_cat_to_onehot=4, max_delta_step=0, max_depth=6, max_leaves=0,\n",
       "          min_child_weight=1, missing=nan, monotone_constraints='()',\n",
       "          n_estimators=110, n_jobs=0, num_parallel_tree=1, predictor='auto',\n",
       "          random_state=42, reg_alpha=0, ...)"
      ]
     },
     "execution_count": 42,
     "metadata": {},
     "output_type": "execute_result"
    }
   ],
   "source": [
    "model = xgb.XGBRanker(\n",
    "    booster='gbtree',\n",
    "    objective='rank:pairwise',\n",
    "    random_state=42, \n",
    "    learning_rate=0.1,\n",
    "    colsample_bytree=0.9, \n",
    "    eta=0.05, \n",
    "    max_depth=6, \n",
    "    n_estimators=110, \n",
    "    subsample=0.75 \n",
    "    )\n",
    "\n",
    "model.fit(X_train, y_train, group=groups)\n"
   ]
  },
  {
   "cell_type": "code",
   "execution_count": 43,
   "id": "4c208f58-4a6d-4bea-8f0e-b2c73de55db5",
   "metadata": {},
   "outputs": [],
   "source": [
    "def predict(model, df):\n",
    "    return model.predict(df.loc[:, ~df.columns.isin(['merchant_abn'])])\n",
    "  \n",
    "predictions = (X_test.groupby('merchant_abn').apply(lambda x: predict(model, x)))"
   ]
  },
  {
   "cell_type": "code",
   "execution_count": 44,
   "id": "7babf085-e28a-496c-a0bf-08eed9fdbdf3",
   "metadata": {},
   "outputs": [
    {
     "data": {
      "text/plain": [
       "merchant_abn\n",
       "13297955415    [0.5]\n",
       "15965199256    [0.5]\n",
       "18126169589    [0.5]\n",
       "20642885273    [0.5]\n",
       "22474703869    [0.5]\n",
       "22615718811    [0.5]\n",
       "23692710924    [0.5]\n",
       "23754348523    [0.5]\n",
       "26063968667    [0.5]\n",
       "27581734019    [0.5]\n",
       "28049322288    [0.5]\n",
       "32709729094    [0.5]\n",
       "32842076466    [0.5]\n",
       "33607911449    [0.5]\n",
       "33885350311    [0.5]\n",
       "36800720158    [0.5]\n",
       "41108543298    [0.5]\n",
       "41485392864    [0.5]\n",
       "41528904756    [0.5]\n",
       "44780100984    [0.5]\n",
       "46630037650    [0.5]\n",
       "49212265466    [0.5]\n",
       "50859331573    [0.5]\n",
       "50951615219    [0.5]\n",
       "51659779274    [0.5]\n",
       "55597122840    [0.5]\n",
       "56014638362    [0.5]\n",
       "56659127324    [0.5]\n",
       "57508813253    [0.5]\n",
       "59190126409    [0.5]\n",
       "61562383191    [0.5]\n",
       "62499158977    [0.5]\n",
       "63358217962    [0.5]\n",
       "63549963476    [0.5]\n",
       "66650274915    [0.5]\n",
       "68581310909    [0.5]\n",
       "69381712591    [0.5]\n",
       "70067721091    [0.5]\n",
       "73416415122    [0.5]\n",
       "73619221575    [0.5]\n",
       "74024744735    [0.5]\n",
       "74505118182    [0.5]\n",
       "75726900852    [0.5]\n",
       "75900778714    [0.5]\n",
       "77149983383    [0.5]\n",
       "78187460332    [0.5]\n",
       "78213188724    [0.5]\n",
       "78916025936    [0.5]\n",
       "79479365013    [0.5]\n",
       "83323591742    [0.5]\n",
       "83901679234    [0.5]\n",
       "86130660254    [0.5]\n",
       "86670100004    [0.5]\n",
       "87622758183    [0.5]\n",
       "88215945141    [0.5]\n",
       "90348927972    [0.5]\n",
       "92284330384    [0.5]\n",
       "92374002696    [0.5]\n",
       "98957925622    [0.5]\n",
       "99445005261    [0.5]\n",
       "dtype: object"
      ]
     },
     "execution_count": 44,
     "metadata": {},
     "output_type": "execute_result"
    }
   ],
   "source": [
    "predictions"
   ]
  },
  {
   "cell_type": "code",
   "execution_count": 32,
   "id": "a7ca894c-dd6d-45e6-93ab-a218e84f14dd",
   "metadata": {},
   "outputs": [],
   "source": [
    "df_merchant_sa2 = (df_cat['merchant_abn', 'sa2_maincode_2016', 'order_id']\n",
    "                   .groupby(['merchant_abn', 'sa2_maincode_2016'])\n",
    "                   .agg(count('order_id'))\n",
    "                   .sort('merchant_abn'))\n",
    "\n",
    "df_merchant_sa2 = df_merchant_sa2.withColumn('max_count', \n",
    "                                             F.max('count(order_id)').over(w))\\\n",
    "                    .where(F.col('count(order_id)') == F.col('max_count'))\\\n",
    "                    .drop('max_count')"
   ]
  },
  {
   "cell_type": "code",
   "execution_count": 35,
   "id": "ca5b9840-5605-48bb-93f0-eb822ad647d0",
   "metadata": {},
   "outputs": [
    {
     "name": "stderr",
     "output_type": "stream",
     "text": [
      "                                                                                \r"
     ]
    },
    {
     "data": {
      "text/html": [
       "<table border='1'>\n",
       "<tr><th>merchant_abn</th><th>sa2_maincode_2016</th><th>count(order_id)</th></tr>\n",
       "<tr><td>10385163239</td><td>117031334.0</td><td>2</td></tr>\n",
       "<tr><td>10385163239</td><td>205031093.0</td><td>2</td></tr>\n",
       "<tr><td>10385163239</td><td>101041022.0</td><td>1</td></tr>\n",
       "<tr><td>10385163239</td><td>102011030.0</td><td>1</td></tr>\n",
       "<tr><td>10385163239</td><td>105011096.0</td><td>1</td></tr>\n",
       "<tr><td>10385163239</td><td>107021135.0</td><td>1</td></tr>\n",
       "<tr><td>10385163239</td><td>105011094.0</td><td>1</td></tr>\n",
       "<tr><td>10385163239</td><td>203011035.0</td><td>1</td></tr>\n",
       "<tr><td>10385163239</td><td>106031123.0</td><td>1</td></tr>\n",
       "<tr><td>10385163239</td><td>206041121.0</td><td>1</td></tr>\n",
       "<tr><td>10385163239</td><td>111021221.0</td><td>1</td></tr>\n",
       "<tr><td>10385163239</td><td>112011238.0</td><td>1</td></tr>\n",
       "<tr><td>10385163239</td><td>119041381.0</td><td>1</td></tr>\n",
       "<tr><td>10385163239</td><td>204011055.0</td><td>1</td></tr>\n",
       "<tr><td>10385163239</td><td>205031089.0</td><td>1</td></tr>\n",
       "<tr><td>10385163239</td><td>206041118.0</td><td>1</td></tr>\n",
       "<tr><td>10385163239</td><td>209041225.0</td><td>1</td></tr>\n",
       "<tr><td>10385163239</td><td>210021232.0</td><td>1</td></tr>\n",
       "<tr><td>10385163239</td><td>210021235.0</td><td>1</td></tr>\n",
       "<tr><td>10385163239</td><td>210031239.0</td><td>1</td></tr>\n",
       "</table>\n",
       "only showing top 20 rows\n"
      ],
      "text/plain": [
       "+------------+-----------------+---------------+\n",
       "|merchant_abn|sa2_maincode_2016|count(order_id)|\n",
       "+------------+-----------------+---------------+\n",
       "| 10385163239|      117031334.0|              2|\n",
       "| 10385163239|      205031093.0|              2|\n",
       "| 10385163239|      101041022.0|              1|\n",
       "| 10385163239|      102011030.0|              1|\n",
       "| 10385163239|      105011096.0|              1|\n",
       "| 10385163239|      107021135.0|              1|\n",
       "| 10385163239|      105011094.0|              1|\n",
       "| 10385163239|      203011035.0|              1|\n",
       "| 10385163239|      106031123.0|              1|\n",
       "| 10385163239|      206041121.0|              1|\n",
       "| 10385163239|      111021221.0|              1|\n",
       "| 10385163239|      112011238.0|              1|\n",
       "| 10385163239|      119041381.0|              1|\n",
       "| 10385163239|      204011055.0|              1|\n",
       "| 10385163239|      205031089.0|              1|\n",
       "| 10385163239|      206041118.0|              1|\n",
       "| 10385163239|      209041225.0|              1|\n",
       "| 10385163239|      210021232.0|              1|\n",
       "| 10385163239|      210021235.0|              1|\n",
       "| 10385163239|      210031239.0|              1|\n",
       "+------------+-----------------+---------------+\n",
       "only showing top 20 rows"
      ]
     },
     "execution_count": 35,
     "metadata": {},
     "output_type": "execute_result"
    }
   ],
   "source": [
    "df_merchant_sa2.filter(F.col('merchant_abn') == 10385163239).sort('count(order_id)', ascending=False)"
   ]
  },
  {
   "cell_type": "code",
   "execution_count": null,
   "id": "1e8ed456-9521-40a4-a17b-f4b91df20ac2",
   "metadata": {},
   "outputs": [],
   "source": []
  }
 ],
 "metadata": {
  "kernelspec": {
   "display_name": "Python 3 (ipykernel)",
   "language": "python",
   "name": "python3"
  },
  "language_info": {
   "codemirror_mode": {
    "name": "ipython",
    "version": 3
   },
   "file_extension": ".py",
   "mimetype": "text/x-python",
   "name": "python",
   "nbconvert_exporter": "python",
   "pygments_lexer": "ipython3",
   "version": "3.9.7"
  }
 },
 "nbformat": 4,
 "nbformat_minor": 5
}
