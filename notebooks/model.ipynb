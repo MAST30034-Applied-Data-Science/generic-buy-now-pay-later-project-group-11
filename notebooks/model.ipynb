{
 "cells": [
  {
   "cell_type": "code",
   "execution_count": 1,
   "id": "31362270-a2ef-4fc8-a609-abd4fc09dfd1",
   "metadata": {},
   "outputs": [],
   "source": [
    "import pandas as pd\n",
    "import numpy as np\n",
    "import seaborn as sns\n",
    "import matplotlib.pyplot as plt\n",
    "%matplotlib inline\n",
    "\n",
    "from sklearn.linear_model import LinearRegression\n",
    "from sklearn.ensemble import RandomForestRegressor\n",
    "from sklearn import metrics\n",
    "from sklearn.preprocessing import StandardScaler\n",
    "from sklearn.model_selection import cross_val_score\n",
    "from sklearn.model_selection import train_test_split\n",
    "from scipy.stats import zscore\n",
    "\n",
    "import warnings\n",
    "warnings.filterwarnings(\"ignore\")"
   ]
  },
  {
   "cell_type": "code",
   "execution_count": 2,
   "id": "1c118eb1-89ef-485c-8c5e-b2c6a5496135",
   "metadata": {},
   "outputs": [],
   "source": [
    "# Read all curated csv files from feature engineering\n",
    "tech_df = pd.read_csv('../data/curated/tech_df.csv', index_col=[0])\n",
    "furniture_df = pd.read_csv('../data/curated/furniture_df.csv', index_col=[0])\n",
    "hobby_df = pd.read_csv('../data/curated/hobby_df.csv', index_col=[0])\n",
    "\n",
    "# Read test data\n",
    "tech_df_test = pd.read_csv('../data/curated/tech_df_test.csv', index_col=[0])\n",
    "furniture_df_test = pd.read_csv('../data/curated/furniture_df_test.csv', index_col=[0])\n",
    "hobby_df_test = pd.read_csv('../data/curated/hobby_df_test.csv', index_col=[0])"
   ]
  },
  {
   "cell_type": "code",
   "execution_count": 3,
   "id": "2015a5be-c686-48d6-a765-91bfe016dbf1",
   "metadata": {},
   "outputs": [],
   "source": [
    "def get_train_test_data(train_df, test_df):\n",
    "    '''\n",
    "    Set up train and test data to be used for modelling.\n",
    "    Standardized numeric data to avoid bias in the data set.\n",
    "    '''\n",
    "    \n",
    "    \n",
    "    X_train = train_df.loc[:, ~train_df.columns.isin(['merchant_abn', \n",
    "                                                      'merchant_sa2',\n",
    "                                                      'order_year_month', \n",
    "                                                      'total_revenue'])]\n",
    "    y_train = train_df.loc[:, train_df.columns.isin(['total_revenue'])]\n",
    "    X_test = test_df.loc[:, ~test_df.columns.isin(['merchant_abn', \n",
    "                                                   'merchant_sa2',\n",
    "                                                   'order_year_month',\n",
    "                                                   'total_revenue'])]\n",
    "    y_test = test_df.loc[:, test_df.columns.isin(['total_revenue'])]\n",
    "\n",
    "    std_col = ['order_month', 'trx_count', 'distinct_consumer', 'new_consumer',\n",
    "               'take_rate', 'growth_perc', 'median_age_of_earners_years', \n",
    "               'median_aud', 'gini_coefficient_coef', 'males_age_20_44', \n",
    "               'females_age_20_44', 'males_age_45_60', 'females_age_45_60']\n",
    "    X_train_std = X_train[std_col].astype(float).apply(zscore)\n",
    "    X_test_std = X_test[std_col].astype(float).apply(zscore)\n",
    "\n",
    "\n",
    "    scaler_y_train = StandardScaler().fit(y_train[['total_revenue']])\n",
    "    y_train = np.ravel(scaler_y_train.transform(y_train[['total_revenue']]))\n",
    "\n",
    "    scaler_y_test = StandardScaler().fit(y_test[['total_revenue']])\n",
    "    y_test = np.ravel(scaler_y_test.transform(y_test[['total_revenue']]))\n",
    "    \n",
    "    return X_train, X_test, y_train, y_test, scaler_y_train, scaler_y_test\n"
   ]
  },
  {
   "cell_type": "markdown",
   "id": "2d1a33e6-8b8f-452d-9128-8ad3208b0299",
   "metadata": {},
   "source": [
    "---\n",
    "### Ranking System Model for Technology Segment"
   ]
  },
  {
   "cell_type": "code",
   "execution_count": 4,
   "id": "bae9bd45-29c6-466c-9562-4b89646a2c18",
   "metadata": {},
   "outputs": [],
   "source": [
    "X_train, X_test, y_train, y_test, scaler_y_train, scaler_y_test = get_train_test_data(tech_df, tech_df_test)"
   ]
  },
  {
   "cell_type": "code",
   "execution_count": 5,
   "id": "7270375d-8b99-424b-83c1-877876315940",
   "metadata": {},
   "outputs": [
    {
     "data": {
      "text/html": [
       "<div>\n",
       "<style scoped>\n",
       "    .dataframe tbody tr th:only-of-type {\n",
       "        vertical-align: middle;\n",
       "    }\n",
       "\n",
       "    .dataframe tbody tr th {\n",
       "        vertical-align: top;\n",
       "    }\n",
       "\n",
       "    .dataframe thead th {\n",
       "        text-align: right;\n",
       "    }\n",
       "</style>\n",
       "<table border=\"1\" class=\"dataframe\">\n",
       "  <thead>\n",
       "    <tr style=\"text-align: right;\">\n",
       "      <th></th>\n",
       "      <th>order_month</th>\n",
       "      <th>trx_count</th>\n",
       "      <th>active_days</th>\n",
       "      <th>distinct_consumer</th>\n",
       "      <th>new_consumer</th>\n",
       "      <th>take_rate</th>\n",
       "      <th>growth_perc</th>\n",
       "      <th>median_age_of_earners_years</th>\n",
       "      <th>median_aud</th>\n",
       "      <th>gini_coefficient_coef</th>\n",
       "      <th>males_age_20_44</th>\n",
       "      <th>females_age_20_44</th>\n",
       "      <th>males_age_45_60</th>\n",
       "      <th>females_age_45_60</th>\n",
       "    </tr>\n",
       "  </thead>\n",
       "  <tbody>\n",
       "    <tr>\n",
       "      <th>0</th>\n",
       "      <td>9</td>\n",
       "      <td>1570</td>\n",
       "      <td>30</td>\n",
       "      <td>1464</td>\n",
       "      <td>0</td>\n",
       "      <td>4.80</td>\n",
       "      <td>5.05</td>\n",
       "      <td>47.0</td>\n",
       "      <td>47264.0</td>\n",
       "      <td>0.546</td>\n",
       "      <td>542</td>\n",
       "      <td>416</td>\n",
       "      <td>527</td>\n",
       "      <td>397</td>\n",
       "    </tr>\n",
       "    <tr>\n",
       "      <th>1</th>\n",
       "      <td>5</td>\n",
       "      <td>127</td>\n",
       "      <td>31</td>\n",
       "      <td>126</td>\n",
       "      <td>4</td>\n",
       "      <td>2.65</td>\n",
       "      <td>17.49</td>\n",
       "      <td>48.0</td>\n",
       "      <td>39169.0</td>\n",
       "      <td>0.527</td>\n",
       "      <td>1277</td>\n",
       "      <td>1237</td>\n",
       "      <td>1201</td>\n",
       "      <td>1096</td>\n",
       "    </tr>\n",
       "    <tr>\n",
       "      <th>2</th>\n",
       "      <td>9</td>\n",
       "      <td>71</td>\n",
       "      <td>28</td>\n",
       "      <td>65</td>\n",
       "      <td>0</td>\n",
       "      <td>1.38</td>\n",
       "      <td>-9.44</td>\n",
       "      <td>50.0</td>\n",
       "      <td>40600.0</td>\n",
       "      <td>0.484</td>\n",
       "      <td>667</td>\n",
       "      <td>720</td>\n",
       "      <td>668</td>\n",
       "      <td>686</td>\n",
       "    </tr>\n",
       "    <tr>\n",
       "      <th>3</th>\n",
       "      <td>11</td>\n",
       "      <td>385</td>\n",
       "      <td>30</td>\n",
       "      <td>368</td>\n",
       "      <td>0</td>\n",
       "      <td>4.64</td>\n",
       "      <td>35.85</td>\n",
       "      <td>47.0</td>\n",
       "      <td>43983.0</td>\n",
       "      <td>0.478</td>\n",
       "      <td>1069</td>\n",
       "      <td>915</td>\n",
       "      <td>855</td>\n",
       "      <td>840</td>\n",
       "    </tr>\n",
       "    <tr>\n",
       "      <th>4</th>\n",
       "      <td>6</td>\n",
       "      <td>15</td>\n",
       "      <td>12</td>\n",
       "      <td>15</td>\n",
       "      <td>0</td>\n",
       "      <td>1.24</td>\n",
       "      <td>-28.72</td>\n",
       "      <td>51.0</td>\n",
       "      <td>40616.0</td>\n",
       "      <td>0.488</td>\n",
       "      <td>894</td>\n",
       "      <td>865</td>\n",
       "      <td>1014</td>\n",
       "      <td>931</td>\n",
       "    </tr>\n",
       "  </tbody>\n",
       "</table>\n",
       "</div>"
      ],
      "text/plain": [
       "   order_month  trx_count  active_days  distinct_consumer  new_consumer  \\\n",
       "0            9       1570           30               1464             0   \n",
       "1            5        127           31                126             4   \n",
       "2            9         71           28                 65             0   \n",
       "3           11        385           30                368             0   \n",
       "4            6         15           12                 15             0   \n",
       "\n",
       "   take_rate  growth_perc  median_age_of_earners_years  median_aud  \\\n",
       "0       4.80         5.05                         47.0     47264.0   \n",
       "1       2.65        17.49                         48.0     39169.0   \n",
       "2       1.38        -9.44                         50.0     40600.0   \n",
       "3       4.64        35.85                         47.0     43983.0   \n",
       "4       1.24       -28.72                         51.0     40616.0   \n",
       "\n",
       "   gini_coefficient_coef  males_age_20_44  females_age_20_44  males_age_45_60  \\\n",
       "0                  0.546              542                416              527   \n",
       "1                  0.527             1277               1237             1201   \n",
       "2                  0.484              667                720              668   \n",
       "3                  0.478             1069                915              855   \n",
       "4                  0.488              894                865             1014   \n",
       "\n",
       "   females_age_45_60  \n",
       "0                397  \n",
       "1               1096  \n",
       "2                686  \n",
       "3                840  \n",
       "4                931  "
      ]
     },
     "execution_count": 5,
     "metadata": {},
     "output_type": "execute_result"
    }
   ],
   "source": [
    "X_train.head()"
   ]
  },
  {
   "cell_type": "code",
   "execution_count": 6,
   "id": "baf552ce-2128-40f5-b086-998ebb5d21bd",
   "metadata": {},
   "outputs": [],
   "source": [
    "lr = LinearRegression().fit(X_train, y_train)"
   ]
  },
  {
   "cell_type": "code",
   "execution_count": 7,
   "id": "ad759a55-f35b-4f29-8c2c-b3561c5f8abb",
   "metadata": {},
   "outputs": [],
   "source": [
    "y_pred = lr.predict(X_test)"
   ]
  },
  {
   "cell_type": "code",
   "execution_count": 8,
   "id": "dec7283a-b497-4c63-a7a8-be2a5b8d9077",
   "metadata": {},
   "outputs": [],
   "source": [
    "y_test_actual = np.ravel(scaler_y_test.inverse_transform([y_test]))\n",
    "y_pred_actual = np.ravel(scaler_y_test.inverse_transform([y_pred]))"
   ]
  },
  {
   "cell_type": "code",
   "execution_count": 9,
   "id": "8938865e-afce-4bcc-9172-82875861c6de",
   "metadata": {},
   "outputs": [
    {
     "name": "stdout",
     "output_type": "stream",
     "text": [
      "Root Mean Squared Error: 1406.3146781112305\n",
      "Root Mean Absolute Percentage Error: 7.840286431729432\n",
      "R^2 Score: 0.7171783004504224\n"
     ]
    }
   ],
   "source": [
    "print('Root Mean Squared Error:', \n",
    "      np.sqrt(metrics.mean_squared_error(y_test_actual, y_pred_actual)))\n",
    "print('Root Mean Absolute Percentage Error:', \n",
    "      metrics.mean_absolute_percentage_error(y_test_actual, y_pred_actual))\n",
    "print('R^2 Score:', metrics.r2_score(y_test_actual, y_pred_actual))"
   ]
  },
  {
   "cell_type": "code",
   "execution_count": 10,
   "id": "82ea49cb-1292-4fe3-8ea1-04d877220089",
   "metadata": {},
   "outputs": [
    {
     "data": {
      "image/png": "[encoded data removed]",
      "text/plain": [
       "<Figure size 1440x504 with 1 Axes>"
      ]
     },
     "metadata": {
      "needs_background": "light"
     },
     "output_type": "display_data"
    }
   ],
   "source": [
    "df1 = tech_df_test[['merchant_abn', 'order_year_month']]\n",
    "df1['total_revenue'] = y_pred_actual\n",
    "df1['pred/act'] = 'Prediction'\n",
    "\n",
    "df2 = tech_df_test[['merchant_abn', 'order_year_month']]\n",
    "df2['total_revenue'] = tech_df_test['total_revenue']\n",
    "df2['pred/act'] = 'Actual'\n",
    "\n",
    "df_visualise = pd.concat([df1, df2],axis=0)\n",
    "\n",
    "df_vis = df_visualise[df_visualise['merchant_abn'] == 41271931352]\n",
    "plt.figure(figsize=(20, 7))\n",
    "sns.barplot(\n",
    "    x=\"order_year_month\", y=\"total_revenue\", hue=\"pred/act\", data=df_vis, ci=95, \n",
    "    palette=\"Paired\"\n",
    ")\n",
    "plt.show()"
   ]
  },
  {
   "cell_type": "markdown",
   "id": "8db23c71-61ba-458c-b437-08ec068065b8",
   "metadata": {},
   "source": [
    "---\n",
    "### Random Forest Regression"
   ]
  },
  {
   "cell_type": "code",
   "execution_count": 11,
   "id": "e5592d97-2c91-4963-9ca6-b9623141f60b",
   "metadata": {},
   "outputs": [
    {
     "name": "stdout",
     "output_type": "stream",
     "text": [
      "max_features = sqrt: \t R2-score: 0.887649413168683 \tRMSE: 0.3333265840424804\n",
      "max_features = log2: \t R2-score: 0.887649413168683 \tRMSE: 0.3333265840424804\n",
      "max_features = 5: \t R2-score: 0.9096252120927554 \tRMSE: 0.29785408992898377\n",
      "max_features = 10: \t R2-score: 0.9337605407427036 \tRMSE: 0.25405865424044916\n",
      "max_features = None: \t R2-score: 0.9390315675054388 \tRMSE: 0.24266782247451918\n"
     ]
    }
   ],
   "source": [
    "# Tune max_feature\n",
    "for mf in (\"sqrt\", \"log2\", 5, 10, None):\n",
    "    rf = RandomForestRegressor(random_state = 42, max_features=mf)\n",
    "    rmse_cv = cross_val_score(rf, X_train, y_train, cv=5, \n",
    "                              scoring='neg_root_mean_squared_error')\n",
    "    r2_cv = cross_val_score(rf, X_train, y_train, cv=5, scoring='r2')\n",
    "    print(f\"max_features = {mf}: \\t\", 'R2-score:', np.mean(r2_cv), \n",
    "          '\\tRMSE:', abs(np.mean(rmse_cv)))"
   ]
  },
  {
   "cell_type": "code",
   "execution_count": 12,
   "id": "fad5f030-e6bd-4bd2-a236-1ffc13de4288",
   "metadata": {},
   "outputs": [
    {
     "data": {
      "image/png": "[encoded data removed]",
      "text/plain": [
       "<Figure size 576x432 with 2 Axes>"
      ]
     },
     "metadata": {
      "needs_background": "light"
     },
     "output_type": "display_data"
    }
   ],
   "source": [
    "# Tune max_feature evaluate between 10-14\n",
    "rmse = []\n",
    "r2 = []\n",
    "for mf in range(10, 15):\n",
    "    rf = RandomForestRegressor(random_state = 42, max_features=mf)\n",
    "    rmse_cv = cross_val_score(rf, X_train, y_train, cv=5, \n",
    "                             scoring='neg_root_mean_squared_error')\n",
    "    rmse.append(abs(np.mean(rmse_cv)))\n",
    "    \n",
    "    r2_cv = cross_val_score(rf, X_train, y_train, cv=5, scoring='r2')\n",
    "    r2.append(np.mean(r2_cv))\n",
    "\n",
    "# Visualise RMSE and R2 for different max_feature value\n",
    "mfs = range(10, 15)\n",
    "plt.figure(figsize=(8,6))\n",
    "plt.subplot(2, 1, 1)\n",
    "plt.plot(range(len(mfs)), r2, label='R2')\n",
    "plt.xticks(range(len(mfs)), mfs)\n",
    "plt.ylabel('R2 Score', fontsize=13)\n",
    "plt.title('Tech - R2 score and RMSE vs Random Forest max_feature', fontsize=14)\n",
    "\n",
    "plt.subplot(2, 1, 2)\n",
    "plt.plot(range(len(mfs)), rmse, label='RMSE')\n",
    "plt.xticks(range(len(mfs)), mfs)\n",
    "plt.ylabel('RMSE', fontsize=13)\n",
    "plt.savefig(f'../plots/rf_tech_hype_tuning_maxf.png')"
   ]
  },
  {
   "cell_type": "markdown",
   "id": "48dc5eea-68a8-49c1-bdf5-e029a6372c1d",
   "metadata": {},
   "source": [
    "When max_feature = 14, the model has highest r2 score and lowest RMSE."
   ]
  },
  {
   "cell_type": "code",
   "execution_count": 13,
   "id": "5d364f7e-fdb9-4ef5-a165-845c2c08f5ca",
   "metadata": {},
   "outputs": [
    {
     "name": "stdout",
     "output_type": "stream",
     "text": [
      "n_estimators = 10: \t R2-score: 0.9226963093629473 \tRMSE: 0.2738250570471894\n",
      "n_estimators = 100: \t R2-score: 0.9390315675054388 \tRMSE: 0.24266782247451918\n",
      "n_estimators = 300: \t R2-score: 0.9375321826448586 \tRMSE: 0.24540626440881833\n",
      "n_estimators = 500: \t R2-score: 0.9377687776186237 \tRMSE: 0.2449393545594098\n"
     ]
    },
    {
     "data": {
      "image/png": "[encoded data removed]",
      "text/plain": [
       "<Figure size 576x432 with 2 Axes>"
      ]
     },
     "metadata": {
      "needs_background": "light"
     },
     "output_type": "display_data"
    }
   ],
   "source": [
    "# Visualise RMSE and R2 for different n_estimator value\n",
    "rmse = []\n",
    "r2 = []\n",
    "ests = (10, 100, 300, 500)\n",
    "\n",
    "\n",
    "for n_est in ests:\n",
    "    rf = RandomForestRegressor(n_estimators=n_est, random_state = 42, \n",
    "                               max_features=14)\n",
    "    rmse_cv = cross_val_score(rf, X_train, y_train, cv=5, \n",
    "                             scoring='neg_root_mean_squared_error')\n",
    "    r2_cv = cross_val_score(rf, X_train, y_train, cv=5, scoring='r2')\n",
    "    \n",
    "    print(f\"n_estimators = {n_est}: \\t\", 'R2-score:', np.mean(r2_cv), \n",
    "          '\\tRMSE:', abs(np.mean(rmse_cv)))\n",
    "    rmse.append(abs(np.mean(rmse_cv)))\n",
    "    r2.append(np.mean(r2_cv))\n",
    "    \n",
    "plt.figure(figsize=(8,6))\n",
    "plt.subplot(2, 1, 1)\n",
    "plt.plot(range(len(ests)), r2, label='R2')\n",
    "plt.xticks(range(len(ests)), ests)\n",
    "plt.ylabel('R2 Score', fontsize=13)\n",
    "plt.title('Tech - R2 score and RMSE vs Random Forest n_estimators', fontsize=14)\n",
    "\n",
    "plt.subplot(2, 1, 2)\n",
    "plt.plot(range(len(ests)), rmse, label='RMSE')\n",
    "plt.xticks(range(len(ests)), ests)\n",
    "plt.xlabel('n_estimate', fontsize=13)\n",
    "plt.ylabel('RMSE', fontsize=13)\n",
    "plt.savefig(f'../plots/rf_tech_hype_tuning_nest.png')"
   ]
  },
  {
   "cell_type": "markdown",
   "id": "9ae2c4b5-9c6b-4195-aae6-22ce43b2d017",
   "metadata": {},
   "source": [
    "When n_estimate = 100, the model has highest r2 score and lowest RMSE."
   ]
  },
  {
   "cell_type": "code",
   "execution_count": 5,
   "id": "9cec442f-6708-4940-869a-1b3fe99dcdf2",
   "metadata": {},
   "outputs": [
    {
     "data": {
      "text/plain": [
       "RandomForestRegressor(max_features=14, random_state=42)"
      ]
     },
     "execution_count": 5,
     "metadata": {},
     "output_type": "execute_result"
    }
   ],
   "source": [
    "rf = RandomForestRegressor(n_estimators = 100, random_state = 42, \n",
    "                           max_features=14)\n",
    "rf.fit(X_train, y_train)"
   ]
  },
  {
   "cell_type": "code",
   "execution_count": 6,
   "id": "f7de40ad-8655-498b-9d55-fc821d1a0cff",
   "metadata": {},
   "outputs": [],
   "source": [
    "y_pred = rf.predict(X_test)"
   ]
  },
  {
   "cell_type": "code",
   "execution_count": 7,
   "id": "53a9b46e-4197-4860-9d81-56683bb184cd",
   "metadata": {},
   "outputs": [],
   "source": [
    "y_test_actual = np.ravel(scaler_y_test.inverse_transform([y_test]))\n",
    "y_pred_actual = np.ravel(scaler_y_test.inverse_transform([y_pred]))"
   ]
  },
  {
   "cell_type": "code",
   "execution_count": 8,
   "id": "08d8c1a3-697d-4066-9334-f6ad0596a0ab",
   "metadata": {},
   "outputs": [
    {
     "name": "stdout",
     "output_type": "stream",
     "text": [
      "Root Mean Squared Error: 1152.957593813988\n",
      "Root Mean Absolute Percentage Error: 0.7772031278074824\n",
      "R^2 Score: 0.8099033880432585\n"
     ]
    }
   ],
   "source": [
    "print('Root Mean Squared Error:', \n",
    "      np.sqrt(metrics.mean_squared_error(y_test_actual, y_pred_actual)))\n",
    "print('Root Mean Absolute Percentage Error:', \n",
    "      metrics.mean_absolute_percentage_error(y_test_actual, y_pred_actual))\n",
    "print('R^2 Score:', metrics.r2_score(y_test_actual, y_pred_actual))"
   ]
  },
  {
   "cell_type": "code",
   "execution_count": 9,
   "id": "01e572c7-962e-494d-a028-aeab35c53ed6",
   "metadata": {},
   "outputs": [
    {
     "data": {
      "image/png": "[encoded data removed]",
      "text/plain": [
       "<Figure size 1440x504 with 1 Axes>"
      ]
     },
     "metadata": {
      "needs_background": "light"
     },
     "output_type": "display_data"
    }
   ],
   "source": [
    "df1 = tech_df_test[['merchant_abn', 'order_year_month']]\n",
    "df1['total_revenue'] = y_pred_actual\n",
    "df1['pred/act'] = 'Prediction'\n",
    "\n",
    "df2 = tech_df_test[['merchant_abn', 'order_year_month']]\n",
    "df2['total_revenue'] = tech_df_test['total_revenue']\n",
    "df2['pred/act'] = 'Actual'\n",
    "\n",
    "df_visualise = pd.concat([df1, df2],axis=0)\n",
    "\n",
    "df_vis = df_visualise[df_visualise['merchant_abn'] == 41271931352]\n",
    "plt.figure(figsize=(20, 7))\n",
    "sns.barplot(\n",
    "    x=\"order_year_month\", y=\"total_revenue\", hue=\"pred/act\", data=df_vis, ci=95, \n",
    "    palette=\"Paired\"\n",
    ")\n",
    "plt.savefig(f'../plots/rf_tech_predvsact_41271931352.png')"
   ]
  },
  {
   "cell_type": "code",
   "execution_count": 10,
   "id": "d6c20bbf-dee5-425e-ae9b-3c30d232990f",
   "metadata": {},
   "outputs": [
    {
     "data": {
      "image/png": "[encoded data removed]",
      "text/plain": [
       "<Figure size 1080x360 with 1 Axes>"
      ]
     },
     "metadata": {
      "needs_background": "light"
     },
     "output_type": "display_data"
    }
   ],
   "source": [
    "# visualise feature importance value\n",
    "importances = list(rf.feature_importances_)\n",
    "df_imp = (pd.DataFrame({'feature':X_train.columns.tolist(), 'importances':importances})\n",
    "            .sort_values(by='importances', ascending=False).reset_index(drop=True))\n",
    "\n",
    "df_imp_top30 = df_imp[:30]\n",
    "plt.figure(figsize=(15,5))\n",
    "plt.bar('feature', 'importances', orientation = 'vertical', data=df_imp_top30)\n",
    "plt.xticks(rotation=45, ha=\"right\")\n",
    "plt.xlabel(\"\", fontsize=18)\n",
    "plt.ylabel(\"Importance Value\", fontsize=18)\n",
    "plt.title(\"Tech - Most important feature for the Random Forest Model\", fontsize=20)\n",
    "plt.savefig(f'../plots/rf_tech_important_feat.png', bbox_inches='tight')\n"
   ]
  },
  {
   "cell_type": "code",
   "execution_count": 11,
   "id": "1769d019-1247-422b-af2f-2b1f1e285346",
   "metadata": {},
   "outputs": [
    {
     "data": {
      "text/plain": [
       "[True, True, True, True, True, True, False, False, True, False]"
      ]
     },
     "execution_count": 11,
     "metadata": {},
     "output_type": "execute_result"
    }
   ],
   "source": [
    "# Get top 10 merchants by calculating their monthly total revenue\n",
    "# Merchant ranking based on prediction\n",
    "df_pred = df_visualise[df_visualise['pred/act'] == \"Prediction\"]\n",
    "df_actual = df_visualise[df_visualise['pred/act'] == \"Actual\"]\n",
    "\n",
    "pred_select = (df_pred.groupby('merchant_abn').sum('total_revenue')\n",
    "                 .reset_index(drop=False).sort_values('total_revenue', \n",
    "                                                      ascending=False)\n",
    "                 .head(10))\n",
    "\n",
    "pred_merchant_abn = pred_select['merchant_abn'].tolist()\n",
    "\n",
    "actual_select = (df_actual.groupby('merchant_abn').sum('total_revenue')\n",
    "                 .reset_index(drop=False).sort_values('total_revenue', \n",
    "                                                      ascending=False)\n",
    "                 .head(10))\n",
    "\n",
    "actual_merchant_abn = actual_select['merchant_abn'].tolist()\n",
    "\n",
    "[pred in actual_merchant_abn for pred in pred_merchant_abn]"
   ]
  },
  {
   "cell_type": "markdown",
   "id": "11d0ef6d-3848-4456-803f-b4f6aeeef665",
   "metadata": {},
   "source": [
    "8/10 of the predicted merchants are inside the actual top 10 rank highest revenue merchant."
   ]
  },
  {
   "cell_type": "markdown",
   "id": "a26e2f0a-b95a-4f87-8d8a-bdf2043772d5",
   "metadata": {},
   "source": [
    "---\n",
    "### Ranking System Model for Furniture Segment"
   ]
  },
  {
   "cell_type": "code",
   "execution_count": 12,
   "id": "31fbd2ea-cb15-4f50-9821-06ab2ad2b043",
   "metadata": {},
   "outputs": [],
   "source": [
    "X_train, X_test, y_train, y_test, scaler_y_train, scaler_y_test = get_train_test_data(furniture_df, furniture_df_test)"
   ]
  },
  {
   "cell_type": "code",
   "execution_count": 22,
   "id": "ea2ae8b7-7e32-41ac-b94b-b0a7b989998a",
   "metadata": {},
   "outputs": [
    {
     "name": "stdout",
     "output_type": "stream",
     "text": [
      "max_features = sqrt: \t R2-score: 0.9034488696952984 \tRMSE: 0.2980833835414255\n",
      "max_features = log2: \t R2-score: 0.9034488696952984 \tRMSE: 0.2980833835414255\n",
      "max_features = 5: \t R2-score: 0.9389535818400121 \tRMSE: 0.23773171306286275\n",
      "max_features = 10: \t R2-score: 0.9647407503782481 \tRMSE: 0.18278723097616584\n",
      "max_features = None: \t R2-score: 0.9680025159195831 \tRMSE: 0.17309001669876928\n"
     ]
    }
   ],
   "source": [
    "# Tune max_feature\n",
    "for mf in (\"sqrt\", \"log2\", 5, 10, None):\n",
    "    rf = RandomForestRegressor(random_state = 42, max_features=mf)\n",
    "    rmse_cv = cross_val_score(rf, X_train, y_train, cv=5, \n",
    "                              scoring='neg_root_mean_squared_error')\n",
    "    r2_cv = cross_val_score(rf, X_train, y_train, cv=5, scoring='r2')\n",
    "    print(f\"max_features = {mf}: \\t\", 'R2-score:', np.mean(r2_cv), \n",
    "          '\\tRMSE:', abs(np.mean(rmse_cv)))"
   ]
  },
  {
   "cell_type": "code",
   "execution_count": 23,
   "id": "47303d0e-7f69-4950-897f-c5dae5d427df",
   "metadata": {},
   "outputs": [
    {
     "data": {
      "image/png": "[encoded data removed]",
      "text/plain": [
       "<Figure size 576x432 with 2 Axes>"
      ]
     },
     "metadata": {
      "needs_background": "light"
     },
     "output_type": "display_data"
    }
   ],
   "source": [
    "# Tune max_feature evaluate between 10-14\n",
    "rmse = []\n",
    "r2 = []\n",
    "for mf in range(10, 15):\n",
    "    rf = RandomForestRegressor(random_state = 42, max_features=mf)\n",
    "    rmse_cv = cross_val_score(rf, X_train, y_train, cv=5, \n",
    "                             scoring='neg_root_mean_squared_error')\n",
    "    rmse.append(abs(np.mean(rmse_cv)))\n",
    "    \n",
    "    r2_cv = cross_val_score(rf, X_train, y_train, cv=5, scoring='r2')\n",
    "    r2.append(np.mean(r2_cv))\n",
    "\n",
    "# Visualise RMSE and R2 for different max_feature value\n",
    "mfs = range(10, 15)\n",
    "plt.figure(figsize=(8,6))\n",
    "plt.subplot(2, 1, 1)\n",
    "plt.plot(range(len(mfs)), r2, label='R2')\n",
    "plt.xticks(range(len(mfs)), mfs)\n",
    "plt.ylabel('R2 Score', fontsize=13)\n",
    "plt.title('Furniture - R2 score and RMSE vs Random Forest max_feature', fontsize=14)\n",
    "\n",
    "plt.subplot(2, 1, 2)\n",
    "plt.plot(range(len(mfs)), rmse, label='RMSE')\n",
    "plt.xticks(range(len(mfs)), mfs)\n",
    "plt.ylabel('RMSE', fontsize=13)\n",
    "plt.savefig(f'../plots/rf_furniture_hype_tuning_maxf.png')"
   ]
  },
  {
   "cell_type": "markdown",
   "id": "761bfacb-2d78-4f26-a3ef-7e6244879db3",
   "metadata": {},
   "source": [
    "When max_feature = 14, the model has highest r2 score and lowest RMSE."
   ]
  },
  {
   "cell_type": "code",
   "execution_count": 24,
   "id": "ace7fd52-7de8-471a-bbf5-93095bda0a6b",
   "metadata": {},
   "outputs": [
    {
     "name": "stdout",
     "output_type": "stream",
     "text": [
      "n_estimators = 10: \t R2-score: 0.9515110744871713 \tRMSE: 0.21377378269423172\n",
      "n_estimators = 100: \t R2-score: 0.9680025159195831 \tRMSE: 0.17309001669876928\n",
      "n_estimators = 300: \t R2-score: 0.9684527634302782 \tRMSE: 0.17268975229263778\n"
     ]
    },
    {
     "ename": "KeyboardInterrupt",
     "evalue": "",
     "output_type": "error",
     "traceback": [
      "\u001b[0;31m---------------------------------------------------------------------------\u001b[0m",
      "\u001b[0;31mKeyboardInterrupt\u001b[0m                         Traceback (most recent call last)",
      "\u001b[0;32m/var/folders/kn/0h56wsl91tz9kbw4pcdll7zw0000gn/T/ipykernel_8115/459272689.py\u001b[0m in \u001b[0;36m<module>\u001b[0;34m\u001b[0m\n\u001b[1;32m      8\u001b[0m     rf = RandomForestRegressor(n_estimators=n_est, random_state = 42, \n\u001b[1;32m      9\u001b[0m                                max_features=14)\n\u001b[0;32m---> 10\u001b[0;31m     rmse_cv = cross_val_score(rf, X_train, y_train, cv=5, \n\u001b[0m\u001b[1;32m     11\u001b[0m                              scoring='neg_root_mean_squared_error')\n\u001b[1;32m     12\u001b[0m     \u001b[0mr2_cv\u001b[0m \u001b[0;34m=\u001b[0m \u001b[0mcross_val_score\u001b[0m\u001b[0;34m(\u001b[0m\u001b[0mrf\u001b[0m\u001b[0;34m,\u001b[0m \u001b[0mX_train\u001b[0m\u001b[0;34m,\u001b[0m \u001b[0my_train\u001b[0m\u001b[0;34m,\u001b[0m \u001b[0mcv\u001b[0m\u001b[0;34m=\u001b[0m\u001b[0;36m5\u001b[0m\u001b[0;34m,\u001b[0m \u001b[0mscoring\u001b[0m\u001b[0;34m=\u001b[0m\u001b[0;34m'r2'\u001b[0m\u001b[0;34m)\u001b[0m\u001b[0;34m\u001b[0m\u001b[0;34m\u001b[0m\u001b[0m\n",
      "\u001b[0;32m~/opt/anaconda3/lib/python3.9/site-packages/sklearn/model_selection/_validation.py\u001b[0m in \u001b[0;36mcross_val_score\u001b[0;34m(estimator, X, y, groups, scoring, cv, n_jobs, verbose, fit_params, pre_dispatch, error_score)\u001b[0m\n\u001b[1;32m    507\u001b[0m     \u001b[0mscorer\u001b[0m \u001b[0;34m=\u001b[0m \u001b[0mcheck_scoring\u001b[0m\u001b[0;34m(\u001b[0m\u001b[0mestimator\u001b[0m\u001b[0;34m,\u001b[0m \u001b[0mscoring\u001b[0m\u001b[0;34m=\u001b[0m\u001b[0mscoring\u001b[0m\u001b[0;34m)\u001b[0m\u001b[0;34m\u001b[0m\u001b[0;34m\u001b[0m\u001b[0m\n\u001b[1;32m    508\u001b[0m \u001b[0;34m\u001b[0m\u001b[0m\n\u001b[0;32m--> 509\u001b[0;31m     cv_results = cross_validate(\n\u001b[0m\u001b[1;32m    510\u001b[0m         \u001b[0mestimator\u001b[0m\u001b[0;34m=\u001b[0m\u001b[0mestimator\u001b[0m\u001b[0;34m,\u001b[0m\u001b[0;34m\u001b[0m\u001b[0;34m\u001b[0m\u001b[0m\n\u001b[1;32m    511\u001b[0m         \u001b[0mX\u001b[0m\u001b[0;34m=\u001b[0m\u001b[0mX\u001b[0m\u001b[0;34m,\u001b[0m\u001b[0;34m\u001b[0m\u001b[0;34m\u001b[0m\u001b[0m\n",
      "\u001b[0;32m~/opt/anaconda3/lib/python3.9/site-packages/sklearn/model_selection/_validation.py\u001b[0m in \u001b[0;36mcross_validate\u001b[0;34m(estimator, X, y, groups, scoring, cv, n_jobs, verbose, fit_params, pre_dispatch, return_train_score, return_estimator, error_score)\u001b[0m\n\u001b[1;32m    265\u001b[0m     \u001b[0;31m# independent, and that it is pickle-able.\u001b[0m\u001b[0;34m\u001b[0m\u001b[0;34m\u001b[0m\u001b[0m\n\u001b[1;32m    266\u001b[0m     \u001b[0mparallel\u001b[0m \u001b[0;34m=\u001b[0m \u001b[0mParallel\u001b[0m\u001b[0;34m(\u001b[0m\u001b[0mn_jobs\u001b[0m\u001b[0;34m=\u001b[0m\u001b[0mn_jobs\u001b[0m\u001b[0;34m,\u001b[0m \u001b[0mverbose\u001b[0m\u001b[0;34m=\u001b[0m\u001b[0mverbose\u001b[0m\u001b[0;34m,\u001b[0m \u001b[0mpre_dispatch\u001b[0m\u001b[0;34m=\u001b[0m\u001b[0mpre_dispatch\u001b[0m\u001b[0;34m)\u001b[0m\u001b[0;34m\u001b[0m\u001b[0;34m\u001b[0m\u001b[0m\n\u001b[0;32m--> 267\u001b[0;31m     results = parallel(\n\u001b[0m\u001b[1;32m    268\u001b[0m         delayed(_fit_and_score)(\n\u001b[1;32m    269\u001b[0m             \u001b[0mclone\u001b[0m\u001b[0;34m(\u001b[0m\u001b[0mestimator\u001b[0m\u001b[0;34m)\u001b[0m\u001b[0;34m,\u001b[0m\u001b[0;34m\u001b[0m\u001b[0;34m\u001b[0m\u001b[0m\n",
      "\u001b[0;32m~/opt/anaconda3/lib/python3.9/site-packages/joblib/parallel.py\u001b[0m in \u001b[0;36m__call__\u001b[0;34m(self, iterable)\u001b[0m\n\u001b[1;32m   1044\u001b[0m                 \u001b[0mself\u001b[0m\u001b[0;34m.\u001b[0m\u001b[0m_iterating\u001b[0m \u001b[0;34m=\u001b[0m \u001b[0mself\u001b[0m\u001b[0;34m.\u001b[0m\u001b[0m_original_iterator\u001b[0m \u001b[0;32mis\u001b[0m \u001b[0;32mnot\u001b[0m \u001b[0;32mNone\u001b[0m\u001b[0;34m\u001b[0m\u001b[0;34m\u001b[0m\u001b[0m\n\u001b[1;32m   1045\u001b[0m \u001b[0;34m\u001b[0m\u001b[0m\n\u001b[0;32m-> 1046\u001b[0;31m             \u001b[0;32mwhile\u001b[0m \u001b[0mself\u001b[0m\u001b[0;34m.\u001b[0m\u001b[0mdispatch_one_batch\u001b[0m\u001b[0;34m(\u001b[0m\u001b[0miterator\u001b[0m\u001b[0;34m)\u001b[0m\u001b[0;34m:\u001b[0m\u001b[0;34m\u001b[0m\u001b[0;34m\u001b[0m\u001b[0m\n\u001b[0m\u001b[1;32m   1047\u001b[0m                 \u001b[0;32mpass\u001b[0m\u001b[0;34m\u001b[0m\u001b[0;34m\u001b[0m\u001b[0m\n\u001b[1;32m   1048\u001b[0m \u001b[0;34m\u001b[0m\u001b[0m\n",
      "\u001b[0;32m~/opt/anaconda3/lib/python3.9/site-packages/joblib/parallel.py\u001b[0m in \u001b[0;36mdispatch_one_batch\u001b[0;34m(self, iterator)\u001b[0m\n\u001b[1;32m    859\u001b[0m                 \u001b[0;32mreturn\u001b[0m \u001b[0;32mFalse\u001b[0m\u001b[0;34m\u001b[0m\u001b[0;34m\u001b[0m\u001b[0m\n\u001b[1;32m    860\u001b[0m             \u001b[0;32melse\u001b[0m\u001b[0;34m:\u001b[0m\u001b[0;34m\u001b[0m\u001b[0;34m\u001b[0m\u001b[0m\n\u001b[0;32m--> 861\u001b[0;31m                 \u001b[0mself\u001b[0m\u001b[0;34m.\u001b[0m\u001b[0m_dispatch\u001b[0m\u001b[0;34m(\u001b[0m\u001b[0mtasks\u001b[0m\u001b[0;34m)\u001b[0m\u001b[0;34m\u001b[0m\u001b[0;34m\u001b[0m\u001b[0m\n\u001b[0m\u001b[1;32m    862\u001b[0m                 \u001b[0;32mreturn\u001b[0m \u001b[0;32mTrue\u001b[0m\u001b[0;34m\u001b[0m\u001b[0;34m\u001b[0m\u001b[0m\n\u001b[1;32m    863\u001b[0m \u001b[0;34m\u001b[0m\u001b[0m\n",
      "\u001b[0;32m~/opt/anaconda3/lib/python3.9/site-packages/joblib/parallel.py\u001b[0m in \u001b[0;36m_dispatch\u001b[0;34m(self, batch)\u001b[0m\n\u001b[1;32m    777\u001b[0m         \u001b[0;32mwith\u001b[0m \u001b[0mself\u001b[0m\u001b[0;34m.\u001b[0m\u001b[0m_lock\u001b[0m\u001b[0;34m:\u001b[0m\u001b[0;34m\u001b[0m\u001b[0;34m\u001b[0m\u001b[0m\n\u001b[1;32m    778\u001b[0m             \u001b[0mjob_idx\u001b[0m \u001b[0;34m=\u001b[0m \u001b[0mlen\u001b[0m\u001b[0;34m(\u001b[0m\u001b[0mself\u001b[0m\u001b[0;34m.\u001b[0m\u001b[0m_jobs\u001b[0m\u001b[0;34m)\u001b[0m\u001b[0;34m\u001b[0m\u001b[0;34m\u001b[0m\u001b[0m\n\u001b[0;32m--> 779\u001b[0;31m             \u001b[0mjob\u001b[0m \u001b[0;34m=\u001b[0m \u001b[0mself\u001b[0m\u001b[0;34m.\u001b[0m\u001b[0m_backend\u001b[0m\u001b[0;34m.\u001b[0m\u001b[0mapply_async\u001b[0m\u001b[0;34m(\u001b[0m\u001b[0mbatch\u001b[0m\u001b[0;34m,\u001b[0m \u001b[0mcallback\u001b[0m\u001b[0;34m=\u001b[0m\u001b[0mcb\u001b[0m\u001b[0;34m)\u001b[0m\u001b[0;34m\u001b[0m\u001b[0;34m\u001b[0m\u001b[0m\n\u001b[0m\u001b[1;32m    780\u001b[0m             \u001b[0;31m# A job can complete so quickly than its callback is\u001b[0m\u001b[0;34m\u001b[0m\u001b[0;34m\u001b[0m\u001b[0m\n\u001b[1;32m    781\u001b[0m             \u001b[0;31m# called before we get here, causing self._jobs to\u001b[0m\u001b[0;34m\u001b[0m\u001b[0;34m\u001b[0m\u001b[0m\n",
      "\u001b[0;32m~/opt/anaconda3/lib/python3.9/site-packages/joblib/_parallel_backends.py\u001b[0m in \u001b[0;36mapply_async\u001b[0;34m(self, func, callback)\u001b[0m\n\u001b[1;32m    206\u001b[0m     \u001b[0;32mdef\u001b[0m \u001b[0mapply_async\u001b[0m\u001b[0;34m(\u001b[0m\u001b[0mself\u001b[0m\u001b[0;34m,\u001b[0m \u001b[0mfunc\u001b[0m\u001b[0;34m,\u001b[0m \u001b[0mcallback\u001b[0m\u001b[0;34m=\u001b[0m\u001b[0;32mNone\u001b[0m\u001b[0;34m)\u001b[0m\u001b[0;34m:\u001b[0m\u001b[0;34m\u001b[0m\u001b[0;34m\u001b[0m\u001b[0m\n\u001b[1;32m    207\u001b[0m         \u001b[0;34m\"\"\"Schedule a func to be run\"\"\"\u001b[0m\u001b[0;34m\u001b[0m\u001b[0;34m\u001b[0m\u001b[0m\n\u001b[0;32m--> 208\u001b[0;31m         \u001b[0mresult\u001b[0m \u001b[0;34m=\u001b[0m \u001b[0mImmediateResult\u001b[0m\u001b[0;34m(\u001b[0m\u001b[0mfunc\u001b[0m\u001b[0;34m)\u001b[0m\u001b[0;34m\u001b[0m\u001b[0;34m\u001b[0m\u001b[0m\n\u001b[0m\u001b[1;32m    209\u001b[0m         \u001b[0;32mif\u001b[0m \u001b[0mcallback\u001b[0m\u001b[0;34m:\u001b[0m\u001b[0;34m\u001b[0m\u001b[0;34m\u001b[0m\u001b[0m\n\u001b[1;32m    210\u001b[0m             \u001b[0mcallback\u001b[0m\u001b[0;34m(\u001b[0m\u001b[0mresult\u001b[0m\u001b[0;34m)\u001b[0m\u001b[0;34m\u001b[0m\u001b[0;34m\u001b[0m\u001b[0m\n",
      "\u001b[0;32m~/opt/anaconda3/lib/python3.9/site-packages/joblib/_parallel_backends.py\u001b[0m in \u001b[0;36m__init__\u001b[0;34m(self, batch)\u001b[0m\n\u001b[1;32m    570\u001b[0m         \u001b[0;31m# Don't delay the application, to avoid keeping the input\u001b[0m\u001b[0;34m\u001b[0m\u001b[0;34m\u001b[0m\u001b[0m\n\u001b[1;32m    571\u001b[0m         \u001b[0;31m# arguments in memory\u001b[0m\u001b[0;34m\u001b[0m\u001b[0;34m\u001b[0m\u001b[0m\n\u001b[0;32m--> 572\u001b[0;31m         \u001b[0mself\u001b[0m\u001b[0;34m.\u001b[0m\u001b[0mresults\u001b[0m \u001b[0;34m=\u001b[0m \u001b[0mbatch\u001b[0m\u001b[0;34m(\u001b[0m\u001b[0;34m)\u001b[0m\u001b[0;34m\u001b[0m\u001b[0;34m\u001b[0m\u001b[0m\n\u001b[0m\u001b[1;32m    573\u001b[0m \u001b[0;34m\u001b[0m\u001b[0m\n\u001b[1;32m    574\u001b[0m     \u001b[0;32mdef\u001b[0m \u001b[0mget\u001b[0m\u001b[0;34m(\u001b[0m\u001b[0mself\u001b[0m\u001b[0;34m)\u001b[0m\u001b[0;34m:\u001b[0m\u001b[0;34m\u001b[0m\u001b[0;34m\u001b[0m\u001b[0m\n",
      "\u001b[0;32m~/opt/anaconda3/lib/python3.9/site-packages/joblib/parallel.py\u001b[0m in \u001b[0;36m__call__\u001b[0;34m(self)\u001b[0m\n\u001b[1;32m    260\u001b[0m         \u001b[0;31m# change the default number of processes to -1\u001b[0m\u001b[0;34m\u001b[0m\u001b[0;34m\u001b[0m\u001b[0m\n\u001b[1;32m    261\u001b[0m         \u001b[0;32mwith\u001b[0m \u001b[0mparallel_backend\u001b[0m\u001b[0;34m(\u001b[0m\u001b[0mself\u001b[0m\u001b[0;34m.\u001b[0m\u001b[0m_backend\u001b[0m\u001b[0;34m,\u001b[0m \u001b[0mn_jobs\u001b[0m\u001b[0;34m=\u001b[0m\u001b[0mself\u001b[0m\u001b[0;34m.\u001b[0m\u001b[0m_n_jobs\u001b[0m\u001b[0;34m)\u001b[0m\u001b[0;34m:\u001b[0m\u001b[0;34m\u001b[0m\u001b[0;34m\u001b[0m\u001b[0m\n\u001b[0;32m--> 262\u001b[0;31m             return [func(*args, **kwargs)\n\u001b[0m\u001b[1;32m    263\u001b[0m                     for func, args, kwargs in self.items]\n\u001b[1;32m    264\u001b[0m \u001b[0;34m\u001b[0m\u001b[0m\n",
      "\u001b[0;32m~/opt/anaconda3/lib/python3.9/site-packages/joblib/parallel.py\u001b[0m in \u001b[0;36m<listcomp>\u001b[0;34m(.0)\u001b[0m\n\u001b[1;32m    260\u001b[0m         \u001b[0;31m# change the default number of processes to -1\u001b[0m\u001b[0;34m\u001b[0m\u001b[0;34m\u001b[0m\u001b[0m\n\u001b[1;32m    261\u001b[0m         \u001b[0;32mwith\u001b[0m \u001b[0mparallel_backend\u001b[0m\u001b[0;34m(\u001b[0m\u001b[0mself\u001b[0m\u001b[0;34m.\u001b[0m\u001b[0m_backend\u001b[0m\u001b[0;34m,\u001b[0m \u001b[0mn_jobs\u001b[0m\u001b[0;34m=\u001b[0m\u001b[0mself\u001b[0m\u001b[0;34m.\u001b[0m\u001b[0m_n_jobs\u001b[0m\u001b[0;34m)\u001b[0m\u001b[0;34m:\u001b[0m\u001b[0;34m\u001b[0m\u001b[0;34m\u001b[0m\u001b[0m\n\u001b[0;32m--> 262\u001b[0;31m             return [func(*args, **kwargs)\n\u001b[0m\u001b[1;32m    263\u001b[0m                     for func, args, kwargs in self.items]\n\u001b[1;32m    264\u001b[0m \u001b[0;34m\u001b[0m\u001b[0m\n",
      "\u001b[0;32m~/opt/anaconda3/lib/python3.9/site-packages/sklearn/utils/fixes.py\u001b[0m in \u001b[0;36m__call__\u001b[0;34m(self, *args, **kwargs)\u001b[0m\n\u001b[1;32m    214\u001b[0m     \u001b[0;32mdef\u001b[0m \u001b[0m__call__\u001b[0m\u001b[0;34m(\u001b[0m\u001b[0mself\u001b[0m\u001b[0;34m,\u001b[0m \u001b[0;34m*\u001b[0m\u001b[0margs\u001b[0m\u001b[0;34m,\u001b[0m \u001b[0;34m**\u001b[0m\u001b[0mkwargs\u001b[0m\u001b[0;34m)\u001b[0m\u001b[0;34m:\u001b[0m\u001b[0;34m\u001b[0m\u001b[0;34m\u001b[0m\u001b[0m\n\u001b[1;32m    215\u001b[0m         \u001b[0;32mwith\u001b[0m \u001b[0mconfig_context\u001b[0m\u001b[0;34m(\u001b[0m\u001b[0;34m**\u001b[0m\u001b[0mself\u001b[0m\u001b[0;34m.\u001b[0m\u001b[0mconfig\u001b[0m\u001b[0;34m)\u001b[0m\u001b[0;34m:\u001b[0m\u001b[0;34m\u001b[0m\u001b[0;34m\u001b[0m\u001b[0m\n\u001b[0;32m--> 216\u001b[0;31m             \u001b[0;32mreturn\u001b[0m \u001b[0mself\u001b[0m\u001b[0;34m.\u001b[0m\u001b[0mfunction\u001b[0m\u001b[0;34m(\u001b[0m\u001b[0;34m*\u001b[0m\u001b[0margs\u001b[0m\u001b[0;34m,\u001b[0m \u001b[0;34m**\u001b[0m\u001b[0mkwargs\u001b[0m\u001b[0;34m)\u001b[0m\u001b[0;34m\u001b[0m\u001b[0;34m\u001b[0m\u001b[0m\n\u001b[0m\u001b[1;32m    217\u001b[0m \u001b[0;34m\u001b[0m\u001b[0m\n\u001b[1;32m    218\u001b[0m \u001b[0;34m\u001b[0m\u001b[0m\n",
      "\u001b[0;32m~/opt/anaconda3/lib/python3.9/site-packages/sklearn/model_selection/_validation.py\u001b[0m in \u001b[0;36m_fit_and_score\u001b[0;34m(estimator, X, y, scorer, train, test, verbose, parameters, fit_params, return_train_score, return_parameters, return_n_test_samples, return_times, return_estimator, split_progress, candidate_progress, error_score)\u001b[0m\n\u001b[1;32m    678\u001b[0m             \u001b[0mestimator\u001b[0m\u001b[0;34m.\u001b[0m\u001b[0mfit\u001b[0m\u001b[0;34m(\u001b[0m\u001b[0mX_train\u001b[0m\u001b[0;34m,\u001b[0m \u001b[0;34m**\u001b[0m\u001b[0mfit_params\u001b[0m\u001b[0;34m)\u001b[0m\u001b[0;34m\u001b[0m\u001b[0;34m\u001b[0m\u001b[0m\n\u001b[1;32m    679\u001b[0m         \u001b[0;32melse\u001b[0m\u001b[0;34m:\u001b[0m\u001b[0;34m\u001b[0m\u001b[0;34m\u001b[0m\u001b[0m\n\u001b[0;32m--> 680\u001b[0;31m             \u001b[0mestimator\u001b[0m\u001b[0;34m.\u001b[0m\u001b[0mfit\u001b[0m\u001b[0;34m(\u001b[0m\u001b[0mX_train\u001b[0m\u001b[0;34m,\u001b[0m \u001b[0my_train\u001b[0m\u001b[0;34m,\u001b[0m \u001b[0;34m**\u001b[0m\u001b[0mfit_params\u001b[0m\u001b[0;34m)\u001b[0m\u001b[0;34m\u001b[0m\u001b[0;34m\u001b[0m\u001b[0m\n\u001b[0m\u001b[1;32m    681\u001b[0m \u001b[0;34m\u001b[0m\u001b[0m\n\u001b[1;32m    682\u001b[0m     \u001b[0;32mexcept\u001b[0m \u001b[0mException\u001b[0m\u001b[0;34m:\u001b[0m\u001b[0;34m\u001b[0m\u001b[0;34m\u001b[0m\u001b[0m\n",
      "\u001b[0;32m~/opt/anaconda3/lib/python3.9/site-packages/sklearn/ensemble/_forest.py\u001b[0m in \u001b[0;36mfit\u001b[0;34m(self, X, y, sample_weight)\u001b[0m\n\u001b[1;32m    448\u001b[0m             \u001b[0;31m# parallel_backend contexts set at a higher level,\u001b[0m\u001b[0;34m\u001b[0m\u001b[0;34m\u001b[0m\u001b[0m\n\u001b[1;32m    449\u001b[0m             \u001b[0;31m# since correctness does not rely on using threads.\u001b[0m\u001b[0;34m\u001b[0m\u001b[0;34m\u001b[0m\u001b[0m\n\u001b[0;32m--> 450\u001b[0;31m             trees = Parallel(\n\u001b[0m\u001b[1;32m    451\u001b[0m                 \u001b[0mn_jobs\u001b[0m\u001b[0;34m=\u001b[0m\u001b[0mself\u001b[0m\u001b[0;34m.\u001b[0m\u001b[0mn_jobs\u001b[0m\u001b[0;34m,\u001b[0m\u001b[0;34m\u001b[0m\u001b[0;34m\u001b[0m\u001b[0m\n\u001b[1;32m    452\u001b[0m                 \u001b[0mverbose\u001b[0m\u001b[0;34m=\u001b[0m\u001b[0mself\u001b[0m\u001b[0;34m.\u001b[0m\u001b[0mverbose\u001b[0m\u001b[0;34m,\u001b[0m\u001b[0;34m\u001b[0m\u001b[0;34m\u001b[0m\u001b[0m\n",
      "\u001b[0;32m~/opt/anaconda3/lib/python3.9/site-packages/joblib/parallel.py\u001b[0m in \u001b[0;36m__call__\u001b[0;34m(self, iterable)\u001b[0m\n\u001b[1;32m   1044\u001b[0m                 \u001b[0mself\u001b[0m\u001b[0;34m.\u001b[0m\u001b[0m_iterating\u001b[0m \u001b[0;34m=\u001b[0m \u001b[0mself\u001b[0m\u001b[0;34m.\u001b[0m\u001b[0m_original_iterator\u001b[0m \u001b[0;32mis\u001b[0m \u001b[0;32mnot\u001b[0m \u001b[0;32mNone\u001b[0m\u001b[0;34m\u001b[0m\u001b[0;34m\u001b[0m\u001b[0m\n\u001b[1;32m   1045\u001b[0m \u001b[0;34m\u001b[0m\u001b[0m\n\u001b[0;32m-> 1046\u001b[0;31m             \u001b[0;32mwhile\u001b[0m \u001b[0mself\u001b[0m\u001b[0;34m.\u001b[0m\u001b[0mdispatch_one_batch\u001b[0m\u001b[0;34m(\u001b[0m\u001b[0miterator\u001b[0m\u001b[0;34m)\u001b[0m\u001b[0;34m:\u001b[0m\u001b[0;34m\u001b[0m\u001b[0;34m\u001b[0m\u001b[0m\n\u001b[0m\u001b[1;32m   1047\u001b[0m                 \u001b[0;32mpass\u001b[0m\u001b[0;34m\u001b[0m\u001b[0;34m\u001b[0m\u001b[0m\n\u001b[1;32m   1048\u001b[0m \u001b[0;34m\u001b[0m\u001b[0m\n",
      "\u001b[0;32m~/opt/anaconda3/lib/python3.9/site-packages/joblib/parallel.py\u001b[0m in \u001b[0;36mdispatch_one_batch\u001b[0;34m(self, iterator)\u001b[0m\n\u001b[1;32m    859\u001b[0m                 \u001b[0;32mreturn\u001b[0m \u001b[0;32mFalse\u001b[0m\u001b[0;34m\u001b[0m\u001b[0;34m\u001b[0m\u001b[0m\n\u001b[1;32m    860\u001b[0m             \u001b[0;32melse\u001b[0m\u001b[0;34m:\u001b[0m\u001b[0;34m\u001b[0m\u001b[0;34m\u001b[0m\u001b[0m\n\u001b[0;32m--> 861\u001b[0;31m                 \u001b[0mself\u001b[0m\u001b[0;34m.\u001b[0m\u001b[0m_dispatch\u001b[0m\u001b[0;34m(\u001b[0m\u001b[0mtasks\u001b[0m\u001b[0;34m)\u001b[0m\u001b[0;34m\u001b[0m\u001b[0;34m\u001b[0m\u001b[0m\n\u001b[0m\u001b[1;32m    862\u001b[0m                 \u001b[0;32mreturn\u001b[0m \u001b[0;32mTrue\u001b[0m\u001b[0;34m\u001b[0m\u001b[0;34m\u001b[0m\u001b[0m\n\u001b[1;32m    863\u001b[0m \u001b[0;34m\u001b[0m\u001b[0m\n",
      "\u001b[0;32m~/opt/anaconda3/lib/python3.9/site-packages/joblib/parallel.py\u001b[0m in \u001b[0;36m_dispatch\u001b[0;34m(self, batch)\u001b[0m\n\u001b[1;32m    777\u001b[0m         \u001b[0;32mwith\u001b[0m \u001b[0mself\u001b[0m\u001b[0;34m.\u001b[0m\u001b[0m_lock\u001b[0m\u001b[0;34m:\u001b[0m\u001b[0;34m\u001b[0m\u001b[0;34m\u001b[0m\u001b[0m\n\u001b[1;32m    778\u001b[0m             \u001b[0mjob_idx\u001b[0m \u001b[0;34m=\u001b[0m \u001b[0mlen\u001b[0m\u001b[0;34m(\u001b[0m\u001b[0mself\u001b[0m\u001b[0;34m.\u001b[0m\u001b[0m_jobs\u001b[0m\u001b[0;34m)\u001b[0m\u001b[0;34m\u001b[0m\u001b[0;34m\u001b[0m\u001b[0m\n\u001b[0;32m--> 779\u001b[0;31m             \u001b[0mjob\u001b[0m \u001b[0;34m=\u001b[0m \u001b[0mself\u001b[0m\u001b[0;34m.\u001b[0m\u001b[0m_backend\u001b[0m\u001b[0;34m.\u001b[0m\u001b[0mapply_async\u001b[0m\u001b[0;34m(\u001b[0m\u001b[0mbatch\u001b[0m\u001b[0;34m,\u001b[0m \u001b[0mcallback\u001b[0m\u001b[0;34m=\u001b[0m\u001b[0mcb\u001b[0m\u001b[0;34m)\u001b[0m\u001b[0;34m\u001b[0m\u001b[0;34m\u001b[0m\u001b[0m\n\u001b[0m\u001b[1;32m    780\u001b[0m             \u001b[0;31m# A job can complete so quickly than its callback is\u001b[0m\u001b[0;34m\u001b[0m\u001b[0;34m\u001b[0m\u001b[0m\n\u001b[1;32m    781\u001b[0m             \u001b[0;31m# called before we get here, causing self._jobs to\u001b[0m\u001b[0;34m\u001b[0m\u001b[0;34m\u001b[0m\u001b[0m\n",
      "\u001b[0;32m~/opt/anaconda3/lib/python3.9/site-packages/joblib/_parallel_backends.py\u001b[0m in \u001b[0;36mapply_async\u001b[0;34m(self, func, callback)\u001b[0m\n\u001b[1;32m    206\u001b[0m     \u001b[0;32mdef\u001b[0m \u001b[0mapply_async\u001b[0m\u001b[0;34m(\u001b[0m\u001b[0mself\u001b[0m\u001b[0;34m,\u001b[0m \u001b[0mfunc\u001b[0m\u001b[0;34m,\u001b[0m \u001b[0mcallback\u001b[0m\u001b[0;34m=\u001b[0m\u001b[0;32mNone\u001b[0m\u001b[0;34m)\u001b[0m\u001b[0;34m:\u001b[0m\u001b[0;34m\u001b[0m\u001b[0;34m\u001b[0m\u001b[0m\n\u001b[1;32m    207\u001b[0m         \u001b[0;34m\"\"\"Schedule a func to be run\"\"\"\u001b[0m\u001b[0;34m\u001b[0m\u001b[0;34m\u001b[0m\u001b[0m\n\u001b[0;32m--> 208\u001b[0;31m         \u001b[0mresult\u001b[0m \u001b[0;34m=\u001b[0m \u001b[0mImmediateResult\u001b[0m\u001b[0;34m(\u001b[0m\u001b[0mfunc\u001b[0m\u001b[0;34m)\u001b[0m\u001b[0;34m\u001b[0m\u001b[0;34m\u001b[0m\u001b[0m\n\u001b[0m\u001b[1;32m    209\u001b[0m         \u001b[0;32mif\u001b[0m \u001b[0mcallback\u001b[0m\u001b[0;34m:\u001b[0m\u001b[0;34m\u001b[0m\u001b[0;34m\u001b[0m\u001b[0m\n\u001b[1;32m    210\u001b[0m             \u001b[0mcallback\u001b[0m\u001b[0;34m(\u001b[0m\u001b[0mresult\u001b[0m\u001b[0;34m)\u001b[0m\u001b[0;34m\u001b[0m\u001b[0;34m\u001b[0m\u001b[0m\n",
      "\u001b[0;32m~/opt/anaconda3/lib/python3.9/site-packages/joblib/_parallel_backends.py\u001b[0m in \u001b[0;36m__init__\u001b[0;34m(self, batch)\u001b[0m\n\u001b[1;32m    570\u001b[0m         \u001b[0;31m# Don't delay the application, to avoid keeping the input\u001b[0m\u001b[0;34m\u001b[0m\u001b[0;34m\u001b[0m\u001b[0m\n\u001b[1;32m    571\u001b[0m         \u001b[0;31m# arguments in memory\u001b[0m\u001b[0;34m\u001b[0m\u001b[0;34m\u001b[0m\u001b[0m\n\u001b[0;32m--> 572\u001b[0;31m         \u001b[0mself\u001b[0m\u001b[0;34m.\u001b[0m\u001b[0mresults\u001b[0m \u001b[0;34m=\u001b[0m \u001b[0mbatch\u001b[0m\u001b[0;34m(\u001b[0m\u001b[0;34m)\u001b[0m\u001b[0;34m\u001b[0m\u001b[0;34m\u001b[0m\u001b[0m\n\u001b[0m\u001b[1;32m    573\u001b[0m \u001b[0;34m\u001b[0m\u001b[0m\n\u001b[1;32m    574\u001b[0m     \u001b[0;32mdef\u001b[0m \u001b[0mget\u001b[0m\u001b[0;34m(\u001b[0m\u001b[0mself\u001b[0m\u001b[0;34m)\u001b[0m\u001b[0;34m:\u001b[0m\u001b[0;34m\u001b[0m\u001b[0;34m\u001b[0m\u001b[0m\n",
      "\u001b[0;32m~/opt/anaconda3/lib/python3.9/site-packages/joblib/parallel.py\u001b[0m in \u001b[0;36m__call__\u001b[0;34m(self)\u001b[0m\n\u001b[1;32m    260\u001b[0m         \u001b[0;31m# change the default number of processes to -1\u001b[0m\u001b[0;34m\u001b[0m\u001b[0;34m\u001b[0m\u001b[0m\n\u001b[1;32m    261\u001b[0m         \u001b[0;32mwith\u001b[0m \u001b[0mparallel_backend\u001b[0m\u001b[0;34m(\u001b[0m\u001b[0mself\u001b[0m\u001b[0;34m.\u001b[0m\u001b[0m_backend\u001b[0m\u001b[0;34m,\u001b[0m \u001b[0mn_jobs\u001b[0m\u001b[0;34m=\u001b[0m\u001b[0mself\u001b[0m\u001b[0;34m.\u001b[0m\u001b[0m_n_jobs\u001b[0m\u001b[0;34m)\u001b[0m\u001b[0;34m:\u001b[0m\u001b[0;34m\u001b[0m\u001b[0;34m\u001b[0m\u001b[0m\n\u001b[0;32m--> 262\u001b[0;31m             return [func(*args, **kwargs)\n\u001b[0m\u001b[1;32m    263\u001b[0m                     for func, args, kwargs in self.items]\n\u001b[1;32m    264\u001b[0m \u001b[0;34m\u001b[0m\u001b[0m\n",
      "\u001b[0;32m~/opt/anaconda3/lib/python3.9/site-packages/joblib/parallel.py\u001b[0m in \u001b[0;36m<listcomp>\u001b[0;34m(.0)\u001b[0m\n\u001b[1;32m    260\u001b[0m         \u001b[0;31m# change the default number of processes to -1\u001b[0m\u001b[0;34m\u001b[0m\u001b[0;34m\u001b[0m\u001b[0m\n\u001b[1;32m    261\u001b[0m         \u001b[0;32mwith\u001b[0m \u001b[0mparallel_backend\u001b[0m\u001b[0;34m(\u001b[0m\u001b[0mself\u001b[0m\u001b[0;34m.\u001b[0m\u001b[0m_backend\u001b[0m\u001b[0;34m,\u001b[0m \u001b[0mn_jobs\u001b[0m\u001b[0;34m=\u001b[0m\u001b[0mself\u001b[0m\u001b[0;34m.\u001b[0m\u001b[0m_n_jobs\u001b[0m\u001b[0;34m)\u001b[0m\u001b[0;34m:\u001b[0m\u001b[0;34m\u001b[0m\u001b[0;34m\u001b[0m\u001b[0m\n\u001b[0;32m--> 262\u001b[0;31m             return [func(*args, **kwargs)\n\u001b[0m\u001b[1;32m    263\u001b[0m                     for func, args, kwargs in self.items]\n\u001b[1;32m    264\u001b[0m \u001b[0;34m\u001b[0m\u001b[0m\n",
      "\u001b[0;32m~/opt/anaconda3/lib/python3.9/site-packages/sklearn/utils/fixes.py\u001b[0m in \u001b[0;36m__call__\u001b[0;34m(self, *args, **kwargs)\u001b[0m\n\u001b[1;32m    214\u001b[0m     \u001b[0;32mdef\u001b[0m \u001b[0m__call__\u001b[0m\u001b[0;34m(\u001b[0m\u001b[0mself\u001b[0m\u001b[0;34m,\u001b[0m \u001b[0;34m*\u001b[0m\u001b[0margs\u001b[0m\u001b[0;34m,\u001b[0m \u001b[0;34m**\u001b[0m\u001b[0mkwargs\u001b[0m\u001b[0;34m)\u001b[0m\u001b[0;34m:\u001b[0m\u001b[0;34m\u001b[0m\u001b[0;34m\u001b[0m\u001b[0m\n\u001b[1;32m    215\u001b[0m         \u001b[0;32mwith\u001b[0m \u001b[0mconfig_context\u001b[0m\u001b[0;34m(\u001b[0m\u001b[0;34m**\u001b[0m\u001b[0mself\u001b[0m\u001b[0;34m.\u001b[0m\u001b[0mconfig\u001b[0m\u001b[0;34m)\u001b[0m\u001b[0;34m:\u001b[0m\u001b[0;34m\u001b[0m\u001b[0;34m\u001b[0m\u001b[0m\n\u001b[0;32m--> 216\u001b[0;31m             \u001b[0;32mreturn\u001b[0m \u001b[0mself\u001b[0m\u001b[0;34m.\u001b[0m\u001b[0mfunction\u001b[0m\u001b[0;34m(\u001b[0m\u001b[0;34m*\u001b[0m\u001b[0margs\u001b[0m\u001b[0;34m,\u001b[0m \u001b[0;34m**\u001b[0m\u001b[0mkwargs\u001b[0m\u001b[0;34m)\u001b[0m\u001b[0;34m\u001b[0m\u001b[0;34m\u001b[0m\u001b[0m\n\u001b[0m\u001b[1;32m    217\u001b[0m \u001b[0;34m\u001b[0m\u001b[0m\n\u001b[1;32m    218\u001b[0m \u001b[0;34m\u001b[0m\u001b[0m\n",
      "\u001b[0;32m~/opt/anaconda3/lib/python3.9/site-packages/sklearn/ensemble/_forest.py\u001b[0m in \u001b[0;36m_parallel_build_trees\u001b[0;34m(tree, forest, X, y, sample_weight, tree_idx, n_trees, verbose, class_weight, n_samples_bootstrap)\u001b[0m\n\u001b[1;32m    183\u001b[0m             \u001b[0mcurr_sample_weight\u001b[0m \u001b[0;34m*=\u001b[0m \u001b[0mcompute_sample_weight\u001b[0m\u001b[0;34m(\u001b[0m\u001b[0;34m\"balanced\"\u001b[0m\u001b[0;34m,\u001b[0m \u001b[0my\u001b[0m\u001b[0;34m,\u001b[0m \u001b[0mindices\u001b[0m\u001b[0;34m=\u001b[0m\u001b[0mindices\u001b[0m\u001b[0;34m)\u001b[0m\u001b[0;34m\u001b[0m\u001b[0;34m\u001b[0m\u001b[0m\n\u001b[1;32m    184\u001b[0m \u001b[0;34m\u001b[0m\u001b[0m\n\u001b[0;32m--> 185\u001b[0;31m         \u001b[0mtree\u001b[0m\u001b[0;34m.\u001b[0m\u001b[0mfit\u001b[0m\u001b[0;34m(\u001b[0m\u001b[0mX\u001b[0m\u001b[0;34m,\u001b[0m \u001b[0my\u001b[0m\u001b[0;34m,\u001b[0m \u001b[0msample_weight\u001b[0m\u001b[0;34m=\u001b[0m\u001b[0mcurr_sample_weight\u001b[0m\u001b[0;34m,\u001b[0m \u001b[0mcheck_input\u001b[0m\u001b[0;34m=\u001b[0m\u001b[0;32mFalse\u001b[0m\u001b[0;34m)\u001b[0m\u001b[0;34m\u001b[0m\u001b[0;34m\u001b[0m\u001b[0m\n\u001b[0m\u001b[1;32m    186\u001b[0m     \u001b[0;32melse\u001b[0m\u001b[0;34m:\u001b[0m\u001b[0;34m\u001b[0m\u001b[0;34m\u001b[0m\u001b[0m\n\u001b[1;32m    187\u001b[0m         \u001b[0mtree\u001b[0m\u001b[0;34m.\u001b[0m\u001b[0mfit\u001b[0m\u001b[0;34m(\u001b[0m\u001b[0mX\u001b[0m\u001b[0;34m,\u001b[0m \u001b[0my\u001b[0m\u001b[0;34m,\u001b[0m \u001b[0msample_weight\u001b[0m\u001b[0;34m=\u001b[0m\u001b[0msample_weight\u001b[0m\u001b[0;34m,\u001b[0m \u001b[0mcheck_input\u001b[0m\u001b[0;34m=\u001b[0m\u001b[0;32mFalse\u001b[0m\u001b[0;34m)\u001b[0m\u001b[0;34m\u001b[0m\u001b[0;34m\u001b[0m\u001b[0m\n",
      "\u001b[0;32m~/opt/anaconda3/lib/python3.9/site-packages/sklearn/tree/_classes.py\u001b[0m in \u001b[0;36mfit\u001b[0;34m(self, X, y, sample_weight, check_input, X_idx_sorted)\u001b[0m\n\u001b[1;32m   1313\u001b[0m         \"\"\"\n\u001b[1;32m   1314\u001b[0m \u001b[0;34m\u001b[0m\u001b[0m\n\u001b[0;32m-> 1315\u001b[0;31m         super().fit(\n\u001b[0m\u001b[1;32m   1316\u001b[0m             \u001b[0mX\u001b[0m\u001b[0;34m,\u001b[0m\u001b[0;34m\u001b[0m\u001b[0;34m\u001b[0m\u001b[0m\n\u001b[1;32m   1317\u001b[0m             \u001b[0my\u001b[0m\u001b[0;34m,\u001b[0m\u001b[0;34m\u001b[0m\u001b[0;34m\u001b[0m\u001b[0m\n",
      "\u001b[0;32m~/opt/anaconda3/lib/python3.9/site-packages/sklearn/tree/_classes.py\u001b[0m in \u001b[0;36mfit\u001b[0;34m(self, X, y, sample_weight, check_input, X_idx_sorted)\u001b[0m\n\u001b[1;32m    418\u001b[0m             )\n\u001b[1;32m    419\u001b[0m \u001b[0;34m\u001b[0m\u001b[0m\n\u001b[0;32m--> 420\u001b[0;31m         \u001b[0mbuilder\u001b[0m\u001b[0;34m.\u001b[0m\u001b[0mbuild\u001b[0m\u001b[0;34m(\u001b[0m\u001b[0mself\u001b[0m\u001b[0;34m.\u001b[0m\u001b[0mtree_\u001b[0m\u001b[0;34m,\u001b[0m \u001b[0mX\u001b[0m\u001b[0;34m,\u001b[0m \u001b[0my\u001b[0m\u001b[0;34m,\u001b[0m \u001b[0msample_weight\u001b[0m\u001b[0;34m)\u001b[0m\u001b[0;34m\u001b[0m\u001b[0;34m\u001b[0m\u001b[0m\n\u001b[0m\u001b[1;32m    421\u001b[0m \u001b[0;34m\u001b[0m\u001b[0m\n\u001b[1;32m    422\u001b[0m         \u001b[0;32mif\u001b[0m \u001b[0mself\u001b[0m\u001b[0;34m.\u001b[0m\u001b[0mn_outputs_\u001b[0m \u001b[0;34m==\u001b[0m \u001b[0;36m1\u001b[0m \u001b[0;32mand\u001b[0m \u001b[0mis_classifier\u001b[0m\u001b[0;34m(\u001b[0m\u001b[0mself\u001b[0m\u001b[0;34m)\u001b[0m\u001b[0;34m:\u001b[0m\u001b[0;34m\u001b[0m\u001b[0;34m\u001b[0m\u001b[0m\n",
      "\u001b[0;31mKeyboardInterrupt\u001b[0m: "
     ]
    }
   ],
   "source": [
    "# Visualise RMSE and R2 for different n_estimator value\n",
    "rmse = []\n",
    "r2 = []\n",
    "ests = (10, 100, 300, 500)\n",
    "\n",
    "\n",
    "for n_est in ests:\n",
    "    rf = RandomForestRegressor(n_estimators=n_est, random_state = 42, \n",
    "                               max_features=14)\n",
    "    rmse_cv = cross_val_score(rf, X_train, y_train, cv=5, \n",
    "                             scoring='neg_root_mean_squared_error')\n",
    "    r2_cv = cross_val_score(rf, X_train, y_train, cv=5, scoring='r2')\n",
    "    \n",
    "    print(f\"n_estimators = {n_est}: \\t\", 'R2-score:', np.mean(r2_cv), \n",
    "          '\\tRMSE:', abs(np.mean(rmse_cv)))\n",
    "    rmse.append(abs(np.mean(rmse_cv)))\n",
    "    r2.append(np.mean(r2_cv))\n",
    "    \n",
    "plt.figure(figsize=(8,6))\n",
    "plt.subplot(2, 1, 1)\n",
    "plt.plot(range(len(ests)), r2, label='R2')\n",
    "plt.xticks(range(len(ests)), ests)\n",
    "plt.ylabel('R2 Score', fontsize=13)\n",
    "plt.title('Furniture - R2 score and RMSE vs Random Forest n_estimators', fontsize=14)\n",
    "\n",
    "plt.subplot(2, 1, 2)\n",
    "plt.plot(range(len(ests)), rmse, label='RMSE')\n",
    "plt.xticks(range(len(ests)), ests)\n",
    "plt.xlabel('n_estimate', fontsize=13)\n",
    "plt.ylabel('RMSE', fontsize=13)\n",
    "plt.savefig(f'../plots/rf_furniture_hype_tuning_nest.png')"
   ]
  },
  {
   "cell_type": "markdown",
   "id": "58095a5a-165c-40e4-bb4e-7037ccb6f0f7",
   "metadata": {},
   "source": [
    "When n_estimate = 100, the model has highest r2 score and lowest RMSE."
   ]
  },
  {
   "cell_type": "code",
   "execution_count": null,
   "id": "7ab56263-7067-4ea9-bdca-fe5bd056472e",
   "metadata": {},
   "outputs": [],
   "source": [
    "rf = RandomForestRegressor(n_estimators = 100, random_state = 42, \n",
    "                           max_features=14)\n",
    "rf.fit(X_train, y_train)\n",
    "y_pred = rf.predict(X_test)"
   ]
  },
  {
   "cell_type": "code",
   "execution_count": null,
   "id": "35c01be9-3516-407d-bc38-4432c1ed965e",
   "metadata": {},
   "outputs": [],
   "source": [
    "y_test_actual = np.ravel(scaler_y_test.inverse_transform([y_test]))\n",
    "y_pred_actual = np.ravel(scaler_y_test.inverse_transform([y_pred]))"
   ]
  },
  {
   "cell_type": "code",
   "execution_count": null,
   "id": "a9d850b1-31ba-45cb-a3f8-03e0081c01b8",
   "metadata": {},
   "outputs": [],
   "source": [
    "print('Root Mean Squared Error:', \n",
    "      np.sqrt(metrics.mean_squared_error(y_test_actual, y_pred_actual)))\n",
    "print('Root Mean Absolute Percentage Error:', \n",
    "      metrics.mean_absolute_percentage_error(y_test_actual, y_pred_actual))\n",
    "print('R^2 Score:', metrics.r2_score(y_test_actual, y_pred_actual))"
   ]
  },
  {
   "cell_type": "code",
   "execution_count": null,
   "id": "0ef5fcf9-5342-4cf5-bb3e-2004a5f0e3db",
   "metadata": {},
   "outputs": [],
   "source": [
    "df1 = furniture_df_test[['merchant_abn', 'order_year_month']]\n",
    "df1['total_revenue'] = y_pred_actual\n",
    "df1['pred/act'] = 'Prediction'\n",
    "\n",
    "df2 = furniture_df_test[['merchant_abn', 'order_year_month']]\n",
    "df2['total_revenue'] = furniture_df_test['total_revenue']\n",
    "df2['pred/act'] = 'Actual'\n",
    "\n",
    "df_visualise = pd.concat([df1, df2],axis=0)\n",
    "\n",
    "df_vis = df_visualise[df_visualise['merchant_abn'] == 79827781481]\n",
    "plt.figure(figsize=(20, 7))\n",
    "sns.barplot(\n",
    "    x=\"order_year_month\", y=\"total_revenue\", hue=\"pred/act\", data=df_vis, ci=95, \n",
    "    palette=\"Paired\"\n",
    ")\n",
    "plt.savefig(f'../plots/rf_furniture_predvsact_79827781481.png')"
   ]
  },
  {
   "cell_type": "code",
   "execution_count": null,
   "id": "be6827b4-208b-4587-99f7-63e6bc6a14f6",
   "metadata": {},
   "outputs": [],
   "source": [
    "# visualise feature importance value\n",
    "importances = list(rf.feature_importances_)\n",
    "df_imp = (pd.DataFrame({'feature':X_train.columns.tolist(), 'importances':importances})\n",
    "            .sort_values(by='importances', ascending=False).reset_index(drop=True))\n",
    "\n",
    "df_imp_top30 = df_imp[:30]\n",
    "plt.figure(figsize=(15,5))\n",
    "plt.bar('feature', 'importances', orientation = 'vertical', data=df_imp_top30)\n",
    "plt.xticks(rotation=45, ha=\"right\")\n",
    "plt.xlabel(\"\", fontsize=18)\n",
    "plt.ylabel(\"Importance Value\", fontsize=18)\n",
    "plt.title(\"Furniture - Most important feature for the Random Forest Model\", fontsize=20)\n",
    "plt.savefig(f'../plots/rf_furniture_important_feat.png', bbox_inches='tight')\n"
   ]
  },
  {
   "cell_type": "code",
   "execution_count": null,
   "id": "38570fb7-7f53-4656-aa3d-23781b978e06",
   "metadata": {},
   "outputs": [],
   "source": [
    "# Get top 10 merchants by calculating their monthly total revenue\n",
    "# Merchant ranking based on prediction\n",
    "df_pred = df_visualise[df_visualise['pred/act'] == \"Prediction\"]\n",
    "df_actual = df_visualise[df_visualise['pred/act'] == \"Actual\"]\n",
    "\n",
    "pred_select = (df_pred.groupby('merchant_abn').sum('total_revenue')\n",
    "                 .reset_index(drop=False).sort_values('total_revenue', \n",
    "                                                      ascending=False)\n",
    "                 .head(10))\n",
    "\n",
    "pred_merchant_abn = pred_select['merchant_abn'].tolist()\n",
    "\n",
    "actual_select = (df_actual.groupby('merchant_abn').sum('total_revenue')\n",
    "                 .reset_index(drop=False).sort_values('total_revenue', \n",
    "                                                      ascending=False)\n",
    "                 .head(10))\n",
    "\n",
    "actual_merchant_abn = actual_select['merchant_abn'].tolist()\n",
    "\n",
    "[pred in actual_merchant_abn for pred in pred_merchant_abn]"
   ]
  },
  {
   "cell_type": "markdown",
   "id": "f4bb5acc-63db-41a6-aa75-a381e4cf371a",
   "metadata": {},
   "source": [
    "9/10 of the predicted merchants are inside the actual top 10 rank highest revenue merchant."
   ]
  },
  {
   "cell_type": "markdown",
   "id": "f9f9fd47-a9ab-45ab-a029-d4cb4fff1eef",
   "metadata": {},
   "source": [
    "---\n",
    "### Ranking System Model for Hobby and Toys Shop Segment"
   ]
  },
  {
   "cell_type": "code",
   "execution_count": null,
   "id": "b8104df2-090c-4b7f-8643-c70e2adfad30",
   "metadata": {},
   "outputs": [],
   "source": [
    "X_train, X_test, y_train, y_test, scaler_y_train, scaler_y_test = get_train_test_data(hobby_df, hobby_df_test)"
   ]
  },
  {
   "cell_type": "code",
   "execution_count": null,
   "id": "ac5cffed-dce2-4038-8a38-3f32f9884c8b",
   "metadata": {},
   "outputs": [],
   "source": [
    "# Tune max_feature\n",
    "for mf in (\"sqrt\", \"log2\", 5, 10, None):\n",
    "    rf = RandomForestRegressor(random_state = 42, max_features=mf)\n",
    "    rmse_cv = cross_val_score(rf, X_train, y_train, cv=5, \n",
    "                              scoring='neg_root_mean_squared_error')\n",
    "    r2_cv = cross_val_score(rf, X_train, y_train, cv=5, scoring='r2')\n",
    "    print(f\"max_features = {mf}: \\t\", 'R2-score:', np.mean(r2_cv), \n",
    "          '\\tRMSE:', abs(np.mean(rmse_cv)))"
   ]
  },
  {
   "cell_type": "code",
   "execution_count": null,
   "id": "746116e0-b7d2-44d1-a8be-7b12b43368dc",
   "metadata": {},
   "outputs": [],
   "source": [
    "# Tune max_feature evaluate between 10-14\n",
    "rmse = []\n",
    "r2 = []\n",
    "for mf in range(10, 15):\n",
    "    rf = RandomForestRegressor(random_state = 42, max_features=mf)\n",
    "    rmse_cv = cross_val_score(rf, X_train, y_train, cv=5, \n",
    "                             scoring='neg_root_mean_squared_error')\n",
    "    rmse.append(abs(np.mean(rmse_cv)))\n",
    "    \n",
    "    r2_cv = cross_val_score(rf, X_train, y_train, cv=5, scoring='r2')\n",
    "    r2.append(np.mean(r2_cv))\n",
    "\n",
    "# Visualise RMSE and R2 for different max_feature value\n",
    "mfs = range(10, 15)\n",
    "plt.figure(figsize=(8,6))\n",
    "plt.subplot(2, 1, 1)\n",
    "plt.plot(range(len(mfs)), r2, label='R2')\n",
    "plt.xticks(range(len(mfs)), mfs)\n",
    "plt.ylabel('R2 Score', fontsize=13)\n",
    "plt.title('Hobby - R2 score and RMSE vs Random Forest max_feature', fontsize=14)\n",
    "\n",
    "plt.subplot(2, 1, 2)\n",
    "plt.plot(range(len(mfs)), rmse, label='RMSE')\n",
    "plt.xticks(range(len(mfs)), mfs)\n",
    "plt.ylabel('RMSE', fontsize=13)\n",
    "plt.savefig(f'../plots/rf_hobby_hype_tuning_maxf.png')"
   ]
  },
  {
   "cell_type": "markdown",
   "id": "59de9ea7-a76e-4fb9-bc22-46ad5645ea0c",
   "metadata": {},
   "source": [
    "When max_feature = 14, the model has highest r2 score and lowest RMSE."
   ]
  },
  {
   "cell_type": "code",
   "execution_count": null,
   "id": "ebc88b1e-78b4-4376-92f3-3f6599bb09d2",
   "metadata": {},
   "outputs": [],
   "source": [
    "# Visualise RMSE and R2 for different n_estimator value\n",
    "rmse = []\n",
    "r2 = []\n",
    "ests = (10, 100, 300, 500)\n",
    "\n",
    "\n",
    "for n_est in ests:\n",
    "    rf = RandomForestRegressor(n_estimators=n_est, random_state = 42, \n",
    "                               max_features=14)\n",
    "    rmse_cv = cross_val_score(rf, X_train, y_train, cv=5, \n",
    "                             scoring='neg_root_mean_squared_error')\n",
    "    r2_cv = cross_val_score(rf, X_train, y_train, cv=5, scoring='r2')\n",
    "    \n",
    "    print(f\"n_estimators = {n_est}: \\t\", 'R2-score:', np.mean(r2_cv), \n",
    "          '\\tRMSE:', abs(np.mean(rmse_cv)))\n",
    "    rmse.append(abs(np.mean(rmse_cv)))\n",
    "    r2.append(np.mean(r2_cv))\n",
    "    \n",
    "plt.figure(figsize=(8,6))\n",
    "plt.subplot(2, 1, 1)\n",
    "plt.plot(range(len(ests)), r2, label='R2')\n",
    "plt.xticks(range(len(ests)), ests)\n",
    "plt.ylabel('R2 Score', fontsize=13)\n",
    "plt.title('Hobby - R2 score and RMSE vs Random Forest n_estimators', fontsize=14)\n",
    "\n",
    "plt.subplot(2, 1, 2)\n",
    "plt.plot(range(len(ests)), rmse, label='RMSE')\n",
    "plt.xticks(range(len(ests)), ests)\n",
    "plt.xlabel('n_estimate', fontsize=13)\n",
    "plt.ylabel('RMSE', fontsize=13)\n",
    "plt.savefig(f'../plots/rf_hobby_hype_tuning_nest.png')"
   ]
  },
  {
   "cell_type": "markdown",
   "id": "d5dd1c4a-141d-42a4-be47-0116bc237e9b",
   "metadata": {},
   "source": [
    "When n_estimate = 100, the model has highest r2 score and lowest RMSE."
   ]
  },
  {
   "cell_type": "code",
   "execution_count": null,
   "id": "79bd566a-26d6-4464-b357-948d59b7150f",
   "metadata": {},
   "outputs": [],
   "source": [
    "rf = RandomForestRegressor(n_estimators = 100, random_state = 42, \n",
    "                           max_features=14)\n",
    "rf.fit(X_train, y_train)\n",
    "y_pred = rf.predict(X_test)"
   ]
  },
  {
   "cell_type": "code",
   "execution_count": null,
   "id": "ba78d8c6-acad-4ecc-a89c-143d8dfe4dca",
   "metadata": {},
   "outputs": [],
   "source": [
    "y_test_actual = np.ravel(scaler_y_test.inverse_transform([y_test]))\n",
    "y_pred_actual = np.ravel(scaler_y_test.inverse_transform([y_pred]))"
   ]
  },
  {
   "cell_type": "code",
   "execution_count": null,
   "id": "74651d67-c990-414c-870e-6306b9be394b",
   "metadata": {},
   "outputs": [],
   "source": [
    "print('Root Mean Squared Error:', \n",
    "      np.sqrt(metrics.mean_squared_error(y_test_actual, y_pred_actual)))\n",
    "print('Root Mean Absolute Percentage Error:', \n",
    "      metrics.mean_absolute_percentage_error(y_test_actual, y_pred_actual))\n",
    "print('R^2 Score:', metrics.r2_score(y_test_actual, y_pred_actual))"
   ]
  },
  {
   "cell_type": "code",
   "execution_count": null,
   "id": "a8e0cf64-6943-4a35-8f26-504a3060b622",
   "metadata": {},
   "outputs": [],
   "source": [
    "df1 = hobby_df_test[['merchant_abn', 'order_year_month']]\n",
    "df1['total_revenue'] = y_pred_actual\n",
    "df1['pred/act'] = 'Prediction'\n",
    "\n",
    "df2 = hobby_df_test[['merchant_abn', 'order_year_month']]\n",
    "df2['total_revenue'] = hobby_df_test['total_revenue']\n",
    "df2['pred/act'] = 'Actual'\n",
    "\n",
    "df_visualise = pd.concat([df1, df2],axis=0)\n",
    "\n",
    "df_vis = df_visualise[df_visualise['merchant_abn'] == 63123845164]\n",
    "plt.figure(figsize=(20, 7))\n",
    "sns.barplot(\n",
    "    x=\"order_year_month\", y=\"total_revenue\", hue=\"pred/act\", data=df_vis, ci=95, \n",
    "    palette=\"Paired\"\n",
    ")\n",
    "plt.savefig(f'../plots/rf_hobby_predvsact_63123845164.png')"
   ]
  },
  {
   "cell_type": "code",
   "execution_count": null,
   "id": "2b155d3f-611d-4ef3-b270-684a9201f4c1",
   "metadata": {},
   "outputs": [],
   "source": [
    "# visualise feature importance value\n",
    "importances = list(rf.feature_importances_)\n",
    "df_imp = (pd.DataFrame({'feature':X_train.columns.tolist(), 'importances':importances})\n",
    "            .sort_values(by='importances', ascending=False).reset_index(drop=True))\n",
    "\n",
    "df_imp_top30 = df_imp[:30]\n",
    "plt.figure(figsize=(15,5))\n",
    "plt.bar('feature', 'importances', orientation = 'vertical', data=df_imp_top30)\n",
    "plt.xticks(rotation=45, ha=\"right\")\n",
    "plt.xlabel(\"\", fontsize=18)\n",
    "plt.ylabel(\"Importance Value\", fontsize=18)\n",
    "plt.title(\"Hobby - Most important feature for the Random Forest Model\", fontsize=20)\n",
    "plt.savefig(f'../plots/rf_hobby_important_feat.png', bbox_inches='tight')\n"
   ]
  },
  {
   "cell_type": "code",
   "execution_count": null,
   "id": "ff6405f2-3654-4adf-978d-1c451d762cd4",
   "metadata": {},
   "outputs": [],
   "source": [
    "# Get top 10 merchants by calculating their monthly total revenue\n",
    "# Merchant ranking based on prediction\n",
    "df_pred = df_visualise[df_visualise['pred/act'] == \"Prediction\"]\n",
    "df_actual = df_visualise[df_visualise['pred/act'] == \"Actual\"]\n",
    "\n",
    "pred_select = (df_pred.groupby('merchant_abn').sum('total_revenue')\n",
    "                 .reset_index(drop=False).sort_values('total_revenue', \n",
    "                                                      ascending=False)\n",
    "                 .head(10))\n",
    "\n",
    "pred_merchant_abn = pred_select['merchant_abn'].tolist()\n",
    "\n",
    "actual_select = (df_actual.groupby('merchant_abn').sum('total_revenue')\n",
    "                 .reset_index(drop=False).sort_values('total_revenue', \n",
    "                                                      ascending=False)\n",
    "                 .head(10))\n",
    "\n",
    "actual_merchant_abn = actual_select['merchant_abn'].tolist()\n",
    "\n",
    "[pred in actual_merchant_abn for pred in pred_merchant_abn]"
   ]
  },
  {
   "cell_type": "markdown",
   "id": "0963132d-e6d0-422f-8de3-31b442fb33be",
   "metadata": {},
   "source": [
    "9/10 of the predicted merchants are inside the actual top 10 rank highest revenue merchant."
   ]
  },
  {
   "cell_type": "code",
   "execution_count": null,
   "id": "1a749453-16d9-4c26-badd-887509d1bc7f",
   "metadata": {},
   "outputs": [],
   "source": []
  },
  {
   "cell_type": "code",
   "execution_count": null,
   "id": "cd515000-5305-46eb-a039-b0741ef54275",
   "metadata": {},
   "outputs": [],
   "source": []
  }
 ],
 "metadata": {
  "kernelspec": {
   "display_name": "Python 3 (ipykernel)",
   "language": "python",
   "name": "python3"
  },
  "language_info": {
   "codemirror_mode": {
    "name": "ipython",
    "version": 3
   },
   "file_extension": ".py",
   "mimetype": "text/x-python",
   "name": "python",
   "nbconvert_exporter": "python",
   "pygments_lexer": "ipython3",
   "version": "3.9.7"
  }
 },
 "nbformat": 4,
 "nbformat_minor": 5
}
