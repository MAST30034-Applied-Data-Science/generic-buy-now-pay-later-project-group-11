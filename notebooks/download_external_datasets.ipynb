{
 "cells": [
  {
   "cell_type": "code",
   "execution_count": 2,
   "id": "0375b36e-60d2-4f8b-8b1f-ff4f8dc46d59",
   "metadata": {
    "tags": []
   },
   "outputs": [
    {
     "name": "stdout",
     "output_type": "stream",
     "text": [
      "Defaulting to user installation because normal site-packages is not writeable\n",
      "Collecting owslib==0.25.0\n",
      "  Using cached OWSLib-0.25.0-py2.py3-none-any.whl (216 kB)\n",
      "Requirement already satisfied: fiona==1.8.21 in /Users/nadyaaurelia/Library/Python/3.8/lib/python/site-packages (1.8.21)\n",
      "Collecting geopandas==0.10.2\n",
      "  Using cached geopandas-0.10.2-py2.py3-none-any.whl (1.0 MB)\n",
      "Collecting requests==2.28.0\n",
      "  Using cached requests-2.28.0-py3-none-any.whl (62 kB)\n",
      "Collecting folium==0.12.1\n",
      "  Using cached folium-0.12.1-py2.py3-none-any.whl (94 kB)\n",
      "Requirement already satisfied: python-dateutil>=1.5 in /Users/nadyaaurelia/Library/Python/3.8/lib/python/site-packages (from owslib==0.25.0) (2.8.2)\n",
      "Requirement already satisfied: pytz in /Users/nadyaaurelia/Library/Python/3.8/lib/python/site-packages (from owslib==0.25.0) (2022.1)\n",
      "Collecting pyyaml\n",
      "  Downloading PyYAML-6.0-cp38-cp38-macosx_10_9_x86_64.whl (192 kB)\n",
      "\u001b[2K     \u001b[90m━━━━━━━━━━━━━━━━━━━━━━━━━━━━━━━━━━━━━━━\u001b[0m \u001b[32m192.2/192.2 kB\u001b[0m \u001b[31m4.2 MB/s\u001b[0m eta \u001b[36m0:00:00\u001b[0ma \u001b[36m0:00:01\u001b[0m\n",
      "\u001b[?25hRequirement already satisfied: pyproj>=2 in /Users/nadyaaurelia/Library/Python/3.8/lib/python/site-packages (from owslib==0.25.0) (3.3.1)\n",
      "Requirement already satisfied: click-plugins>=1.0 in /Users/nadyaaurelia/Library/Python/3.8/lib/python/site-packages (from fiona==1.8.21) (1.1.1)\n",
      "Requirement already satisfied: six>=1.7 in /Library/Developer/CommandLineTools/Library/Frameworks/Python3.framework/Versions/3.8/lib/python3.8/site-packages (from fiona==1.8.21) (1.15.0)\n",
      "Requirement already satisfied: setuptools in /Library/Developer/CommandLineTools/Library/Frameworks/Python3.framework/Versions/3.8/lib/python3.8/site-packages (from fiona==1.8.21) (49.2.1)\n",
      "Requirement already satisfied: munch in /Users/nadyaaurelia/Library/Python/3.8/lib/python/site-packages (from fiona==1.8.21) (2.5.0)\n",
      "Requirement already satisfied: click>=4.0 in /Users/nadyaaurelia/Library/Python/3.8/lib/python/site-packages (from fiona==1.8.21) (8.1.3)\n",
      "Requirement already satisfied: certifi in /Users/nadyaaurelia/Library/Python/3.8/lib/python/site-packages (from fiona==1.8.21) (2022.6.15)\n",
      "Requirement already satisfied: attrs>=17 in /Users/nadyaaurelia/Library/Python/3.8/lib/python/site-packages (from fiona==1.8.21) (22.1.0)\n",
      "Requirement already satisfied: cligj>=0.5 in /Users/nadyaaurelia/Library/Python/3.8/lib/python/site-packages (from fiona==1.8.21) (0.7.2)\n",
      "Requirement already satisfied: shapely>=1.6 in /Users/nadyaaurelia/Library/Python/3.8/lib/python/site-packages (from geopandas==0.10.2) (1.8.2)\n",
      "Requirement already satisfied: pandas>=0.25.0 in /Users/nadyaaurelia/Library/Python/3.8/lib/python/site-packages (from geopandas==0.10.2) (1.4.3)\n",
      "Requirement already satisfied: urllib3<1.27,>=1.21.1 in /Users/nadyaaurelia/Library/Python/3.8/lib/python/site-packages (from requests==2.28.0) (1.26.11)\n",
      "Collecting charset-normalizer~=2.0.0\n",
      "  Downloading charset_normalizer-2.0.12-py3-none-any.whl (39 kB)\n",
      "Requirement already satisfied: idna<4,>=2.5 in /Users/nadyaaurelia/Library/Python/3.8/lib/python/site-packages (from requests==2.28.0) (3.3)\n",
      "Requirement already satisfied: branca>=0.3.0 in /Users/nadyaaurelia/Library/Python/3.8/lib/python/site-packages (from folium==0.12.1) (0.5.0)\n",
      "Requirement already satisfied: numpy in /Users/nadyaaurelia/Library/Python/3.8/lib/python/site-packages (from folium==0.12.1) (1.23.1)\n",
      "Requirement already satisfied: jinja2>=2.9 in /Users/nadyaaurelia/Library/Python/3.8/lib/python/site-packages (from folium==0.12.1) (3.1.2)\n",
      "Requirement already satisfied: MarkupSafe>=2.0 in /Users/nadyaaurelia/Library/Python/3.8/lib/python/site-packages (from jinja2>=2.9->folium==0.12.1) (2.1.1)\n",
      "Installing collected packages: pyyaml, charset-normalizer, requests, owslib, geopandas, folium\n",
      "  Attempting uninstall: charset-normalizer\n",
      "    Found existing installation: charset-normalizer 2.1.0\n",
      "    Uninstalling charset-normalizer-2.1.0:\n",
      "      Successfully uninstalled charset-normalizer-2.1.0\n",
      "\u001b[33m  WARNING: The script normalizer is installed in '/Users/nadyaaurelia/Library/Python/3.8/bin' which is not on PATH.\n",
      "  Consider adding this directory to PATH or, if you prefer to suppress this warning, use --no-warn-script-location.\u001b[0m\u001b[33m\n",
      "\u001b[0m  Attempting uninstall: requests\n",
      "    Found existing installation: requests 2.28.1\n",
      "    Uninstalling requests-2.28.1:\n",
      "      Successfully uninstalled requests-2.28.1\n",
      "  Attempting uninstall: geopandas\n",
      "    Found existing installation: geopandas 0.11.1\n",
      "    Uninstalling geopandas-0.11.1:\n",
      "      Successfully uninstalled geopandas-0.11.1\n",
      "  Attempting uninstall: folium\n",
      "    Found existing installation: folium 0.12.1.post1\n",
      "    Uninstalling folium-0.12.1.post1:\n",
      "      Successfully uninstalled folium-0.12.1.post1\n",
      "Successfully installed charset-normalizer-2.0.12 folium-0.12.1 geopandas-0.10.2 owslib-0.25.0 pyyaml-6.0 requests-2.28.0\n",
      "\n",
      "\u001b[1m[\u001b[0m\u001b[34;49mnotice\u001b[0m\u001b[1;39;49m]\u001b[0m\u001b[39;49m A new release of pip available: \u001b[0m\u001b[31;49m22.2.1\u001b[0m\u001b[39;49m -> \u001b[0m\u001b[32;49m22.2.2\u001b[0m\n",
      "\u001b[1m[\u001b[0m\u001b[34;49mnotice\u001b[0m\u001b[1;39;49m]\u001b[0m\u001b[39;49m To update, run: \u001b[0m\u001b[32;49m/Library/Developer/CommandLineTools/usr/bin/python3 -m pip install --upgrade pip\u001b[0m\n"
     ]
    }
   ],
   "source": [
    "# remove hash to install package\n",
    "# !pip3 install owslib==0.25.0 fiona==1.8.21 geopandas==0.10.2 requests==2.28.0 folium==0.12.1"
   ]
  },
  {
   "cell_type": "code",
   "execution_count": 3,
   "id": "18f0dd09-930c-476e-87e2-e64a5aa48349",
   "metadata": {},
   "outputs": [],
   "source": [
    "from owslib.wfs import WebFeatureService\n",
    "import geopandas\n",
    "import folium\n",
    "import io\n",
    "import zipfile\n",
    "import pandas as pd\n",
    "import os\n",
    "from urllib.request import urlretrieve"
   ]
  },
  {
   "cell_type": "markdown",
   "id": "c176d3c9-c45f-4aa0-90c9-37affe251f88",
   "metadata": {},
   "source": [
    "## Download external data from AURIN"
   ]
  },
  {
   "cell_type": "code",
   "execution_count": 4,
   "id": "d1973026-414d-4f75-8fc1-5f315a220e1f",
   "metadata": {},
   "outputs": [],
   "source": [
    "# User credential to connect with API\n",
    "WFS_USERNAME = 'nyjhp'\n",
    "WFS_PASSWORD= 'aFdYtPH7foNjcD58'\n",
    "WFS_URL='https://adp.aurin.org.au/geoserver/wfs'"
   ]
  },
  {
   "cell_type": "code",
   "execution_count": 5,
   "id": "6cd618b5-188d-4a19-a7d9-c0aea3f3d692",
   "metadata": {},
   "outputs": [],
   "source": [
    "# Connect with API\n",
    "adp_client = WebFeatureService(url=WFS_URL,username=WFS_USERNAME, password=WFS_PASSWORD, version='2.0.0')"
   ]
  },
  {
   "cell_type": "code",
   "execution_count": 6,
   "id": "ca4805b5-cb46-43cd-8969-2cdcfe8053df",
   "metadata": {},
   "outputs": [],
   "source": [
    "def download_aurin_df(type_name, file_name):\n",
    "    \"\"\"\n",
    "        This function downloads the dataset from AURIN API\n",
    "        \n",
    "        type_name: dataset identifier from the website\n",
    "        file_name: output file name \n",
    "    \"\"\"\n",
    "\n",
    "    output_dir = '../data/abs'\n",
    "    \n",
    "    if not os.path.exists(output_dir):\n",
    "        os.makedirs(output_dir)\n",
    "        \n",
    "    response = adp_client.getfeature(typename=type_name)\n",
    "    out = open(f'{output_dir}/{file_name}.gml', 'wb')\n",
    "    out.write(response.read())\n",
    "    out.close()\n",
    "    return geopandas.read_file(f'{output_dir}/{file_name}.gml')\n",
    "\n"
   ]
  },
  {
   "cell_type": "code",
   "execution_count": 13,
   "id": "ce666ac0-647a-4116-b980-42ce25597133",
   "metadata": {},
   "outputs": [],
   "source": [
    "# Download selected external data\n",
    "\n",
    "pop_df = download_aurin_df('datasource-AU_Govt_ABS-UoM_AURIN_DB_3:abs_regional_population_sa2_2001_2021', \n",
    "                           '2021_population_census')\n",
    "\n",
    "sa2_bound = download_aurin_df('datasource-AU_Govt_ABS-UoM_AURIN_DB_GeoLevel:sa2_2016_aust',\n",
    "                        'sa2_boundaries')\n",
    "\n",
    "poa_bound = download_aurin_df('datasource-AU_Govt_ABS-UoM_AURIN_DB_GeoLevel:poa_2016_aust',\n",
    "                        'poa_boundaries')\n",
    "\n",
    "sa2_income = download_aurin_df('datasource-AU_Govt_ABS-UoM_AURIN_DB_3:abs_personal_income_total_income_distribution_sa2_2017_18', \n",
    "                        'sa2_income')"
   ]
  },
  {
   "cell_type": "code",
   "execution_count": 7,
   "id": "9566aaf7-f8f3-45de-819a-46d5e95008d8",
   "metadata": {},
   "outputs": [],
   "source": [
    "# Select 2021 population census\n",
    "\n",
    "area_id = ['gml_id', 'primaryindex', 'state_code_2016', 'sa2_maincode_2016',\n",
    "           'sa2_name_2016']\n",
    "col_2021 = [x for x in pop_df.columns if '2021' in x or '2020_21' in x]\n",
    "pop_21 = pop_df[area_id + col_2021]"
   ]
  },
  {
   "cell_type": "code",
   "execution_count": 9,
   "id": "df2ce937-0b7b-44a4-985c-c2a2ec0c293d",
   "metadata": {},
   "outputs": [
    {
     "data": {
      "text/plain": [
       "(2292, 18)"
      ]
     },
     "execution_count": 9,
     "metadata": {},
     "output_type": "execute_result"
    }
   ],
   "source": [
    "pop_21.shape"
   ]
  },
  {
   "cell_type": "markdown",
   "id": "b974ee12-8dfb-44b5-873e-489a984a5d0d",
   "metadata": {},
   "source": [
    "There should be 2,310 SA2 regions."
   ]
  },
  {
   "cell_type": "code",
   "execution_count": 10,
   "id": "031a9a44-f661-424f-a04d-20dcf89a11f4",
   "metadata": {},
   "outputs": [
    {
     "name": "stdout",
     "output_type": "stream",
     "text": [
      "<class 'pandas.core.frame.DataFrame'>\n",
      "RangeIndex: 2292 entries, 0 to 2291\n",
      "Data columns (total 18 columns):\n",
      " #   Column                           Non-Null Count  Dtype  \n",
      "---  ------                           --------------  -----  \n",
      " 0   gml_id                           2292 non-null   object \n",
      " 1   primaryindex                     2292 non-null   int64  \n",
      " 2   state_code_2016                  2292 non-null   int64  \n",
      " 3   sa2_maincode_2016                2292 non-null   int64  \n",
      " 4   sa2_name_2016                    2292 non-null   object \n",
      " 5   erp_2021                         2292 non-null   int64  \n",
      " 6   erp_change_number_2020_21        2292 non-null   int64  \n",
      " 7   erp_change_per_cent_2020_21      2292 non-null   float64\n",
      " 8   pop_density_2021_people_per_km2  2292 non-null   float64\n",
      " 9   births_2020_21                   2288 non-null   float64\n",
      " 10  deaths_2020_21                   2288 non-null   float64\n",
      " 11  natural_increase_2020_21         2288 non-null   float64\n",
      " 12  internal_arrivals_2020_21        2288 non-null   float64\n",
      " 13  internal_departures_2020_21      2288 non-null   float64\n",
      " 14  net_internal_migration_2020_21   2288 non-null   float64\n",
      " 15  overseas_arrivals_2020_21        2288 non-null   float64\n",
      " 16  overseas_departures_2020_21      2288 non-null   float64\n",
      " 17  net_overseas_migration_2020_21   2288 non-null   float64\n",
      "dtypes: float64(11), int64(5), object(2)\n",
      "memory usage: 322.4+ KB\n"
     ]
    }
   ],
   "source": [
    "# ERP refers to estimated resident population\n",
    "pop_21.info()"
   ]
  },
  {
   "cell_type": "markdown",
   "id": "05bd5854",
   "metadata": {},
   "source": [
    "Do we want to include these regions in the data???\n",
    "If so, will we include the attributes with missing data?\n",
    "If yes, how?\n",
    "If no, why?"
   ]
  },
  {
   "cell_type": "code",
   "execution_count": 11,
   "id": "797a7401",
   "metadata": {},
   "outputs": [
    {
     "data": {
      "text/html": [
       "<div>\n",
       "<style scoped>\n",
       "    .dataframe tbody tr th:only-of-type {\n",
       "        vertical-align: middle;\n",
       "    }\n",
       "\n",
       "    .dataframe tbody tr th {\n",
       "        vertical-align: top;\n",
       "    }\n",
       "\n",
       "    .dataframe thead th {\n",
       "        text-align: right;\n",
       "    }\n",
       "</style>\n",
       "<table border=\"1\" class=\"dataframe\">\n",
       "  <thead>\n",
       "    <tr style=\"text-align: right;\">\n",
       "      <th></th>\n",
       "      <th>gml_id</th>\n",
       "      <th>primaryindex</th>\n",
       "      <th>state_code_2016</th>\n",
       "      <th>sa2_maincode_2016</th>\n",
       "      <th>sa2_name_2016</th>\n",
       "      <th>erp_2021</th>\n",
       "      <th>erp_change_number_2020_21</th>\n",
       "      <th>erp_change_per_cent_2020_21</th>\n",
       "      <th>pop_density_2021_people_per_km2</th>\n",
       "      <th>births_2020_21</th>\n",
       "      <th>deaths_2020_21</th>\n",
       "      <th>natural_increase_2020_21</th>\n",
       "      <th>internal_arrivals_2020_21</th>\n",
       "      <th>internal_departures_2020_21</th>\n",
       "      <th>net_internal_migration_2020_21</th>\n",
       "      <th>overseas_arrivals_2020_21</th>\n",
       "      <th>overseas_departures_2020_21</th>\n",
       "      <th>net_overseas_migration_2020_21</th>\n",
       "    </tr>\n",
       "  </thead>\n",
       "  <tbody>\n",
       "    <tr>\n",
       "      <th>2231</th>\n",
       "      <td>abs_regional_population_sa2_2001_2021.2292</td>\n",
       "      <td>2292</td>\n",
       "      <td>9</td>\n",
       "      <td>901041004</td>\n",
       "      <td>Norfolk Island</td>\n",
       "      <td>1749</td>\n",
       "      <td>14</td>\n",
       "      <td>0.8069</td>\n",
       "      <td>45.251202</td>\n",
       "      <td>NaN</td>\n",
       "      <td>NaN</td>\n",
       "      <td>NaN</td>\n",
       "      <td>NaN</td>\n",
       "      <td>NaN</td>\n",
       "      <td>NaN</td>\n",
       "      <td>NaN</td>\n",
       "      <td>NaN</td>\n",
       "      <td>NaN</td>\n",
       "    </tr>\n",
       "    <tr>\n",
       "      <th>2289</th>\n",
       "      <td>abs_regional_population_sa2_2001_2021.2289</td>\n",
       "      <td>2289</td>\n",
       "      <td>9</td>\n",
       "      <td>901011001</td>\n",
       "      <td>Christmas Island</td>\n",
       "      <td>1979</td>\n",
       "      <td>15</td>\n",
       "      <td>0.7637</td>\n",
       "      <td>14.537000</td>\n",
       "      <td>NaN</td>\n",
       "      <td>NaN</td>\n",
       "      <td>NaN</td>\n",
       "      <td>NaN</td>\n",
       "      <td>NaN</td>\n",
       "      <td>NaN</td>\n",
       "      <td>NaN</td>\n",
       "      <td>NaN</td>\n",
       "      <td>NaN</td>\n",
       "    </tr>\n",
       "    <tr>\n",
       "      <th>2290</th>\n",
       "      <td>abs_regional_population_sa2_2001_2021.2290</td>\n",
       "      <td>2290</td>\n",
       "      <td>9</td>\n",
       "      <td>901021002</td>\n",
       "      <td>Cocos (Keeling) Islands</td>\n",
       "      <td>579</td>\n",
       "      <td>6</td>\n",
       "      <td>1.0471</td>\n",
       "      <td>42.212601</td>\n",
       "      <td>NaN</td>\n",
       "      <td>NaN</td>\n",
       "      <td>NaN</td>\n",
       "      <td>NaN</td>\n",
       "      <td>NaN</td>\n",
       "      <td>NaN</td>\n",
       "      <td>NaN</td>\n",
       "      <td>NaN</td>\n",
       "      <td>NaN</td>\n",
       "    </tr>\n",
       "    <tr>\n",
       "      <th>2291</th>\n",
       "      <td>abs_regional_population_sa2_2001_2021.2291</td>\n",
       "      <td>2291</td>\n",
       "      <td>9</td>\n",
       "      <td>901031003</td>\n",
       "      <td>Jervis Bay</td>\n",
       "      <td>397</td>\n",
       "      <td>2</td>\n",
       "      <td>0.5063</td>\n",
       "      <td>5.854300</td>\n",
       "      <td>NaN</td>\n",
       "      <td>NaN</td>\n",
       "      <td>NaN</td>\n",
       "      <td>NaN</td>\n",
       "      <td>NaN</td>\n",
       "      <td>NaN</td>\n",
       "      <td>NaN</td>\n",
       "      <td>NaN</td>\n",
       "      <td>NaN</td>\n",
       "    </tr>\n",
       "  </tbody>\n",
       "</table>\n",
       "</div>"
      ],
      "text/plain": [
       "                                          gml_id  primaryindex  \\\n",
       "2231  abs_regional_population_sa2_2001_2021.2292          2292   \n",
       "2289  abs_regional_population_sa2_2001_2021.2289          2289   \n",
       "2290  abs_regional_population_sa2_2001_2021.2290          2290   \n",
       "2291  abs_regional_population_sa2_2001_2021.2291          2291   \n",
       "\n",
       "      state_code_2016  sa2_maincode_2016            sa2_name_2016  erp_2021  \\\n",
       "2231                9          901041004           Norfolk Island      1749   \n",
       "2289                9          901011001         Christmas Island      1979   \n",
       "2290                9          901021002  Cocos (Keeling) Islands       579   \n",
       "2291                9          901031003               Jervis Bay       397   \n",
       "\n",
       "      erp_change_number_2020_21  erp_change_per_cent_2020_21  \\\n",
       "2231                         14                       0.8069   \n",
       "2289                         15                       0.7637   \n",
       "2290                          6                       1.0471   \n",
       "2291                          2                       0.5063   \n",
       "\n",
       "      pop_density_2021_people_per_km2  births_2020_21  deaths_2020_21  \\\n",
       "2231                        45.251202             NaN             NaN   \n",
       "2289                        14.537000             NaN             NaN   \n",
       "2290                        42.212601             NaN             NaN   \n",
       "2291                         5.854300             NaN             NaN   \n",
       "\n",
       "      natural_increase_2020_21  internal_arrivals_2020_21  \\\n",
       "2231                       NaN                        NaN   \n",
       "2289                       NaN                        NaN   \n",
       "2290                       NaN                        NaN   \n",
       "2291                       NaN                        NaN   \n",
       "\n",
       "      internal_departures_2020_21  net_internal_migration_2020_21  \\\n",
       "2231                          NaN                             NaN   \n",
       "2289                          NaN                             NaN   \n",
       "2290                          NaN                             NaN   \n",
       "2291                          NaN                             NaN   \n",
       "\n",
       "      overseas_arrivals_2020_21  overseas_departures_2020_21  \\\n",
       "2231                        NaN                          NaN   \n",
       "2289                        NaN                          NaN   \n",
       "2290                        NaN                          NaN   \n",
       "2291                        NaN                          NaN   \n",
       "\n",
       "      net_overseas_migration_2020_21  \n",
       "2231                             NaN  \n",
       "2289                             NaN  \n",
       "2290                             NaN  \n",
       "2291                             NaN  "
      ]
     },
     "execution_count": 11,
     "metadata": {},
     "output_type": "execute_result"
    }
   ],
   "source": [
    "pop_21[pop_21[\"births_2020_21\"].isnull()]"
   ]
  },
  {
   "cell_type": "markdown",
   "id": "ba26ae0c-9f23-4fb9-89fe-c7c422263bee",
   "metadata": {},
   "source": [
    "---\n",
    "## Download Postcode to SA2 table"
   ]
  },
  {
   "cell_type": "code",
   "execution_count": 16,
   "id": "ff8f16fa-60ed-47c0-bf2b-9c3051ba16c1",
   "metadata": {},
   "outputs": [],
   "source": [
    "def download_url(url, filename):\n",
    "    '''\n",
    "        This function downloads data from the specified url.\n",
    "\n",
    "        url: url of specified website\n",
    "        filename: output file name\n",
    "    '''\n",
    "    output_dir = '../data/abs'\n",
    "    \n",
    "    if not os.path.exists(output_dir):\n",
    "        os.makedirs(output_dir)\n",
    "        \n",
    "    print(f\"Begin downloading file_name data\")\n",
    "    output_dir = f\"{output_dir}/{filename}.zip\"\n",
    "    urlretrieve(url, output_dir)\n",
    "    print(f\"Completed\")"
   ]
  },
  {
   "cell_type": "code",
   "execution_count": 17,
   "id": "6b018dd2-0e19-4973-977c-b1b2588fdf46",
   "metadata": {},
   "outputs": [
    {
     "name": "stdout",
     "output_type": "stream",
     "text": [
      "Begin downloading file_name data\n",
      "Completed\n"
     ]
    }
   ],
   "source": [
    "download_url('https://www.abs.gov.au/AUSSTATS/subscriber.nsf/log?openagent&1270055006_CG_POSTCODE_2011_SA2_2011.zip&1270.0.55.006&Data%20Cubes&70A3CE8A2E6F9A6BCA257A29001979B2&0&July%202011&27.06.2012&Latest'\n",
    "             , 'poa_sa2_lookup')"
   ]
  },
  {
   "cell_type": "code",
   "execution_count": 18,
   "id": "801968c7-2d8a-4d02-a3a6-92ba6e4f5f96",
   "metadata": {},
   "outputs": [],
   "source": [
    "# Open zipfile\n",
    "unzip_poa_sa2 = zipfile.ZipFile('../data/abs/poa_sa2_lookup.zip') "
   ]
  },
  {
   "cell_type": "code",
   "execution_count": 19,
   "id": "f0a136ad-af23-4323-b7ff-826fe845485f",
   "metadata": {},
   "outputs": [],
   "source": [
    "poa_to_sa2 = pd.read_excel(unzip_poa_sa2.open('1270055006_CG_POSTCODE_2011_SA2_2011.xls')\n",
    "                        , sheet_name='Table 3', skiprows=5)"
   ]
  },
  {
   "cell_type": "code",
   "execution_count": 20,
   "id": "3bf053ed-f659-4a50-b7cd-2f01cae0f0fa",
   "metadata": {},
   "outputs": [],
   "source": [
    "poa_to_sa2 = poa_to_sa2.dropna()"
   ]
  },
  {
   "cell_type": "markdown",
   "id": "9c6cf36d",
   "metadata": {},
   "source": [
    "There are 2162 SA2 codes in Postcode to SA2 data, but there are 2292. Try to find newer data for poa_to_sa2?"
   ]
  },
  {
   "cell_type": "code",
   "execution_count": 22,
   "id": "9f8f1163-b48c-492c-9886-60ce5a0368f0",
   "metadata": {},
   "outputs": [
    {
     "data": {
      "text/plain": [
       "2162"
      ]
     },
     "execution_count": 22,
     "metadata": {},
     "output_type": "execute_result"
    }
   ],
   "source": [
    "poa_to_sa2[\"SA2_MAINCODE_2011\"].unique().size"
   ]
  }
 ],
 "metadata": {
  "kernelspec": {
   "display_name": "Python 3.8.9 64-bit",
   "language": "python",
   "name": "python3"
  },
  "language_info": {
   "codemirror_mode": {
    "name": "ipython",
    "version": 3
   },
   "file_extension": ".py",
   "mimetype": "text/x-python",
   "name": "python",
   "nbconvert_exporter": "python",
   "pygments_lexer": "ipython3",
   "version": "3.8.9"
  },
  "vscode": {
   "interpreter": {
    "hash": "31f2aee4e71d21fbe5cf8b01ff0e069b9275f58929596ceb00d14d90e3e16cd6"
   }
  }
 },
 "nbformat": 4,
 "nbformat_minor": 5
}
