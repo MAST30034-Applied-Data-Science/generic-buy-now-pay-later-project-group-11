{
 "cells": [
  {
   "cell_type": "code",
   "execution_count": 1,
   "metadata": {},
   "outputs": [],
   "source": [
    "import pandas as pd\n",
    "import numpy as np\n",
    "import seaborn as sns\n",
    "import geopandas as gpd\n",
    "from datetime import datetime\n",
    "import matplotlib.pyplot as plt\n",
    "%matplotlib inline\n",
    "\n",
    "import geopandas as gpd\n",
    "import folium\n",
    "from pyspark.sql import SparkSession, Window, functions as F\n",
    "from pyspark.sql.functions import countDistinct, col, date_format\n",
    "import numpy as np\n",
    "import pyspark.sql.functions as func\n",
    "from pyspark.sql.types import (\n",
    "    StringType,\n",
    "    LongType,\n",
    "    DoubleType,\n",
    "    StructField,\n",
    "    StructType,\n",
    "    FloatType\n",
    ")\n",
    "\n",
    "import warnings\n",
    "warnings.filterwarnings(\"ignore\")"
   ]
  },
  {
   "cell_type": "code",
   "execution_count": 2,
   "metadata": {},
   "outputs": [
    {
     "name": "stdout",
     "output_type": "stream",
     "text": [
      "22/09/14 21:00:45 WARN Utils: Your hostname, LAPTOP-URHBN55Q resolves to a loopback address: 127.0.1.1; using 10.13.193.65 instead (on interface wifi0)\n",
      "22/09/14 21:00:45 WARN Utils: Set SPARK_LOCAL_IP if you need to bind to another address\n"
     ]
    },
    {
     "name": "stderr",
     "output_type": "stream",
     "text": [
      "Setting default log level to \"WARN\".\n",
      "To adjust logging level use sc.setLogLevel(newLevel). For SparkR, use setLogLevel(newLevel).\n"
     ]
    },
    {
     "name": "stdout",
     "output_type": "stream",
     "text": [
      "22/09/14 21:00:50 WARN NativeCodeLoader: Unable to load native-hadoop library for your platform... using builtin-java classes where applicable\n"
     ]
    }
   ],
   "source": [
    "# Start Spark Session\n",
    "spark = (\n",
    "    SparkSession.builder.appName(\"MAST30034 Project 2 BNPL\")\n",
    "    .config(\"spark.sql.repl.eagerEval.enabled\", True) \n",
    "    .config(\"spark.sql.parquet.cacheMetadata\", \"true\")\n",
    "    .config(\"spark.sql.session.timeZone\", \"Etc/UTC\")\n",
    "    .config(\"spark.driver.memory\", \"4g\")\n",
    "    .config(\"spark.executor.memory\", \"8g\")\n",
    "    .getOrCreate()\n",
    ")"
   ]
  },
  {
   "cell_type": "code",
   "execution_count": 3,
   "metadata": {},
   "outputs": [
    {
     "name": "stderr",
     "output_type": "stream",
     "text": [
      "                                                                                \r"
     ]
    },
    {
     "name": "stdout",
     "output_type": "stream",
     "text": [
      "added transactions_20210228_20210827_snapshot\n",
      "added transactions_20210828_20220227_snapshot\n",
      "added transactions_20220228_20220828_snapshot\n"
     ]
    }
   ],
   "source": [
    "# load all transactions datasets\n",
    "paths=['../data/tables/transactions_20210228_20210827_snapshot',\n",
    "       '../data/tables/transactions_20210828_20220227_snapshot',\n",
    "       '../data/tables/transactions_20220228_20220828_snapshot']\n",
    "\n",
    "first = 1\n",
    "for path in paths:\n",
    "    if first:\n",
    "        transactions = spark.read.parquet(path)\n",
    "        print(f'added {path.split(\"/\")[3]}')\n",
    "        first = 0\n",
    "    else:\n",
    "        append_transactions = spark.read.parquet(path)\n",
    "        transactions = transactions.union(append_transactions)\n",
    "        print(f'added {path.split(\"/\")[3]}')"
   ]
  },
  {
   "cell_type": "code",
   "execution_count": 4,
   "metadata": {},
   "outputs": [],
   "source": [
    "consumer = spark.read.csv(\"../data/tables/tbl_consumer.csv\", header=True, sep=\"|\")\n",
    "details = spark.read.parquet(\"../data/tables/consumer_user_details.parquet\")\n",
    "merchants = spark.read.parquet(\"../data/tables/tbl_merchants.parquet\")"
   ]
  },
  {
   "cell_type": "code",
   "execution_count": 5,
   "metadata": {},
   "outputs": [],
   "source": [
    "# rename columns\n",
    "merchants = merchants.withColumnRenamed('name', 'merchant_name')\n",
    "consumer = consumer.withColumnRenamed('name', 'consumer_name')"
   ]
  },
  {
   "cell_type": "code",
   "execution_count": 74,
   "metadata": {},
   "outputs": [],
   "source": [
    "# Join consumers with their respective details\n",
    "consumer_detail = consumer.join(details, on=\"consumer_id\")\n",
    "\n",
    "# Join consumers with their respective transactions\n",
    "consumer_trx = consumer_detail.join(transactions, on=\"user_id\")\n",
    "\n",
    "# Join transactions with the respective merchants\n",
    "df_trx = consumer_trx.join(merchants, on=\"merchant_abn\")"
   ]
  },
  {
   "cell_type": "code",
   "execution_count": 75,
   "metadata": {},
   "outputs": [],
   "source": [
    "from pyspark.sql.types import *\n",
    "@F.udf(StringType())\n",
    "def normalize_tags(col):\n",
    "    return col.replace(\"(\", \"[\").replace(\")\", \"]\")[1:-1]\n",
    "\n",
    "@F.udf(StringType())\n",
    "def clean_string(col):\n",
    "    col = col.lower()\n",
    "    return \" \".join(col.split())"
   ]
  },
  {
   "cell_type": "code",
   "execution_count": 76,
   "metadata": {},
   "outputs": [],
   "source": [
    "df_trx = df_trx.withColumn(\"tags\", normalize_tags(F.col(\"tags\")))\n",
    "df_trx = df_trx.withColumn(\"categories\", F.regexp_extract(\"tags\", \"(?<=\\[)(.*?)(?=\\])\", 1))\n",
    "df_trx = df_trx.withColumn(\"revenue_level\", F.regexp_extract(\"tags\", \"(?<=,\\s\\[)([a-e]+?)(?=\\],)\", 1))\n",
    "df_trx = df_trx.withColumn(\"take_rate\", F.regexp_extract(\"tags\", \"(?<=\\[take rate: )(.*?)(?=\\])\", 1))\n",
    "df_trx = df_trx.withColumn(\"take_rate\", F.col(\"take_rate\").astype(FloatType()))\n",
    "df_trx = df_trx.withColumn(\"categories\", clean_string(F.col(\"categories\")))\n",
    "df_trx = df_trx.where(F.col(\"dollar_value\") >= 35)"
   ]
  },
  {
   "cell_type": "code",
   "execution_count": 7,
   "metadata": {},
   "outputs": [],
   "source": [
    "fraud_data_consumer = spark.read.csv(\"../data/tables/consumer_fraud_probability.csv\", header=True)\n",
    "fraud_data_merchant = spark.read.csv(\"../data/tables/merchant_fraud_probability.csv\", header=True)"
   ]
  },
  {
   "cell_type": "code",
   "execution_count": 85,
   "metadata": {},
   "outputs": [],
   "source": [
    "fraud_trx = df_trx.join(fraud_data_merchant, on=[\"merchant_abn\", \"order_datetime\"], how=\"left\").withColumnRenamed(\"fraud_probability\", \"fraud_merchant_pr\")\n",
    "fraud_trx = fraud_trx.join(fraud_data_consumer, on=[\"user_id\", \"order_datetime\"], how=\"left\").withColumnRenamed(\"fraud_probability\", \"fraud_consumer_pr\")\n",
    "fraud_trx = fraud_trx.where((F.col(\"fraud_merchant_pr\").isNotNull()) | F.col(\"fraud_consumer_pr\").isNotNull())\n"
   ]
  },
  {
   "cell_type": "code",
   "execution_count": 11,
   "metadata": {},
   "outputs": [
    {
     "name": "stderr",
     "output_type": "stream",
     "text": [
      "                                                                                \r"
     ]
    },
    {
     "data": {
      "text/html": [
       "<table border='1'>\n",
       "<tr><th>categories</th><th>avg(dollar_value)</th></tr>\n",
       "<tr><td>opticians, optica...</td><td>180.11468203299097</td></tr>\n",
       "<tr><td>watch, clock, and...</td><td>113.45844502135355</td></tr>\n",
       "<tr><td>computer programm...</td><td>306.88873737355806</td></tr>\n",
       "<tr><td>digital goods: bo...</td><td>92.15849660635749</td></tr>\n",
       "<tr><td>books, periodical...</td><td>370.69060410569057</td></tr>\n",
       "<tr><td>florists supplies...</td><td>227.97766825800727</td></tr>\n",
       "<tr><td>art dealers and g...</td><td>4209.980883118837</td></tr>\n",
       "<tr><td>antique shops - s...</td><td>9552.813136488116</td></tr>\n",
       "<tr><td>gift, card, novel...</td><td>96.36398334276166</td></tr>\n",
       "<tr><td>equipment, tool, ...</td><td>3874.051815188241</td></tr>\n",
       "<tr><td>cable, satellite,...</td><td>102.82098449910478</td></tr>\n",
       "<tr><td>tent and awning s...</td><td>1492.0475149565002</td></tr>\n",
       "<tr><td>artist supply and...</td><td>1016.9893159176545</td></tr>\n",
       "<tr><td>stationery, offic...</td><td>851.2005655383235</td></tr>\n",
       "<tr><td>furniture, home f...</td><td>2131.2253633418377</td></tr>\n",
       "<tr><td>telecom</td><td>3999.2583025162003</td></tr>\n",
       "<tr><td>jewelry, watch, c...</td><td>11405.023895387749</td></tr>\n",
       "<tr><td>shoe shops</td><td>312.26112239986713</td></tr>\n",
       "<tr><td>hobby, toy and ga...</td><td>2227.4469368984505</td></tr>\n",
       "<tr><td>computers, comput...</td><td>377.2325155515932</td></tr>\n",
       "</table>\n",
       "only showing top 20 rows\n"
      ],
      "text/plain": [
       "+--------------------+------------------+\n",
       "|          categories| avg(dollar_value)|\n",
       "+--------------------+------------------+\n",
       "|opticians, optica...|180.11468203299097|\n",
       "|watch, clock, and...|113.45844502135355|\n",
       "|computer programm...|306.88873737355806|\n",
       "|digital goods: bo...| 92.15849660635749|\n",
       "|books, periodical...|370.69060410569057|\n",
       "|florists supplies...|227.97766825800727|\n",
       "|art dealers and g...| 4209.980883118837|\n",
       "|antique shops - s...| 9552.813136488116|\n",
       "|gift, card, novel...| 96.36398334276166|\n",
       "|equipment, tool, ...| 3874.051815188241|\n",
       "|cable, satellite,...|102.82098449910478|\n",
       "|tent and awning s...|1492.0475149565002|\n",
       "|artist supply and...|1016.9893159176545|\n",
       "|stationery, offic...| 851.2005655383235|\n",
       "|furniture, home f...|2131.2253633418377|\n",
       "|             telecom|3999.2583025162003|\n",
       "|jewelry, watch, c...|11405.023895387749|\n",
       "|          shoe shops|312.26112239986713|\n",
       "|hobby, toy and ga...|2227.4469368984505|\n",
       "|computers, comput...| 377.2325155515932|\n",
       "+--------------------+------------------+\n",
       "only showing top 20 rows"
      ]
     },
     "execution_count": 11,
     "metadata": {},
     "output_type": "execute_result"
    }
   ],
   "source": [
    "fraud_trx.groupby(\"categories\").agg({\"dollar_value\": \"mean\"})"
   ]
  },
  {
   "cell_type": "code",
   "execution_count": 12,
   "metadata": {},
   "outputs": [
    {
     "name": "stderr",
     "output_type": "stream",
     "text": [
      "                                                                                \r"
     ]
    },
    {
     "data": {
      "text/html": [
       "<table border='1'>\n",
       "<tr><th>categories</th><th>median</th></tr>\n",
       "<tr><td>opticians, optica...</td><td>106.30811865982163</td></tr>\n",
       "<tr><td>watch, clock, and...</td><td>88.74585943337901</td></tr>\n",
       "<tr><td>computer programm...</td><td>198.5768271480985</td></tr>\n",
       "<tr><td>digital goods: bo...</td><td>79.02363115111925</td></tr>\n",
       "<tr><td>books, periodical...</td><td>284.4484332983803</td></tr>\n",
       "<tr><td>florists supplies...</td><td>121.16742730371777</td></tr>\n",
       "<tr><td>art dealers and g...</td><td>3515.971581731779</td></tr>\n",
       "<tr><td>antique shops - s...</td><td>6760.640583371255</td></tr>\n",
       "<tr><td>gift, card, novel...</td><td>83.20861964063579</td></tr>\n",
       "<tr><td>equipment, tool, ...</td><td>3544.4178736935846</td></tr>\n",
       "<tr><td>cable, satellite,...</td><td>88.87531579196863</td></tr>\n",
       "<tr><td>tent and awning s...</td><td>1650.2467410669574</td></tr>\n",
       "<tr><td>artist supply and...</td><td>764.9139771000141</td></tr>\n",
       "<tr><td>stationery, offic...</td><td>589.0385321132612</td></tr>\n",
       "<tr><td>furniture, home f...</td><td>2270.001657444651</td></tr>\n",
       "<tr><td>telecom</td><td>3626.032256932236</td></tr>\n",
       "<tr><td>jewelry, watch, c...</td><td>9464.212719834095</td></tr>\n",
       "<tr><td>shoe shops</td><td>211.01783549039732</td></tr>\n",
       "<tr><td>hobby, toy and ga...</td><td>2360.495891039411</td></tr>\n",
       "<tr><td>computers, comput...</td><td>218.50620421469355</td></tr>\n",
       "</table>\n",
       "only showing top 20 rows\n"
      ],
      "text/plain": [
       "+--------------------+------------------+\n",
       "|          categories|            median|\n",
       "+--------------------+------------------+\n",
       "|opticians, optica...|106.30811865982163|\n",
       "|watch, clock, and...| 88.74585943337901|\n",
       "|computer programm...| 198.5768271480985|\n",
       "|digital goods: bo...| 79.02363115111925|\n",
       "|books, periodical...| 284.4484332983803|\n",
       "|florists supplies...|121.16742730371777|\n",
       "|art dealers and g...| 3515.971581731779|\n",
       "|antique shops - s...| 6760.640583371255|\n",
       "|gift, card, novel...| 83.20861964063579|\n",
       "|equipment, tool, ...|3544.4178736935846|\n",
       "|cable, satellite,...| 88.87531579196863|\n",
       "|tent and awning s...|1650.2467410669574|\n",
       "|artist supply and...| 764.9139771000141|\n",
       "|stationery, offic...| 589.0385321132612|\n",
       "|furniture, home f...| 2270.001657444651|\n",
       "|             telecom| 3626.032256932236|\n",
       "|jewelry, watch, c...| 9464.212719834095|\n",
       "|          shoe shops|211.01783549039732|\n",
       "|hobby, toy and ga...| 2360.495891039411|\n",
       "|computers, comput...|218.50620421469355|\n",
       "+--------------------+------------------+\n",
       "only showing top 20 rows"
      ]
     },
     "execution_count": 12,
     "metadata": {},
     "output_type": "execute_result"
    }
   ],
   "source": [
    "fraud_trx.groupby(\"categories\").agg(F.percentile_approx(\"dollar_value\", 0.5).alias(\"median\"))"
   ]
  },
  {
   "cell_type": "code",
   "execution_count": 13,
   "metadata": {},
   "outputs": [
    {
     "name": "stderr",
     "output_type": "stream",
     "text": [
      "                                                                                \r"
     ]
    },
    {
     "data": {
      "text/html": [
       "<table border='1'>\n",
       "<tr><th>categories</th><th>stddev(dollar_value)</th></tr>\n",
       "<tr><td>opticians, optica...</td><td>190.00400833170363</td></tr>\n",
       "<tr><td>watch, clock, and...</td><td>80.85341016614638</td></tr>\n",
       "<tr><td>computer programm...</td><td>700.709065391746</td></tr>\n",
       "<tr><td>digital goods: bo...</td><td>50.3232631504141</td></tr>\n",
       "<tr><td>books, periodical...</td><td>324.5445476180074</td></tr>\n",
       "<tr><td>florists supplies...</td><td>249.99728043564565</td></tr>\n",
       "<tr><td>art dealers and g...</td><td>3575.431973582655</td></tr>\n",
       "<tr><td>antique shops - s...</td><td>10196.020648698974</td></tr>\n",
       "<tr><td>gift, card, novel...</td><td>52.70280793902172</td></tr>\n",
       "<tr><td>equipment, tool, ...</td><td>1773.4699154320263</td></tr>\n",
       "<tr><td>cable, satellite,...</td><td>57.43698630769266</td></tr>\n",
       "<tr><td>tent and awning s...</td><td>1267.3156291403786</td></tr>\n",
       "<tr><td>artist supply and...</td><td>875.724170346981</td></tr>\n",
       "<tr><td>stationery, offic...</td><td>726.2426446630676</td></tr>\n",
       "<tr><td>furniture, home f...</td><td>1897.887612396149</td></tr>\n",
       "<tr><td>telecom</td><td>1840.766043041733</td></tr>\n",
       "<tr><td>jewelry, watch, c...</td><td>7712.527956156967</td></tr>\n",
       "<tr><td>shoe shops</td><td>282.4688427891512</td></tr>\n",
       "<tr><td>hobby, toy and ga...</td><td>1407.7620535591657</td></tr>\n",
       "<tr><td>computers, comput...</td><td>425.78061820293107</td></tr>\n",
       "</table>\n",
       "only showing top 20 rows\n"
      ],
      "text/plain": [
       "+--------------------+--------------------+\n",
       "|          categories|stddev(dollar_value)|\n",
       "+--------------------+--------------------+\n",
       "|opticians, optica...|  190.00400833170363|\n",
       "|watch, clock, and...|   80.85341016614638|\n",
       "|computer programm...|    700.709065391746|\n",
       "|digital goods: bo...|    50.3232631504141|\n",
       "|books, periodical...|   324.5445476180074|\n",
       "|florists supplies...|  249.99728043564565|\n",
       "|art dealers and g...|   3575.431973582655|\n",
       "|antique shops - s...|  10196.020648698974|\n",
       "|gift, card, novel...|   52.70280793902172|\n",
       "|equipment, tool, ...|  1773.4699154320263|\n",
       "|cable, satellite,...|   57.43698630769266|\n",
       "|tent and awning s...|  1267.3156291403786|\n",
       "|artist supply and...|    875.724170346981|\n",
       "|stationery, offic...|   726.2426446630676|\n",
       "|furniture, home f...|   1897.887612396149|\n",
       "|             telecom|   1840.766043041733|\n",
       "|jewelry, watch, c...|   7712.527956156967|\n",
       "|          shoe shops|   282.4688427891512|\n",
       "|hobby, toy and ga...|  1407.7620535591657|\n",
       "|computers, comput...|  425.78061820293107|\n",
       "+--------------------+--------------------+\n",
       "only showing top 20 rows"
      ]
     },
     "execution_count": 13,
     "metadata": {},
     "output_type": "execute_result"
    }
   ],
   "source": [
    "fraud_trx.groupby(\"categories\").agg({\"dollar_value\": \"stddev\"})"
   ]
  },
  {
   "cell_type": "code",
   "execution_count": 68,
   "metadata": {},
   "outputs": [],
   "source": [
    "@F.udf(FloatType())\n",
    "def get_mean(col1, col2):\n",
    "    if col1 and col2:\n",
    "        return (col1 + col2)/2\n",
    "    elif not col2:\n",
    "        return col1\n",
    "    else:\n",
    "        return col2"
   ]
  },
  {
   "cell_type": "code",
   "execution_count": 86,
   "metadata": {},
   "outputs": [],
   "source": [
    "fraud_trx = fraud_trx.withColumn(\"fraud_merchant_pr\", F.col(\"fraud_merchant_pr\").astype(FloatType()))\n",
    "fraud_trx = fraud_trx.withColumn(\"fraud_consumer_pr\", F.col(\"fraud_consumer_pr\").astype(FloatType()))"
   ]
  },
  {
   "cell_type": "code",
   "execution_count": 87,
   "metadata": {},
   "outputs": [],
   "source": [
    "fraud_trx = fraud_trx.withColumn(\"fraud_mean\", get_mean(F.col(\"fraud_merchant_pr\"), F.col(\"fraud_consumer_pr\")))"
   ]
  },
  {
   "cell_type": "code",
   "execution_count": 88,
   "metadata": {},
   "outputs": [
    {
     "name": "stderr",
     "output_type": "stream",
     "text": [
      "                                                                                \r"
     ]
    }
   ],
   "source": [
    "pd_fraud = fraud_trx.toPandas()"
   ]
  },
  {
   "cell_type": "code",
   "execution_count": 64,
   "metadata": {},
   "outputs": [
    {
     "data": {
      "text/html": [
       "<div>\n",
       "<style scoped>\n",
       "    .dataframe tbody tr th:only-of-type {\n",
       "        vertical-align: middle;\n",
       "    }\n",
       "\n",
       "    .dataframe tbody tr th {\n",
       "        vertical-align: top;\n",
       "    }\n",
       "\n",
       "    .dataframe thead th {\n",
       "        text-align: right;\n",
       "    }\n",
       "</style>\n",
       "<table border=\"1\" class=\"dataframe\">\n",
       "  <thead>\n",
       "    <tr style=\"text-align: right;\">\n",
       "      <th></th>\n",
       "      <th>user_id</th>\n",
       "      <th>order_datetime</th>\n",
       "      <th>merchant_abn</th>\n",
       "      <th>consumer_id</th>\n",
       "      <th>consumer_name</th>\n",
       "      <th>address</th>\n",
       "      <th>state</th>\n",
       "      <th>postcode</th>\n",
       "      <th>gender</th>\n",
       "      <th>dollar_value</th>\n",
       "      <th>order_id</th>\n",
       "      <th>merchant_name</th>\n",
       "      <th>tags</th>\n",
       "      <th>categories</th>\n",
       "      <th>revenue_level</th>\n",
       "      <th>take_rate</th>\n",
       "      <th>fraud_merchant_pr</th>\n",
       "      <th>fraud_consumer_pr</th>\n",
       "      <th>fraud_mean</th>\n",
       "    </tr>\n",
       "  </thead>\n",
       "  <tbody>\n",
       "    <tr>\n",
       "      <th>0</th>\n",
       "      <td>19</td>\n",
       "      <td>2021-11-27</td>\n",
       "      <td>73918814753</td>\n",
       "      <td>1226530</td>\n",
       "      <td>Victoria Gonzalez</td>\n",
       "      <td>68657 Johnson Glen Suite 266</td>\n",
       "      <td>TAS</td>\n",
       "      <td>7276</td>\n",
       "      <td>Female</td>\n",
       "      <td>2809.102513</td>\n",
       "      <td>0470fa28-6af7-4a6b-b9be-9971dfb99469</td>\n",
       "      <td>Venenatis Lacus Etiam LLC</td>\n",
       "      <td>[furniture, home furnishings and equipment sho...</td>\n",
       "      <td>furniture, home furnishings and equipment shop...</td>\n",
       "      <td>b</td>\n",
       "      <td>4.99</td>\n",
       "      <td>NaN</td>\n",
       "      <td>14.310022</td>\n",
       "      <td>14.310022</td>\n",
       "    </tr>\n",
       "    <tr>\n",
       "      <th>1</th>\n",
       "      <td>19</td>\n",
       "      <td>2021-11-27</td>\n",
       "      <td>26267439458</td>\n",
       "      <td>1226530</td>\n",
       "      <td>Victoria Gonzalez</td>\n",
       "      <td>68657 Johnson Glen Suite 266</td>\n",
       "      <td>TAS</td>\n",
       "      <td>7276</td>\n",
       "      <td>Female</td>\n",
       "      <td>125.572940</td>\n",
       "      <td>e6cf3054-e5bc-4be6-99f7-41f72a54403d</td>\n",
       "      <td>Aliquam Fringilla Foundation</td>\n",
       "      <td>[furniture, home furnishings and equipment sho...</td>\n",
       "      <td>furniture, home furnishings and equipment shop...</td>\n",
       "      <td>c</td>\n",
       "      <td>2.75</td>\n",
       "      <td>NaN</td>\n",
       "      <td>14.310022</td>\n",
       "      <td>14.310022</td>\n",
       "    </tr>\n",
       "    <tr>\n",
       "      <th>2</th>\n",
       "      <td>22</td>\n",
       "      <td>2021-11-03</td>\n",
       "      <td>86710922099</td>\n",
       "      <td>738803</td>\n",
       "      <td>Christopher Whitehead</td>\n",
       "      <td>04814 Erin Port Apt. 649</td>\n",
       "      <td>VIC</td>\n",
       "      <td>3378</td>\n",
       "      <td>Male</td>\n",
       "      <td>2272.177699</td>\n",
       "      <td>eb19e290-2334-4b39-a161-c508793c0ace</td>\n",
       "      <td>Ac Urna Consulting</td>\n",
       "      <td>[art dealers and galleries], [b], [take rate: ...</td>\n",
       "      <td>art dealers and galleries</td>\n",
       "      <td>b</td>\n",
       "      <td>4.25</td>\n",
       "      <td>NaN</td>\n",
       "      <td>10.569931</td>\n",
       "      <td>10.569931</td>\n",
       "    </tr>\n",
       "    <tr>\n",
       "      <th>3</th>\n",
       "      <td>26</td>\n",
       "      <td>2021-11-19</td>\n",
       "      <td>11237511112</td>\n",
       "      <td>1421465</td>\n",
       "      <td>Kristi Adkins</td>\n",
       "      <td>051 Snyder Hollow Suite 867</td>\n",
       "      <td>VIC</td>\n",
       "      <td>3469</td>\n",
       "      <td>Female</td>\n",
       "      <td>623.291115</td>\n",
       "      <td>0660b5c0-8b34-4d04-af09-cd01f7a5793e</td>\n",
       "      <td>Magna Institute</td>\n",
       "      <td>[opticians, optical goods, and eyeglasses], [c...</td>\n",
       "      <td>opticians, optical goods, and eyeglasses</td>\n",
       "      <td>c</td>\n",
       "      <td>2.11</td>\n",
       "      <td>NaN</td>\n",
       "      <td>10.604536</td>\n",
       "      <td>10.604536</td>\n",
       "    </tr>\n",
       "    <tr>\n",
       "      <th>4</th>\n",
       "      <td>26</td>\n",
       "      <td>2021-11-19</td>\n",
       "      <td>96323146873</td>\n",
       "      <td>1421465</td>\n",
       "      <td>Kristi Adkins</td>\n",
       "      <td>051 Snyder Hollow Suite 867</td>\n",
       "      <td>VIC</td>\n",
       "      <td>3469</td>\n",
       "      <td>Female</td>\n",
       "      <td>1975.690954</td>\n",
       "      <td>4801059a-17e1-4374-a1d6-ce7fb64cde99</td>\n",
       "      <td>A Facilisis Limited</td>\n",
       "      <td>[tent and awning shops], [b], [take rate: 4.42]</td>\n",
       "      <td>tent and awning shops</td>\n",
       "      <td>b</td>\n",
       "      <td>4.42</td>\n",
       "      <td>NaN</td>\n",
       "      <td>10.604536</td>\n",
       "      <td>10.604536</td>\n",
       "    </tr>\n",
       "    <tr>\n",
       "      <th>...</th>\n",
       "      <td>...</td>\n",
       "      <td>...</td>\n",
       "      <td>...</td>\n",
       "      <td>...</td>\n",
       "      <td>...</td>\n",
       "      <td>...</td>\n",
       "      <td>...</td>\n",
       "      <td>...</td>\n",
       "      <td>...</td>\n",
       "      <td>...</td>\n",
       "      <td>...</td>\n",
       "      <td>...</td>\n",
       "      <td>...</td>\n",
       "      <td>...</td>\n",
       "      <td>...</td>\n",
       "      <td>...</td>\n",
       "      <td>...</td>\n",
       "      <td>...</td>\n",
       "      <td>...</td>\n",
       "    </tr>\n",
       "    <tr>\n",
       "      <th>62057</th>\n",
       "      <td>23844</td>\n",
       "      <td>2021-09-14</td>\n",
       "      <td>88040874613</td>\n",
       "      <td>712466</td>\n",
       "      <td>Glenn Peterson</td>\n",
       "      <td>5203 Alexis Cape</td>\n",
       "      <td>QLD</td>\n",
       "      <td>4880</td>\n",
       "      <td>Male</td>\n",
       "      <td>5570.186332</td>\n",
       "      <td>ff7aabd2-5a74-4653-8a8b-9e9669939edc</td>\n",
       "      <td>Dapibus Id Ltd</td>\n",
       "      <td>[antique shops - sales, repairs, and restorati...</td>\n",
       "      <td>antique shops - sales, repairs, and restoratio...</td>\n",
       "      <td>b</td>\n",
       "      <td>3.90</td>\n",
       "      <td>NaN</td>\n",
       "      <td>19.165480</td>\n",
       "      <td>19.165480</td>\n",
       "    </tr>\n",
       "    <tr>\n",
       "      <th>62058</th>\n",
       "      <td>23994</td>\n",
       "      <td>2021-09-02</td>\n",
       "      <td>23338656015</td>\n",
       "      <td>860399</td>\n",
       "      <td>Sally Fry</td>\n",
       "      <td>5768 Alexander Squares Suite 668</td>\n",
       "      <td>SA</td>\n",
       "      <td>5167</td>\n",
       "      <td>Female</td>\n",
       "      <td>226.232122</td>\n",
       "      <td>388dae9a-55f6-4545-91b7-7e2be741f481</td>\n",
       "      <td>Iaculis LLC</td>\n",
       "      <td>[watch, clock, And jewelry repair shops], [b],...</td>\n",
       "      <td>watch, clock, and jewelry repair shops</td>\n",
       "      <td>b</td>\n",
       "      <td>3.25</td>\n",
       "      <td>NaN</td>\n",
       "      <td>26.681465</td>\n",
       "      <td>26.681465</td>\n",
       "    </tr>\n",
       "    <tr>\n",
       "      <th>62059</th>\n",
       "      <td>24024</td>\n",
       "      <td>2021-09-14</td>\n",
       "      <td>87084550311</td>\n",
       "      <td>122986</td>\n",
       "      <td>Heather Todd</td>\n",
       "      <td>064 Steven Mountain Suite 468</td>\n",
       "      <td>VIC</td>\n",
       "      <td>3966</td>\n",
       "      <td>Female</td>\n",
       "      <td>4122.763519</td>\n",
       "      <td>cda592a9-0b45-4900-8fa6-3719c505cb39</td>\n",
       "      <td>Vulputate Inc.</td>\n",
       "      <td>[bicycle shops - sales and seRvice], [b], [tak...</td>\n",
       "      <td>bicycle shops - sales and service</td>\n",
       "      <td>b</td>\n",
       "      <td>4.58</td>\n",
       "      <td>NaN</td>\n",
       "      <td>16.553917</td>\n",
       "      <td>16.553917</td>\n",
       "    </tr>\n",
       "    <tr>\n",
       "      <th>62060</th>\n",
       "      <td>24024</td>\n",
       "      <td>2021-09-14</td>\n",
       "      <td>17488304283</td>\n",
       "      <td>122986</td>\n",
       "      <td>Heather Todd</td>\n",
       "      <td>064 Steven Mountain Suite 468</td>\n",
       "      <td>VIC</td>\n",
       "      <td>3966</td>\n",
       "      <td>Female</td>\n",
       "      <td>97.128225</td>\n",
       "      <td>9f0a623c-720d-4908-a903-cf7f937f675e</td>\n",
       "      <td>Posuere Cubilia Curae Corporation</td>\n",
       "      <td>[cable, satellite, and other pay television an...</td>\n",
       "      <td>cable, satellite, and other pay television and...</td>\n",
       "      <td>a</td>\n",
       "      <td>6.18</td>\n",
       "      <td>NaN</td>\n",
       "      <td>16.553917</td>\n",
       "      <td>16.553917</td>\n",
       "    </tr>\n",
       "    <tr>\n",
       "      <th>62061</th>\n",
       "      <td>24024</td>\n",
       "      <td>2022-01-15</td>\n",
       "      <td>27326652377</td>\n",
       "      <td>122986</td>\n",
       "      <td>Heather Todd</td>\n",
       "      <td>064 Steven Mountain Suite 468</td>\n",
       "      <td>VIC</td>\n",
       "      <td>3966</td>\n",
       "      <td>Female</td>\n",
       "      <td>3278.450869</td>\n",
       "      <td>c6390f5d-6c91-41f9-9607-1fcb31c7f6ee</td>\n",
       "      <td>Tellus Aenean Corporation</td>\n",
       "      <td>[music shops - musicAl instruments, Pianos, an...</td>\n",
       "      <td>music shops - musical instruments, pianos, and...</td>\n",
       "      <td>a</td>\n",
       "      <td>6.33</td>\n",
       "      <td>NaN</td>\n",
       "      <td>12.860805</td>\n",
       "      <td>12.860805</td>\n",
       "    </tr>\n",
       "  </tbody>\n",
       "</table>\n",
       "<p>62062 rows × 19 columns</p>\n",
       "</div>"
      ],
      "text/plain": [
       "       user_id order_datetime  merchant_abn consumer_id  \\\n",
       "0           19     2021-11-27   73918814753     1226530   \n",
       "1           19     2021-11-27   26267439458     1226530   \n",
       "2           22     2021-11-03   86710922099      738803   \n",
       "3           26     2021-11-19   11237511112     1421465   \n",
       "4           26     2021-11-19   96323146873     1421465   \n",
       "...        ...            ...           ...         ...   \n",
       "62057    23844     2021-09-14   88040874613      712466   \n",
       "62058    23994     2021-09-02   23338656015      860399   \n",
       "62059    24024     2021-09-14   87084550311      122986   \n",
       "62060    24024     2021-09-14   17488304283      122986   \n",
       "62061    24024     2022-01-15   27326652377      122986   \n",
       "\n",
       "               consumer_name                           address state postcode  \\\n",
       "0          Victoria Gonzalez      68657 Johnson Glen Suite 266   TAS     7276   \n",
       "1          Victoria Gonzalez      68657 Johnson Glen Suite 266   TAS     7276   \n",
       "2      Christopher Whitehead          04814 Erin Port Apt. 649   VIC     3378   \n",
       "3              Kristi Adkins       051 Snyder Hollow Suite 867   VIC     3469   \n",
       "4              Kristi Adkins       051 Snyder Hollow Suite 867   VIC     3469   \n",
       "...                      ...                               ...   ...      ...   \n",
       "62057         Glenn Peterson                  5203 Alexis Cape   QLD     4880   \n",
       "62058              Sally Fry  5768 Alexander Squares Suite 668    SA     5167   \n",
       "62059           Heather Todd     064 Steven Mountain Suite 468   VIC     3966   \n",
       "62060           Heather Todd     064 Steven Mountain Suite 468   VIC     3966   \n",
       "62061           Heather Todd     064 Steven Mountain Suite 468   VIC     3966   \n",
       "\n",
       "       gender  dollar_value                              order_id  \\\n",
       "0      Female   2809.102513  0470fa28-6af7-4a6b-b9be-9971dfb99469   \n",
       "1      Female    125.572940  e6cf3054-e5bc-4be6-99f7-41f72a54403d   \n",
       "2        Male   2272.177699  eb19e290-2334-4b39-a161-c508793c0ace   \n",
       "3      Female    623.291115  0660b5c0-8b34-4d04-af09-cd01f7a5793e   \n",
       "4      Female   1975.690954  4801059a-17e1-4374-a1d6-ce7fb64cde99   \n",
       "...       ...           ...                                   ...   \n",
       "62057    Male   5570.186332  ff7aabd2-5a74-4653-8a8b-9e9669939edc   \n",
       "62058  Female    226.232122  388dae9a-55f6-4545-91b7-7e2be741f481   \n",
       "62059  Female   4122.763519  cda592a9-0b45-4900-8fa6-3719c505cb39   \n",
       "62060  Female     97.128225  9f0a623c-720d-4908-a903-cf7f937f675e   \n",
       "62061  Female   3278.450869  c6390f5d-6c91-41f9-9607-1fcb31c7f6ee   \n",
       "\n",
       "                           merchant_name  \\\n",
       "0              Venenatis Lacus Etiam LLC   \n",
       "1           Aliquam Fringilla Foundation   \n",
       "2                     Ac Urna Consulting   \n",
       "3                        Magna Institute   \n",
       "4                    A Facilisis Limited   \n",
       "...                                  ...   \n",
       "62057                     Dapibus Id Ltd   \n",
       "62058                        Iaculis LLC   \n",
       "62059                     Vulputate Inc.   \n",
       "62060  Posuere Cubilia Curae Corporation   \n",
       "62061          Tellus Aenean Corporation   \n",
       "\n",
       "                                                    tags  \\\n",
       "0      [furniture, home furnishings and equipment sho...   \n",
       "1      [furniture, home furnishings and equipment sho...   \n",
       "2      [art dealers and galleries], [b], [take rate: ...   \n",
       "3      [opticians, optical goods, and eyeglasses], [c...   \n",
       "4        [tent and awning shops], [b], [take rate: 4.42]   \n",
       "...                                                  ...   \n",
       "62057  [antique shops - sales, repairs, and restorati...   \n",
       "62058  [watch, clock, And jewelry repair shops], [b],...   \n",
       "62059  [bicycle shops - sales and seRvice], [b], [tak...   \n",
       "62060  [cable, satellite, and other pay television an...   \n",
       "62061  [music shops - musicAl instruments, Pianos, an...   \n",
       "\n",
       "                                              categories revenue_level  \\\n",
       "0      furniture, home furnishings and equipment shop...             b   \n",
       "1      furniture, home furnishings and equipment shop...             c   \n",
       "2                              art dealers and galleries             b   \n",
       "3               opticians, optical goods, and eyeglasses             c   \n",
       "4                                  tent and awning shops             b   \n",
       "...                                                  ...           ...   \n",
       "62057  antique shops - sales, repairs, and restoratio...             b   \n",
       "62058             watch, clock, and jewelry repair shops             b   \n",
       "62059                  bicycle shops - sales and service             b   \n",
       "62060  cable, satellite, and other pay television and...             a   \n",
       "62061  music shops - musical instruments, pianos, and...             a   \n",
       "\n",
       "       take_rate  fraud_merchant_pr  fraud_consumer_pr  fraud_mean  \n",
       "0           4.99                NaN          14.310022   14.310022  \n",
       "1           2.75                NaN          14.310022   14.310022  \n",
       "2           4.25                NaN          10.569931   10.569931  \n",
       "3           2.11                NaN          10.604536   10.604536  \n",
       "4           4.42                NaN          10.604536   10.604536  \n",
       "...          ...                ...                ...         ...  \n",
       "62057       3.90                NaN          19.165480   19.165480  \n",
       "62058       3.25                NaN          26.681465   26.681465  \n",
       "62059       4.58                NaN          16.553917   16.553917  \n",
       "62060       6.18                NaN          16.553917   16.553917  \n",
       "62061       6.33                NaN          12.860805   12.860805  \n",
       "\n",
       "[62062 rows x 19 columns]"
      ]
     },
     "execution_count": 64,
     "metadata": {},
     "output_type": "execute_result"
    }
   ],
   "source": [
    "pd_fraud"
   ]
  },
  {
   "cell_type": "code",
   "execution_count": 26,
   "metadata": {},
   "outputs": [
    {
     "data": {
      "text/plain": [
       "<AxesSubplot:xlabel='dollar_value', ylabel='fraud_mean'>"
      ]
     },
     "execution_count": 26,
     "metadata": {},
     "output_type": "execute_result"
    },
    {
     "data": {
      "image/png": "[encoded data removed]",
      "text/plain": [
       "<Figure size 432x288 with 1 Axes>"
      ]
     },
     "metadata": {
      "needs_background": "light"
     },
     "output_type": "display_data"
    }
   ],
   "source": [
    "sns.scatterplot(pd_fraud[\"dollar_value\"], pd_fraud[\"fraud_mean\"])"
   ]
  },
  {
   "cell_type": "code",
   "execution_count": 23,
   "metadata": {},
   "outputs": [],
   "source": [
    "pd_fraud_below_10k = pd_fraud[pd_fraud[\"dollar_value\"] < 10000]"
   ]
  },
  {
   "cell_type": "code",
   "execution_count": 27,
   "metadata": {},
   "outputs": [
    {
     "data": {
      "text/html": [
       "<div>\n",
       "<style scoped>\n",
       "    .dataframe tbody tr th:only-of-type {\n",
       "        vertical-align: middle;\n",
       "    }\n",
       "\n",
       "    .dataframe tbody tr th {\n",
       "        vertical-align: top;\n",
       "    }\n",
       "\n",
       "    .dataframe thead th {\n",
       "        text-align: right;\n",
       "    }\n",
       "</style>\n",
       "<table border=\"1\" class=\"dataframe\">\n",
       "  <thead>\n",
       "    <tr style=\"text-align: right;\">\n",
       "      <th></th>\n",
       "      <th>user_id</th>\n",
       "      <th>order_datetime</th>\n",
       "      <th>merchant_abn</th>\n",
       "      <th>consumer_id</th>\n",
       "      <th>consumer_name</th>\n",
       "      <th>address</th>\n",
       "      <th>state</th>\n",
       "      <th>postcode</th>\n",
       "      <th>gender</th>\n",
       "      <th>dollar_value</th>\n",
       "      <th>order_id</th>\n",
       "      <th>merchant_name</th>\n",
       "      <th>tags</th>\n",
       "      <th>fraud_merchant_pr</th>\n",
       "      <th>fraud_consumer_pr</th>\n",
       "      <th>categories</th>\n",
       "      <th>revenue_level</th>\n",
       "      <th>take_rate</th>\n",
       "      <th>fraud_mean</th>\n",
       "    </tr>\n",
       "  </thead>\n",
       "  <tbody>\n",
       "    <tr>\n",
       "      <th>0</th>\n",
       "      <td>19</td>\n",
       "      <td>2021-11-27</td>\n",
       "      <td>73918814753</td>\n",
       "      <td>1226530</td>\n",
       "      <td>Victoria Gonzalez</td>\n",
       "      <td>68657 Johnson Glen Suite 266</td>\n",
       "      <td>TAS</td>\n",
       "      <td>7276</td>\n",
       "      <td>Female</td>\n",
       "      <td>2809.102513</td>\n",
       "      <td>0470fa28-6af7-4a6b-b9be-9971dfb99469</td>\n",
       "      <td>Venenatis Lacus Etiam LLC</td>\n",
       "      <td>[furniture, home furnishings and equipment sho...</td>\n",
       "      <td>NaN</td>\n",
       "      <td>14.310022</td>\n",
       "      <td>furniture, home furnishings and equipment shop...</td>\n",
       "      <td>b</td>\n",
       "      <td>4.99</td>\n",
       "      <td>14.310022</td>\n",
       "    </tr>\n",
       "    <tr>\n",
       "      <th>1</th>\n",
       "      <td>19</td>\n",
       "      <td>2021-11-27</td>\n",
       "      <td>26267439458</td>\n",
       "      <td>1226530</td>\n",
       "      <td>Victoria Gonzalez</td>\n",
       "      <td>68657 Johnson Glen Suite 266</td>\n",
       "      <td>TAS</td>\n",
       "      <td>7276</td>\n",
       "      <td>Female</td>\n",
       "      <td>125.572940</td>\n",
       "      <td>e6cf3054-e5bc-4be6-99f7-41f72a54403d</td>\n",
       "      <td>Aliquam Fringilla Foundation</td>\n",
       "      <td>[furniture, home furnishings and equipment sho...</td>\n",
       "      <td>NaN</td>\n",
       "      <td>14.310022</td>\n",
       "      <td>furniture, home furnishings and equipment shop...</td>\n",
       "      <td>c</td>\n",
       "      <td>2.75</td>\n",
       "      <td>14.310022</td>\n",
       "    </tr>\n",
       "    <tr>\n",
       "      <th>2</th>\n",
       "      <td>22</td>\n",
       "      <td>2021-11-03</td>\n",
       "      <td>86710922099</td>\n",
       "      <td>738803</td>\n",
       "      <td>Christopher Whitehead</td>\n",
       "      <td>04814 Erin Port Apt. 649</td>\n",
       "      <td>VIC</td>\n",
       "      <td>3378</td>\n",
       "      <td>Male</td>\n",
       "      <td>2272.177699</td>\n",
       "      <td>eb19e290-2334-4b39-a161-c508793c0ace</td>\n",
       "      <td>Ac Urna Consulting</td>\n",
       "      <td>[art dealers and galleries], [b], [take rate: ...</td>\n",
       "      <td>NaN</td>\n",
       "      <td>10.569931</td>\n",
       "      <td>art dealers and galleries</td>\n",
       "      <td>b</td>\n",
       "      <td>4.25</td>\n",
       "      <td>10.569931</td>\n",
       "    </tr>\n",
       "    <tr>\n",
       "      <th>3</th>\n",
       "      <td>26</td>\n",
       "      <td>2021-11-19</td>\n",
       "      <td>11237511112</td>\n",
       "      <td>1421465</td>\n",
       "      <td>Kristi Adkins</td>\n",
       "      <td>051 Snyder Hollow Suite 867</td>\n",
       "      <td>VIC</td>\n",
       "      <td>3469</td>\n",
       "      <td>Female</td>\n",
       "      <td>623.291115</td>\n",
       "      <td>0660b5c0-8b34-4d04-af09-cd01f7a5793e</td>\n",
       "      <td>Magna Institute</td>\n",
       "      <td>[opticians, optical goods, and eyeglasses], [c...</td>\n",
       "      <td>NaN</td>\n",
       "      <td>10.604536</td>\n",
       "      <td>opticians, optical goods, and eyeglasses</td>\n",
       "      <td>c</td>\n",
       "      <td>2.11</td>\n",
       "      <td>10.604536</td>\n",
       "    </tr>\n",
       "    <tr>\n",
       "      <th>4</th>\n",
       "      <td>26</td>\n",
       "      <td>2021-11-19</td>\n",
       "      <td>96323146873</td>\n",
       "      <td>1421465</td>\n",
       "      <td>Kristi Adkins</td>\n",
       "      <td>051 Snyder Hollow Suite 867</td>\n",
       "      <td>VIC</td>\n",
       "      <td>3469</td>\n",
       "      <td>Female</td>\n",
       "      <td>1975.690954</td>\n",
       "      <td>4801059a-17e1-4374-a1d6-ce7fb64cde99</td>\n",
       "      <td>A Facilisis Limited</td>\n",
       "      <td>[tent and awning shops], [b], [take rate: 4.42]</td>\n",
       "      <td>NaN</td>\n",
       "      <td>10.604536</td>\n",
       "      <td>tent and awning shops</td>\n",
       "      <td>b</td>\n",
       "      <td>4.42</td>\n",
       "      <td>10.604536</td>\n",
       "    </tr>\n",
       "    <tr>\n",
       "      <th>...</th>\n",
       "      <td>...</td>\n",
       "      <td>...</td>\n",
       "      <td>...</td>\n",
       "      <td>...</td>\n",
       "      <td>...</td>\n",
       "      <td>...</td>\n",
       "      <td>...</td>\n",
       "      <td>...</td>\n",
       "      <td>...</td>\n",
       "      <td>...</td>\n",
       "      <td>...</td>\n",
       "      <td>...</td>\n",
       "      <td>...</td>\n",
       "      <td>...</td>\n",
       "      <td>...</td>\n",
       "      <td>...</td>\n",
       "      <td>...</td>\n",
       "      <td>...</td>\n",
       "      <td>...</td>\n",
       "    </tr>\n",
       "    <tr>\n",
       "      <th>62057</th>\n",
       "      <td>23844</td>\n",
       "      <td>2021-09-14</td>\n",
       "      <td>88040874613</td>\n",
       "      <td>712466</td>\n",
       "      <td>Glenn Peterson</td>\n",
       "      <td>5203 Alexis Cape</td>\n",
       "      <td>QLD</td>\n",
       "      <td>4880</td>\n",
       "      <td>Male</td>\n",
       "      <td>5570.186332</td>\n",
       "      <td>ff7aabd2-5a74-4653-8a8b-9e9669939edc</td>\n",
       "      <td>Dapibus Id Ltd</td>\n",
       "      <td>[antique shops - sales, repairs, and restorati...</td>\n",
       "      <td>NaN</td>\n",
       "      <td>19.165480</td>\n",
       "      <td>antique shops - sales, repairs, and restoratio...</td>\n",
       "      <td>b</td>\n",
       "      <td>3.90</td>\n",
       "      <td>19.165480</td>\n",
       "    </tr>\n",
       "    <tr>\n",
       "      <th>62058</th>\n",
       "      <td>23994</td>\n",
       "      <td>2021-09-02</td>\n",
       "      <td>23338656015</td>\n",
       "      <td>860399</td>\n",
       "      <td>Sally Fry</td>\n",
       "      <td>5768 Alexander Squares Suite 668</td>\n",
       "      <td>SA</td>\n",
       "      <td>5167</td>\n",
       "      <td>Female</td>\n",
       "      <td>226.232122</td>\n",
       "      <td>388dae9a-55f6-4545-91b7-7e2be741f481</td>\n",
       "      <td>Iaculis LLC</td>\n",
       "      <td>[watch, clock, And jewelry repair shops], [b],...</td>\n",
       "      <td>NaN</td>\n",
       "      <td>26.681465</td>\n",
       "      <td>watch, clock, and jewelry repair shops</td>\n",
       "      <td>b</td>\n",
       "      <td>3.25</td>\n",
       "      <td>26.681465</td>\n",
       "    </tr>\n",
       "    <tr>\n",
       "      <th>62059</th>\n",
       "      <td>24024</td>\n",
       "      <td>2021-09-14</td>\n",
       "      <td>87084550311</td>\n",
       "      <td>122986</td>\n",
       "      <td>Heather Todd</td>\n",
       "      <td>064 Steven Mountain Suite 468</td>\n",
       "      <td>VIC</td>\n",
       "      <td>3966</td>\n",
       "      <td>Female</td>\n",
       "      <td>4122.763519</td>\n",
       "      <td>cda592a9-0b45-4900-8fa6-3719c505cb39</td>\n",
       "      <td>Vulputate Inc.</td>\n",
       "      <td>[bicycle shops - sales and seRvice], [b], [tak...</td>\n",
       "      <td>NaN</td>\n",
       "      <td>16.553917</td>\n",
       "      <td>bicycle shops - sales and service</td>\n",
       "      <td>b</td>\n",
       "      <td>4.58</td>\n",
       "      <td>16.553917</td>\n",
       "    </tr>\n",
       "    <tr>\n",
       "      <th>62060</th>\n",
       "      <td>24024</td>\n",
       "      <td>2021-09-14</td>\n",
       "      <td>17488304283</td>\n",
       "      <td>122986</td>\n",
       "      <td>Heather Todd</td>\n",
       "      <td>064 Steven Mountain Suite 468</td>\n",
       "      <td>VIC</td>\n",
       "      <td>3966</td>\n",
       "      <td>Female</td>\n",
       "      <td>97.128225</td>\n",
       "      <td>9f0a623c-720d-4908-a903-cf7f937f675e</td>\n",
       "      <td>Posuere Cubilia Curae Corporation</td>\n",
       "      <td>[cable, satellite, and other pay television an...</td>\n",
       "      <td>NaN</td>\n",
       "      <td>16.553917</td>\n",
       "      <td>cable, satellite, and other pay television and...</td>\n",
       "      <td>a</td>\n",
       "      <td>6.18</td>\n",
       "      <td>16.553917</td>\n",
       "    </tr>\n",
       "    <tr>\n",
       "      <th>62061</th>\n",
       "      <td>24024</td>\n",
       "      <td>2022-01-15</td>\n",
       "      <td>27326652377</td>\n",
       "      <td>122986</td>\n",
       "      <td>Heather Todd</td>\n",
       "      <td>064 Steven Mountain Suite 468</td>\n",
       "      <td>VIC</td>\n",
       "      <td>3966</td>\n",
       "      <td>Female</td>\n",
       "      <td>3278.450869</td>\n",
       "      <td>c6390f5d-6c91-41f9-9607-1fcb31c7f6ee</td>\n",
       "      <td>Tellus Aenean Corporation</td>\n",
       "      <td>[music shops - musicAl instruments, Pianos, an...</td>\n",
       "      <td>NaN</td>\n",
       "      <td>12.860805</td>\n",
       "      <td>music shops - musical instruments, pianos, and...</td>\n",
       "      <td>a</td>\n",
       "      <td>6.33</td>\n",
       "      <td>12.860805</td>\n",
       "    </tr>\n",
       "  </tbody>\n",
       "</table>\n",
       "<p>62062 rows × 19 columns</p>\n",
       "</div>"
      ],
      "text/plain": [
       "       user_id order_datetime  merchant_abn consumer_id  \\\n",
       "0           19     2021-11-27   73918814753     1226530   \n",
       "1           19     2021-11-27   26267439458     1226530   \n",
       "2           22     2021-11-03   86710922099      738803   \n",
       "3           26     2021-11-19   11237511112     1421465   \n",
       "4           26     2021-11-19   96323146873     1421465   \n",
       "...        ...            ...           ...         ...   \n",
       "62057    23844     2021-09-14   88040874613      712466   \n",
       "62058    23994     2021-09-02   23338656015      860399   \n",
       "62059    24024     2021-09-14   87084550311      122986   \n",
       "62060    24024     2021-09-14   17488304283      122986   \n",
       "62061    24024     2022-01-15   27326652377      122986   \n",
       "\n",
       "               consumer_name                           address state postcode  \\\n",
       "0          Victoria Gonzalez      68657 Johnson Glen Suite 266   TAS     7276   \n",
       "1          Victoria Gonzalez      68657 Johnson Glen Suite 266   TAS     7276   \n",
       "2      Christopher Whitehead          04814 Erin Port Apt. 649   VIC     3378   \n",
       "3              Kristi Adkins       051 Snyder Hollow Suite 867   VIC     3469   \n",
       "4              Kristi Adkins       051 Snyder Hollow Suite 867   VIC     3469   \n",
       "...                      ...                               ...   ...      ...   \n",
       "62057         Glenn Peterson                  5203 Alexis Cape   QLD     4880   \n",
       "62058              Sally Fry  5768 Alexander Squares Suite 668    SA     5167   \n",
       "62059           Heather Todd     064 Steven Mountain Suite 468   VIC     3966   \n",
       "62060           Heather Todd     064 Steven Mountain Suite 468   VIC     3966   \n",
       "62061           Heather Todd     064 Steven Mountain Suite 468   VIC     3966   \n",
       "\n",
       "       gender  dollar_value                              order_id  \\\n",
       "0      Female   2809.102513  0470fa28-6af7-4a6b-b9be-9971dfb99469   \n",
       "1      Female    125.572940  e6cf3054-e5bc-4be6-99f7-41f72a54403d   \n",
       "2        Male   2272.177699  eb19e290-2334-4b39-a161-c508793c0ace   \n",
       "3      Female    623.291115  0660b5c0-8b34-4d04-af09-cd01f7a5793e   \n",
       "4      Female   1975.690954  4801059a-17e1-4374-a1d6-ce7fb64cde99   \n",
       "...       ...           ...                                   ...   \n",
       "62057    Male   5570.186332  ff7aabd2-5a74-4653-8a8b-9e9669939edc   \n",
       "62058  Female    226.232122  388dae9a-55f6-4545-91b7-7e2be741f481   \n",
       "62059  Female   4122.763519  cda592a9-0b45-4900-8fa6-3719c505cb39   \n",
       "62060  Female     97.128225  9f0a623c-720d-4908-a903-cf7f937f675e   \n",
       "62061  Female   3278.450869  c6390f5d-6c91-41f9-9607-1fcb31c7f6ee   \n",
       "\n",
       "                           merchant_name  \\\n",
       "0              Venenatis Lacus Etiam LLC   \n",
       "1           Aliquam Fringilla Foundation   \n",
       "2                     Ac Urna Consulting   \n",
       "3                        Magna Institute   \n",
       "4                    A Facilisis Limited   \n",
       "...                                  ...   \n",
       "62057                     Dapibus Id Ltd   \n",
       "62058                        Iaculis LLC   \n",
       "62059                     Vulputate Inc.   \n",
       "62060  Posuere Cubilia Curae Corporation   \n",
       "62061          Tellus Aenean Corporation   \n",
       "\n",
       "                                                    tags  fraud_merchant_pr  \\\n",
       "0      [furniture, home furnishings and equipment sho...                NaN   \n",
       "1      [furniture, home furnishings and equipment sho...                NaN   \n",
       "2      [art dealers and galleries], [b], [take rate: ...                NaN   \n",
       "3      [opticians, optical goods, and eyeglasses], [c...                NaN   \n",
       "4        [tent and awning shops], [b], [take rate: 4.42]                NaN   \n",
       "...                                                  ...                ...   \n",
       "62057  [antique shops - sales, repairs, and restorati...                NaN   \n",
       "62058  [watch, clock, And jewelry repair shops], [b],...                NaN   \n",
       "62059  [bicycle shops - sales and seRvice], [b], [tak...                NaN   \n",
       "62060  [cable, satellite, and other pay television an...                NaN   \n",
       "62061  [music shops - musicAl instruments, Pianos, an...                NaN   \n",
       "\n",
       "       fraud_consumer_pr                                         categories  \\\n",
       "0              14.310022  furniture, home furnishings and equipment shop...   \n",
       "1              14.310022  furniture, home furnishings and equipment shop...   \n",
       "2              10.569931                          art dealers and galleries   \n",
       "3              10.604536           opticians, optical goods, and eyeglasses   \n",
       "4              10.604536                              tent and awning shops   \n",
       "...                  ...                                                ...   \n",
       "62057          19.165480  antique shops - sales, repairs, and restoratio...   \n",
       "62058          26.681465             watch, clock, and jewelry repair shops   \n",
       "62059          16.553917                  bicycle shops - sales and service   \n",
       "62060          16.553917  cable, satellite, and other pay television and...   \n",
       "62061          12.860805  music shops - musical instruments, pianos, and...   \n",
       "\n",
       "      revenue_level  take_rate  fraud_mean  \n",
       "0                 b       4.99   14.310022  \n",
       "1                 c       2.75   14.310022  \n",
       "2                 b       4.25   10.569931  \n",
       "3                 c       2.11   10.604536  \n",
       "4                 b       4.42   10.604536  \n",
       "...             ...        ...         ...  \n",
       "62057             b       3.90   19.165480  \n",
       "62058             b       3.25   26.681465  \n",
       "62059             b       4.58   16.553917  \n",
       "62060             a       6.18   16.553917  \n",
       "62061             a       6.33   12.860805  \n",
       "\n",
       "[62062 rows x 19 columns]"
      ]
     },
     "execution_count": 27,
     "metadata": {},
     "output_type": "execute_result"
    }
   ],
   "source": [
    "pd_fraud"
   ]
  },
  {
   "cell_type": "code",
   "execution_count": 51,
   "metadata": {},
   "outputs": [
    {
     "data": {
      "image/png": "[encoded data removed]",
      "text/plain": [
       "<Figure size 432x288 with 2 Axes>"
      ]
     },
     "metadata": {
      "needs_background": "light"
     },
     "output_type": "display_data"
    }
   ],
   "source": [
    "sns.heatmap(pd_fraud[[\"dollar_value\", \"fraud_merchant_pr\", \"fraud_consumer_pr\"]].corr(), annot=True)\n",
    "plt.title('Correlation between dollar value and fraud probabilities')\n",
    "plt.show()"
   ]
  },
  {
   "cell_type": "code",
   "execution_count": 90,
   "metadata": {},
   "outputs": [],
   "source": [
    "categories = pd_fraud[\"categories\"].unique().tolist()"
   ]
  },
  {
   "cell_type": "code",
   "execution_count": 91,
   "metadata": {},
   "outputs": [
    {
     "name": "stderr",
     "output_type": "stream",
     "text": [
      "                                                                                \r"
     ]
    },
    {
     "name": "stdout",
     "output_type": "stream",
     "text": [
      "Proportion of possible fraud in category furniture, home furnishings and equipment shops, and manufacturers, except appliances is 0.948072928686822%\n"
     ]
    },
    {
     "name": "stderr",
     "output_type": "stream",
     "text": [
      "                                                                                \r"
     ]
    },
    {
     "name": "stdout",
     "output_type": "stream",
     "text": [
      "Proportion of possible fraud in category art dealers and galleries is 14.0370123056377%\n"
     ]
    },
    {
     "name": "stderr",
     "output_type": "stream",
     "text": [
      "                                                                                \r"
     ]
    },
    {
     "name": "stdout",
     "output_type": "stream",
     "text": [
      "Proportion of possible fraud in category opticians, optical goods, and eyeglasses is 0.4751067905560051%\n"
     ]
    },
    {
     "name": "stderr",
     "output_type": "stream",
     "text": [
      "                                                                                \r"
     ]
    },
    {
     "name": "stdout",
     "output_type": "stream",
     "text": [
      "Proportion of possible fraud in category tent and awning shops is 0.7493929231269963%\n"
     ]
    },
    {
     "name": "stderr",
     "output_type": "stream",
     "text": [
      "                                                                                \r"
     ]
    },
    {
     "name": "stdout",
     "output_type": "stream",
     "text": [
      "Proportion of possible fraud in category gift, card, novelty, and souvenir shops is 0.33801387521040616%\n"
     ]
    },
    {
     "name": "stderr",
     "output_type": "stream",
     "text": [
      "                                                                                \r"
     ]
    },
    {
     "name": "stdout",
     "output_type": "stream",
     "text": [
      "Proportion of possible fraud in category antique shops - sales, repairs, and restoration services is 1.3206581258059709%\n"
     ]
    },
    {
     "name": "stderr",
     "output_type": "stream",
     "text": [
      "                                                                                \r"
     ]
    },
    {
     "name": "stdout",
     "output_type": "stream",
     "text": [
      "Proportion of possible fraud in category telecom is 13.279823733081523%\n"
     ]
    },
    {
     "name": "stderr",
     "output_type": "stream",
     "text": [
      "                                                                                \r"
     ]
    },
    {
     "name": "stdout",
     "output_type": "stream",
     "text": [
      "Proportion of possible fraud in category motor vehicle supplies and new parts is 1.1975551927994836%\n"
     ]
    },
    {
     "name": "stderr",
     "output_type": "stream",
     "text": [
      "                                                                                \r"
     ]
    },
    {
     "name": "stdout",
     "output_type": "stream",
     "text": [
      "Proportion of possible fraud in category stationery, office supplies and printing and writing paper is 0.8497357529061086%\n"
     ]
    },
    {
     "name": "stderr",
     "output_type": "stream",
     "text": [
      "                                                                                \r"
     ]
    },
    {
     "name": "stdout",
     "output_type": "stream",
     "text": [
      "Proportion of possible fraud in category equipment, tool, furniture, and appliance rent al and leasing is 10.44025978264417%\n"
     ]
    },
    {
     "name": "stderr",
     "output_type": "stream",
     "text": [
      "                                                                                \r"
     ]
    },
    {
     "name": "stdout",
     "output_type": "stream",
     "text": [
      "Proportion of possible fraud in category florists supplies, nursery stock, and flowers is 0.3442773103689225%\n"
     ]
    },
    {
     "name": "stderr",
     "output_type": "stream",
     "text": [
      "                                                                                \r"
     ]
    },
    {
     "name": "stdout",
     "output_type": "stream",
     "text": [
      "Proportion of possible fraud in category lawn and garden supply outlets, including nurseries is 1.0331365751584995%\n"
     ]
    },
    {
     "name": "stderr",
     "output_type": "stream",
     "text": [
      "                                                                                \r"
     ]
    },
    {
     "name": "stdout",
     "output_type": "stream",
     "text": [
      "Proportion of possible fraud in category music shops - musical instruments, pianos, and sheet music is 0.6414474988304882%\n"
     ]
    },
    {
     "name": "stderr",
     "output_type": "stream",
     "text": [
      "                                                                                \r"
     ]
    },
    {
     "name": "stdout",
     "output_type": "stream",
     "text": [
      "Proportion of possible fraud in category hobby, toy and game shops is 1.3157894736842104%\n"
     ]
    },
    {
     "name": "stderr",
     "output_type": "stream",
     "text": [
      "                                                                                \r"
     ]
    },
    {
     "name": "stdout",
     "output_type": "stream",
     "text": [
      "Proportion of possible fraud in category jewelry, watch, clock, and silverware shops is 38.48528503807368%\n"
     ]
    },
    {
     "name": "stderr",
     "output_type": "stream",
     "text": [
      "                                                                                \r"
     ]
    },
    {
     "name": "stdout",
     "output_type": "stream",
     "text": [
      "Proportion of possible fraud in category computers, computer peripheral equipment, and software is 0.40964708594766397%\n"
     ]
    },
    {
     "name": "stderr",
     "output_type": "stream",
     "text": [
      "                                                                                \r"
     ]
    },
    {
     "name": "stdout",
     "output_type": "stream",
     "text": [
      "Proportion of possible fraud in category watch, clock, and jewelry repair shops is 0.3201710953837782%\n"
     ]
    },
    {
     "name": "stderr",
     "output_type": "stream",
     "text": [
      "                                                                                \r"
     ]
    },
    {
     "name": "stdout",
     "output_type": "stream",
     "text": [
      "Proportion of possible fraud in category artist supply and craft shops is 0.650872435143018%\n"
     ]
    },
    {
     "name": "stderr",
     "output_type": "stream",
     "text": [
      "                                                                                \r"
     ]
    },
    {
     "name": "stdout",
     "output_type": "stream",
     "text": [
      "Proportion of possible fraud in category bicycle shops - sales and service is 1.2283404740296744%\n"
     ]
    },
    {
     "name": "stderr",
     "output_type": "stream",
     "text": [
      "                                                                                \r"
     ]
    },
    {
     "name": "stdout",
     "output_type": "stream",
     "text": [
      "Proportion of possible fraud in category cable, satellite, and other pay television and radio services is 0.3699661055897053%\n"
     ]
    },
    {
     "name": "stderr",
     "output_type": "stream",
     "text": [
      "                                                                                \r"
     ]
    },
    {
     "name": "stdout",
     "output_type": "stream",
     "text": [
      "Proportion of possible fraud in category digital goods: books, movies, music is 0.30706576385318163%\n"
     ]
    },
    {
     "name": "stderr",
     "output_type": "stream",
     "text": [
      "                                                                                \r"
     ]
    },
    {
     "name": "stdout",
     "output_type": "stream",
     "text": [
      "Proportion of possible fraud in category computer programming , data processing, and integrated systems design services is 0.38389015978308133%\n"
     ]
    },
    {
     "name": "stderr",
     "output_type": "stream",
     "text": [
      "                                                                                \r"
     ]
    },
    {
     "name": "stdout",
     "output_type": "stream",
     "text": [
      "Proportion of possible fraud in category books, periodicals, and newspapers is 0.3880226332196701%\n"
     ]
    },
    {
     "name": "stderr",
     "output_type": "stream",
     "text": [
      "                                                                                \r"
     ]
    },
    {
     "name": "stdout",
     "output_type": "stream",
     "text": [
      "Proportion of possible fraud in category health and beauty spas is 0.508276667353527%\n"
     ]
    },
    {
     "name": "stderr",
     "output_type": "stream",
     "text": [
      "                                                                                \r"
     ]
    },
    {
     "name": "stdout",
     "output_type": "stream",
     "text": [
      "Proportion of possible fraud in category shoe shops is 0.38851415827385205%\n"
     ]
    }
   ],
   "source": [
    "for category in categories:\n",
    "    num_fraud = pd_fraud[pd_fraud[\"categories\"] == category].shape[0]\n",
    "    num_total = df_trx.where(F.col(\"categories\") == category).count()\n",
    "    print(f'Proportion of possible fraud in category {category} is {(num_fraud/num_total)*100}%')"
   ]
  }
 ],
 "metadata": {
  "kernelspec": {
   "display_name": "Python 3.8.10 64-bit",
   "language": "python",
   "name": "python3"
  },
  "language_info": {
   "codemirror_mode": {
    "name": "ipython",
    "version": 3
   },
   "file_extension": ".py",
   "mimetype": "text/x-python",
   "name": "python",
   "nbconvert_exporter": "python",
   "pygments_lexer": "ipython3",
   "version": "3.8.10"
  },
  "orig_nbformat": 4,
  "vscode": {
   "interpreter": {
    "hash": "916dbcbb3f70747c44a77c7bcd40155683ae19c65e1c03b4aa3499c5328201f1"
   }
  }
 },
 "nbformat": 4,
 "nbformat_minor": 2
}
