{
 "cells": [
  {
   "cell_type": "code",
   "execution_count": 101,
   "metadata": {},
   "outputs": [],
   "source": [
    "import pandas as pd\n",
    "import numpy as np\n",
    "import seaborn as sns\n",
    "import geopandas as gpd\n",
    "from datetime import datetime\n",
    "import matplotlib.pyplot as plt\n",
    "%matplotlib inline\n",
    "\n",
    "import geopandas as gpd\n",
    "import folium\n",
    "from pyspark.sql import SparkSession, Window, functions as F\n",
    "from pyspark.sql.functions import countDistinct, col, date_format\n",
    "import numpy as np\n",
    "import pyspark.sql.functions as func\n",
    "from pyspark.sql.types import (\n",
    "    StringType,\n",
    "    LongType,\n",
    "    DoubleType,\n",
    "    StructField,\n",
    "    StructType,\n",
    "    FloatType\n",
    ")\n",
    "\n",
    "import warnings\n",
    "warnings.filterwarnings(\"ignore\")"
   ]
  },
  {
   "cell_type": "code",
   "execution_count": 102,
   "metadata": {},
   "outputs": [],
   "source": [
    "# Start Spark Session\n",
    "spark = (\n",
    "    SparkSession.builder.appName(\"MAST30034 Project 2 BNPL\")\n",
    "    .config(\"spark.sql.repl.eagerEval.enabled\", True) \n",
    "    .config(\"spark.sql.parquet.cacheMetadata\", \"true\")\n",
    "    .config(\"spark.sql.session.timeZone\", \"Etc/UTC\")\n",
    "    .config(\"spark.driver.memory\", \"4g\")\n",
    "    .config(\"spark.executor.memory\", \"8g\")\n",
    "    .getOrCreate()\n",
    ")"
   ]
  },
  {
   "cell_type": "code",
   "execution_count": 103,
   "metadata": {},
   "outputs": [
    {
     "name": "stdout",
     "output_type": "stream",
     "text": [
      "added transactions_20210228_20210827_snapshot\n",
      "added transactions_20210828_20220227_snapshot\n",
      "added transactions_20220228_20220828_snapshot\n"
     ]
    }
   ],
   "source": [
    "# load all transactions datasets\n",
    "paths=['../data/tables/transactions_20210228_20210827_snapshot',\n",
    "       '../data/tables/transactions_20210828_20220227_snapshot',\n",
    "       '../data/tables/transactions_20220228_20220828_snapshot']\n",
    "\n",
    "first = 1\n",
    "for path in paths:\n",
    "    if first:\n",
    "        transactions = spark.read.parquet(path)\n",
    "        print(f'added {path.split(\"/\")[3]}')\n",
    "        first = 0\n",
    "    else:\n",
    "        append_transactions = spark.read.parquet(path)\n",
    "        transactions = transactions.union(append_transactions)\n",
    "        print(f'added {path.split(\"/\")[3]}')"
   ]
  },
  {
   "cell_type": "code",
   "execution_count": 104,
   "metadata": {},
   "outputs": [],
   "source": [
    "consumer = spark.read.csv(\"../data/tables/tbl_consumer.csv\", header=True, sep=\"|\")\n",
    "details = spark.read.parquet(\"../data/tables/consumer_user_details.parquet\")\n",
    "merchants = spark.read.parquet(\"../data/tables/tbl_merchants.parquet\")"
   ]
  },
  {
   "cell_type": "code",
   "execution_count": 105,
   "metadata": {},
   "outputs": [],
   "source": [
    "# rename columns\n",
    "merchants = merchants.withColumnRenamed('name', 'merchant_name')\n",
    "consumer = consumer.withColumnRenamed('name', 'consumer_name')"
   ]
  },
  {
   "cell_type": "code",
   "execution_count": 106,
   "metadata": {},
   "outputs": [],
   "source": [
    "# Join consumers with their respective details\n",
    "consumer_detail = consumer.join(details, on=\"consumer_id\")\n",
    "\n",
    "# Join consumers with their respective transactions\n",
    "consumer_trx = consumer_detail.join(transactions, on=\"user_id\")\n",
    "\n",
    "# Join transactions with the respective merchants\n",
    "df_trx = consumer_trx.join(merchants, on=\"merchant_abn\")"
   ]
  },
  {
   "cell_type": "code",
   "execution_count": 107,
   "metadata": {},
   "outputs": [],
   "source": [
    "from pyspark.sql.types import *\n",
    "@F.udf(StringType())\n",
    "def normalize_tags(col):\n",
    "    return col.replace(\"(\", \"[\").replace(\")\", \"]\")[1:-1]\n",
    "\n",
    "@F.udf(StringType())\n",
    "def clean_string(col):\n",
    "    col = col.lower()\n",
    "    return \" \".join(col.split())"
   ]
  },
  {
   "cell_type": "code",
   "execution_count": 108,
   "metadata": {},
   "outputs": [],
   "source": [
    "df_trx = df_trx.withColumn(\"tags\", normalize_tags(F.col(\"tags\")))\n",
    "df_trx = df_trx.withColumn(\"categories\", F.regexp_extract(\"tags\", \"(?<=\\[)(.*?)(?=\\])\", 1))\n",
    "df_trx = df_trx.withColumn(\"revenue_level\", F.regexp_extract(\"tags\", \"(?<=,\\s\\[)([a-e]+?)(?=\\],)\", 1))\n",
    "df_trx = df_trx.withColumn(\"take_rate\", F.regexp_extract(\"tags\", \"(?<=\\[take rate: )(.*?)(?=\\])\", 1))\n",
    "df_trx = df_trx.withColumn(\"take_rate\", F.col(\"take_rate\").astype(FloatType()))\n",
    "df_trx = df_trx.withColumn(\"categories\", clean_string(F.col(\"categories\")))\n",
    "df_trx = df_trx.where(F.col(\"dollar_value\") >= 35)"
   ]
  },
  {
   "cell_type": "code",
   "execution_count": 109,
   "metadata": {},
   "outputs": [],
   "source": [
    "fraud_data_consumer = spark.read.csv(\"../data/tables/consumer_fraud_probability.csv\", header=True)\n",
    "fraud_data_merchant = spark.read.csv(\"../data/tables/merchant_fraud_probability.csv\", header=True)"
   ]
  },
  {
   "cell_type": "code",
   "execution_count": 110,
   "metadata": {},
   "outputs": [],
   "source": [
    "fraud_trx = df_trx.join(fraud_data_merchant, on=[\"merchant_abn\", \"order_datetime\"], how=\"left\").withColumnRenamed(\"fraud_probability\", \"fraud_merchant_pr\")\n",
    "fraud_trx = fraud_trx.join(fraud_data_consumer, on=[\"user_id\", \"order_datetime\"], how=\"left\").withColumnRenamed(\"fraud_probability\", \"fraud_consumer_pr\")\n",
    "fraud_trx = fraud_trx.where((F.col(\"fraud_merchant_pr\").isNotNull()) | F.col(\"fraud_consumer_pr\").isNotNull())\n",
    "fraud_trx = fraud_trx.distinct()"
   ]
  },
  {
   "cell_type": "code",
   "execution_count": 111,
   "metadata": {},
   "outputs": [
    {
     "name": "stderr",
     "output_type": "stream",
     "text": [
      "                                                                                \r"
     ]
    },
    {
     "data": {
      "text/html": [
       "<table border='1'>\n",
       "<tr><th>categories</th><th>avg(dollar_value)</th></tr>\n",
       "<tr><td>opticians, optica...</td><td>180.11318595992938</td></tr>\n",
       "<tr><td>watch, clock, and...</td><td>113.32377663496496</td></tr>\n",
       "<tr><td>computer programm...</td><td>306.83988016031</td></tr>\n",
       "<tr><td>digital goods: bo...</td><td>92.20923697156981</td></tr>\n",
       "<tr><td>books, periodical...</td><td>370.7721529589492</td></tr>\n",
       "<tr><td>florists supplies...</td><td>228.00031699696774</td></tr>\n",
       "<tr><td>art dealers and g...</td><td>4134.239411454479</td></tr>\n",
       "<tr><td>antique shops - s...</td><td>8990.350406350399</td></tr>\n",
       "<tr><td>gift, card, novel...</td><td>96.3113220282952</td></tr>\n",
       "<tr><td>equipment, tool, ...</td><td>3874.0518151882416</td></tr>\n",
       "<tr><td>cable, satellite,...</td><td>102.766710752428</td></tr>\n",
       "<tr><td>tent and awning s...</td><td>1492.3169183365123</td></tr>\n",
       "<tr><td>artist supply and...</td><td>1018.1142910046796</td></tr>\n",
       "<tr><td>stationery, offic...</td><td>851.723833730123</td></tr>\n",
       "<tr><td>furniture, home f...</td><td>2132.6623595205433</td></tr>\n",
       "<tr><td>telecom</td><td>3999.2583025162003</td></tr>\n",
       "<tr><td>jewelry, watch, c...</td><td>11097.584447684902</td></tr>\n",
       "<tr><td>shoe shops</td><td>312.5542938553076</td></tr>\n",
       "<tr><td>hobby, toy and ga...</td><td>2227.4469368984505</td></tr>\n",
       "<tr><td>computers, comput...</td><td>377.54198369296853</td></tr>\n",
       "</table>\n",
       "only showing top 20 rows\n"
      ],
      "text/plain": [
       "+--------------------+------------------+\n",
       "|          categories| avg(dollar_value)|\n",
       "+--------------------+------------------+\n",
       "|opticians, optica...|180.11318595992938|\n",
       "|watch, clock, and...|113.32377663496496|\n",
       "|computer programm...|   306.83988016031|\n",
       "|digital goods: bo...| 92.20923697156981|\n",
       "|books, periodical...| 370.7721529589492|\n",
       "|florists supplies...|228.00031699696774|\n",
       "|art dealers and g...| 4134.239411454479|\n",
       "|antique shops - s...| 8990.350406350399|\n",
       "|gift, card, novel...|  96.3113220282952|\n",
       "|equipment, tool, ...|3874.0518151882416|\n",
       "|cable, satellite,...|  102.766710752428|\n",
       "|tent and awning s...|1492.3169183365123|\n",
       "|artist supply and...|1018.1142910046796|\n",
       "|stationery, offic...|  851.723833730123|\n",
       "|furniture, home f...|2132.6623595205433|\n",
       "|             telecom|3999.2583025162003|\n",
       "|jewelry, watch, c...|11097.584447684902|\n",
       "|          shoe shops| 312.5542938553076|\n",
       "|hobby, toy and ga...|2227.4469368984505|\n",
       "|computers, comput...|377.54198369296853|\n",
       "+--------------------+------------------+\n",
       "only showing top 20 rows"
      ]
     },
     "execution_count": 111,
     "metadata": {},
     "output_type": "execute_result"
    }
   ],
   "source": [
    "fraud_trx.groupby(\"categories\").agg({\"dollar_value\": \"mean\"})"
   ]
  },
  {
   "cell_type": "code",
   "execution_count": 112,
   "metadata": {},
   "outputs": [
    {
     "name": "stderr",
     "output_type": "stream",
     "text": [
      "                                                                                \r"
     ]
    },
    {
     "data": {
      "text/html": [
       "<table border='1'>\n",
       "<tr><th>categories</th><th>median</th></tr>\n",
       "<tr><td>opticians, optica...</td><td>106.30811865982163</td></tr>\n",
       "<tr><td>watch, clock, and...</td><td>88.74585943337901</td></tr>\n",
       "<tr><td>computer programm...</td><td>198.2068452981697</td></tr>\n",
       "<tr><td>digital goods: bo...</td><td>79.11310751108492</td></tr>\n",
       "<tr><td>books, periodical...</td><td>284.4484332983803</td></tr>\n",
       "<tr><td>florists supplies...</td><td>120.83186219009423</td></tr>\n",
       "<tr><td>art dealers and g...</td><td>3511.2837845131344</td></tr>\n",
       "<tr><td>antique shops - s...</td><td>6600.867064638659</td></tr>\n",
       "<tr><td>gift, card, novel...</td><td>83.20861964063579</td></tr>\n",
       "<tr><td>equipment, tool, ...</td><td>3544.4178736935846</td></tr>\n",
       "<tr><td>cable, satellite,...</td><td>88.85522816799951</td></tr>\n",
       "<tr><td>tent and awning s...</td><td>1650.2467410669574</td></tr>\n",
       "<tr><td>artist supply and...</td><td>765.8032630090123</td></tr>\n",
       "<tr><td>stationery, offic...</td><td>592.0962256345723</td></tr>\n",
       "<tr><td>furniture, home f...</td><td>2271.5626214855392</td></tr>\n",
       "<tr><td>telecom</td><td>3626.032256932236</td></tr>\n",
       "<tr><td>jewelry, watch, c...</td><td>9402.405624648613</td></tr>\n",
       "<tr><td>shoe shops</td><td>211.1035600661608</td></tr>\n",
       "<tr><td>hobby, toy and ga...</td><td>2360.495891039411</td></tr>\n",
       "<tr><td>computers, comput...</td><td>218.89184310201267</td></tr>\n",
       "</table>\n",
       "only showing top 20 rows\n"
      ],
      "text/plain": [
       "+--------------------+------------------+\n",
       "|          categories|            median|\n",
       "+--------------------+------------------+\n",
       "|opticians, optica...|106.30811865982163|\n",
       "|watch, clock, and...| 88.74585943337901|\n",
       "|computer programm...| 198.2068452981697|\n",
       "|digital goods: bo...| 79.11310751108492|\n",
       "|books, periodical...| 284.4484332983803|\n",
       "|florists supplies...|120.83186219009423|\n",
       "|art dealers and g...|3511.2837845131344|\n",
       "|antique shops - s...| 6600.867064638659|\n",
       "|gift, card, novel...| 83.20861964063579|\n",
       "|equipment, tool, ...|3544.4178736935846|\n",
       "|cable, satellite,...| 88.85522816799951|\n",
       "|tent and awning s...|1650.2467410669574|\n",
       "|artist supply and...| 765.8032630090123|\n",
       "|stationery, offic...| 592.0962256345723|\n",
       "|furniture, home f...|2271.5626214855392|\n",
       "|             telecom| 3626.032256932236|\n",
       "|jewelry, watch, c...| 9402.405624648613|\n",
       "|          shoe shops| 211.1035600661608|\n",
       "|hobby, toy and ga...| 2360.495891039411|\n",
       "|computers, comput...|218.89184310201267|\n",
       "+--------------------+------------------+\n",
       "only showing top 20 rows"
      ]
     },
     "execution_count": 112,
     "metadata": {},
     "output_type": "execute_result"
    }
   ],
   "source": [
    "fraud_trx.groupby(\"categories\").agg(F.percentile_approx(\"dollar_value\", 0.5).alias(\"median\"))"
   ]
  },
  {
   "cell_type": "code",
   "execution_count": 113,
   "metadata": {},
   "outputs": [
    {
     "name": "stderr",
     "output_type": "stream",
     "text": [
      "                                                                                \r"
     ]
    },
    {
     "data": {
      "text/html": [
       "<table border='1'>\n",
       "<tr><th>categories</th><th>stddev(dollar_value)</th></tr>\n",
       "<tr><td>opticians, optica...</td><td>190.11863341812776</td></tr>\n",
       "<tr><td>watch, clock, and...</td><td>80.40078862317861</td></tr>\n",
       "<tr><td>computer programm...</td><td>700.9056756278819</td></tr>\n",
       "<tr><td>digital goods: bo...</td><td>50.341898237901376</td></tr>\n",
       "<tr><td>books, periodical...</td><td>324.6634273126157</td></tr>\n",
       "<tr><td>florists supplies...</td><td>250.10515484425542</td></tr>\n",
       "<tr><td>art dealers and g...</td><td>3132.126743420788</td></tr>\n",
       "<tr><td>antique shops - s...</td><td>9325.983913863543</td></tr>\n",
       "<tr><td>gift, card, novel...</td><td>52.61560155123332</td></tr>\n",
       "<tr><td>equipment, tool, ...</td><td>1773.4699154320263</td></tr>\n",
       "<tr><td>cable, satellite,...</td><td>57.44869787780298</td></tr>\n",
       "<tr><td>tent and awning s...</td><td>1267.4044699828396</td></tr>\n",
       "<tr><td>artist supply and...</td><td>875.9497893905063</td></tr>\n",
       "<tr><td>stationery, offic...</td><td>726.2405344226809</td></tr>\n",
       "<tr><td>furniture, home f...</td><td>1897.8349453426802</td></tr>\n",
       "<tr><td>telecom</td><td>1840.766043041733</td></tr>\n",
       "<tr><td>jewelry, watch, c...</td><td>7230.902354879196</td></tr>\n",
       "<tr><td>shoe shops</td><td>282.55700336980715</td></tr>\n",
       "<tr><td>hobby, toy and ga...</td><td>1407.762053559166</td></tr>\n",
       "<tr><td>computers, comput...</td><td>426.021857602606</td></tr>\n",
       "</table>\n",
       "only showing top 20 rows\n"
      ],
      "text/plain": [
       "+--------------------+--------------------+\n",
       "|          categories|stddev(dollar_value)|\n",
       "+--------------------+--------------------+\n",
       "|opticians, optica...|  190.11863341812776|\n",
       "|watch, clock, and...|   80.40078862317861|\n",
       "|computer programm...|   700.9056756278819|\n",
       "|digital goods: bo...|  50.341898237901376|\n",
       "|books, periodical...|   324.6634273126157|\n",
       "|florists supplies...|  250.10515484425542|\n",
       "|art dealers and g...|   3132.126743420788|\n",
       "|antique shops - s...|   9325.983913863543|\n",
       "|gift, card, novel...|   52.61560155123332|\n",
       "|equipment, tool, ...|  1773.4699154320263|\n",
       "|cable, satellite,...|   57.44869787780298|\n",
       "|tent and awning s...|  1267.4044699828396|\n",
       "|artist supply and...|   875.9497893905063|\n",
       "|stationery, offic...|   726.2405344226809|\n",
       "|furniture, home f...|  1897.8349453426802|\n",
       "|             telecom|   1840.766043041733|\n",
       "|jewelry, watch, c...|   7230.902354879196|\n",
       "|          shoe shops|  282.55700336980715|\n",
       "|hobby, toy and ga...|   1407.762053559166|\n",
       "|computers, comput...|    426.021857602606|\n",
       "+--------------------+--------------------+\n",
       "only showing top 20 rows"
      ]
     },
     "execution_count": 113,
     "metadata": {},
     "output_type": "execute_result"
    }
   ],
   "source": [
    "fraud_trx.groupby(\"categories\").agg({\"dollar_value\": \"stddev\"})"
   ]
  },
  {
   "cell_type": "code",
   "execution_count": 114,
   "metadata": {},
   "outputs": [],
   "source": [
    "@F.udf(FloatType())\n",
    "def get_mean(col1, col2):\n",
    "    if col1 and col2:\n",
    "        return (col1 + col2)/2\n",
    "    elif not col2:\n",
    "        return col1\n",
    "    else:\n",
    "        return col2"
   ]
  },
  {
   "cell_type": "code",
   "execution_count": 115,
   "metadata": {},
   "outputs": [],
   "source": [
    "fraud_trx = fraud_trx.withColumn(\"fraud_merchant_pr\", F.col(\"fraud_merchant_pr\").astype(FloatType()))\n",
    "fraud_trx = fraud_trx.withColumn(\"fraud_consumer_pr\", F.col(\"fraud_consumer_pr\").astype(FloatType()))"
   ]
  },
  {
   "cell_type": "code",
   "execution_count": 116,
   "metadata": {},
   "outputs": [],
   "source": [
    "fraud_trx = fraud_trx.withColumn(\"fraud_mean\", get_mean(F.col(\"fraud_merchant_pr\"), F.col(\"fraud_consumer_pr\")))"
   ]
  },
  {
   "cell_type": "code",
   "execution_count": 117,
   "metadata": {},
   "outputs": [
    {
     "name": "stderr",
     "output_type": "stream",
     "text": [
      "                                                                                \r"
     ]
    }
   ],
   "source": [
    "pd_fraud = fraud_trx.toPandas()"
   ]
  },
  {
   "cell_type": "code",
   "execution_count": 118,
   "metadata": {},
   "outputs": [
    {
     "data": {
      "text/html": [
       "<div>\n",
       "<style scoped>\n",
       "    .dataframe tbody tr th:only-of-type {\n",
       "        vertical-align: middle;\n",
       "    }\n",
       "\n",
       "    .dataframe tbody tr th {\n",
       "        vertical-align: top;\n",
       "    }\n",
       "\n",
       "    .dataframe thead th {\n",
       "        text-align: right;\n",
       "    }\n",
       "</style>\n",
       "<table border=\"1\" class=\"dataframe\">\n",
       "  <thead>\n",
       "    <tr style=\"text-align: right;\">\n",
       "      <th></th>\n",
       "      <th>fraud_merchant_pr</th>\n",
       "      <th>fraud_consumer_pr</th>\n",
       "    </tr>\n",
       "  </thead>\n",
       "  <tbody>\n",
       "    <tr>\n",
       "      <th>count</th>\n",
       "      <td>3612.000000</td>\n",
       "      <td>58661.000000</td>\n",
       "    </tr>\n",
       "    <tr>\n",
       "      <th>mean</th>\n",
       "      <td>30.275728</td>\n",
       "      <td>14.486104</td>\n",
       "    </tr>\n",
       "    <tr>\n",
       "      <th>std</th>\n",
       "      <td>5.455806</td>\n",
       "      <td>8.804473</td>\n",
       "    </tr>\n",
       "    <tr>\n",
       "      <th>min</th>\n",
       "      <td>18.210892</td>\n",
       "      <td>8.287144</td>\n",
       "    </tr>\n",
       "    <tr>\n",
       "      <th>25%</th>\n",
       "      <td>28.504478</td>\n",
       "      <td>9.534845</td>\n",
       "    </tr>\n",
       "    <tr>\n",
       "      <th>50%</th>\n",
       "      <td>29.102419</td>\n",
       "      <td>11.506072</td>\n",
       "    </tr>\n",
       "    <tr>\n",
       "      <th>75%</th>\n",
       "      <td>30.024292</td>\n",
       "      <td>15.668378</td>\n",
       "    </tr>\n",
       "    <tr>\n",
       "      <th>max</th>\n",
       "      <td>91.096069</td>\n",
       "      <td>97.629807</td>\n",
       "    </tr>\n",
       "  </tbody>\n",
       "</table>\n",
       "</div>"
      ],
      "text/plain": [
       "       fraud_merchant_pr  fraud_consumer_pr\n",
       "count        3612.000000       58661.000000\n",
       "mean           30.275728          14.486104\n",
       "std             5.455806           8.804473\n",
       "min            18.210892           8.287144\n",
       "25%            28.504478           9.534845\n",
       "50%            29.102419          11.506072\n",
       "75%            30.024292          15.668378\n",
       "max            91.096069          97.629807"
      ]
     },
     "execution_count": 118,
     "metadata": {},
     "output_type": "execute_result"
    }
   ],
   "source": [
    "pd_fraud[[\"fraud_merchant_pr\", \"fraud_consumer_pr\"]].describe()"
   ]
  },
  {
   "cell_type": "code",
   "execution_count": 119,
   "metadata": {},
   "outputs": [
    {
     "data": {
      "text/html": [
       "<div>\n",
       "<style scoped>\n",
       "    .dataframe tbody tr th:only-of-type {\n",
       "        vertical-align: middle;\n",
       "    }\n",
       "\n",
       "    .dataframe tbody tr th {\n",
       "        vertical-align: top;\n",
       "    }\n",
       "\n",
       "    .dataframe thead th {\n",
       "        text-align: right;\n",
       "    }\n",
       "</style>\n",
       "<table border=\"1\" class=\"dataframe\">\n",
       "  <thead>\n",
       "    <tr style=\"text-align: right;\">\n",
       "      <th></th>\n",
       "      <th>user_id</th>\n",
       "      <th>order_datetime</th>\n",
       "      <th>merchant_abn</th>\n",
       "      <th>consumer_id</th>\n",
       "      <th>consumer_name</th>\n",
       "      <th>address</th>\n",
       "      <th>state</th>\n",
       "      <th>postcode</th>\n",
       "      <th>gender</th>\n",
       "      <th>dollar_value</th>\n",
       "      <th>order_id</th>\n",
       "      <th>merchant_name</th>\n",
       "      <th>tags</th>\n",
       "      <th>categories</th>\n",
       "      <th>revenue_level</th>\n",
       "      <th>take_rate</th>\n",
       "      <th>fraud_merchant_pr</th>\n",
       "      <th>fraud_consumer_pr</th>\n",
       "      <th>fraud_mean</th>\n",
       "    </tr>\n",
       "  </thead>\n",
       "  <tbody>\n",
       "    <tr>\n",
       "      <th>0</th>\n",
       "      <td>724</td>\n",
       "      <td>2021-09-15</td>\n",
       "      <td>49212265466</td>\n",
       "      <td>1344843</td>\n",
       "      <td>Amy Hogan</td>\n",
       "      <td>19623 Sandoval Tunnel</td>\n",
       "      <td>QLD</td>\n",
       "      <td>4857</td>\n",
       "      <td>Female</td>\n",
       "      <td>328.571527</td>\n",
       "      <td>ff4a0c61-67fd-42dc-96da-cd2d05ee888d</td>\n",
       "      <td>Auctor Company</td>\n",
       "      <td>[florists supplies, nursery stocK, and flowers...</td>\n",
       "      <td>florists supplies, nursery stock, and flowers</td>\n",
       "      <td>b</td>\n",
       "      <td>4.50</td>\n",
       "      <td>NaN</td>\n",
       "      <td>9.722903</td>\n",
       "      <td>9.722903</td>\n",
       "    </tr>\n",
       "    <tr>\n",
       "      <th>1</th>\n",
       "      <td>1936</td>\n",
       "      <td>2021-09-25</td>\n",
       "      <td>97603729191</td>\n",
       "      <td>95690</td>\n",
       "      <td>Mr. David Lopez MD</td>\n",
       "      <td>10039 Guzman Extensions Suite 399</td>\n",
       "      <td>TAS</td>\n",
       "      <td>7263</td>\n",
       "      <td>Undisclosed</td>\n",
       "      <td>1686.440177</td>\n",
       "      <td>2bca9dc9-5f59-4475-b713-0e8c5520143b</td>\n",
       "      <td>Eu Company</td>\n",
       "      <td>[stAtionery, office supplies and printing and ...</td>\n",
       "      <td>stationery, office supplies and printing and w...</td>\n",
       "      <td>a</td>\n",
       "      <td>6.78</td>\n",
       "      <td>NaN</td>\n",
       "      <td>16.446285</td>\n",
       "      <td>16.446285</td>\n",
       "    </tr>\n",
       "    <tr>\n",
       "      <th>2</th>\n",
       "      <td>2007</td>\n",
       "      <td>2022-02-27</td>\n",
       "      <td>13839274306</td>\n",
       "      <td>1231913</td>\n",
       "      <td>Brittney Hooper</td>\n",
       "      <td>229 Cooley Villages</td>\n",
       "      <td>WA</td>\n",
       "      <td>6569</td>\n",
       "      <td>Female</td>\n",
       "      <td>59.253038</td>\n",
       "      <td>084b5c1f-8151-4b59-94cb-8f9a93680e2b</td>\n",
       "      <td>Sit Amet Consectetuer PC</td>\n",
       "      <td>[computErs, computer peripheral equipment, and...</td>\n",
       "      <td>computers, computer peripheral equipment, and ...</td>\n",
       "      <td>a</td>\n",
       "      <td>6.00</td>\n",
       "      <td>NaN</td>\n",
       "      <td>12.239517</td>\n",
       "      <td>12.239517</td>\n",
       "    </tr>\n",
       "    <tr>\n",
       "      <th>3</th>\n",
       "      <td>3845</td>\n",
       "      <td>2021-11-28</td>\n",
       "      <td>28748147493</td>\n",
       "      <td>357114</td>\n",
       "      <td>Keith Padilla</td>\n",
       "      <td>732 Davis Port</td>\n",
       "      <td>NSW</td>\n",
       "      <td>1296</td>\n",
       "      <td>Male</td>\n",
       "      <td>122.557294</td>\n",
       "      <td>c0e12e26-2b84-4289-9749-826e0147e560</td>\n",
       "      <td>Neque Institute</td>\n",
       "      <td>[gift, caRd, novelty, and souvenir shops], [c]...</td>\n",
       "      <td>gift, card, novelty, and souvenir shops</td>\n",
       "      <td>c</td>\n",
       "      <td>2.51</td>\n",
       "      <td>NaN</td>\n",
       "      <td>18.627390</td>\n",
       "      <td>18.627390</td>\n",
       "    </tr>\n",
       "    <tr>\n",
       "      <th>4</th>\n",
       "      <td>6734</td>\n",
       "      <td>2021-11-25</td>\n",
       "      <td>66667026714</td>\n",
       "      <td>1285829</td>\n",
       "      <td>Melissa Mckinney</td>\n",
       "      <td>4584 Anthony Summit</td>\n",
       "      <td>VIC</td>\n",
       "      <td>3911</td>\n",
       "      <td>Female</td>\n",
       "      <td>166.733745</td>\n",
       "      <td>f529e1bb-432d-473e-912c-ed9bb4cdb5ba</td>\n",
       "      <td>Sit Amet Risus Foundation</td>\n",
       "      <td>[digItal goods: books, moviEs, music], [c], [t...</td>\n",
       "      <td>digital goods: books, movies, music</td>\n",
       "      <td>c</td>\n",
       "      <td>1.85</td>\n",
       "      <td>NaN</td>\n",
       "      <td>9.546015</td>\n",
       "      <td>9.546015</td>\n",
       "    </tr>\n",
       "    <tr>\n",
       "      <th>...</th>\n",
       "      <td>...</td>\n",
       "      <td>...</td>\n",
       "      <td>...</td>\n",
       "      <td>...</td>\n",
       "      <td>...</td>\n",
       "      <td>...</td>\n",
       "      <td>...</td>\n",
       "      <td>...</td>\n",
       "      <td>...</td>\n",
       "      <td>...</td>\n",
       "      <td>...</td>\n",
       "      <td>...</td>\n",
       "      <td>...</td>\n",
       "      <td>...</td>\n",
       "      <td>...</td>\n",
       "      <td>...</td>\n",
       "      <td>...</td>\n",
       "      <td>...</td>\n",
       "      <td>...</td>\n",
       "    </tr>\n",
       "    <tr>\n",
       "      <th>61914</th>\n",
       "      <td>16501</td>\n",
       "      <td>2021-12-07</td>\n",
       "      <td>16570599421</td>\n",
       "      <td>1430152</td>\n",
       "      <td>Matthew Stephens</td>\n",
       "      <td>324 Stephens Squares</td>\n",
       "      <td>WA</td>\n",
       "      <td>6847</td>\n",
       "      <td>Male</td>\n",
       "      <td>130.394497</td>\n",
       "      <td>d2c31101-7ab6-411f-907b-dc16a8b77dd4</td>\n",
       "      <td>Non Magna Nam PC</td>\n",
       "      <td>[digital goods: books, movies, music], [a], [t...</td>\n",
       "      <td>digital goods: books, movies, music</td>\n",
       "      <td>a</td>\n",
       "      <td>6.74</td>\n",
       "      <td>NaN</td>\n",
       "      <td>16.746586</td>\n",
       "      <td>16.746586</td>\n",
       "    </tr>\n",
       "    <tr>\n",
       "      <th>61915</th>\n",
       "      <td>19256</td>\n",
       "      <td>2021-05-18</td>\n",
       "      <td>32361057556</td>\n",
       "      <td>855885</td>\n",
       "      <td>William Rivera</td>\n",
       "      <td>4598 Anthony Dale</td>\n",
       "      <td>QLD</td>\n",
       "      <td>4511</td>\n",
       "      <td>Male</td>\n",
       "      <td>61.896095</td>\n",
       "      <td>64fa1f28-42fd-4991-8eb4-2f9ef8e5ce44</td>\n",
       "      <td>Orci In Consequat Corporation</td>\n",
       "      <td>[gift, card, novelty, and souvenir shops], [a]...</td>\n",
       "      <td>gift, card, novelty, and souvenir shops</td>\n",
       "      <td>a</td>\n",
       "      <td>6.61</td>\n",
       "      <td>NaN</td>\n",
       "      <td>10.681720</td>\n",
       "      <td>10.681720</td>\n",
       "    </tr>\n",
       "    <tr>\n",
       "      <th>61916</th>\n",
       "      <td>19597</td>\n",
       "      <td>2021-12-27</td>\n",
       "      <td>93558142492</td>\n",
       "      <td>525572</td>\n",
       "      <td>Michael Bradley</td>\n",
       "      <td>750 Nicole Mountains Apt. 616</td>\n",
       "      <td>WA</td>\n",
       "      <td>6041</td>\n",
       "      <td>Male</td>\n",
       "      <td>334.951713</td>\n",
       "      <td>079ba289-e0ca-4058-8eae-b66eda799435</td>\n",
       "      <td>Dolor Quisque Inc.</td>\n",
       "      <td>[shoe shops], [b], [take rate: 3.41]</td>\n",
       "      <td>shoe shops</td>\n",
       "      <td>b</td>\n",
       "      <td>3.41</td>\n",
       "      <td>NaN</td>\n",
       "      <td>15.304589</td>\n",
       "      <td>15.304589</td>\n",
       "    </tr>\n",
       "    <tr>\n",
       "      <th>61917</th>\n",
       "      <td>20016</td>\n",
       "      <td>2021-11-01</td>\n",
       "      <td>59274084898</td>\n",
       "      <td>748035</td>\n",
       "      <td>James Rowe</td>\n",
       "      <td>07208 Richard Mews</td>\n",
       "      <td>NSW</td>\n",
       "      <td>1515</td>\n",
       "      <td>Male</td>\n",
       "      <td>3166.684386</td>\n",
       "      <td>3a22381f-7614-4b77-98d9-12df5965ef8e</td>\n",
       "      <td>Sodales Elit PC</td>\n",
       "      <td>[telecom], [c], [take rate: 2.01]</td>\n",
       "      <td>telecom</td>\n",
       "      <td>c</td>\n",
       "      <td>2.01</td>\n",
       "      <td>NaN</td>\n",
       "      <td>14.125520</td>\n",
       "      <td>14.125520</td>\n",
       "    </tr>\n",
       "    <tr>\n",
       "      <th>61918</th>\n",
       "      <td>21504</td>\n",
       "      <td>2021-09-07</td>\n",
       "      <td>69703285964</td>\n",
       "      <td>1064295</td>\n",
       "      <td>Christine White</td>\n",
       "      <td>2261 Craig Forest</td>\n",
       "      <td>VIC</td>\n",
       "      <td>3282</td>\n",
       "      <td>Female</td>\n",
       "      <td>50.308836</td>\n",
       "      <td>5434fc68-b634-4cc6-aeee-732fbb54fc47</td>\n",
       "      <td>Suspendisse Incorporated</td>\n",
       "      <td>[cable, satellite, and other pay television an...</td>\n",
       "      <td>cable, satellite, and other pay television and...</td>\n",
       "      <td>a</td>\n",
       "      <td>5.77</td>\n",
       "      <td>NaN</td>\n",
       "      <td>18.012304</td>\n",
       "      <td>18.012304</td>\n",
       "    </tr>\n",
       "  </tbody>\n",
       "</table>\n",
       "<p>61919 rows × 19 columns</p>\n",
       "</div>"
      ],
      "text/plain": [
       "       user_id order_datetime  merchant_abn consumer_id       consumer_name  \\\n",
       "0          724     2021-09-15   49212265466     1344843           Amy Hogan   \n",
       "1         1936     2021-09-25   97603729191       95690  Mr. David Lopez MD   \n",
       "2         2007     2022-02-27   13839274306     1231913     Brittney Hooper   \n",
       "3         3845     2021-11-28   28748147493      357114       Keith Padilla   \n",
       "4         6734     2021-11-25   66667026714     1285829    Melissa Mckinney   \n",
       "...        ...            ...           ...         ...                 ...   \n",
       "61914    16501     2021-12-07   16570599421     1430152    Matthew Stephens   \n",
       "61915    19256     2021-05-18   32361057556      855885      William Rivera   \n",
       "61916    19597     2021-12-27   93558142492      525572     Michael Bradley   \n",
       "61917    20016     2021-11-01   59274084898      748035          James Rowe   \n",
       "61918    21504     2021-09-07   69703285964     1064295     Christine White   \n",
       "\n",
       "                                 address state postcode       gender  \\\n",
       "0                  19623 Sandoval Tunnel   QLD     4857       Female   \n",
       "1      10039 Guzman Extensions Suite 399   TAS     7263  Undisclosed   \n",
       "2                    229 Cooley Villages    WA     6569       Female   \n",
       "3                         732 Davis Port   NSW     1296         Male   \n",
       "4                    4584 Anthony Summit   VIC     3911       Female   \n",
       "...                                  ...   ...      ...          ...   \n",
       "61914               324 Stephens Squares    WA     6847         Male   \n",
       "61915                  4598 Anthony Dale   QLD     4511         Male   \n",
       "61916      750 Nicole Mountains Apt. 616    WA     6041         Male   \n",
       "61917                 07208 Richard Mews   NSW     1515         Male   \n",
       "61918                  2261 Craig Forest   VIC     3282       Female   \n",
       "\n",
       "       dollar_value                              order_id  \\\n",
       "0        328.571527  ff4a0c61-67fd-42dc-96da-cd2d05ee888d   \n",
       "1       1686.440177  2bca9dc9-5f59-4475-b713-0e8c5520143b   \n",
       "2         59.253038  084b5c1f-8151-4b59-94cb-8f9a93680e2b   \n",
       "3        122.557294  c0e12e26-2b84-4289-9749-826e0147e560   \n",
       "4        166.733745  f529e1bb-432d-473e-912c-ed9bb4cdb5ba   \n",
       "...             ...                                   ...   \n",
       "61914    130.394497  d2c31101-7ab6-411f-907b-dc16a8b77dd4   \n",
       "61915     61.896095  64fa1f28-42fd-4991-8eb4-2f9ef8e5ce44   \n",
       "61916    334.951713  079ba289-e0ca-4058-8eae-b66eda799435   \n",
       "61917   3166.684386  3a22381f-7614-4b77-98d9-12df5965ef8e   \n",
       "61918     50.308836  5434fc68-b634-4cc6-aeee-732fbb54fc47   \n",
       "\n",
       "                       merchant_name  \\\n",
       "0                     Auctor Company   \n",
       "1                         Eu Company   \n",
       "2           Sit Amet Consectetuer PC   \n",
       "3                    Neque Institute   \n",
       "4          Sit Amet Risus Foundation   \n",
       "...                              ...   \n",
       "61914               Non Magna Nam PC   \n",
       "61915  Orci In Consequat Corporation   \n",
       "61916             Dolor Quisque Inc.   \n",
       "61917                Sodales Elit PC   \n",
       "61918       Suspendisse Incorporated   \n",
       "\n",
       "                                                    tags  \\\n",
       "0      [florists supplies, nursery stocK, and flowers...   \n",
       "1      [stAtionery, office supplies and printing and ...   \n",
       "2      [computErs, computer peripheral equipment, and...   \n",
       "3      [gift, caRd, novelty, and souvenir shops], [c]...   \n",
       "4      [digItal goods: books, moviEs, music], [c], [t...   \n",
       "...                                                  ...   \n",
       "61914  [digital goods: books, movies, music], [a], [t...   \n",
       "61915  [gift, card, novelty, and souvenir shops], [a]...   \n",
       "61916               [shoe shops], [b], [take rate: 3.41]   \n",
       "61917                  [telecom], [c], [take rate: 2.01]   \n",
       "61918  [cable, satellite, and other pay television an...   \n",
       "\n",
       "                                              categories revenue_level  \\\n",
       "0          florists supplies, nursery stock, and flowers             b   \n",
       "1      stationery, office supplies and printing and w...             a   \n",
       "2      computers, computer peripheral equipment, and ...             a   \n",
       "3                gift, card, novelty, and souvenir shops             c   \n",
       "4                    digital goods: books, movies, music             c   \n",
       "...                                                  ...           ...   \n",
       "61914                digital goods: books, movies, music             a   \n",
       "61915            gift, card, novelty, and souvenir shops             a   \n",
       "61916                                         shoe shops             b   \n",
       "61917                                            telecom             c   \n",
       "61918  cable, satellite, and other pay television and...             a   \n",
       "\n",
       "       take_rate  fraud_merchant_pr  fraud_consumer_pr  fraud_mean  \n",
       "0           4.50                NaN           9.722903    9.722903  \n",
       "1           6.78                NaN          16.446285   16.446285  \n",
       "2           6.00                NaN          12.239517   12.239517  \n",
       "3           2.51                NaN          18.627390   18.627390  \n",
       "4           1.85                NaN           9.546015    9.546015  \n",
       "...          ...                ...                ...         ...  \n",
       "61914       6.74                NaN          16.746586   16.746586  \n",
       "61915       6.61                NaN          10.681720   10.681720  \n",
       "61916       3.41                NaN          15.304589   15.304589  \n",
       "61917       2.01                NaN          14.125520   14.125520  \n",
       "61918       5.77                NaN          18.012304   18.012304  \n",
       "\n",
       "[61919 rows x 19 columns]"
      ]
     },
     "execution_count": 119,
     "metadata": {},
     "output_type": "execute_result"
    }
   ],
   "source": [
    "pd_fraud"
   ]
  },
  {
   "cell_type": "code",
   "execution_count": 120,
   "metadata": {},
   "outputs": [
    {
     "data": {
      "text/plain": [
       "<AxesSubplot:xlabel='dollar_value', ylabel='fraud_mean'>"
      ]
     },
     "execution_count": 120,
     "metadata": {},
     "output_type": "execute_result"
    },
    {
     "data": {
      "image/png": "[encoded data removed]",
      "text/plain": [
       "<Figure size 432x288 with 1 Axes>"
      ]
     },
     "metadata": {
      "needs_background": "light"
     },
     "output_type": "display_data"
    }
   ],
   "source": [
    "sns.scatterplot(pd_fraud[\"dollar_value\"], pd_fraud[\"fraud_mean\"])"
   ]
  },
  {
   "cell_type": "code",
   "execution_count": 121,
   "metadata": {},
   "outputs": [],
   "source": [
    "pd_fraud_below_10k = pd_fraud[pd_fraud[\"dollar_value\"] < 10000]"
   ]
  },
  {
   "cell_type": "code",
   "execution_count": 122,
   "metadata": {},
   "outputs": [
    {
     "data": {
      "text/plain": [
       "<AxesSubplot:xlabel='dollar_value', ylabel='fraud_mean'>"
      ]
     },
     "execution_count": 122,
     "metadata": {},
     "output_type": "execute_result"
    },
    {
     "data": {
      "image/png": "[encoded data removed]",
      "text/plain": [
       "<Figure size 432x288 with 1 Axes>"
      ]
     },
     "metadata": {
      "needs_background": "light"
     },
     "output_type": "display_data"
    }
   ],
   "source": [
    "sns.scatterplot(pd_fraud[\"dollar_value\"], pd_fraud[\"fraud_mean\"])"
   ]
  },
  {
   "cell_type": "code",
   "execution_count": 123,
   "metadata": {},
   "outputs": [
    {
     "data": {
      "image/png": "[encoded data removed]",
      "text/plain": [
       "<Figure size 432x288 with 2 Axes>"
      ]
     },
     "metadata": {
      "needs_background": "light"
     },
     "output_type": "display_data"
    }
   ],
   "source": [
    "sns.heatmap(pd_fraud[[\"dollar_value\", \"fraud_merchant_pr\", \"fraud_consumer_pr\"]].corr(), annot=True)\n",
    "plt.title('Correlation between dollar value and fraud probabilities')\n",
    "plt.show()"
   ]
  },
  {
   "cell_type": "code",
   "execution_count": 124,
   "metadata": {},
   "outputs": [],
   "source": [
    "categories = pd_fraud[\"categories\"].unique().tolist()"
   ]
  },
  {
   "cell_type": "code",
   "execution_count": 125,
   "metadata": {},
   "outputs": [
    {
     "name": "stderr",
     "output_type": "stream",
     "text": [
      "                                                                                \r"
     ]
    },
    {
     "name": "stdout",
     "output_type": "stream",
     "text": [
      "Proportion of possible fraud in category florists supplies, nursery stock, and flowers is 0.34333305005523923%\n"
     ]
    },
    {
     "name": "stderr",
     "output_type": "stream",
     "text": [
      "                                                                                \r"
     ]
    },
    {
     "name": "stdout",
     "output_type": "stream",
     "text": [
      "Proportion of possible fraud in category stationery, office supplies and printing and writing paper is 0.8491261863688732%\n"
     ]
    },
    {
     "name": "stderr",
     "output_type": "stream",
     "text": [
      "                                                                                \r"
     ]
    },
    {
     "name": "stdout",
     "output_type": "stream",
     "text": [
      "Proportion of possible fraud in category computers, computer peripheral equipment, and software is 0.4090295275266374%\n"
     ]
    },
    {
     "name": "stderr",
     "output_type": "stream",
     "text": [
      "                                                                                \r"
     ]
    },
    {
     "name": "stdout",
     "output_type": "stream",
     "text": [
      "Proportion of possible fraud in category gift, card, novelty, and souvenir shops is 0.3373773142401417%\n"
     ]
    },
    {
     "name": "stderr",
     "output_type": "stream",
     "text": [
      "                                                                                \r"
     ]
    },
    {
     "name": "stdout",
     "output_type": "stream",
     "text": [
      "Proportion of possible fraud in category digital goods: books, movies, music is 0.30658409206674525%\n"
     ]
    },
    {
     "name": "stderr",
     "output_type": "stream",
     "text": [
      "                                                                                \r"
     ]
    },
    {
     "name": "stdout",
     "output_type": "stream",
     "text": [
      "Proportion of possible fraud in category equipment, tool, furniture, and appliance rent al and leasing is 10.44025978264417%\n"
     ]
    },
    {
     "name": "stderr",
     "output_type": "stream",
     "text": [
      "                                                                                \r"
     ]
    },
    {
     "name": "stdout",
     "output_type": "stream",
     "text": [
      "Proportion of possible fraud in category lawn and garden supply outlets, including nurseries is 1.0321996314688153%\n"
     ]
    },
    {
     "name": "stderr",
     "output_type": "stream",
     "text": [
      "                                                                                \r"
     ]
    },
    {
     "name": "stdout",
     "output_type": "stream",
     "text": [
      "Proportion of possible fraud in category furniture, home furnishings and equipment shops, and manufacturers, except appliances is 0.9473805677359797%\n"
     ]
    },
    {
     "name": "stderr",
     "output_type": "stream",
     "text": [
      "                                                                                \r"
     ]
    },
    {
     "name": "stdout",
     "output_type": "stream",
     "text": [
      "Proportion of possible fraud in category hobby, toy and game shops is 1.3157894736842104%\n"
     ]
    },
    {
     "name": "stderr",
     "output_type": "stream",
     "text": [
      "                                                                                \r"
     ]
    },
    {
     "name": "stdout",
     "output_type": "stream",
     "text": [
      "Proportion of possible fraud in category art dealers and galleries is 14.003624916531527%\n"
     ]
    },
    {
     "name": "stderr",
     "output_type": "stream",
     "text": [
      "                                                                                \r"
     ]
    },
    {
     "name": "stdout",
     "output_type": "stream",
     "text": [
      "Proportion of possible fraud in category motor vehicle supplies and new parts is 1.1972100760292246%\n"
     ]
    },
    {
     "name": "stderr",
     "output_type": "stream",
     "text": [
      "                                                                                \r"
     ]
    },
    {
     "name": "stdout",
     "output_type": "stream",
     "text": [
      "Proportion of possible fraud in category cable, satellite, and other pay television and radio services is 0.3685299017636583%\n"
     ]
    },
    {
     "name": "stderr",
     "output_type": "stream",
     "text": [
      "                                                                                \r"
     ]
    },
    {
     "name": "stdout",
     "output_type": "stream",
     "text": [
      "Proportion of possible fraud in category watch, clock, and jewelry repair shops is 0.3192219715832334%\n"
     ]
    },
    {
     "name": "stderr",
     "output_type": "stream",
     "text": [
      "                                                                                \r"
     ]
    },
    {
     "name": "stdout",
     "output_type": "stream",
     "text": [
      "Proportion of possible fraud in category artist supply and craft shops is 0.6498490508110322%\n"
     ]
    },
    {
     "name": "stderr",
     "output_type": "stream",
     "text": [
      "                                                                                \r"
     ]
    },
    {
     "name": "stdout",
     "output_type": "stream",
     "text": [
      "Proportion of possible fraud in category tent and awning shops is 0.7490738288442086%\n"
     ]
    },
    {
     "name": "stderr",
     "output_type": "stream",
     "text": [
      "                                                                                \r"
     ]
    },
    {
     "name": "stdout",
     "output_type": "stream",
     "text": [
      "Proportion of possible fraud in category shoe shops is 0.38796887524469575%\n"
     ]
    },
    {
     "name": "stderr",
     "output_type": "stream",
     "text": [
      "                                                                                \r"
     ]
    },
    {
     "name": "stdout",
     "output_type": "stream",
     "text": [
      "Proportion of possible fraud in category bicycle shops - sales and service is 1.2267575610476773%\n"
     ]
    },
    {
     "name": "stderr",
     "output_type": "stream",
     "text": [
      "                                                                                \r"
     ]
    },
    {
     "name": "stdout",
     "output_type": "stream",
     "text": [
      "Proportion of possible fraud in category music shops - musical instruments, pianos, and sheet music is 0.6402581647782685%\n"
     ]
    },
    {
     "name": "stderr",
     "output_type": "stream",
     "text": [
      "                                                                                \r"
     ]
    },
    {
     "name": "stdout",
     "output_type": "stream",
     "text": [
      "Proportion of possible fraud in category telecom is 13.279823733081523%\n"
     ]
    },
    {
     "name": "stderr",
     "output_type": "stream",
     "text": [
      "                                                                                \r"
     ]
    },
    {
     "name": "stdout",
     "output_type": "stream",
     "text": [
      "Proportion of possible fraud in category jewelry, watch, clock, and silverware shops is 38.0119366124717%\n"
     ]
    },
    {
     "name": "stderr",
     "output_type": "stream",
     "text": [
      "                                                                                \r"
     ]
    },
    {
     "name": "stdout",
     "output_type": "stream",
     "text": [
      "Proportion of possible fraud in category opticians, optical goods, and eyeglasses is 0.4744559593360654%\n"
     ]
    },
    {
     "name": "stderr",
     "output_type": "stream",
     "text": [
      "                                                                                \r"
     ]
    },
    {
     "name": "stdout",
     "output_type": "stream",
     "text": [
      "Proportion of possible fraud in category health and beauty spas is 0.5050713190008471%\n"
     ]
    },
    {
     "name": "stderr",
     "output_type": "stream",
     "text": [
      "                                                                                \r"
     ]
    },
    {
     "name": "stdout",
     "output_type": "stream",
     "text": [
      "Proportion of possible fraud in category computer programming , data processing, and integrated systems design services is 0.3836716679448439%\n"
     ]
    },
    {
     "name": "stderr",
     "output_type": "stream",
     "text": [
      "                                                                                \r"
     ]
    },
    {
     "name": "stdout",
     "output_type": "stream",
     "text": [
      "Proportion of possible fraud in category books, periodicals, and newspapers is 0.38716227261386155%\n"
     ]
    },
    {
     "name": "stderr",
     "output_type": "stream",
     "text": [
      "                                                                                \r"
     ]
    },
    {
     "name": "stdout",
     "output_type": "stream",
     "text": [
      "Proportion of possible fraud in category antique shops - sales, repairs, and restoration services is 1.2927934057816055%\n"
     ]
    }
   ],
   "source": [
    "for category in categories:\n",
    "    num_fraud = pd_fraud[pd_fraud[\"categories\"] == category].shape[0]\n",
    "    num_total = df_trx.where(F.col(\"categories\") == category).count()\n",
    "    print(f'Proportion of possible fraud in category {category} is {(num_fraud/num_total)*100}%')"
   ]
  },
  {
   "cell_type": "code",
   "execution_count": 157,
   "metadata": {},
   "outputs": [],
   "source": [
    "all_trx = df_trx.join(fraud_data_merchant, on=[\"merchant_abn\", \"order_datetime\"], how=\"left\").withColumnRenamed(\"fraud_probability\", \"fraud_merchant_pr\")\n",
    "all_trx = all_trx.join(fraud_data_consumer, on=[\"user_id\", \"order_datetime\"], how=\"left\").withColumnRenamed(\"fraud_probability\", \"fraud_consumer_pr\")\n",
    "all_trx = all_trx.distinct()"
   ]
  },
  {
   "cell_type": "code",
   "execution_count": 162,
   "metadata": {},
   "outputs": [],
   "source": [
    "@F.udf(BinaryType())\n",
    "def fraud_bool(col1, col2):\n",
    "    if col1 is not None or col2 is not None:\n",
    "        return True\n",
    "    else:\n",
    "        return False"
   ]
  },
  {
   "cell_type": "code",
   "execution_count": 149,
   "metadata": {},
   "outputs": [],
   "source": [
    "dollar_trx_consumer = fraud_trx.groupby([\"user_id\", \"order_datetime\", \"fraud_consumer_pr\"]).agg(F.max(F.col(\"dollar_value\")).alias(\"max_value\"), F.min(F.col(\"dollar_value\")).alias(\"min_value\"), \\\n",
    "    F.count(\"dollar_value\").alias(\"count\"))"
   ]
  },
  {
   "cell_type": "code",
   "execution_count": 150,
   "metadata": {},
   "outputs": [
    {
     "name": "stderr",
     "output_type": "stream",
     "text": [
      "                                                                                \r"
     ]
    }
   ],
   "source": [
    "dollar_pd_consumer = dollar_trx_consumer.toPandas()"
   ]
  },
  {
   "cell_type": "code",
   "execution_count": 151,
   "metadata": {},
   "outputs": [],
   "source": [
    "dollar_pd_consumer[\"difference\"] = dollar_pd_consumer[\"max_value\"] - dollar_pd_consumer[\"min_value\"]"
   ]
  },
  {
   "cell_type": "code",
   "execution_count": 152,
   "metadata": {},
   "outputs": [],
   "source": [
    "dollar_pd_consumer = dollar_pd_consumer[dollar_pd_consumer[\"fraud_consumer_pr\"].notnull()]"
   ]
  },
  {
   "cell_type": "code",
   "execution_count": 154,
   "metadata": {},
   "outputs": [
    {
     "data": {
      "text/html": [
       "<div>\n",
       "<style scoped>\n",
       "    .dataframe tbody tr th:only-of-type {\n",
       "        vertical-align: middle;\n",
       "    }\n",
       "\n",
       "    .dataframe tbody tr th {\n",
       "        vertical-align: top;\n",
       "    }\n",
       "\n",
       "    .dataframe thead th {\n",
       "        text-align: right;\n",
       "    }\n",
       "</style>\n",
       "<table border=\"1\" class=\"dataframe\">\n",
       "  <thead>\n",
       "    <tr style=\"text-align: right;\">\n",
       "      <th></th>\n",
       "      <th>user_id</th>\n",
       "      <th>order_datetime</th>\n",
       "      <th>fraud_consumer_pr</th>\n",
       "      <th>max_value</th>\n",
       "      <th>min_value</th>\n",
       "      <th>count</th>\n",
       "      <th>difference</th>\n",
       "    </tr>\n",
       "  </thead>\n",
       "  <tbody>\n",
       "    <tr>\n",
       "      <th>17936</th>\n",
       "      <td>10904</td>\n",
       "      <td>2021-11-26</td>\n",
       "      <td>9.184462</td>\n",
       "      <td>943.193968</td>\n",
       "      <td>83.560508</td>\n",
       "      <td>9</td>\n",
       "      <td>859.633460</td>\n",
       "    </tr>\n",
       "    <tr>\n",
       "      <th>18127</th>\n",
       "      <td>15483</td>\n",
       "      <td>2021-11-29</td>\n",
       "      <td>9.915625</td>\n",
       "      <td>1452.087268</td>\n",
       "      <td>35.252067</td>\n",
       "      <td>9</td>\n",
       "      <td>1416.835200</td>\n",
       "    </tr>\n",
       "    <tr>\n",
       "      <th>25138</th>\n",
       "      <td>10326</td>\n",
       "      <td>2021-11-26</td>\n",
       "      <td>10.362651</td>\n",
       "      <td>994.901269</td>\n",
       "      <td>40.904111</td>\n",
       "      <td>9</td>\n",
       "      <td>953.997158</td>\n",
       "    </tr>\n",
       "    <tr>\n",
       "      <th>18219</th>\n",
       "      <td>4481</td>\n",
       "      <td>2021-11-30</td>\n",
       "      <td>21.765421</td>\n",
       "      <td>7014.450281</td>\n",
       "      <td>35.049425</td>\n",
       "      <td>8</td>\n",
       "      <td>6979.400855</td>\n",
       "    </tr>\n",
       "    <tr>\n",
       "      <th>573</th>\n",
       "      <td>11958</td>\n",
       "      <td>2021-11-26</td>\n",
       "      <td>13.539138</td>\n",
       "      <td>2441.664678</td>\n",
       "      <td>35.591469</td>\n",
       "      <td>8</td>\n",
       "      <td>2406.073209</td>\n",
       "    </tr>\n",
       "    <tr>\n",
       "      <th>...</th>\n",
       "      <td>...</td>\n",
       "      <td>...</td>\n",
       "      <td>...</td>\n",
       "      <td>...</td>\n",
       "      <td>...</td>\n",
       "      <td>...</td>\n",
       "      <td>...</td>\n",
       "    </tr>\n",
       "    <tr>\n",
       "      <th>9167</th>\n",
       "      <td>21231</td>\n",
       "      <td>2021-07-27</td>\n",
       "      <td>24.083998</td>\n",
       "      <td>12592.322376</td>\n",
       "      <td>12592.322376</td>\n",
       "      <td>1</td>\n",
       "      <td>0.000000</td>\n",
       "    </tr>\n",
       "    <tr>\n",
       "      <th>21367</th>\n",
       "      <td>10558</td>\n",
       "      <td>2021-11-18</td>\n",
       "      <td>11.282618</td>\n",
       "      <td>3102.058235</td>\n",
       "      <td>3102.058235</td>\n",
       "      <td>1</td>\n",
       "      <td>0.000000</td>\n",
       "    </tr>\n",
       "    <tr>\n",
       "      <th>9161</th>\n",
       "      <td>1267</td>\n",
       "      <td>2021-11-07</td>\n",
       "      <td>19.636580</td>\n",
       "      <td>5322.802479</td>\n",
       "      <td>5322.802479</td>\n",
       "      <td>1</td>\n",
       "      <td>0.000000</td>\n",
       "    </tr>\n",
       "    <tr>\n",
       "      <th>21372</th>\n",
       "      <td>22059</td>\n",
       "      <td>2021-10-23</td>\n",
       "      <td>11.226717</td>\n",
       "      <td>3637.181267</td>\n",
       "      <td>3637.181267</td>\n",
       "      <td>1</td>\n",
       "      <td>0.000000</td>\n",
       "    </tr>\n",
       "    <tr>\n",
       "      <th>34892</th>\n",
       "      <td>8088</td>\n",
       "      <td>2021-05-25</td>\n",
       "      <td>12.086188</td>\n",
       "      <td>200.723468</td>\n",
       "      <td>200.723468</td>\n",
       "      <td>1</td>\n",
       "      <td>0.000000</td>\n",
       "    </tr>\n",
       "  </tbody>\n",
       "</table>\n",
       "<p>31769 rows × 7 columns</p>\n",
       "</div>"
      ],
      "text/plain": [
       "       user_id order_datetime  fraud_consumer_pr     max_value     min_value  \\\n",
       "17936    10904     2021-11-26           9.184462    943.193968     83.560508   \n",
       "18127    15483     2021-11-29           9.915625   1452.087268     35.252067   \n",
       "25138    10326     2021-11-26          10.362651    994.901269     40.904111   \n",
       "18219     4481     2021-11-30          21.765421   7014.450281     35.049425   \n",
       "573      11958     2021-11-26          13.539138   2441.664678     35.591469   \n",
       "...        ...            ...                ...           ...           ...   \n",
       "9167     21231     2021-07-27          24.083998  12592.322376  12592.322376   \n",
       "21367    10558     2021-11-18          11.282618   3102.058235   3102.058235   \n",
       "9161      1267     2021-11-07          19.636580   5322.802479   5322.802479   \n",
       "21372    22059     2021-10-23          11.226717   3637.181267   3637.181267   \n",
       "34892     8088     2021-05-25          12.086188    200.723468    200.723468   \n",
       "\n",
       "       count   difference  \n",
       "17936      9   859.633460  \n",
       "18127      9  1416.835200  \n",
       "25138      9   953.997158  \n",
       "18219      8  6979.400855  \n",
       "573        8  2406.073209  \n",
       "...      ...          ...  \n",
       "9167       1     0.000000  \n",
       "21367      1     0.000000  \n",
       "9161       1     0.000000  \n",
       "21372      1     0.000000  \n",
       "34892      1     0.000000  \n",
       "\n",
       "[31769 rows x 7 columns]"
      ]
     },
     "execution_count": 154,
     "metadata": {},
     "output_type": "execute_result"
    }
   ],
   "source": [
    "dollar_pd_consumer.sort_values(\"count\", ascending=False)"
   ]
  },
  {
   "cell_type": "code",
   "execution_count": 131,
   "metadata": {},
   "outputs": [
    {
     "data": {
      "text/plain": [
       "<AxesSubplot:xlabel='difference', ylabel='fraud_consumer_pr'>"
      ]
     },
     "execution_count": 131,
     "metadata": {},
     "output_type": "execute_result"
    },
    {
     "data": {
      "image/png": "[encoded data removed]",
      "text/plain": [
       "<Figure size 432x288 with 1 Axes>"
      ]
     },
     "metadata": {
      "needs_background": "light"
     },
     "output_type": "display_data"
    }
   ],
   "source": [
    "sns.scatterplot(dollar_pd_consumer[\"difference\"], dollar_pd_consumer[\"fraud_consumer_pr\"])"
   ]
  },
  {
   "cell_type": "code",
   "execution_count": 168,
   "metadata": {},
   "outputs": [
    {
     "data": {
      "text/plain": [
       "<AxesSubplot:xlabel='max_value', ylabel='fraud_consumer_pr'>"
      ]
     },
     "execution_count": 168,
     "metadata": {},
     "output_type": "execute_result"
    },
    {
     "data": {
      "image/png": "[encoded data removed]",
      "text/plain": [
       "<Figure size 432x288 with 1 Axes>"
      ]
     },
     "metadata": {
      "needs_background": "light"
     },
     "output_type": "display_data"
    }
   ],
   "source": [
    "sns.scatterplot(dollar_pd_consumer[\"max_value\"], dollar_pd_consumer[\"fraud_consumer_pr\"])"
   ]
  },
  {
   "cell_type": "code",
   "execution_count": 132,
   "metadata": {},
   "outputs": [],
   "source": [
    "single_trx_consumer_fraud = dollar_pd_consumer[dollar_pd_consumer[\"difference\"] == 0]"
   ]
  },
  {
   "cell_type": "code",
   "execution_count": 133,
   "metadata": {},
   "outputs": [
    {
     "data": {
      "text/plain": [
       "<AxesSubplot:xlabel='max_value', ylabel='fraud_consumer_pr'>"
      ]
     },
     "execution_count": 133,
     "metadata": {},
     "output_type": "execute_result"
    },
    {
     "data": {
      "image/png": "[encoded data removed]",
      "text/plain": [
       "<Figure size 432x288 with 1 Axes>"
      ]
     },
     "metadata": {
      "needs_background": "light"
     },
     "output_type": "display_data"
    }
   ],
   "source": [
    "sns.scatterplot(single_trx_consumer_fraud[\"max_value\"], single_trx_consumer_fraud[\"fraud_consumer_pr\"])"
   ]
  },
  {
   "cell_type": "code",
   "execution_count": 138,
   "metadata": {},
   "outputs": [
    {
     "data": {
      "text/plain": [
       "<AxesSubplot:>"
      ]
     },
     "execution_count": 138,
     "metadata": {},
     "output_type": "execute_result"
    },
    {
     "data": {
      "image/png": "[encoded data removed]",
      "text/plain": [
       "<Figure size 432x288 with 2 Axes>"
      ]
     },
     "metadata": {
      "needs_background": "light"
     },
     "output_type": "display_data"
    }
   ],
   "source": [
    "sns.heatmap(dollar_pd_consumer[[\"fraud_consumer_pr\", \"difference\", \"max_value\"]].corr(), annot=True)"
   ]
  },
  {
   "cell_type": "code",
   "execution_count": 144,
   "metadata": {},
   "outputs": [
    {
     "name": "stderr",
     "output_type": "stream",
     "text": [
      "                                                                                \r"
     ]
    }
   ],
   "source": [
    "dollar_trx_merchant = fraud_trx.groupby([\"user_id\", \"order_datetime\", \"fraud_merchant_pr\"]).agg(F.max(F.col(\"dollar_value\")).alias(\"max_value\"), F.min(F.col(\"dollar_value\")).alias(\"min_value\"), \\\n",
    "    F.count(\"dollar_value\"))\n",
    "dollar_pd_merchant = dollar_trx_merchant.toPandas()"
   ]
  },
  {
   "cell_type": "code",
   "execution_count": 145,
   "metadata": {},
   "outputs": [
    {
     "data": {
      "text/html": [
       "<div>\n",
       "<style scoped>\n",
       "    .dataframe tbody tr th:only-of-type {\n",
       "        vertical-align: middle;\n",
       "    }\n",
       "\n",
       "    .dataframe tbody tr th {\n",
       "        vertical-align: top;\n",
       "    }\n",
       "\n",
       "    .dataframe thead th {\n",
       "        text-align: right;\n",
       "    }\n",
       "</style>\n",
       "<table border=\"1\" class=\"dataframe\">\n",
       "  <thead>\n",
       "    <tr style=\"text-align: right;\">\n",
       "      <th></th>\n",
       "      <th>user_id</th>\n",
       "      <th>order_datetime</th>\n",
       "      <th>fraud_merchant_pr</th>\n",
       "      <th>max_value</th>\n",
       "      <th>min_value</th>\n",
       "      <th>count(dollar_value)</th>\n",
       "    </tr>\n",
       "  </thead>\n",
       "  <tbody>\n",
       "    <tr>\n",
       "      <th>0</th>\n",
       "      <td>21403</td>\n",
       "      <td>2021-12-14</td>\n",
       "      <td>NaN</td>\n",
       "      <td>3088.208021</td>\n",
       "      <td>101.709074</td>\n",
       "      <td>3</td>\n",
       "    </tr>\n",
       "    <tr>\n",
       "      <th>1</th>\n",
       "      <td>7436</td>\n",
       "      <td>2021-11-29</td>\n",
       "      <td>NaN</td>\n",
       "      <td>802.094115</td>\n",
       "      <td>239.574941</td>\n",
       "      <td>3</td>\n",
       "    </tr>\n",
       "    <tr>\n",
       "      <th>2</th>\n",
       "      <td>9444</td>\n",
       "      <td>2021-05-16</td>\n",
       "      <td>NaN</td>\n",
       "      <td>7748.283749</td>\n",
       "      <td>41.855886</td>\n",
       "      <td>4</td>\n",
       "    </tr>\n",
       "    <tr>\n",
       "      <th>3</th>\n",
       "      <td>2724</td>\n",
       "      <td>2021-12-25</td>\n",
       "      <td>NaN</td>\n",
       "      <td>2458.843568</td>\n",
       "      <td>189.761264</td>\n",
       "      <td>2</td>\n",
       "    </tr>\n",
       "    <tr>\n",
       "      <th>4</th>\n",
       "      <td>6891</td>\n",
       "      <td>2021-04-19</td>\n",
       "      <td>NaN</td>\n",
       "      <td>4075.064873</td>\n",
       "      <td>100.329941</td>\n",
       "      <td>2</td>\n",
       "    </tr>\n",
       "    <tr>\n",
       "      <th>...</th>\n",
       "      <td>...</td>\n",
       "      <td>...</td>\n",
       "      <td>...</td>\n",
       "      <td>...</td>\n",
       "      <td>...</td>\n",
       "      <td>...</td>\n",
       "    </tr>\n",
       "    <tr>\n",
       "      <th>35269</th>\n",
       "      <td>2419</td>\n",
       "      <td>2022-01-20</td>\n",
       "      <td>NaN</td>\n",
       "      <td>5287.287443</td>\n",
       "      <td>127.384149</td>\n",
       "      <td>2</td>\n",
       "    </tr>\n",
       "    <tr>\n",
       "      <th>35270</th>\n",
       "      <td>7644</td>\n",
       "      <td>2021-10-12</td>\n",
       "      <td>NaN</td>\n",
       "      <td>4111.787313</td>\n",
       "      <td>4111.787313</td>\n",
       "      <td>1</td>\n",
       "    </tr>\n",
       "    <tr>\n",
       "      <th>35271</th>\n",
       "      <td>19821</td>\n",
       "      <td>2021-11-18</td>\n",
       "      <td>NaN</td>\n",
       "      <td>3430.251282</td>\n",
       "      <td>3430.251282</td>\n",
       "      <td>1</td>\n",
       "    </tr>\n",
       "    <tr>\n",
       "      <th>35272</th>\n",
       "      <td>628</td>\n",
       "      <td>2021-10-08</td>\n",
       "      <td>NaN</td>\n",
       "      <td>4831.261426</td>\n",
       "      <td>4831.261426</td>\n",
       "      <td>1</td>\n",
       "    </tr>\n",
       "    <tr>\n",
       "      <th>35273</th>\n",
       "      <td>14671</td>\n",
       "      <td>2021-12-12</td>\n",
       "      <td>NaN</td>\n",
       "      <td>18508.772579</td>\n",
       "      <td>226.563309</td>\n",
       "      <td>2</td>\n",
       "    </tr>\n",
       "  </tbody>\n",
       "</table>\n",
       "<p>35274 rows × 6 columns</p>\n",
       "</div>"
      ],
      "text/plain": [
       "       user_id order_datetime  fraud_merchant_pr     max_value    min_value  \\\n",
       "0        21403     2021-12-14                NaN   3088.208021   101.709074   \n",
       "1         7436     2021-11-29                NaN    802.094115   239.574941   \n",
       "2         9444     2021-05-16                NaN   7748.283749    41.855886   \n",
       "3         2724     2021-12-25                NaN   2458.843568   189.761264   \n",
       "4         6891     2021-04-19                NaN   4075.064873   100.329941   \n",
       "...        ...            ...                ...           ...          ...   \n",
       "35269     2419     2022-01-20                NaN   5287.287443   127.384149   \n",
       "35270     7644     2021-10-12                NaN   4111.787313  4111.787313   \n",
       "35271    19821     2021-11-18                NaN   3430.251282  3430.251282   \n",
       "35272      628     2021-10-08                NaN   4831.261426  4831.261426   \n",
       "35273    14671     2021-12-12                NaN  18508.772579   226.563309   \n",
       "\n",
       "       count(dollar_value)  \n",
       "0                        3  \n",
       "1                        3  \n",
       "2                        4  \n",
       "3                        2  \n",
       "4                        2  \n",
       "...                    ...  \n",
       "35269                    2  \n",
       "35270                    1  \n",
       "35271                    1  \n",
       "35272                    1  \n",
       "35273                    2  \n",
       "\n",
       "[35274 rows x 6 columns]"
      ]
     },
     "execution_count": 145,
     "metadata": {},
     "output_type": "execute_result"
    }
   ],
   "source": [
    "dollar_pd_merchant"
   ]
  },
  {
   "cell_type": "code",
   "execution_count": 146,
   "metadata": {},
   "outputs": [],
   "source": [
    "dollar_pd_merchant[\"difference\"] = dollar_pd_merchant[\"max_value\"] - dollar_pd_merchant[\"min_value\"]\n",
    "dollar_pd_merchant = dollar_pd_merchant[dollar_pd_merchant[\"fraud_merchant_pr\"].notnull()]"
   ]
  },
  {
   "cell_type": "code",
   "execution_count": 147,
   "metadata": {},
   "outputs": [
    {
     "data": {
      "text/html": [
       "<div>\n",
       "<style scoped>\n",
       "    .dataframe tbody tr th:only-of-type {\n",
       "        vertical-align: middle;\n",
       "    }\n",
       "\n",
       "    .dataframe tbody tr th {\n",
       "        vertical-align: top;\n",
       "    }\n",
       "\n",
       "    .dataframe thead th {\n",
       "        text-align: right;\n",
       "    }\n",
       "</style>\n",
       "<table border=\"1\" class=\"dataframe\">\n",
       "  <thead>\n",
       "    <tr style=\"text-align: right;\">\n",
       "      <th></th>\n",
       "      <th>user_id</th>\n",
       "      <th>order_datetime</th>\n",
       "      <th>fraud_merchant_pr</th>\n",
       "      <th>max_value</th>\n",
       "      <th>min_value</th>\n",
       "      <th>count(dollar_value)</th>\n",
       "      <th>difference</th>\n",
       "    </tr>\n",
       "  </thead>\n",
       "  <tbody>\n",
       "    <tr>\n",
       "      <th>14</th>\n",
       "      <td>16490</td>\n",
       "      <td>2021-11-26</td>\n",
       "      <td>29.102419</td>\n",
       "      <td>232.138444</td>\n",
       "      <td>232.138444</td>\n",
       "      <td>1</td>\n",
       "      <td>0.0</td>\n",
       "    </tr>\n",
       "    <tr>\n",
       "      <th>32</th>\n",
       "      <td>17013</td>\n",
       "      <td>2021-11-26</td>\n",
       "      <td>29.133053</td>\n",
       "      <td>117.101757</td>\n",
       "      <td>117.101757</td>\n",
       "      <td>1</td>\n",
       "      <td>0.0</td>\n",
       "    </tr>\n",
       "    <tr>\n",
       "      <th>33</th>\n",
       "      <td>5819</td>\n",
       "      <td>2021-11-29</td>\n",
       "      <td>28.360521</td>\n",
       "      <td>86.971658</td>\n",
       "      <td>86.971658</td>\n",
       "      <td>1</td>\n",
       "      <td>0.0</td>\n",
       "    </tr>\n",
       "    <tr>\n",
       "      <th>45</th>\n",
       "      <td>12893</td>\n",
       "      <td>2021-11-26</td>\n",
       "      <td>28.504478</td>\n",
       "      <td>59.184182</td>\n",
       "      <td>59.184182</td>\n",
       "      <td>1</td>\n",
       "      <td>0.0</td>\n",
       "    </tr>\n",
       "    <tr>\n",
       "      <th>68</th>\n",
       "      <td>2470</td>\n",
       "      <td>2021-11-26</td>\n",
       "      <td>29.088158</td>\n",
       "      <td>64.883398</td>\n",
       "      <td>64.883398</td>\n",
       "      <td>1</td>\n",
       "      <td>0.0</td>\n",
       "    </tr>\n",
       "    <tr>\n",
       "      <th>...</th>\n",
       "      <td>...</td>\n",
       "      <td>...</td>\n",
       "      <td>...</td>\n",
       "      <td>...</td>\n",
       "      <td>...</td>\n",
       "      <td>...</td>\n",
       "      <td>...</td>\n",
       "    </tr>\n",
       "    <tr>\n",
       "      <th>35257</th>\n",
       "      <td>2724</td>\n",
       "      <td>2021-11-29</td>\n",
       "      <td>28.360521</td>\n",
       "      <td>58.766988</td>\n",
       "      <td>58.766988</td>\n",
       "      <td>1</td>\n",
       "      <td>0.0</td>\n",
       "    </tr>\n",
       "    <tr>\n",
       "      <th>35258</th>\n",
       "      <td>21094</td>\n",
       "      <td>2021-11-29</td>\n",
       "      <td>28.360521</td>\n",
       "      <td>203.039923</td>\n",
       "      <td>203.039923</td>\n",
       "      <td>1</td>\n",
       "      <td>0.0</td>\n",
       "    </tr>\n",
       "    <tr>\n",
       "      <th>35263</th>\n",
       "      <td>9063</td>\n",
       "      <td>2021-11-26</td>\n",
       "      <td>29.133053</td>\n",
       "      <td>216.103339</td>\n",
       "      <td>216.103339</td>\n",
       "      <td>1</td>\n",
       "      <td>0.0</td>\n",
       "    </tr>\n",
       "    <tr>\n",
       "      <th>35264</th>\n",
       "      <td>20427</td>\n",
       "      <td>2021-11-26</td>\n",
       "      <td>29.005907</td>\n",
       "      <td>51.523734</td>\n",
       "      <td>51.523734</td>\n",
       "      <td>1</td>\n",
       "      <td>0.0</td>\n",
       "    </tr>\n",
       "    <tr>\n",
       "      <th>35265</th>\n",
       "      <td>11507</td>\n",
       "      <td>2021-11-26</td>\n",
       "      <td>30.579033</td>\n",
       "      <td>94.073986</td>\n",
       "      <td>94.073986</td>\n",
       "      <td>1</td>\n",
       "      <td>0.0</td>\n",
       "    </tr>\n",
       "  </tbody>\n",
       "</table>\n",
       "<p>3594 rows × 7 columns</p>\n",
       "</div>"
      ],
      "text/plain": [
       "       user_id order_datetime  fraud_merchant_pr   max_value   min_value  \\\n",
       "14       16490     2021-11-26          29.102419  232.138444  232.138444   \n",
       "32       17013     2021-11-26          29.133053  117.101757  117.101757   \n",
       "33        5819     2021-11-29          28.360521   86.971658   86.971658   \n",
       "45       12893     2021-11-26          28.504478   59.184182   59.184182   \n",
       "68        2470     2021-11-26          29.088158   64.883398   64.883398   \n",
       "...        ...            ...                ...         ...         ...   \n",
       "35257     2724     2021-11-29          28.360521   58.766988   58.766988   \n",
       "35258    21094     2021-11-29          28.360521  203.039923  203.039923   \n",
       "35263     9063     2021-11-26          29.133053  216.103339  216.103339   \n",
       "35264    20427     2021-11-26          29.005907   51.523734   51.523734   \n",
       "35265    11507     2021-11-26          30.579033   94.073986   94.073986   \n",
       "\n",
       "       count(dollar_value)  difference  \n",
       "14                       1         0.0  \n",
       "32                       1         0.0  \n",
       "33                       1         0.0  \n",
       "45                       1         0.0  \n",
       "68                       1         0.0  \n",
       "...                    ...         ...  \n",
       "35257                    1         0.0  \n",
       "35258                    1         0.0  \n",
       "35263                    1         0.0  \n",
       "35264                    1         0.0  \n",
       "35265                    1         0.0  \n",
       "\n",
       "[3594 rows x 7 columns]"
      ]
     },
     "execution_count": 147,
     "metadata": {},
     "output_type": "execute_result"
    }
   ],
   "source": [
    "dollar_pd_merchant"
   ]
  },
  {
   "cell_type": "code",
   "execution_count": 148,
   "metadata": {},
   "outputs": [
    {
     "data": {
      "text/plain": [
       "<AxesSubplot:xlabel='max_value', ylabel='fraud_merchant_pr'>"
      ]
     },
     "execution_count": 148,
     "metadata": {},
     "output_type": "execute_result"
    },
    {
     "data": {
      "image/png": "[encoded data removed]",
      "text/plain": [
       "<Figure size 432x288 with 1 Axes>"
      ]
     },
     "metadata": {
      "needs_background": "light"
     },
     "output_type": "display_data"
    }
   ],
   "source": [
    "sns.scatterplot(dollar_pd_merchant[\"max_value\"], dollar_pd_merchant[\"fraud_merchant_pr\"])"
   ]
  }
 ],
 "metadata": {
  "kernelspec": {
   "display_name": "Python 3.8.10 64-bit",
   "language": "python",
   "name": "python3"
  },
  "language_info": {
   "codemirror_mode": {
    "name": "ipython",
    "version": 3
   },
   "file_extension": ".py",
   "mimetype": "text/x-python",
   "name": "python",
   "nbconvert_exporter": "python",
   "pygments_lexer": "ipython3",
   "version": "3.8.10"
  },
  "orig_nbformat": 4,
  "vscode": {
   "interpreter": {
    "hash": "916dbcbb3f70747c44a77c7bcd40155683ae19c65e1c03b4aa3499c5328201f1"
   }
  }
 },
 "nbformat": 4,
 "nbformat_minor": 2
}
