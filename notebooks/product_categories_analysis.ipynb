{
 "cells": [
  {
   "cell_type": "markdown",
   "metadata": {},
   "source": [
    "#### 1. Proportion of revenue levels per tag\n",
    "#### 2. Mean, standard deviation, median dollar value per tag\n",
    "#### 3. Transaction frequency per tag"
   ]
  },
  {
   "cell_type": "markdown",
   "metadata": {},
   "source": [
    "To do:\n",
    "1. Number of unique merchants/consumers per tag - Andrew\n",
    "2. Age distribution by tag (add visualization) - Andrew\n",
    "3. Consumer income distribution by tag (add visualization) - Andrew\n",
    "4. Take rate * Dollar_Value - Andrew\n",
    "5. Unique SA2 per merchant - Patrick\n",
    "6. Analyze buying power (transaction frequency and monetary value) of SA2, possibly ranking weights to merchants by SA2 - Patrick\n",
    "6.1 Add SA2 (Income, Age and Buying Power) Geospatial Visualization - Nadya\n",
    "7. Finalize features to use -> find correlation between features"
   ]
  },
  {
   "cell_type": "markdown",
   "metadata": {},
   "source": [
    "### Analysis by Tag"
   ]
  },
  {
   "cell_type": "code",
   "execution_count": 1,
   "metadata": {},
   "outputs": [],
   "source": [
    "import pandas as pd\n",
    "import numpy as np\n",
    "import seaborn as sns\n",
    "import geopandas as gpd\n",
    "from datetime import datetime\n",
    "import matplotlib.pyplot as plt\n",
    "%matplotlib inline\n",
    "\n",
    "import geopandas as gpd\n",
    "import folium\n",
    "from pyspark.sql import SparkSession, Window, functions as F\n",
    "from pyspark.sql.functions import countDistinct, col, date_format\n",
    "import numpy as np\n",
    "import pyspark.sql.functions as func\n",
    "from pyspark.sql.types import (\n",
    "    StringType,\n",
    "    LongType,\n",
    "    DoubleType,\n",
    "    StructField,\n",
    "    StructType,\n",
    "    FloatType\n",
    ")\n",
    "\n",
    "import warnings\n",
    "warnings.filterwarnings(\"ignore\")"
   ]
  },
  {
   "cell_type": "code",
   "execution_count": 2,
   "metadata": {},
   "outputs": [
    {
     "name": "stderr",
     "output_type": "stream",
     "text": [
      "Setting default log level to \"WARN\".\n",
      "To adjust logging level use sc.setLogLevel(newLevel). For SparkR, use setLogLevel(newLevel).\n"
     ]
    },
    {
     "name": "stdout",
     "output_type": "stream",
     "text": [
      "22/09/09 21:44:50 WARN NativeCodeLoader: Unable to load native-hadoop library for your platform... using builtin-java classes where applicable\n"
     ]
    }
   ],
   "source": [
    "# Start Spark Session\n",
    "spark = (\n",
    "    SparkSession.builder.appName(\"MAST30034 Project 2 BNPL\")\n",
    "    .config(\"spark.sql.repl.eagerEval.enabled\", True) \n",
    "    .config(\"spark.sql.parquet.cacheMetadata\", \"true\")\n",
    "    .config(\"spark.sql.session.timeZone\", \"Etc/UTC\")\n",
    "    .config(\"spark.driver.memory\", \"4g\")\n",
    "    .config(\"spark.executor.memory\", \"8g\")\n",
    "    .getOrCreate()\n",
    ")"
   ]
  },
  {
   "cell_type": "code",
   "execution_count": 3,
   "metadata": {},
   "outputs": [],
   "source": [
    "# load BNPL dataset\n",
    "consumer = spark.read.csv(\"../data/tables/tbl_consumer.csv\", header=True, sep=\"|\")\n",
    "details = spark.read.parquet(\"../data/tables/consumer_user_details.parquet\")\n",
    "merchants = spark.read.parquet(\"../data/tables/tbl_merchants.parquet\")"
   ]
  },
  {
   "cell_type": "code",
   "execution_count": 4,
   "metadata": {},
   "outputs": [
    {
     "name": "stderr",
     "output_type": "stream",
     "text": [
      "                                                                                \r"
     ]
    },
    {
     "name": "stdout",
     "output_type": "stream",
     "text": [
      "added transactions_20210228_20210827_snapshot\n"
     ]
    },
    {
     "name": "stderr",
     "output_type": "stream",
     "text": [
      "                                                                                \r"
     ]
    },
    {
     "name": "stdout",
     "output_type": "stream",
     "text": [
      "added transactions_20210828_20220227_snapshot\n"
     ]
    }
   ],
   "source": [
    "# load all transactions datasets\n",
    "paths=['../data/tables/transactions_20210228_20210827_snapshot',\n",
    "       '../data/tables/transactions_20210828_20220227_snapshot']\n",
    "\n",
    "first = 1\n",
    "for path in paths:\n",
    "    if first:\n",
    "        transactions = spark.read.parquet(path)\n",
    "        print(f'added {path.split(\"/\")[3]}')\n",
    "        first = 0\n",
    "    else:\n",
    "        append_transactions = spark.read.parquet(path)\n",
    "        transactions = transactions.union(append_transactions)\n",
    "        print(f'added {path.split(\"/\")[3]}')"
   ]
  },
  {
   "cell_type": "code",
   "execution_count": 96,
   "metadata": {},
   "outputs": [
    {
     "name": "stderr",
     "output_type": "stream",
     "text": [
      "ERROR:fiona._env:HTTP error code : 400\n",
      "ERROR:fiona._env:HTTP error code : 400\n"
     ]
    }
   ],
   "source": [
    "age = gpd.read_file(\"../data/abs/sa2_age.gml\")\n",
    "income = gpd.read_file(\"../data/abs/sa2_income.gml\")"
   ]
  },
  {
   "cell_type": "code",
   "execution_count": 5,
   "metadata": {},
   "outputs": [],
   "source": [
    "# load poa_to_sa2 dataset\n",
    "poa_to_sa2 = spark.read.csv(\"../data/curated/poa_w_sa2.csv\", header=True)"
   ]
  },
  {
   "cell_type": "code",
   "execution_count": 6,
   "metadata": {},
   "outputs": [
    {
     "name": "stdout",
     "output_type": "stream",
     "text": [
      "-RECORD 0---------------------------\n",
      " name        | Yolanda Williams     \n",
      " address     | 413 Haney Gardens... \n",
      " state       | WA                   \n",
      " postcode    | 6935                 \n",
      " gender      | Female               \n",
      " consumer_id | 1195503              \n",
      "only showing top 1 row\n",
      "\n"
     ]
    }
   ],
   "source": [
    "consumer.show(1, vertical=True)"
   ]
  },
  {
   "cell_type": "code",
   "execution_count": 7,
   "metadata": {},
   "outputs": [
    {
     "name": "stdout",
     "output_type": "stream",
     "text": [
      "-RECORD 0--------------\n",
      " user_id     | 1       \n",
      " consumer_id | 1195503 \n",
      "only showing top 1 row\n",
      "\n"
     ]
    },
    {
     "name": "stderr",
     "output_type": "stream",
     "text": [
      "                                                                                \r"
     ]
    }
   ],
   "source": [
    "details.show(1, vertical=True)"
   ]
  },
  {
   "cell_type": "code",
   "execution_count": 8,
   "metadata": {},
   "outputs": [
    {
     "name": "stderr",
     "output_type": "stream",
     "text": [
      "                                                                                \r"
     ]
    },
    {
     "name": "stdout",
     "output_type": "stream",
     "text": [
      "+-------------------+\n",
      "|max(order_datetime)|\n",
      "+-------------------+\n",
      "|         2022-02-27|\n",
      "+-------------------+\n",
      "\n"
     ]
    },
    {
     "name": "stderr",
     "output_type": "stream",
     "text": [
      "[Stage 13:==============================>                          (8 + 4) / 15]\r"
     ]
    },
    {
     "name": "stdout",
     "output_type": "stream",
     "text": [
      "+-------------------+\n",
      "|min(order_datetime)|\n",
      "+-------------------+\n",
      "|         2021-02-28|\n",
      "+-------------------+\n",
      "\n"
     ]
    },
    {
     "name": "stderr",
     "output_type": "stream",
     "text": [
      "                                                                                \r"
     ]
    }
   ],
   "source": [
    "transactions.agg({'order_datetime': 'max'}).show()\n",
    "transactions.agg({'order_datetime': 'min'}).show()"
   ]
  },
  {
   "cell_type": "code",
   "execution_count": 9,
   "metadata": {},
   "outputs": [
    {
     "name": "stdout",
     "output_type": "stream",
     "text": [
      "-RECORD 0----------------------------\n",
      " name         | Felis Limited        \n",
      " tags         | ((furniture, home... \n",
      " merchant_abn | 10023283211          \n",
      "only showing top 1 row\n",
      "\n"
     ]
    }
   ],
   "source": [
    "merchants.show(1, vertical=True)"
   ]
  },
  {
   "cell_type": "code",
   "execution_count": 10,
   "metadata": {},
   "outputs": [
    {
     "name": "stdout",
     "output_type": "stream",
     "text": [
      "-RECORD 0------------------------------\n",
      " user_id        | 18478                \n",
      " merchant_abn   | 62191208634          \n",
      " dollar_value   | 63.255848959735246   \n",
      " order_id       | 949a63c8-29f7-4ab... \n",
      " order_datetime | 2021-08-20           \n",
      "only showing top 1 row\n",
      "\n"
     ]
    }
   ],
   "source": [
    "transactions.show(1, vertical=True)"
   ]
  },
  {
   "cell_type": "code",
   "execution_count": 11,
   "metadata": {},
   "outputs": [],
   "source": [
    "# rename columns\n",
    "merchants = merchants.withColumnRenamed('name', 'merchant_name')\n",
    "consumer = consumer.withColumnRenamed('name', 'consumer_name')"
   ]
  },
  {
   "cell_type": "markdown",
   "metadata": {},
   "source": [
    "---\n",
    "### Merge transaction with consumer and merchant details"
   ]
  },
  {
   "cell_type": "code",
   "execution_count": 12,
   "metadata": {},
   "outputs": [],
   "source": [
    "# Join consumers with their respective details\n",
    "consumer_detail = consumer.join(details, on=\"consumer_id\")\n",
    "\n",
    "# Join consumers with their respective transactions\n",
    "consumer_trx = consumer_detail.join(transactions, on=\"user_id\")\n",
    "\n",
    "# Join transactions with the respective merchants\n",
    "df_trx = consumer_trx.join(merchants, on=\"merchant_abn\")"
   ]
  },
  {
   "cell_type": "code",
   "execution_count": 13,
   "metadata": {},
   "outputs": [
    {
     "name": "stderr",
     "output_type": "stream",
     "text": [
      "[Stage 24:>                                                         (0 + 1) / 1]\r"
     ]
    },
    {
     "name": "stdout",
     "output_type": "stream",
     "text": [
      "-RECORD 0------------------------------\n",
      " merchant_abn   | 33064796871          \n",
      " user_id        | 7                    \n",
      " consumer_id    | 511685               \n",
      " consumer_name  | Andrea Jones         \n",
      " address        | 122 Brandon Cliff    \n",
      " state          | QLD                  \n",
      " postcode       | 4606                 \n",
      " gender         | Female               \n",
      " dollar_value   | 373.0873675184212    \n",
      " order_id       | fe188788-b89f-4dd... \n",
      " order_datetime | 2021-08-20           \n",
      " merchant_name  | Curabitur Massa C... \n",
      " tags           | ((computer progra... \n",
      "-RECORD 1------------------------------\n",
      " merchant_abn   | 68435002949          \n",
      " user_id        | 7                    \n",
      " consumer_id    | 511685               \n",
      " consumer_name  | Andrea Jones         \n",
      " address        | 122 Brandon Cliff    \n",
      " state          | QLD                  \n",
      " postcode       | 4606                 \n",
      " gender         | Female               \n",
      " dollar_value   | 232.5364986739752    \n",
      " order_id       | b4a89891-a113-45e... \n",
      " order_datetime | 2021-08-20           \n",
      " merchant_name  | Aliquam Eu Inc.      \n",
      " tags           | [(artist supply a... \n",
      "-RECORD 2------------------------------\n",
      " merchant_abn   | 41944909975          \n",
      " user_id        | 7                    \n",
      " consumer_id    | 511685               \n",
      " consumer_name  | Andrea Jones         \n",
      " address        | 122 Brandon Cliff    \n",
      " state          | QLD                  \n",
      " postcode       | 4606                 \n",
      " gender         | Female               \n",
      " dollar_value   | 30.910755230234322   \n",
      " order_id       | 302ae628-8eba-4a5... \n",
      " order_datetime | 2021-08-20           \n",
      " merchant_name  | Et Nunc Consulting   \n",
      " tags           | ([books, periodic... \n",
      "-RECORD 3------------------------------\n",
      " merchant_abn   | 21439773999          \n",
      " user_id        | 7                    \n",
      " consumer_id    | 511685               \n",
      " consumer_name  | Andrea Jones         \n",
      " address        | 122 Brandon Cliff    \n",
      " state          | QLD                  \n",
      " postcode       | 4606                 \n",
      " gender         | Female               \n",
      " dollar_value   | 91.18655746114226    \n",
      " order_id       | 4524fdc9-73f0-477... \n",
      " order_datetime | 2021-08-21           \n",
      " merchant_name  | Mauris Non Institute \n",
      " tags           | ([cable, satellit... \n",
      "-RECORD 4------------------------------\n",
      " merchant_abn   | 86662713230          \n",
      " user_id        | 7                    \n",
      " consumer_id    | 511685               \n",
      " consumer_name  | Andrea Jones         \n",
      " address        | 122 Brandon Cliff    \n",
      " state          | QLD                  \n",
      " postcode       | 4606                 \n",
      " gender         | Female               \n",
      " dollar_value   | 38.8137172956379     \n",
      " order_id       | 28f9e0f3-858d-445... \n",
      " order_datetime | 2021-08-19           \n",
      " merchant_name  | Vestibulum Accums... \n",
      " tags           | [[watch, clock, a... \n",
      "only showing top 5 rows\n",
      "\n"
     ]
    },
    {
     "name": "stderr",
     "output_type": "stream",
     "text": [
      "                                                                                \r"
     ]
    }
   ],
   "source": [
    "df_trx.show(5, vertical=True)"
   ]
  },
  {
   "cell_type": "code",
   "execution_count": 14,
   "metadata": {},
   "outputs": [
    {
     "name": "stdout",
     "output_type": "stream",
     "text": [
      "root\n",
      " |-- merchant_abn: long (nullable = true)\n",
      " |-- user_id: long (nullable = true)\n",
      " |-- consumer_id: string (nullable = true)\n",
      " |-- consumer_name: string (nullable = true)\n",
      " |-- address: string (nullable = true)\n",
      " |-- state: string (nullable = true)\n",
      " |-- postcode: string (nullable = true)\n",
      " |-- gender: string (nullable = true)\n",
      " |-- dollar_value: double (nullable = true)\n",
      " |-- order_id: string (nullable = true)\n",
      " |-- order_datetime: date (nullable = true)\n",
      " |-- merchant_name: string (nullable = true)\n",
      " |-- tags: string (nullable = true)\n",
      "\n"
     ]
    }
   ],
   "source": [
    "df_trx.printSchema()"
   ]
  },
  {
   "cell_type": "code",
   "execution_count": 15,
   "metadata": {},
   "outputs": [
    {
     "name": "stdout",
     "output_type": "stream",
     "text": [
      "-RECORD 0---------------------------------\n",
      " poa_code_2016     | 800                  \n",
      " poa_name_2016     | 0800                 \n",
      " sa2_maincode_2016 | 701011002.0          \n",
      " sa2_name_2016     | Darwin City          \n",
      " geometry          | POLYGON ((130.834... \n",
      "-RECORD 1---------------------------------\n",
      " poa_code_2016     | 810                  \n",
      " poa_name_2016     | 0810                 \n",
      " sa2_maincode_2016 | 701021013.0          \n",
      " sa2_name_2016     | Brinkin - Nakara     \n",
      " geometry          | POLYGON ((130.863... \n",
      "-RECORD 2---------------------------------\n",
      " poa_code_2016     | 812                  \n",
      " poa_name_2016     | 0812                 \n",
      " sa2_maincode_2016 | 701021014.0          \n",
      " sa2_name_2016     | Buffalo Creek        \n",
      " geometry          | POLYGON ((130.901... \n",
      "-RECORD 3---------------------------------\n",
      " poa_code_2016     | 815                  \n",
      " poa_name_2016     | 0815                 \n",
      " sa2_maincode_2016 | 701021013.0          \n",
      " sa2_name_2016     | Brinkin - Nakara     \n",
      " geometry          | POLYGON ((130.863... \n",
      "-RECORD 4---------------------------------\n",
      " poa_code_2016     | 820                  \n",
      " poa_name_2016     | 0820                 \n",
      " sa2_maincode_2016 | 701011006.0          \n",
      " sa2_name_2016     | Ludmilla - The Na... \n",
      " geometry          | POLYGON ((130.844... \n",
      "only showing top 5 rows\n",
      "\n"
     ]
    }
   ],
   "source": [
    "poa_to_sa2.show(5, vertical=True)"
   ]
  },
  {
   "cell_type": "code",
   "execution_count": 17,
   "metadata": {},
   "outputs": [
    {
     "name": "stderr",
     "output_type": "stream",
     "text": [
      "[Stage 29:===========================================>              (3 + 1) / 4]\r"
     ]
    },
    {
     "name": "stdout",
     "output_type": "stream",
     "text": [
      "-RECORD 0------------------------------\n",
      " merchant_abn   | 33064796871          \n",
      " user_id        | 7                    \n",
      " consumer_id    | 511685               \n",
      " consumer_name  | Andrea Jones         \n",
      " address        | 122 Brandon Cliff    \n",
      " state          | QLD                  \n",
      " postcode       | 4606                 \n",
      " gender         | Female               \n",
      " dollar_value   | 373.0873675184212    \n",
      " order_id       | fe188788-b89f-4dd... \n",
      " order_datetime | 2021-08-20           \n",
      " merchant_name  | Curabitur Massa C... \n",
      " tags           | ((computer progra... \n",
      "-RECORD 1------------------------------\n",
      " merchant_abn   | 68435002949          \n",
      " user_id        | 7                    \n",
      " consumer_id    | 511685               \n",
      " consumer_name  | Andrea Jones         \n",
      " address        | 122 Brandon Cliff    \n",
      " state          | QLD                  \n",
      " postcode       | 4606                 \n",
      " gender         | Female               \n",
      " dollar_value   | 232.5364986739752    \n",
      " order_id       | b4a89891-a113-45e... \n",
      " order_datetime | 2021-08-20           \n",
      " merchant_name  | Aliquam Eu Inc.      \n",
      " tags           | [(artist supply a... \n",
      "-RECORD 2------------------------------\n",
      " merchant_abn   | 41944909975          \n",
      " user_id        | 7                    \n",
      " consumer_id    | 511685               \n",
      " consumer_name  | Andrea Jones         \n",
      " address        | 122 Brandon Cliff    \n",
      " state          | QLD                  \n",
      " postcode       | 4606                 \n",
      " gender         | Female               \n",
      " dollar_value   | 30.910755230234322   \n",
      " order_id       | 302ae628-8eba-4a5... \n",
      " order_datetime | 2021-08-20           \n",
      " merchant_name  | Et Nunc Consulting   \n",
      " tags           | ([books, periodic... \n",
      "-RECORD 3------------------------------\n",
      " merchant_abn   | 21439773999          \n",
      " user_id        | 7                    \n",
      " consumer_id    | 511685               \n",
      " consumer_name  | Andrea Jones         \n",
      " address        | 122 Brandon Cliff    \n",
      " state          | QLD                  \n",
      " postcode       | 4606                 \n",
      " gender         | Female               \n",
      " dollar_value   | 91.18655746114226    \n",
      " order_id       | 4524fdc9-73f0-477... \n",
      " order_datetime | 2021-08-21           \n",
      " merchant_name  | Mauris Non Institute \n",
      " tags           | ([cable, satellit... \n",
      "-RECORD 4------------------------------\n",
      " merchant_abn   | 86662713230          \n",
      " user_id        | 7                    \n",
      " consumer_id    | 511685               \n",
      " consumer_name  | Andrea Jones         \n",
      " address        | 122 Brandon Cliff    \n",
      " state          | QLD                  \n",
      " postcode       | 4606                 \n",
      " gender         | Female               \n",
      " dollar_value   | 38.8137172956379     \n",
      " order_id       | 28f9e0f3-858d-445... \n",
      " order_datetime | 2021-08-19           \n",
      " merchant_name  | Vestibulum Accums... \n",
      " tags           | [[watch, clock, a... \n",
      "only showing top 5 rows\n",
      "\n"
     ]
    },
    {
     "name": "stderr",
     "output_type": "stream",
     "text": [
      "                                                                                \r"
     ]
    }
   ],
   "source": [
    "df_trx.show(5, vertical=True)"
   ]
  },
  {
   "cell_type": "code",
   "execution_count": 16,
   "metadata": {},
   "outputs": [],
   "source": [
    "# translate postcodes in transaction to sa2 codes\n",
    "sa2_cols = ['poa_name_2016', 'sa2_maincode_2016', 'sa2_name_2016', 'geometry']\n",
    "df_trx_sa2 = (df_trx \\\n",
    "                .join(poa_to_sa2[sa2_cols], \n",
    "                     on=[df_trx['postcode'] == poa_to_sa2['poa_name_2016']],\n",
    "                     how='inner')\n",
    "                .drop('poa_name_2016')\n",
    "             )"
   ]
  },
  {
   "cell_type": "code",
   "execution_count": 18,
   "metadata": {},
   "outputs": [
    {
     "name": "stderr",
     "output_type": "stream",
     "text": [
      "[Stage 36:===========================================>              (3 + 1) / 4]\r"
     ]
    },
    {
     "name": "stdout",
     "output_type": "stream",
     "text": [
      "-RECORD 0------------------------------\n",
      " merchant_abn   | 33064796871          \n",
      " user_id        | 7                    \n",
      " consumer_id    | 511685               \n",
      " consumer_name  | Andrea Jones         \n",
      " address        | 122 Brandon Cliff    \n",
      " state          | QLD                  \n",
      " postcode       | 4606                 \n",
      " gender         | Female               \n",
      " dollar_value   | 373.0873675184212    \n",
      " order_id       | fe188788-b89f-4dd... \n",
      " order_datetime | 2021-08-20           \n",
      " merchant_name  | Curabitur Massa C... \n",
      " tags           | ((computer progra... \n",
      "-RECORD 1------------------------------\n",
      " merchant_abn   | 68435002949          \n",
      " user_id        | 7                    \n",
      " consumer_id    | 511685               \n",
      " consumer_name  | Andrea Jones         \n",
      " address        | 122 Brandon Cliff    \n",
      " state          | QLD                  \n",
      " postcode       | 4606                 \n",
      " gender         | Female               \n",
      " dollar_value   | 232.5364986739752    \n",
      " order_id       | b4a89891-a113-45e... \n",
      " order_datetime | 2021-08-20           \n",
      " merchant_name  | Aliquam Eu Inc.      \n",
      " tags           | [(artist supply a... \n",
      "-RECORD 2------------------------------\n",
      " merchant_abn   | 41944909975          \n",
      " user_id        | 7                    \n",
      " consumer_id    | 511685               \n",
      " consumer_name  | Andrea Jones         \n",
      " address        | 122 Brandon Cliff    \n",
      " state          | QLD                  \n",
      " postcode       | 4606                 \n",
      " gender         | Female               \n",
      " dollar_value   | 30.910755230234322   \n",
      " order_id       | 302ae628-8eba-4a5... \n",
      " order_datetime | 2021-08-20           \n",
      " merchant_name  | Et Nunc Consulting   \n",
      " tags           | ([books, periodic... \n",
      "-RECORD 3------------------------------\n",
      " merchant_abn   | 21439773999          \n",
      " user_id        | 7                    \n",
      " consumer_id    | 511685               \n",
      " consumer_name  | Andrea Jones         \n",
      " address        | 122 Brandon Cliff    \n",
      " state          | QLD                  \n",
      " postcode       | 4606                 \n",
      " gender         | Female               \n",
      " dollar_value   | 91.18655746114226    \n",
      " order_id       | 4524fdc9-73f0-477... \n",
      " order_datetime | 2021-08-21           \n",
      " merchant_name  | Mauris Non Institute \n",
      " tags           | ([cable, satellit... \n",
      "-RECORD 4------------------------------\n",
      " merchant_abn   | 86662713230          \n",
      " user_id        | 7                    \n",
      " consumer_id    | 511685               \n",
      " consumer_name  | Andrea Jones         \n",
      " address        | 122 Brandon Cliff    \n",
      " state          | QLD                  \n",
      " postcode       | 4606                 \n",
      " gender         | Female               \n",
      " dollar_value   | 38.8137172956379     \n",
      " order_id       | 28f9e0f3-858d-445... \n",
      " order_datetime | 2021-08-19           \n",
      " merchant_name  | Vestibulum Accums... \n",
      " tags           | [[watch, clock, a... \n",
      "only showing top 5 rows\n",
      "\n"
     ]
    },
    {
     "name": "stderr",
     "output_type": "stream",
     "text": [
      "                                                                                \r"
     ]
    }
   ],
   "source": [
    "df_trx.show(5, vertical=True)"
   ]
  },
  {
   "cell_type": "code",
   "execution_count": 19,
   "metadata": {},
   "outputs": [
    {
     "name": "stderr",
     "output_type": "stream",
     "text": [
      "[Stage 47:==============>                                           (1 + 3) / 4]\r"
     ]
    },
    {
     "name": "stdout",
     "output_type": "stream",
     "text": [
      "+-----------------------------------------------------------------------------------------------------------------+-----+\n",
      "|tags                                                                                                             |count|\n",
      "+-----------------------------------------------------------------------------------------------------------------+-----+\n",
      "|((lawn and garden suppLy outlets, including nurseries), (a), (take rate: 6.02))                                  |342  |\n",
      "|[[watch, clock, and jewelry repair shops], [a], [take rate: 5.93]]                                               |5499 |\n",
      "|[[florists supplies, nursery stock, and flowers], [a], [take rate: 5.58]]                                        |401  |\n",
      "|([computer programming , data processing, and integrated systems design services], [a], [take rate: 6.79])       |1108 |\n",
      "|([artist supply and craft shops], [a], [take rate: 6.04])                                                        |1046 |\n",
      "|((tent and awning shops), (b), (take rate: 3.43))                                                                |723  |\n",
      "|[[books, periodicals, and newspapers], [c], [take rate: 1.60]]                                                   |598  |\n",
      "|[(gift, card, novelty, and souvenir shops), (c), (take rate: 1.41)]                                              |1768 |\n",
      "|[[cable, satellite, and other pay television and radio services], [a], [take rate: 5.75]]                        |2018 |\n",
      "|((gift, card, novelty, and souvenir shops), (c), (take rate: 2.75))                                              |2154 |\n",
      "|[[opticians, optical goods, and eyeglasses], [b], [take rate: 4.00]]                                             |4425 |\n",
      "|([tent and awning shops], [a], [take rate: 5.81])                                                                |778  |\n",
      "|([stationery, office supplies anD printing  and writing paper], [b], [take rate: 3.33])                          |239  |\n",
      "|((computer programming , data processing, and integrated systems design services), (c), (take rate: 1.67))       |297  |\n",
      "|[(tent and awning shops), (b), (take rate: 4.71)]                                                                |66   |\n",
      "|[[motor vehicle supplies and new parts], [a], [take rate: 6.43]]                                                 |83   |\n",
      "|[(opticians, optical goods, and eyeglasses), (b), (take rate: 4.50)]                                             |10105|\n",
      "|([furniture, home furnishings and equipment shops, and manufacturers, except applIances], [b], [take rate: 4.28])|2931 |\n",
      "|([furniture, home furnishings and equipmeNt shops, and manufacturers, except appliances], [b], [take rate: 4.80])|1352 |\n",
      "|((digital goods: books, movies, music), (a), (take rate: 5.58))                                                  |1498 |\n",
      "+-----------------------------------------------------------------------------------------------------------------+-----+\n",
      "only showing top 20 rows\n",
      "\n"
     ]
    },
    {
     "name": "stderr",
     "output_type": "stream",
     "text": [
      "                                                                                \r"
     ]
    }
   ],
   "source": [
    "# Explore product tags for purchase frequency\n",
    "df_trx.groupby(\"tags\").count().show(truncate=False)"
   ]
  },
  {
   "cell_type": "code",
   "execution_count": 20,
   "metadata": {},
   "outputs": [],
   "source": [
    "from pyspark.sql import functions as F\n",
    "from pyspark.sql.types import *\n",
    "@F.udf(StringType())\n",
    "def normalize_tags(col):\n",
    "    return col.replace(\"(\", \"[\").replace(\")\", \"]\")[1:-1]"
   ]
  },
  {
   "cell_type": "code",
   "execution_count": 21,
   "metadata": {},
   "outputs": [],
   "source": [
    "df_trx = df_trx.withColumn(\"tags\", normalize_tags(F.col(\"tags\")))"
   ]
  },
  {
   "cell_type": "code",
   "execution_count": 22,
   "metadata": {},
   "outputs": [
    {
     "name": "stdout",
     "output_type": "stream",
     "text": [
      "root\n",
      " |-- merchant_abn: long (nullable = true)\n",
      " |-- user_id: long (nullable = true)\n",
      " |-- consumer_id: string (nullable = true)\n",
      " |-- consumer_name: string (nullable = true)\n",
      " |-- address: string (nullable = true)\n",
      " |-- state: string (nullable = true)\n",
      " |-- postcode: string (nullable = true)\n",
      " |-- gender: string (nullable = true)\n",
      " |-- dollar_value: double (nullable = true)\n",
      " |-- order_id: string (nullable = true)\n",
      " |-- order_datetime: date (nullable = true)\n",
      " |-- merchant_name: string (nullable = true)\n",
      " |-- tags: string (nullable = true)\n",
      "\n"
     ]
    }
   ],
   "source": [
    "df_trx.printSchema()"
   ]
  },
  {
   "cell_type": "code",
   "execution_count": 23,
   "metadata": {},
   "outputs": [],
   "source": [
    "df_trx = df_trx.withColumn(\"categories\", F.regexp_extract(\"tags\", \"(?<=\\[)(.*?)(?=\\])\", 1))"
   ]
  },
  {
   "cell_type": "code",
   "execution_count": 24,
   "metadata": {},
   "outputs": [],
   "source": [
    "df_trx = df_trx.withColumn(\"revenue_level\", F.regexp_extract(\"tags\", \"(?<=,\\s\\[)([a-e]+?)(?=\\],)\", 1))"
   ]
  },
  {
   "cell_type": "code",
   "execution_count": 25,
   "metadata": {},
   "outputs": [],
   "source": [
    "df_trx = df_trx.withColumn(\"take_rate\", F.regexp_extract(\"tags\", \"(?<=\\[take rate: )(.*?)(?=\\])\", 1))"
   ]
  },
  {
   "cell_type": "code",
   "execution_count": 26,
   "metadata": {},
   "outputs": [],
   "source": [
    "df_trx = df_trx.withColumn(\"take_rate\", F.col(\"take_rate\").astype(FloatType()))"
   ]
  },
  {
   "cell_type": "code",
   "execution_count": 27,
   "metadata": {},
   "outputs": [],
   "source": [
    "@F.udf(StringType())\n",
    "def clean_string(col):\n",
    "    col = col.lower()\n",
    "    return \" \".join(col.split())"
   ]
  },
  {
   "cell_type": "code",
   "execution_count": 28,
   "metadata": {},
   "outputs": [],
   "source": [
    "df_trx = df_trx.withColumn(\"categories\", clean_string(F.col(\"categories\")))"
   ]
  },
  {
   "cell_type": "code",
   "execution_count": 29,
   "metadata": {},
   "outputs": [
    {
     "name": "stderr",
     "output_type": "stream",
     "text": [
      "                                                                                \r"
     ]
    }
   ],
   "source": [
    "category_take_rates = df_trx.select([\"categories\", \"revenue_level\", \"take_rate\"]).toPandas()"
   ]
  },
  {
   "cell_type": "code",
   "execution_count": 30,
   "metadata": {},
   "outputs": [],
   "source": [
    "import pandas as pd\n",
    "pd.set_option('display.max_rows', None)"
   ]
  },
  {
   "cell_type": "code",
   "execution_count": 31,
   "metadata": {},
   "outputs": [
    {
     "data": {
      "image/png": "[encoded data removed]",
      "text/plain": [
       "<Figure size 432x288 with 1 Axes>"
      ]
     },
     "metadata": {
      "needs_background": "light"
     },
     "output_type": "display_data"
    }
   ],
   "source": [
    "import seaborn as sns\n",
    "sns.boxplot(category_take_rates[\"revenue_level\"], category_take_rates[\"take_rate\"])\n",
    "plt.show()"
   ]
  },
  {
   "cell_type": "markdown",
   "metadata": {},
   "source": [
    "Revenue levels can be categorized by its take rate"
   ]
  },
  {
   "cell_type": "code",
   "execution_count": 32,
   "metadata": {},
   "outputs": [
    {
     "data": {
      "text/html": [
       "<div>\n",
       "<style scoped>\n",
       "    .dataframe tbody tr th:only-of-type {\n",
       "        vertical-align: middle;\n",
       "    }\n",
       "\n",
       "    .dataframe tbody tr th {\n",
       "        vertical-align: top;\n",
       "    }\n",
       "\n",
       "    .dataframe thead th {\n",
       "        text-align: right;\n",
       "    }\n",
       "</style>\n",
       "<table border=\"1\" class=\"dataframe\">\n",
       "  <thead>\n",
       "    <tr style=\"text-align: right;\">\n",
       "      <th></th>\n",
       "      <th>categories</th>\n",
       "      <th>revenue_level</th>\n",
       "      <th>count</th>\n",
       "      <th>percent</th>\n",
       "    </tr>\n",
       "  </thead>\n",
       "  <tbody>\n",
       "    <tr>\n",
       "      <th>0</th>\n",
       "      <td>antique shops - sales, repairs, and restoratio...</td>\n",
       "      <td>a</td>\n",
       "      <td>17003.0</td>\n",
       "      <td>16.569379</td>\n",
       "    </tr>\n",
       "    <tr>\n",
       "      <th>1</th>\n",
       "      <td>antique shops - sales, repairs, and restoratio...</td>\n",
       "      <td>b</td>\n",
       "      <td>42880.0</td>\n",
       "      <td>41.786449</td>\n",
       "    </tr>\n",
       "    <tr>\n",
       "      <th>2</th>\n",
       "      <td>antique shops - sales, repairs, and restoratio...</td>\n",
       "      <td>c</td>\n",
       "      <td>38416.0</td>\n",
       "      <td>37.436292</td>\n",
       "    </tr>\n",
       "    <tr>\n",
       "      <th>3</th>\n",
       "      <td>antique shops - sales, repairs, and restoratio...</td>\n",
       "      <td>d</td>\n",
       "      <td>3697.0</td>\n",
       "      <td>3.602717</td>\n",
       "    </tr>\n",
       "    <tr>\n",
       "      <th>4</th>\n",
       "      <td>antique shops - sales, repairs, and restoratio...</td>\n",
       "      <td>e</td>\n",
       "      <td>621.0</td>\n",
       "      <td>0.605163</td>\n",
       "    </tr>\n",
       "    <tr>\n",
       "      <th>5</th>\n",
       "      <td>art dealers and galleries</td>\n",
       "      <td>a</td>\n",
       "      <td>3423.0</td>\n",
       "      <td>27.797629</td>\n",
       "    </tr>\n",
       "    <tr>\n",
       "      <th>6</th>\n",
       "      <td>art dealers and galleries</td>\n",
       "      <td>b</td>\n",
       "      <td>6655.0</td>\n",
       "      <td>54.044177</td>\n",
       "    </tr>\n",
       "    <tr>\n",
       "      <th>7</th>\n",
       "      <td>art dealers and galleries</td>\n",
       "      <td>c</td>\n",
       "      <td>1920.0</td>\n",
       "      <td>15.592009</td>\n",
       "    </tr>\n",
       "    <tr>\n",
       "      <th>8</th>\n",
       "      <td>art dealers and galleries</td>\n",
       "      <td>d</td>\n",
       "      <td>29.0</td>\n",
       "      <td>0.235504</td>\n",
       "    </tr>\n",
       "    <tr>\n",
       "      <th>9</th>\n",
       "      <td>art dealers and galleries</td>\n",
       "      <td>e</td>\n",
       "      <td>287.0</td>\n",
       "      <td>2.330681</td>\n",
       "    </tr>\n",
       "    <tr>\n",
       "      <th>10</th>\n",
       "      <td>artist supply and craft shops</td>\n",
       "      <td>a</td>\n",
       "      <td>173002.0</td>\n",
       "      <td>63.908888</td>\n",
       "    </tr>\n",
       "    <tr>\n",
       "      <th>11</th>\n",
       "      <td>artist supply and craft shops</td>\n",
       "      <td>b</td>\n",
       "      <td>47202.0</td>\n",
       "      <td>17.436951</td>\n",
       "    </tr>\n",
       "    <tr>\n",
       "      <th>12</th>\n",
       "      <td>artist supply and craft shops</td>\n",
       "      <td>c</td>\n",
       "      <td>48430.0</td>\n",
       "      <td>17.890588</td>\n",
       "    </tr>\n",
       "    <tr>\n",
       "      <th>13</th>\n",
       "      <td>artist supply and craft shops</td>\n",
       "      <td>d</td>\n",
       "      <td>2030.0</td>\n",
       "      <td>0.749905</td>\n",
       "    </tr>\n",
       "    <tr>\n",
       "      <th>14</th>\n",
       "      <td>artist supply and craft shops</td>\n",
       "      <td>e</td>\n",
       "      <td>37.0</td>\n",
       "      <td>0.013668</td>\n",
       "    </tr>\n",
       "    <tr>\n",
       "      <th>15</th>\n",
       "      <td>bicycle shops - sales and service</td>\n",
       "      <td>a</td>\n",
       "      <td>50216.0</td>\n",
       "      <td>38.958540</td>\n",
       "    </tr>\n",
       "    <tr>\n",
       "      <th>16</th>\n",
       "      <td>bicycle shops - sales and service</td>\n",
       "      <td>b</td>\n",
       "      <td>54102.0</td>\n",
       "      <td>41.973374</td>\n",
       "    </tr>\n",
       "    <tr>\n",
       "      <th>17</th>\n",
       "      <td>bicycle shops - sales and service</td>\n",
       "      <td>c</td>\n",
       "      <td>23049.0</td>\n",
       "      <td>17.881858</td>\n",
       "    </tr>\n",
       "    <tr>\n",
       "      <th>18</th>\n",
       "      <td>bicycle shops - sales and service</td>\n",
       "      <td>d</td>\n",
       "      <td>1215.0</td>\n",
       "      <td>0.942620</td>\n",
       "    </tr>\n",
       "    <tr>\n",
       "      <th>19</th>\n",
       "      <td>bicycle shops - sales and service</td>\n",
       "      <td>e</td>\n",
       "      <td>314.0</td>\n",
       "      <td>0.243607</td>\n",
       "    </tr>\n",
       "    <tr>\n",
       "      <th>20</th>\n",
       "      <td>books, periodicals, and newspapers</td>\n",
       "      <td>a</td>\n",
       "      <td>92546.0</td>\n",
       "      <td>40.830679</td>\n",
       "    </tr>\n",
       "    <tr>\n",
       "      <th>21</th>\n",
       "      <td>books, periodicals, and newspapers</td>\n",
       "      <td>b</td>\n",
       "      <td>85657.0</td>\n",
       "      <td>37.791298</td>\n",
       "    </tr>\n",
       "    <tr>\n",
       "      <th>22</th>\n",
       "      <td>books, periodicals, and newspapers</td>\n",
       "      <td>c</td>\n",
       "      <td>26879.0</td>\n",
       "      <td>11.858836</td>\n",
       "    </tr>\n",
       "    <tr>\n",
       "      <th>23</th>\n",
       "      <td>books, periodicals, and newspapers</td>\n",
       "      <td>d</td>\n",
       "      <td>1300.0</td>\n",
       "      <td>0.573551</td>\n",
       "    </tr>\n",
       "    <tr>\n",
       "      <th>24</th>\n",
       "      <td>books, periodicals, and newspapers</td>\n",
       "      <td>e</td>\n",
       "      <td>20276.0</td>\n",
       "      <td>8.945636</td>\n",
       "    </tr>\n",
       "    <tr>\n",
       "      <th>25</th>\n",
       "      <td>cable, satellite, and other pay television and...</td>\n",
       "      <td>a</td>\n",
       "      <td>330328.0</td>\n",
       "      <td>60.030276</td>\n",
       "    </tr>\n",
       "    <tr>\n",
       "      <th>26</th>\n",
       "      <td>cable, satellite, and other pay television and...</td>\n",
       "      <td>b</td>\n",
       "      <td>117048.0</td>\n",
       "      <td>21.271051</td>\n",
       "    </tr>\n",
       "    <tr>\n",
       "      <th>27</th>\n",
       "      <td>cable, satellite, and other pay television and...</td>\n",
       "      <td>c</td>\n",
       "      <td>75304.0</td>\n",
       "      <td>13.684943</td>\n",
       "    </tr>\n",
       "    <tr>\n",
       "      <th>28</th>\n",
       "      <td>cable, satellite, and other pay television and...</td>\n",
       "      <td>d</td>\n",
       "      <td>9900.0</td>\n",
       "      <td>1.799120</td>\n",
       "    </tr>\n",
       "    <tr>\n",
       "      <th>29</th>\n",
       "      <td>cable, satellite, and other pay television and...</td>\n",
       "      <td>e</td>\n",
       "      <td>17689.0</td>\n",
       "      <td>3.214610</td>\n",
       "    </tr>\n",
       "    <tr>\n",
       "      <th>30</th>\n",
       "      <td>computer programming , data processing, and in...</td>\n",
       "      <td>a</td>\n",
       "      <td>129980.0</td>\n",
       "      <td>43.666244</td>\n",
       "    </tr>\n",
       "    <tr>\n",
       "      <th>31</th>\n",
       "      <td>computer programming , data processing, and in...</td>\n",
       "      <td>b</td>\n",
       "      <td>83940.0</td>\n",
       "      <td>28.199297</td>\n",
       "    </tr>\n",
       "    <tr>\n",
       "      <th>32</th>\n",
       "      <td>computer programming , data processing, and in...</td>\n",
       "      <td>c</td>\n",
       "      <td>68410.0</td>\n",
       "      <td>22.982057</td>\n",
       "    </tr>\n",
       "    <tr>\n",
       "      <th>33</th>\n",
       "      <td>computer programming , data processing, and in...</td>\n",
       "      <td>d</td>\n",
       "      <td>9442.0</td>\n",
       "      <td>3.172001</td>\n",
       "    </tr>\n",
       "    <tr>\n",
       "      <th>34</th>\n",
       "      <td>computer programming , data processing, and in...</td>\n",
       "      <td>e</td>\n",
       "      <td>5895.0</td>\n",
       "      <td>1.980401</td>\n",
       "    </tr>\n",
       "    <tr>\n",
       "      <th>35</th>\n",
       "      <td>computers, computer peripheral equipment, and ...</td>\n",
       "      <td>a</td>\n",
       "      <td>140821.0</td>\n",
       "      <td>34.138755</td>\n",
       "    </tr>\n",
       "    <tr>\n",
       "      <th>36</th>\n",
       "      <td>computers, computer peripheral equipment, and ...</td>\n",
       "      <td>b</td>\n",
       "      <td>131823.0</td>\n",
       "      <td>31.957401</td>\n",
       "    </tr>\n",
       "    <tr>\n",
       "      <th>37</th>\n",
       "      <td>computers, computer peripheral equipment, and ...</td>\n",
       "      <td>c</td>\n",
       "      <td>135610.0</td>\n",
       "      <td>32.875470</td>\n",
       "    </tr>\n",
       "    <tr>\n",
       "      <th>38</th>\n",
       "      <td>computers, computer peripheral equipment, and ...</td>\n",
       "      <td>d</td>\n",
       "      <td>3030.0</td>\n",
       "      <td>0.734553</td>\n",
       "    </tr>\n",
       "    <tr>\n",
       "      <th>39</th>\n",
       "      <td>computers, computer peripheral equipment, and ...</td>\n",
       "      <td>e</td>\n",
       "      <td>1212.0</td>\n",
       "      <td>0.293821</td>\n",
       "    </tr>\n",
       "    <tr>\n",
       "      <th>40</th>\n",
       "      <td>digital goods: books, movies, music</td>\n",
       "      <td>a</td>\n",
       "      <td>383786.0</td>\n",
       "      <td>51.976901</td>\n",
       "    </tr>\n",
       "    <tr>\n",
       "      <th>41</th>\n",
       "      <td>digital goods: books, movies, music</td>\n",
       "      <td>b</td>\n",
       "      <td>225041.0</td>\n",
       "      <td>30.477750</td>\n",
       "    </tr>\n",
       "    <tr>\n",
       "      <th>42</th>\n",
       "      <td>digital goods: books, movies, music</td>\n",
       "      <td>c</td>\n",
       "      <td>119023.0</td>\n",
       "      <td>16.119521</td>\n",
       "    </tr>\n",
       "    <tr>\n",
       "      <th>43</th>\n",
       "      <td>digital goods: books, movies, music</td>\n",
       "      <td>d</td>\n",
       "      <td>9598.0</td>\n",
       "      <td>1.299876</td>\n",
       "    </tr>\n",
       "    <tr>\n",
       "      <th>44</th>\n",
       "      <td>digital goods: books, movies, music</td>\n",
       "      <td>e</td>\n",
       "      <td>930.0</td>\n",
       "      <td>0.125952</td>\n",
       "    </tr>\n",
       "    <tr>\n",
       "      <th>45</th>\n",
       "      <td>equipment, tool, furniture, and appliance rent...</td>\n",
       "      <td>a</td>\n",
       "      <td>4084.0</td>\n",
       "      <td>19.446693</td>\n",
       "    </tr>\n",
       "    <tr>\n",
       "      <th>46</th>\n",
       "      <td>equipment, tool, furniture, and appliance rent...</td>\n",
       "      <td>b</td>\n",
       "      <td>4741.0</td>\n",
       "      <td>22.575115</td>\n",
       "    </tr>\n",
       "    <tr>\n",
       "      <th>47</th>\n",
       "      <td>equipment, tool, furniture, and appliance rent...</td>\n",
       "      <td>c</td>\n",
       "      <td>11020.0</td>\n",
       "      <td>52.473692</td>\n",
       "    </tr>\n",
       "    <tr>\n",
       "      <th>48</th>\n",
       "      <td>equipment, tool, furniture, and appliance rent...</td>\n",
       "      <td>d</td>\n",
       "      <td>664.0</td>\n",
       "      <td>3.161754</td>\n",
       "    </tr>\n",
       "    <tr>\n",
       "      <th>49</th>\n",
       "      <td>equipment, tool, furniture, and appliance rent...</td>\n",
       "      <td>e</td>\n",
       "      <td>492.0</td>\n",
       "      <td>2.342746</td>\n",
       "    </tr>\n",
       "    <tr>\n",
       "      <th>50</th>\n",
       "      <td>florists supplies, nursery stock, and flowers</td>\n",
       "      <td>a</td>\n",
       "      <td>91543.0</td>\n",
       "      <td>18.077569</td>\n",
       "    </tr>\n",
       "    <tr>\n",
       "      <th>51</th>\n",
       "      <td>florists supplies, nursery stock, and flowers</td>\n",
       "      <td>b</td>\n",
       "      <td>208105.0</td>\n",
       "      <td>41.095796</td>\n",
       "    </tr>\n",
       "    <tr>\n",
       "      <th>52</th>\n",
       "      <td>florists supplies, nursery stock, and flowers</td>\n",
       "      <td>c</td>\n",
       "      <td>199058.0</td>\n",
       "      <td>39.309228</td>\n",
       "    </tr>\n",
       "    <tr>\n",
       "      <th>53</th>\n",
       "      <td>florists supplies, nursery stock, and flowers</td>\n",
       "      <td>d</td>\n",
       "      <td>7587.0</td>\n",
       "      <td>1.498252</td>\n",
       "    </tr>\n",
       "    <tr>\n",
       "      <th>54</th>\n",
       "      <td>florists supplies, nursery stock, and flowers</td>\n",
       "      <td>e</td>\n",
       "      <td>97.0</td>\n",
       "      <td>0.019155</td>\n",
       "    </tr>\n",
       "    <tr>\n",
       "      <th>55</th>\n",
       "      <td>furniture, home furnishings and equipment shop...</td>\n",
       "      <td>a</td>\n",
       "      <td>78595.0</td>\n",
       "      <td>27.465404</td>\n",
       "    </tr>\n",
       "    <tr>\n",
       "      <th>56</th>\n",
       "      <td>furniture, home furnishings and equipment shop...</td>\n",
       "      <td>b</td>\n",
       "      <td>118679.0</td>\n",
       "      <td>41.472952</td>\n",
       "    </tr>\n",
       "    <tr>\n",
       "      <th>57</th>\n",
       "      <td>furniture, home furnishings and equipment shop...</td>\n",
       "      <td>c</td>\n",
       "      <td>86454.0</td>\n",
       "      <td>30.211770</td>\n",
       "    </tr>\n",
       "    <tr>\n",
       "      <th>58</th>\n",
       "      <td>furniture, home furnishings and equipment shop...</td>\n",
       "      <td>d</td>\n",
       "      <td>574.0</td>\n",
       "      <td>0.200587</td>\n",
       "    </tr>\n",
       "    <tr>\n",
       "      <th>59</th>\n",
       "      <td>furniture, home furnishings and equipment shop...</td>\n",
       "      <td>e</td>\n",
       "      <td>1858.0</td>\n",
       "      <td>0.649287</td>\n",
       "    </tr>\n",
       "    <tr>\n",
       "      <th>60</th>\n",
       "      <td>gift, card, novelty, and souvenir shops</td>\n",
       "      <td>a</td>\n",
       "      <td>447947.0</td>\n",
       "      <td>47.606431</td>\n",
       "    </tr>\n",
       "    <tr>\n",
       "      <th>61</th>\n",
       "      <td>gift, card, novelty, and souvenir shops</td>\n",
       "      <td>b</td>\n",
       "      <td>267032.0</td>\n",
       "      <td>28.379341</td>\n",
       "    </tr>\n",
       "    <tr>\n",
       "      <th>62</th>\n",
       "      <td>gift, card, novelty, and souvenir shops</td>\n",
       "      <td>c</td>\n",
       "      <td>218759.0</td>\n",
       "      <td>23.249034</td>\n",
       "    </tr>\n",
       "    <tr>\n",
       "      <th>63</th>\n",
       "      <td>gift, card, novelty, and souvenir shops</td>\n",
       "      <td>d</td>\n",
       "      <td>3352.0</td>\n",
       "      <td>0.356240</td>\n",
       "    </tr>\n",
       "    <tr>\n",
       "      <th>64</th>\n",
       "      <td>gift, card, novelty, and souvenir shops</td>\n",
       "      <td>e</td>\n",
       "      <td>3848.0</td>\n",
       "      <td>0.408954</td>\n",
       "    </tr>\n",
       "    <tr>\n",
       "      <th>65</th>\n",
       "      <td>health and beauty spas</td>\n",
       "      <td>a</td>\n",
       "      <td>46357.0</td>\n",
       "      <td>32.880570</td>\n",
       "    </tr>\n",
       "    <tr>\n",
       "      <th>66</th>\n",
       "      <td>health and beauty spas</td>\n",
       "      <td>b</td>\n",
       "      <td>60269.0</td>\n",
       "      <td>42.748216</td>\n",
       "    </tr>\n",
       "    <tr>\n",
       "      <th>67</th>\n",
       "      <td>health and beauty spas</td>\n",
       "      <td>c</td>\n",
       "      <td>33457.0</td>\n",
       "      <td>23.730725</td>\n",
       "    </tr>\n",
       "    <tr>\n",
       "      <th>68</th>\n",
       "      <td>health and beauty spas</td>\n",
       "      <td>d</td>\n",
       "      <td>744.0</td>\n",
       "      <td>0.527712</td>\n",
       "    </tr>\n",
       "    <tr>\n",
       "      <th>69</th>\n",
       "      <td>health and beauty spas</td>\n",
       "      <td>e</td>\n",
       "      <td>159.0</td>\n",
       "      <td>0.112777</td>\n",
       "    </tr>\n",
       "    <tr>\n",
       "      <th>70</th>\n",
       "      <td>hobby, toy and game shops</td>\n",
       "      <td>a</td>\n",
       "      <td>81771.0</td>\n",
       "      <td>60.437700</td>\n",
       "    </tr>\n",
       "    <tr>\n",
       "      <th>71</th>\n",
       "      <td>hobby, toy and game shops</td>\n",
       "      <td>b</td>\n",
       "      <td>29147.0</td>\n",
       "      <td>21.542817</td>\n",
       "    </tr>\n",
       "    <tr>\n",
       "      <th>72</th>\n",
       "      <td>hobby, toy and game shops</td>\n",
       "      <td>c</td>\n",
       "      <td>23829.0</td>\n",
       "      <td>17.612234</td>\n",
       "    </tr>\n",
       "    <tr>\n",
       "      <th>73</th>\n",
       "      <td>hobby, toy and game shops</td>\n",
       "      <td>d</td>\n",
       "      <td>551.0</td>\n",
       "      <td>0.407249</td>\n",
       "    </tr>\n",
       "    <tr>\n",
       "      <th>74</th>\n",
       "      <td>jewelry, watch, clock, and silverware shops</td>\n",
       "      <td>a</td>\n",
       "      <td>186.0</td>\n",
       "      <td>6.572438</td>\n",
       "    </tr>\n",
       "    <tr>\n",
       "      <th>75</th>\n",
       "      <td>jewelry, watch, clock, and silverware shops</td>\n",
       "      <td>b</td>\n",
       "      <td>1438.0</td>\n",
       "      <td>50.812721</td>\n",
       "    </tr>\n",
       "    <tr>\n",
       "      <th>76</th>\n",
       "      <td>jewelry, watch, clock, and silverware shops</td>\n",
       "      <td>c</td>\n",
       "      <td>1169.0</td>\n",
       "      <td>41.307420</td>\n",
       "    </tr>\n",
       "    <tr>\n",
       "      <th>77</th>\n",
       "      <td>jewelry, watch, clock, and silverware shops</td>\n",
       "      <td>d</td>\n",
       "      <td>37.0</td>\n",
       "      <td>1.307420</td>\n",
       "    </tr>\n",
       "    <tr>\n",
       "      <th>78</th>\n",
       "      <td>lawn and garden supply outlets, including nurs...</td>\n",
       "      <td>a</td>\n",
       "      <td>87734.0</td>\n",
       "      <td>43.989511</td>\n",
       "    </tr>\n",
       "    <tr>\n",
       "      <th>79</th>\n",
       "      <td>lawn and garden supply outlets, including nurs...</td>\n",
       "      <td>b</td>\n",
       "      <td>34955.0</td>\n",
       "      <td>17.526311</td>\n",
       "    </tr>\n",
       "    <tr>\n",
       "      <th>80</th>\n",
       "      <td>lawn and garden supply outlets, including nurs...</td>\n",
       "      <td>c</td>\n",
       "      <td>72679.0</td>\n",
       "      <td>36.440988</td>\n",
       "    </tr>\n",
       "    <tr>\n",
       "      <th>81</th>\n",
       "      <td>lawn and garden supply outlets, including nurs...</td>\n",
       "      <td>d</td>\n",
       "      <td>4075.0</td>\n",
       "      <td>2.043190</td>\n",
       "    </tr>\n",
       "    <tr>\n",
       "      <th>82</th>\n",
       "      <td>motor vehicle supplies and new parts</td>\n",
       "      <td>a</td>\n",
       "      <td>73234.0</td>\n",
       "      <td>41.554978</td>\n",
       "    </tr>\n",
       "    <tr>\n",
       "      <th>83</th>\n",
       "      <td>motor vehicle supplies and new parts</td>\n",
       "      <td>b</td>\n",
       "      <td>75831.0</td>\n",
       "      <td>43.028587</td>\n",
       "    </tr>\n",
       "    <tr>\n",
       "      <th>84</th>\n",
       "      <td>motor vehicle supplies and new parts</td>\n",
       "      <td>c</td>\n",
       "      <td>23805.0</td>\n",
       "      <td>13.507609</td>\n",
       "    </tr>\n",
       "    <tr>\n",
       "      <th>85</th>\n",
       "      <td>motor vehicle supplies and new parts</td>\n",
       "      <td>d</td>\n",
       "      <td>1797.0</td>\n",
       "      <td>1.019667</td>\n",
       "    </tr>\n",
       "    <tr>\n",
       "      <th>86</th>\n",
       "      <td>motor vehicle supplies and new parts</td>\n",
       "      <td>e</td>\n",
       "      <td>1567.0</td>\n",
       "      <td>0.889159</td>\n",
       "    </tr>\n",
       "    <tr>\n",
       "      <th>87</th>\n",
       "      <td>music shops - musical instruments, pianos, and...</td>\n",
       "      <td>a</td>\n",
       "      <td>107765.0</td>\n",
       "      <td>58.999852</td>\n",
       "    </tr>\n",
       "    <tr>\n",
       "      <th>88</th>\n",
       "      <td>music shops - musical instruments, pianos, and...</td>\n",
       "      <td>b</td>\n",
       "      <td>43347.0</td>\n",
       "      <td>23.731885</td>\n",
       "    </tr>\n",
       "    <tr>\n",
       "      <th>89</th>\n",
       "      <td>music shops - musical instruments, pianos, and...</td>\n",
       "      <td>c</td>\n",
       "      <td>29599.0</td>\n",
       "      <td>16.205045</td>\n",
       "    </tr>\n",
       "    <tr>\n",
       "      <th>90</th>\n",
       "      <td>music shops - musical instruments, pianos, and...</td>\n",
       "      <td>d</td>\n",
       "      <td>1763.0</td>\n",
       "      <td>0.965218</td>\n",
       "    </tr>\n",
       "    <tr>\n",
       "      <th>91</th>\n",
       "      <td>music shops - musical instruments, pianos, and...</td>\n",
       "      <td>e</td>\n",
       "      <td>179.0</td>\n",
       "      <td>0.098000</td>\n",
       "    </tr>\n",
       "    <tr>\n",
       "      <th>92</th>\n",
       "      <td>opticians, optical goods, and eyeglasses</td>\n",
       "      <td>a</td>\n",
       "      <td>126572.0</td>\n",
       "      <td>26.129267</td>\n",
       "    </tr>\n",
       "    <tr>\n",
       "      <th>93</th>\n",
       "      <td>opticians, optical goods, and eyeglasses</td>\n",
       "      <td>b</td>\n",
       "      <td>111450.0</td>\n",
       "      <td>23.007512</td>\n",
       "    </tr>\n",
       "    <tr>\n",
       "      <th>94</th>\n",
       "      <td>opticians, optical goods, and eyeglasses</td>\n",
       "      <td>c</td>\n",
       "      <td>240696.0</td>\n",
       "      <td>49.688795</td>\n",
       "    </tr>\n",
       "    <tr>\n",
       "      <th>95</th>\n",
       "      <td>opticians, optical goods, and eyeglasses</td>\n",
       "      <td>d</td>\n",
       "      <td>4898.0</td>\n",
       "      <td>1.011133</td>\n",
       "    </tr>\n",
       "    <tr>\n",
       "      <th>96</th>\n",
       "      <td>opticians, optical goods, and eyeglasses</td>\n",
       "      <td>e</td>\n",
       "      <td>791.0</td>\n",
       "      <td>0.163292</td>\n",
       "    </tr>\n",
       "    <tr>\n",
       "      <th>97</th>\n",
       "      <td>shoe shops</td>\n",
       "      <td>a</td>\n",
       "      <td>105503.0</td>\n",
       "      <td>42.553715</td>\n",
       "    </tr>\n",
       "    <tr>\n",
       "      <th>98</th>\n",
       "      <td>shoe shops</td>\n",
       "      <td>b</td>\n",
       "      <td>88299.0</td>\n",
       "      <td>35.614632</td>\n",
       "    </tr>\n",
       "    <tr>\n",
       "      <th>99</th>\n",
       "      <td>shoe shops</td>\n",
       "      <td>c</td>\n",
       "      <td>51896.0</td>\n",
       "      <td>20.931799</td>\n",
       "    </tr>\n",
       "    <tr>\n",
       "      <th>100</th>\n",
       "      <td>shoe shops</td>\n",
       "      <td>e</td>\n",
       "      <td>2231.0</td>\n",
       "      <td>0.899854</td>\n",
       "    </tr>\n",
       "    <tr>\n",
       "      <th>101</th>\n",
       "      <td>stationery, office supplies and printing and w...</td>\n",
       "      <td>a</td>\n",
       "      <td>35895.0</td>\n",
       "      <td>36.417223</td>\n",
       "    </tr>\n",
       "    <tr>\n",
       "      <th>102</th>\n",
       "      <td>stationery, office supplies and printing and w...</td>\n",
       "      <td>b</td>\n",
       "      <td>24928.0</td>\n",
       "      <td>25.290668</td>\n",
       "    </tr>\n",
       "    <tr>\n",
       "      <th>103</th>\n",
       "      <td>stationery, office supplies and printing and w...</td>\n",
       "      <td>c</td>\n",
       "      <td>32169.0</td>\n",
       "      <td>32.637015</td>\n",
       "    </tr>\n",
       "    <tr>\n",
       "      <th>104</th>\n",
       "      <td>stationery, office supplies and printing and w...</td>\n",
       "      <td>d</td>\n",
       "      <td>5259.0</td>\n",
       "      <td>5.335511</td>\n",
       "    </tr>\n",
       "    <tr>\n",
       "      <th>105</th>\n",
       "      <td>stationery, office supplies and printing and w...</td>\n",
       "      <td>e</td>\n",
       "      <td>315.0</td>\n",
       "      <td>0.319583</td>\n",
       "    </tr>\n",
       "    <tr>\n",
       "      <th>106</th>\n",
       "      <td>telecom</td>\n",
       "      <td>a</td>\n",
       "      <td>5233.0</td>\n",
       "      <td>26.567498</td>\n",
       "    </tr>\n",
       "    <tr>\n",
       "      <th>107</th>\n",
       "      <td>telecom</td>\n",
       "      <td>b</td>\n",
       "      <td>10850.0</td>\n",
       "      <td>55.084531</td>\n",
       "    </tr>\n",
       "    <tr>\n",
       "      <th>108</th>\n",
       "      <td>telecom</td>\n",
       "      <td>c</td>\n",
       "      <td>2730.0</td>\n",
       "      <td>13.859979</td>\n",
       "    </tr>\n",
       "    <tr>\n",
       "      <th>109</th>\n",
       "      <td>telecom</td>\n",
       "      <td>d</td>\n",
       "      <td>832.0</td>\n",
       "      <td>4.223994</td>\n",
       "    </tr>\n",
       "    <tr>\n",
       "      <th>110</th>\n",
       "      <td>telecom</td>\n",
       "      <td>e</td>\n",
       "      <td>52.0</td>\n",
       "      <td>0.264000</td>\n",
       "    </tr>\n",
       "    <tr>\n",
       "      <th>111</th>\n",
       "      <td>tent and awning shops</td>\n",
       "      <td>a</td>\n",
       "      <td>540844.0</td>\n",
       "      <td>51.885692</td>\n",
       "    </tr>\n",
       "    <tr>\n",
       "      <th>112</th>\n",
       "      <td>tent and awning shops</td>\n",
       "      <td>b</td>\n",
       "      <td>226631.0</td>\n",
       "      <td>21.741771</td>\n",
       "    </tr>\n",
       "    <tr>\n",
       "      <th>113</th>\n",
       "      <td>tent and awning shops</td>\n",
       "      <td>c</td>\n",
       "      <td>267761.0</td>\n",
       "      <td>25.687564</td>\n",
       "    </tr>\n",
       "    <tr>\n",
       "      <th>114</th>\n",
       "      <td>tent and awning shops</td>\n",
       "      <td>d</td>\n",
       "      <td>5885.0</td>\n",
       "      <td>0.564576</td>\n",
       "    </tr>\n",
       "    <tr>\n",
       "      <th>115</th>\n",
       "      <td>tent and awning shops</td>\n",
       "      <td>e</td>\n",
       "      <td>1255.0</td>\n",
       "      <td>0.120398</td>\n",
       "    </tr>\n",
       "    <tr>\n",
       "      <th>116</th>\n",
       "      <td>watch, clock, and jewelry repair shops</td>\n",
       "      <td>a</td>\n",
       "      <td>354820.0</td>\n",
       "      <td>59.852301</td>\n",
       "    </tr>\n",
       "    <tr>\n",
       "      <th>117</th>\n",
       "      <td>watch, clock, and jewelry repair shops</td>\n",
       "      <td>b</td>\n",
       "      <td>151446.0</td>\n",
       "      <td>25.546450</td>\n",
       "    </tr>\n",
       "    <tr>\n",
       "      <th>118</th>\n",
       "      <td>watch, clock, and jewelry repair shops</td>\n",
       "      <td>c</td>\n",
       "      <td>77350.0</td>\n",
       "      <td>13.047673</td>\n",
       "    </tr>\n",
       "    <tr>\n",
       "      <th>119</th>\n",
       "      <td>watch, clock, and jewelry repair shops</td>\n",
       "      <td>d</td>\n",
       "      <td>262.0</td>\n",
       "      <td>0.044195</td>\n",
       "    </tr>\n",
       "    <tr>\n",
       "      <th>120</th>\n",
       "      <td>watch, clock, and jewelry repair shops</td>\n",
       "      <td>e</td>\n",
       "      <td>8948.0</td>\n",
       "      <td>1.509380</td>\n",
       "    </tr>\n",
       "  </tbody>\n",
       "</table>\n",
       "</div>"
      ],
      "text/plain": [
       "                                            categories revenue_level  \\\n",
       "0    antique shops - sales, repairs, and restoratio...             a   \n",
       "1    antique shops - sales, repairs, and restoratio...             b   \n",
       "2    antique shops - sales, repairs, and restoratio...             c   \n",
       "3    antique shops - sales, repairs, and restoratio...             d   \n",
       "4    antique shops - sales, repairs, and restoratio...             e   \n",
       "5                            art dealers and galleries             a   \n",
       "6                            art dealers and galleries             b   \n",
       "7                            art dealers and galleries             c   \n",
       "8                            art dealers and galleries             d   \n",
       "9                            art dealers and galleries             e   \n",
       "10                       artist supply and craft shops             a   \n",
       "11                       artist supply and craft shops             b   \n",
       "12                       artist supply and craft shops             c   \n",
       "13                       artist supply and craft shops             d   \n",
       "14                       artist supply and craft shops             e   \n",
       "15                   bicycle shops - sales and service             a   \n",
       "16                   bicycle shops - sales and service             b   \n",
       "17                   bicycle shops - sales and service             c   \n",
       "18                   bicycle shops - sales and service             d   \n",
       "19                   bicycle shops - sales and service             e   \n",
       "20                  books, periodicals, and newspapers             a   \n",
       "21                  books, periodicals, and newspapers             b   \n",
       "22                  books, periodicals, and newspapers             c   \n",
       "23                  books, periodicals, and newspapers             d   \n",
       "24                  books, periodicals, and newspapers             e   \n",
       "25   cable, satellite, and other pay television and...             a   \n",
       "26   cable, satellite, and other pay television and...             b   \n",
       "27   cable, satellite, and other pay television and...             c   \n",
       "28   cable, satellite, and other pay television and...             d   \n",
       "29   cable, satellite, and other pay television and...             e   \n",
       "30   computer programming , data processing, and in...             a   \n",
       "31   computer programming , data processing, and in...             b   \n",
       "32   computer programming , data processing, and in...             c   \n",
       "33   computer programming , data processing, and in...             d   \n",
       "34   computer programming , data processing, and in...             e   \n",
       "35   computers, computer peripheral equipment, and ...             a   \n",
       "36   computers, computer peripheral equipment, and ...             b   \n",
       "37   computers, computer peripheral equipment, and ...             c   \n",
       "38   computers, computer peripheral equipment, and ...             d   \n",
       "39   computers, computer peripheral equipment, and ...             e   \n",
       "40                 digital goods: books, movies, music             a   \n",
       "41                 digital goods: books, movies, music             b   \n",
       "42                 digital goods: books, movies, music             c   \n",
       "43                 digital goods: books, movies, music             d   \n",
       "44                 digital goods: books, movies, music             e   \n",
       "45   equipment, tool, furniture, and appliance rent...             a   \n",
       "46   equipment, tool, furniture, and appliance rent...             b   \n",
       "47   equipment, tool, furniture, and appliance rent...             c   \n",
       "48   equipment, tool, furniture, and appliance rent...             d   \n",
       "49   equipment, tool, furniture, and appliance rent...             e   \n",
       "50       florists supplies, nursery stock, and flowers             a   \n",
       "51       florists supplies, nursery stock, and flowers             b   \n",
       "52       florists supplies, nursery stock, and flowers             c   \n",
       "53       florists supplies, nursery stock, and flowers             d   \n",
       "54       florists supplies, nursery stock, and flowers             e   \n",
       "55   furniture, home furnishings and equipment shop...             a   \n",
       "56   furniture, home furnishings and equipment shop...             b   \n",
       "57   furniture, home furnishings and equipment shop...             c   \n",
       "58   furniture, home furnishings and equipment shop...             d   \n",
       "59   furniture, home furnishings and equipment shop...             e   \n",
       "60             gift, card, novelty, and souvenir shops             a   \n",
       "61             gift, card, novelty, and souvenir shops             b   \n",
       "62             gift, card, novelty, and souvenir shops             c   \n",
       "63             gift, card, novelty, and souvenir shops             d   \n",
       "64             gift, card, novelty, and souvenir shops             e   \n",
       "65                              health and beauty spas             a   \n",
       "66                              health and beauty spas             b   \n",
       "67                              health and beauty spas             c   \n",
       "68                              health and beauty spas             d   \n",
       "69                              health and beauty spas             e   \n",
       "70                           hobby, toy and game shops             a   \n",
       "71                           hobby, toy and game shops             b   \n",
       "72                           hobby, toy and game shops             c   \n",
       "73                           hobby, toy and game shops             d   \n",
       "74         jewelry, watch, clock, and silverware shops             a   \n",
       "75         jewelry, watch, clock, and silverware shops             b   \n",
       "76         jewelry, watch, clock, and silverware shops             c   \n",
       "77         jewelry, watch, clock, and silverware shops             d   \n",
       "78   lawn and garden supply outlets, including nurs...             a   \n",
       "79   lawn and garden supply outlets, including nurs...             b   \n",
       "80   lawn and garden supply outlets, including nurs...             c   \n",
       "81   lawn and garden supply outlets, including nurs...             d   \n",
       "82                motor vehicle supplies and new parts             a   \n",
       "83                motor vehicle supplies and new parts             b   \n",
       "84                motor vehicle supplies and new parts             c   \n",
       "85                motor vehicle supplies and new parts             d   \n",
       "86                motor vehicle supplies and new parts             e   \n",
       "87   music shops - musical instruments, pianos, and...             a   \n",
       "88   music shops - musical instruments, pianos, and...             b   \n",
       "89   music shops - musical instruments, pianos, and...             c   \n",
       "90   music shops - musical instruments, pianos, and...             d   \n",
       "91   music shops - musical instruments, pianos, and...             e   \n",
       "92            opticians, optical goods, and eyeglasses             a   \n",
       "93            opticians, optical goods, and eyeglasses             b   \n",
       "94            opticians, optical goods, and eyeglasses             c   \n",
       "95            opticians, optical goods, and eyeglasses             d   \n",
       "96            opticians, optical goods, and eyeglasses             e   \n",
       "97                                          shoe shops             a   \n",
       "98                                          shoe shops             b   \n",
       "99                                          shoe shops             c   \n",
       "100                                         shoe shops             e   \n",
       "101  stationery, office supplies and printing and w...             a   \n",
       "102  stationery, office supplies and printing and w...             b   \n",
       "103  stationery, office supplies and printing and w...             c   \n",
       "104  stationery, office supplies and printing and w...             d   \n",
       "105  stationery, office supplies and printing and w...             e   \n",
       "106                                            telecom             a   \n",
       "107                                            telecom             b   \n",
       "108                                            telecom             c   \n",
       "109                                            telecom             d   \n",
       "110                                            telecom             e   \n",
       "111                              tent and awning shops             a   \n",
       "112                              tent and awning shops             b   \n",
       "113                              tent and awning shops             c   \n",
       "114                              tent and awning shops             d   \n",
       "115                              tent and awning shops             e   \n",
       "116             watch, clock, and jewelry repair shops             a   \n",
       "117             watch, clock, and jewelry repair shops             b   \n",
       "118             watch, clock, and jewelry repair shops             c   \n",
       "119             watch, clock, and jewelry repair shops             d   \n",
       "120             watch, clock, and jewelry repair shops             e   \n",
       "\n",
       "        count    percent  \n",
       "0     17003.0  16.569379  \n",
       "1     42880.0  41.786449  \n",
       "2     38416.0  37.436292  \n",
       "3      3697.0   3.602717  \n",
       "4       621.0   0.605163  \n",
       "5      3423.0  27.797629  \n",
       "6      6655.0  54.044177  \n",
       "7      1920.0  15.592009  \n",
       "8        29.0   0.235504  \n",
       "9       287.0   2.330681  \n",
       "10   173002.0  63.908888  \n",
       "11    47202.0  17.436951  \n",
       "12    48430.0  17.890588  \n",
       "13     2030.0   0.749905  \n",
       "14       37.0   0.013668  \n",
       "15    50216.0  38.958540  \n",
       "16    54102.0  41.973374  \n",
       "17    23049.0  17.881858  \n",
       "18     1215.0   0.942620  \n",
       "19      314.0   0.243607  \n",
       "20    92546.0  40.830679  \n",
       "21    85657.0  37.791298  \n",
       "22    26879.0  11.858836  \n",
       "23     1300.0   0.573551  \n",
       "24    20276.0   8.945636  \n",
       "25   330328.0  60.030276  \n",
       "26   117048.0  21.271051  \n",
       "27    75304.0  13.684943  \n",
       "28     9900.0   1.799120  \n",
       "29    17689.0   3.214610  \n",
       "30   129980.0  43.666244  \n",
       "31    83940.0  28.199297  \n",
       "32    68410.0  22.982057  \n",
       "33     9442.0   3.172001  \n",
       "34     5895.0   1.980401  \n",
       "35   140821.0  34.138755  \n",
       "36   131823.0  31.957401  \n",
       "37   135610.0  32.875470  \n",
       "38     3030.0   0.734553  \n",
       "39     1212.0   0.293821  \n",
       "40   383786.0  51.976901  \n",
       "41   225041.0  30.477750  \n",
       "42   119023.0  16.119521  \n",
       "43     9598.0   1.299876  \n",
       "44      930.0   0.125952  \n",
       "45     4084.0  19.446693  \n",
       "46     4741.0  22.575115  \n",
       "47    11020.0  52.473692  \n",
       "48      664.0   3.161754  \n",
       "49      492.0   2.342746  \n",
       "50    91543.0  18.077569  \n",
       "51   208105.0  41.095796  \n",
       "52   199058.0  39.309228  \n",
       "53     7587.0   1.498252  \n",
       "54       97.0   0.019155  \n",
       "55    78595.0  27.465404  \n",
       "56   118679.0  41.472952  \n",
       "57    86454.0  30.211770  \n",
       "58      574.0   0.200587  \n",
       "59     1858.0   0.649287  \n",
       "60   447947.0  47.606431  \n",
       "61   267032.0  28.379341  \n",
       "62   218759.0  23.249034  \n",
       "63     3352.0   0.356240  \n",
       "64     3848.0   0.408954  \n",
       "65    46357.0  32.880570  \n",
       "66    60269.0  42.748216  \n",
       "67    33457.0  23.730725  \n",
       "68      744.0   0.527712  \n",
       "69      159.0   0.112777  \n",
       "70    81771.0  60.437700  \n",
       "71    29147.0  21.542817  \n",
       "72    23829.0  17.612234  \n",
       "73      551.0   0.407249  \n",
       "74      186.0   6.572438  \n",
       "75     1438.0  50.812721  \n",
       "76     1169.0  41.307420  \n",
       "77       37.0   1.307420  \n",
       "78    87734.0  43.989511  \n",
       "79    34955.0  17.526311  \n",
       "80    72679.0  36.440988  \n",
       "81     4075.0   2.043190  \n",
       "82    73234.0  41.554978  \n",
       "83    75831.0  43.028587  \n",
       "84    23805.0  13.507609  \n",
       "85     1797.0   1.019667  \n",
       "86     1567.0   0.889159  \n",
       "87   107765.0  58.999852  \n",
       "88    43347.0  23.731885  \n",
       "89    29599.0  16.205045  \n",
       "90     1763.0   0.965218  \n",
       "91      179.0   0.098000  \n",
       "92   126572.0  26.129267  \n",
       "93   111450.0  23.007512  \n",
       "94   240696.0  49.688795  \n",
       "95     4898.0   1.011133  \n",
       "96      791.0   0.163292  \n",
       "97   105503.0  42.553715  \n",
       "98    88299.0  35.614632  \n",
       "99    51896.0  20.931799  \n",
       "100    2231.0   0.899854  \n",
       "101   35895.0  36.417223  \n",
       "102   24928.0  25.290668  \n",
       "103   32169.0  32.637015  \n",
       "104    5259.0   5.335511  \n",
       "105     315.0   0.319583  \n",
       "106    5233.0  26.567498  \n",
       "107   10850.0  55.084531  \n",
       "108    2730.0  13.859979  \n",
       "109     832.0   4.223994  \n",
       "110      52.0   0.264000  \n",
       "111  540844.0  51.885692  \n",
       "112  226631.0  21.741771  \n",
       "113  267761.0  25.687564  \n",
       "114    5885.0   0.564576  \n",
       "115    1255.0   0.120398  \n",
       "116  354820.0  59.852301  \n",
       "117  151446.0  25.546450  \n",
       "118   77350.0  13.047673  \n",
       "119     262.0   0.044195  \n",
       "120    8948.0   1.509380  "
      ]
     },
     "execution_count": 32,
     "metadata": {},
     "output_type": "execute_result"
    }
   ],
   "source": [
    "category_take_rates.groupby([\"categories\", \"revenue_level\"]).size().agg(\n",
    "  {'count': lambda x: x, 'percent':lambda x: x / x.groupby(level=0).sum() * 100}\n",
    "  ).unstack(level=0).reset_index()"
   ]
  },
  {
   "cell_type": "markdown",
   "metadata": {},
   "source": [
    "We can see which categories provide the better amount in revenue for our BNPL company"
   ]
  },
  {
   "cell_type": "code",
   "execution_count": 33,
   "metadata": {},
   "outputs": [
    {
     "name": "stderr",
     "output_type": "stream",
     "text": [
      "                                                                                \r"
     ]
    }
   ],
   "source": [
    "category_prices = df_trx.select([\"categories\", \"dollar_value\"]).toPandas()\n",
    "category_prices = category_prices[category_prices[\"dollar_value\"] >= 35]"
   ]
  },
  {
   "cell_type": "code",
   "execution_count": 34,
   "metadata": {},
   "outputs": [
    {
     "data": {
      "text/html": [
       "<div>\n",
       "<style scoped>\n",
       "    .dataframe tbody tr th:only-of-type {\n",
       "        vertical-align: middle;\n",
       "    }\n",
       "\n",
       "    .dataframe tbody tr th {\n",
       "        vertical-align: top;\n",
       "    }\n",
       "\n",
       "    .dataframe thead tr th {\n",
       "        text-align: left;\n",
       "    }\n",
       "\n",
       "    .dataframe thead tr:last-of-type th {\n",
       "        text-align: right;\n",
       "    }\n",
       "</style>\n",
       "<table border=\"1\" class=\"dataframe\">\n",
       "  <thead>\n",
       "    <tr>\n",
       "      <th></th>\n",
       "      <th colspan=\"4\" halign=\"left\">dollar_value</th>\n",
       "    </tr>\n",
       "    <tr>\n",
       "      <th></th>\n",
       "      <th>mean</th>\n",
       "      <th>std</th>\n",
       "      <th>median</th>\n",
       "      <th>count</th>\n",
       "    </tr>\n",
       "    <tr>\n",
       "      <th>categories</th>\n",
       "      <th></th>\n",
       "      <th></th>\n",
       "      <th></th>\n",
       "      <th></th>\n",
       "    </tr>\n",
       "  </thead>\n",
       "  <tbody>\n",
       "    <tr>\n",
       "      <th>antique shops - sales, repairs, and restoration services</th>\n",
       "      <td>416.181066</td>\n",
       "      <td>2104.897312</td>\n",
       "      <td>146.891034</td>\n",
       "      <td>88556</td>\n",
       "    </tr>\n",
       "    <tr>\n",
       "      <th>art dealers and galleries</th>\n",
       "      <td>2089.229061</td>\n",
       "      <td>2220.965348</td>\n",
       "      <td>1566.290039</td>\n",
       "      <td>12159</td>\n",
       "    </tr>\n",
       "    <tr>\n",
       "      <th>artist supply and craft shops</th>\n",
       "      <td>403.428314</td>\n",
       "      <td>409.544731</td>\n",
       "      <td>267.124260</td>\n",
       "      <td>168206</td>\n",
       "    </tr>\n",
       "    <tr>\n",
       "      <th>bicycle shops - sales and service</th>\n",
       "      <td>368.103460</td>\n",
       "      <td>567.334559</td>\n",
       "      <td>136.965079</td>\n",
       "      <td>108824</td>\n",
       "    </tr>\n",
       "    <tr>\n",
       "      <th>books, periodicals, and newspapers</th>\n",
       "      <td>282.067184</td>\n",
       "      <td>235.419021</td>\n",
       "      <td>212.904971</td>\n",
       "      <td>200347</td>\n",
       "    </tr>\n",
       "    <tr>\n",
       "      <th>cable, satellite, and other pay television and radio services</th>\n",
       "      <td>101.355924</td>\n",
       "      <td>55.743532</td>\n",
       "      <td>86.926541</td>\n",
       "      <td>400316</td>\n",
       "    </tr>\n",
       "    <tr>\n",
       "      <th>computer programming , data processing, and integrated systems design services</th>\n",
       "      <td>214.678835</td>\n",
       "      <td>163.287378</td>\n",
       "      <td>177.195354</td>\n",
       "      <td>262745</td>\n",
       "    </tr>\n",
       "    <tr>\n",
       "      <th>computers, computer peripheral equipment, and software</th>\n",
       "      <td>239.163038</td>\n",
       "      <td>256.525982</td>\n",
       "      <td>120.347469</td>\n",
       "      <td>278719</td>\n",
       "    </tr>\n",
       "    <tr>\n",
       "      <th>digital goods: books, movies, music</th>\n",
       "      <td>89.987501</td>\n",
       "      <td>48.417150</td>\n",
       "      <td>77.476741</td>\n",
       "      <td>477726</td>\n",
       "    </tr>\n",
       "    <tr>\n",
       "      <th>equipment, tool, furniture, and appliance rent al and leasing</th>\n",
       "      <td>1551.284710</td>\n",
       "      <td>1732.806205</td>\n",
       "      <td>976.955324</td>\n",
       "      <td>17542</td>\n",
       "    </tr>\n",
       "    <tr>\n",
       "      <th>florists supplies, nursery stock, and flowers</th>\n",
       "      <td>180.667801</td>\n",
       "      <td>189.402313</td>\n",
       "      <td>93.621077</td>\n",
       "      <td>304119</td>\n",
       "    </tr>\n",
       "    <tr>\n",
       "      <th>furniture, home furnishings and equipment shops, and manufacturers, except appliances</th>\n",
       "      <td>255.536190</td>\n",
       "      <td>474.884929</td>\n",
       "      <td>155.195439</td>\n",
       "      <td>249101</td>\n",
       "    </tr>\n",
       "    <tr>\n",
       "      <th>gift, card, novelty, and souvenir shops</th>\n",
       "      <td>92.961127</td>\n",
       "      <td>49.703406</td>\n",
       "      <td>81.158431</td>\n",
       "      <td>631304</td>\n",
       "    </tr>\n",
       "    <tr>\n",
       "      <th>health and beauty spas</th>\n",
       "      <td>333.900974</td>\n",
       "      <td>282.876655</td>\n",
       "      <td>249.861971</td>\n",
       "      <td>125304</td>\n",
       "    </tr>\n",
       "    <tr>\n",
       "      <th>hobby, toy and game shops</th>\n",
       "      <td>324.947475</td>\n",
       "      <td>596.172937</td>\n",
       "      <td>113.001822</td>\n",
       "      <td>106839</td>\n",
       "    </tr>\n",
       "    <tr>\n",
       "      <th>jewelry, watch, clock, and silverware shops</th>\n",
       "      <td>9281.357263</td>\n",
       "      <td>7577.741566</td>\n",
       "      <td>7586.556791</td>\n",
       "      <td>2821</td>\n",
       "    </tr>\n",
       "    <tr>\n",
       "      <th>lawn and garden supply outlets, including nurseries</th>\n",
       "      <td>339.430818</td>\n",
       "      <td>467.816100</td>\n",
       "      <td>212.908962</td>\n",
       "      <td>183994</td>\n",
       "    </tr>\n",
       "    <tr>\n",
       "      <th>motor vehicle supplies and new parts</th>\n",
       "      <td>381.130142</td>\n",
       "      <td>662.749580</td>\n",
       "      <td>249.833716</td>\n",
       "      <td>166233</td>\n",
       "    </tr>\n",
       "    <tr>\n",
       "      <th>music shops - musical instruments, pianos, and sheet music</th>\n",
       "      <td>335.071625</td>\n",
       "      <td>414.777343</td>\n",
       "      <td>132.974564</td>\n",
       "      <td>145085</td>\n",
       "    </tr>\n",
       "    <tr>\n",
       "      <th>opticians, optical goods, and eyeglasses</th>\n",
       "      <td>149.045355</td>\n",
       "      <td>156.710443</td>\n",
       "      <td>87.575333</td>\n",
       "      <td>264498</td>\n",
       "    </tr>\n",
       "    <tr>\n",
       "      <th>shoe shops</th>\n",
       "      <td>232.897454</td>\n",
       "      <td>209.043590</td>\n",
       "      <td>161.030373</td>\n",
       "      <td>210217</td>\n",
       "    </tr>\n",
       "    <tr>\n",
       "      <th>stationery, office supplies and printing and writing paper</th>\n",
       "      <td>481.136727</td>\n",
       "      <td>372.614630</td>\n",
       "      <td>391.090334</td>\n",
       "      <td>94317</td>\n",
       "    </tr>\n",
       "    <tr>\n",
       "      <th>telecom</th>\n",
       "      <td>1869.993854</td>\n",
       "      <td>1864.006730</td>\n",
       "      <td>1369.848175</td>\n",
       "      <td>18297</td>\n",
       "    </tr>\n",
       "    <tr>\n",
       "      <th>tent and awning shops</th>\n",
       "      <td>205.318266</td>\n",
       "      <td>437.261000</td>\n",
       "      <td>49.955756</td>\n",
       "      <td>358943</td>\n",
       "    </tr>\n",
       "    <tr>\n",
       "      <th>watch, clock, and jewelry repair shops</th>\n",
       "      <td>107.938583</td>\n",
       "      <td>73.311976</td>\n",
       "      <td>83.490222</td>\n",
       "      <td>363318</td>\n",
       "    </tr>\n",
       "  </tbody>\n",
       "</table>\n",
       "</div>"
      ],
      "text/plain": [
       "                                                   dollar_value               \\\n",
       "                                                           mean          std   \n",
       "categories                                                                     \n",
       "antique shops - sales, repairs, and restoration...   416.181066  2104.897312   \n",
       "art dealers and galleries                           2089.229061  2220.965348   \n",
       "artist supply and craft shops                        403.428314   409.544731   \n",
       "bicycle shops - sales and service                    368.103460   567.334559   \n",
       "books, periodicals, and newspapers                   282.067184   235.419021   \n",
       "cable, satellite, and other pay television and ...   101.355924    55.743532   \n",
       "computer programming , data processing, and int...   214.678835   163.287378   \n",
       "computers, computer peripheral equipment, and s...   239.163038   256.525982   \n",
       "digital goods: books, movies, music                   89.987501    48.417150   \n",
       "equipment, tool, furniture, and appliance rent ...  1551.284710  1732.806205   \n",
       "florists supplies, nursery stock, and flowers        180.667801   189.402313   \n",
       "furniture, home furnishings and equipment shops...   255.536190   474.884929   \n",
       "gift, card, novelty, and souvenir shops               92.961127    49.703406   \n",
       "health and beauty spas                               333.900974   282.876655   \n",
       "hobby, toy and game shops                            324.947475   596.172937   \n",
       "jewelry, watch, clock, and silverware shops         9281.357263  7577.741566   \n",
       "lawn and garden supply outlets, including nurse...   339.430818   467.816100   \n",
       "motor vehicle supplies and new parts                 381.130142   662.749580   \n",
       "music shops - musical instruments, pianos, and ...   335.071625   414.777343   \n",
       "opticians, optical goods, and eyeglasses             149.045355   156.710443   \n",
       "shoe shops                                           232.897454   209.043590   \n",
       "stationery, office supplies and printing and wr...   481.136727   372.614630   \n",
       "telecom                                             1869.993854  1864.006730   \n",
       "tent and awning shops                                205.318266   437.261000   \n",
       "watch, clock, and jewelry repair shops               107.938583    73.311976   \n",
       "\n",
       "                                                                         \n",
       "                                                         median   count  \n",
       "categories                                                               \n",
       "antique shops - sales, repairs, and restoration...   146.891034   88556  \n",
       "art dealers and galleries                           1566.290039   12159  \n",
       "artist supply and craft shops                        267.124260  168206  \n",
       "bicycle shops - sales and service                    136.965079  108824  \n",
       "books, periodicals, and newspapers                   212.904971  200347  \n",
       "cable, satellite, and other pay television and ...    86.926541  400316  \n",
       "computer programming , data processing, and int...   177.195354  262745  \n",
       "computers, computer peripheral equipment, and s...   120.347469  278719  \n",
       "digital goods: books, movies, music                   77.476741  477726  \n",
       "equipment, tool, furniture, and appliance rent ...   976.955324   17542  \n",
       "florists supplies, nursery stock, and flowers         93.621077  304119  \n",
       "furniture, home furnishings and equipment shops...   155.195439  249101  \n",
       "gift, card, novelty, and souvenir shops               81.158431  631304  \n",
       "health and beauty spas                               249.861971  125304  \n",
       "hobby, toy and game shops                            113.001822  106839  \n",
       "jewelry, watch, clock, and silverware shops         7586.556791    2821  \n",
       "lawn and garden supply outlets, including nurse...   212.908962  183994  \n",
       "motor vehicle supplies and new parts                 249.833716  166233  \n",
       "music shops - musical instruments, pianos, and ...   132.974564  145085  \n",
       "opticians, optical goods, and eyeglasses              87.575333  264498  \n",
       "shoe shops                                           161.030373  210217  \n",
       "stationery, office supplies and printing and wr...   391.090334   94317  \n",
       "telecom                                             1369.848175   18297  \n",
       "tent and awning shops                                 49.955756  358943  \n",
       "watch, clock, and jewelry repair shops                83.490222  363318  "
      ]
     },
     "execution_count": 34,
     "metadata": {},
     "output_type": "execute_result"
    }
   ],
   "source": [
    "category_prices.groupby(\"categories\").agg([\"mean\", \"std\", \"median\", \"count\"])"
   ]
  },
  {
   "cell_type": "code",
   "execution_count": 37,
   "metadata": {},
   "outputs": [
    {
     "data": {
      "image/png": "[encoded data removed]",
      "text/plain": [
       "<Figure size 432x288 with 1 Axes>"
      ]
     },
     "metadata": {
      "needs_background": "light"
     },
     "output_type": "display_data"
    }
   ],
   "source": [
    "sns.boxplot(category_prices[category_prices[\"categories\"] == \"telecom\"].loc[:,\"categories\"], \\\n",
    "    category_prices[category_prices[\"categories\"] == \"telecom\"].loc[:,\"dollar_value\"])\n",
    "plt.show()"
   ]
  },
  {
   "cell_type": "code",
   "execution_count": 36,
   "metadata": {},
   "outputs": [
    {
     "data": {
      "text/html": [
       "<div>\n",
       "<style scoped>\n",
       "    .dataframe tbody tr th:only-of-type {\n",
       "        vertical-align: middle;\n",
       "    }\n",
       "\n",
       "    .dataframe tbody tr th {\n",
       "        vertical-align: top;\n",
       "    }\n",
       "\n",
       "    .dataframe thead th {\n",
       "        text-align: right;\n",
       "    }\n",
       "</style>\n",
       "<table border=\"1\" class=\"dataframe\">\n",
       "  <thead>\n",
       "    <tr style=\"text-align: right;\">\n",
       "      <th></th>\n",
       "      <th>dollar_value</th>\n",
       "    </tr>\n",
       "    <tr>\n",
       "      <th>categories</th>\n",
       "      <th></th>\n",
       "    </tr>\n",
       "  </thead>\n",
       "  <tbody>\n",
       "    <tr>\n",
       "      <th>antique shops - sales, repairs, and restoration services</th>\n",
       "      <td>88556</td>\n",
       "    </tr>\n",
       "    <tr>\n",
       "      <th>art dealers and galleries</th>\n",
       "      <td>12159</td>\n",
       "    </tr>\n",
       "    <tr>\n",
       "      <th>artist supply and craft shops</th>\n",
       "      <td>168206</td>\n",
       "    </tr>\n",
       "    <tr>\n",
       "      <th>bicycle shops - sales and service</th>\n",
       "      <td>108824</td>\n",
       "    </tr>\n",
       "    <tr>\n",
       "      <th>books, periodicals, and newspapers</th>\n",
       "      <td>200347</td>\n",
       "    </tr>\n",
       "    <tr>\n",
       "      <th>cable, satellite, and other pay television and radio services</th>\n",
       "      <td>400316</td>\n",
       "    </tr>\n",
       "    <tr>\n",
       "      <th>computer programming , data processing, and integrated systems design services</th>\n",
       "      <td>262745</td>\n",
       "    </tr>\n",
       "    <tr>\n",
       "      <th>computers, computer peripheral equipment, and software</th>\n",
       "      <td>278719</td>\n",
       "    </tr>\n",
       "    <tr>\n",
       "      <th>digital goods: books, movies, music</th>\n",
       "      <td>477726</td>\n",
       "    </tr>\n",
       "    <tr>\n",
       "      <th>equipment, tool, furniture, and appliance rent al and leasing</th>\n",
       "      <td>17542</td>\n",
       "    </tr>\n",
       "    <tr>\n",
       "      <th>florists supplies, nursery stock, and flowers</th>\n",
       "      <td>304119</td>\n",
       "    </tr>\n",
       "    <tr>\n",
       "      <th>furniture, home furnishings and equipment shops, and manufacturers, except appliances</th>\n",
       "      <td>249101</td>\n",
       "    </tr>\n",
       "    <tr>\n",
       "      <th>gift, card, novelty, and souvenir shops</th>\n",
       "      <td>631304</td>\n",
       "    </tr>\n",
       "    <tr>\n",
       "      <th>health and beauty spas</th>\n",
       "      <td>125304</td>\n",
       "    </tr>\n",
       "    <tr>\n",
       "      <th>hobby, toy and game shops</th>\n",
       "      <td>106839</td>\n",
       "    </tr>\n",
       "    <tr>\n",
       "      <th>jewelry, watch, clock, and silverware shops</th>\n",
       "      <td>2821</td>\n",
       "    </tr>\n",
       "    <tr>\n",
       "      <th>lawn and garden supply outlets, including nurseries</th>\n",
       "      <td>183994</td>\n",
       "    </tr>\n",
       "    <tr>\n",
       "      <th>motor vehicle supplies and new parts</th>\n",
       "      <td>166233</td>\n",
       "    </tr>\n",
       "    <tr>\n",
       "      <th>music shops - musical instruments, pianos, and sheet music</th>\n",
       "      <td>145085</td>\n",
       "    </tr>\n",
       "    <tr>\n",
       "      <th>opticians, optical goods, and eyeglasses</th>\n",
       "      <td>264498</td>\n",
       "    </tr>\n",
       "    <tr>\n",
       "      <th>shoe shops</th>\n",
       "      <td>210217</td>\n",
       "    </tr>\n",
       "    <tr>\n",
       "      <th>stationery, office supplies and printing and writing paper</th>\n",
       "      <td>94317</td>\n",
       "    </tr>\n",
       "    <tr>\n",
       "      <th>telecom</th>\n",
       "      <td>18297</td>\n",
       "    </tr>\n",
       "    <tr>\n",
       "      <th>tent and awning shops</th>\n",
       "      <td>358943</td>\n",
       "    </tr>\n",
       "    <tr>\n",
       "      <th>watch, clock, and jewelry repair shops</th>\n",
       "      <td>363318</td>\n",
       "    </tr>\n",
       "  </tbody>\n",
       "</table>\n",
       "</div>"
      ],
      "text/plain": [
       "                                                    dollar_value\n",
       "categories                                                      \n",
       "antique shops - sales, repairs, and restoration...         88556\n",
       "art dealers and galleries                                  12159\n",
       "artist supply and craft shops                             168206\n",
       "bicycle shops - sales and service                         108824\n",
       "books, periodicals, and newspapers                        200347\n",
       "cable, satellite, and other pay television and ...        400316\n",
       "computer programming , data processing, and int...        262745\n",
       "computers, computer peripheral equipment, and s...        278719\n",
       "digital goods: books, movies, music                       477726\n",
       "equipment, tool, furniture, and appliance rent ...         17542\n",
       "florists supplies, nursery stock, and flowers             304119\n",
       "furniture, home furnishings and equipment shops...        249101\n",
       "gift, card, novelty, and souvenir shops                   631304\n",
       "health and beauty spas                                    125304\n",
       "hobby, toy and game shops                                 106839\n",
       "jewelry, watch, clock, and silverware shops                 2821\n",
       "lawn and garden supply outlets, including nurse...        183994\n",
       "motor vehicle supplies and new parts                      166233\n",
       "music shops - musical instruments, pianos, and ...        145085\n",
       "opticians, optical goods, and eyeglasses                  264498\n",
       "shoe shops                                                210217\n",
       "stationery, office supplies and printing and wr...         94317\n",
       "telecom                                                    18297\n",
       "tent and awning shops                                     358943\n",
       "watch, clock, and jewelry repair shops                    363318"
      ]
     },
     "execution_count": 36,
     "metadata": {},
     "output_type": "execute_result"
    }
   ],
   "source": [
    "category_prices.groupby(\"categories\").count()"
   ]
  },
  {
   "cell_type": "code",
   "execution_count": null,
   "metadata": {},
   "outputs": [],
   "source": []
  },
  {
   "cell_type": "code",
   "execution_count": null,
   "metadata": {},
   "outputs": [],
   "source": []
  },
  {
   "cell_type": "code",
   "execution_count": null,
   "metadata": {},
   "outputs": [],
   "source": []
  },
  {
   "cell_type": "code",
   "execution_count": null,
   "metadata": {},
   "outputs": [],
   "source": []
  },
  {
   "cell_type": "markdown",
   "metadata": {},
   "source": [
    "---\n",
    "### 5. Unique SA2 per merchant\n"
   ]
  },
  {
   "cell_type": "code",
   "execution_count": 43,
   "metadata": {},
   "outputs": [],
   "source": [
    "# translate postcodes in transaction to sa2 codes\n",
    "sa2_cols = ['poa_name_2016', 'sa2_maincode_2016', 'sa2_name_2016', 'geometry']\n",
    "df_trx_sa2 = (df_trx \\\n",
    "                .join(poa_to_sa2[sa2_cols], \n",
    "                     on=[df_trx['postcode'] == poa_to_sa2['poa_name_2016']],\n",
    "                     how='inner')\n",
    "                .drop('poa_name_2016')\n",
    "             )"
   ]
  },
  {
   "cell_type": "code",
   "execution_count": 44,
   "metadata": {},
   "outputs": [
    {
     "name": "stderr",
     "output_type": "stream",
     "text": [
      "                                                                                \r"
     ]
    }
   ],
   "source": [
    "df_nunique_sa2 = (df_trx_sa2.groupby('merchant_abn')\n",
    "                   .agg(countDistinct('sa2_maincode_2016')).toPandas())"
   ]
  },
  {
   "cell_type": "code",
   "execution_count": 45,
   "metadata": {},
   "outputs": [
    {
     "data": {
      "text/html": [
       "<div>\n",
       "<style scoped>\n",
       "    .dataframe tbody tr th:only-of-type {\n",
       "        vertical-align: middle;\n",
       "    }\n",
       "\n",
       "    .dataframe tbody tr th {\n",
       "        vertical-align: top;\n",
       "    }\n",
       "\n",
       "    .dataframe thead th {\n",
       "        text-align: right;\n",
       "    }\n",
       "</style>\n",
       "<table border=\"1\" class=\"dataframe\">\n",
       "  <thead>\n",
       "    <tr style=\"text-align: right;\">\n",
       "      <th></th>\n",
       "      <th>merchant_abn</th>\n",
       "      <th>count(sa2_maincode_2016)</th>\n",
       "    </tr>\n",
       "  </thead>\n",
       "  <tbody>\n",
       "    <tr>\n",
       "      <th>0</th>\n",
       "      <td>73256306726</td>\n",
       "      <td>940</td>\n",
       "    </tr>\n",
       "    <tr>\n",
       "      <th>1</th>\n",
       "      <td>83412691377</td>\n",
       "      <td>1222</td>\n",
       "    </tr>\n",
       "    <tr>\n",
       "      <th>2</th>\n",
       "      <td>73841664453</td>\n",
       "      <td>353</td>\n",
       "    </tr>\n",
       "    <tr>\n",
       "      <th>3</th>\n",
       "      <td>35344855546</td>\n",
       "      <td>487</td>\n",
       "    </tr>\n",
       "    <tr>\n",
       "      <th>4</th>\n",
       "      <td>15613631617</td>\n",
       "      <td>556</td>\n",
       "    </tr>\n",
       "  </tbody>\n",
       "</table>\n",
       "</div>"
      ],
      "text/plain": [
       "   merchant_abn  count(sa2_maincode_2016)\n",
       "0   73256306726                       940\n",
       "1   83412691377                      1222\n",
       "2   73841664453                       353\n",
       "3   35344855546                       487\n",
       "4   15613631617                       556"
      ]
     },
     "execution_count": 45,
     "metadata": {},
     "output_type": "execute_result"
    }
   ],
   "source": [
    "df_nunique_sa2.head()"
   ]
  },
  {
   "cell_type": "code",
   "execution_count": 47,
   "metadata": {},
   "outputs": [
    {
     "data": {
      "image/png": "[encoded data removed]",
      "text/plain": [
       "<Figure size 360x360 with 1 Axes>"
      ]
     },
     "metadata": {
      "needs_background": "light"
     },
     "output_type": "display_data"
    }
   ],
   "source": [
    "sns.displot(df_nunique_sa2[\"count(sa2_maincode_2016)\"], \n",
    "            stat=\"density\", kde=True, bins=25)\n",
    "plt.title(f'Density Plot for \"count(sa2_maincode_2016)\"', fontsize=18)\n",
    "plt.xlabel(f'count(sa2_maincode_2016)')\n",
    "plt.show()"
   ]
  },
  {
   "cell_type": "markdown",
   "metadata": {},
   "source": [
    "---\n",
    "### 5. Unique consumer per merchant\n"
   ]
  },
  {
   "cell_type": "code",
   "execution_count": 53,
   "metadata": {},
   "outputs": [
    {
     "name": "stderr",
     "output_type": "stream",
     "text": [
      "                                                                                \r"
     ]
    }
   ],
   "source": [
    "df_nunique_con = (df_trx_sa2.groupby('merchant_abn')\n",
    "                   .agg(countDistinct('consumer_id')).toPandas())"
   ]
  },
  {
   "cell_type": "code",
   "execution_count": 54,
   "metadata": {},
   "outputs": [
    {
     "data": {
      "image/png": "[encoded data removed]",
      "text/plain": [
       "<Figure size 360x360 with 1 Axes>"
      ]
     },
     "metadata": {
      "needs_background": "light"
     },
     "output_type": "display_data"
    }
   ],
   "source": [
    "sns.displot(df_nunique_con[\"count(consumer_id)\"], \n",
    "            stat=\"density\", kde=True, bins=25)\n",
    "plt.title(f'Density Plot for \"count(consumer_id)\"', fontsize=18)\n",
    "plt.xlabel(f'count(consumer_id)')\n",
    "plt.show()"
   ]
  },
  {
   "cell_type": "markdown",
   "metadata": {},
   "source": [
    "---\n",
    "### 6. Analyze buying power (transaction frequency and monetary value) of SA2, possibly ranking weights to merchants by SA2"
   ]
  },
  {
   "cell_type": "code",
   "execution_count": 73,
   "metadata": {},
   "outputs": [],
   "source": [
    "sa2_trx = (df_trx_sa2.groupby(['sa2_maincode_2016'])\n",
    "             .agg({'order_id':'count', 'dollar_value':'sum'})\n",
    "             .sort(['sa2_maincode_2016']))\n",
    "unique_cons = (df_trx_sa2.groupby(['sa2_maincode_2016'])\n",
    "               .agg(countDistinct('consumer_id'))\n",
    "               .sort(['sa2_maincode_2016']))\n",
    "unique_merc = (df_trx_sa2.groupby(['sa2_maincode_2016'])\n",
    "               .agg(countDistinct('merchant_abn'))\n",
    "               .sort(['sa2_maincode_2016']))\n",
    "\n",
    "def join_agg(sdf1, sdf2):\n",
    "    '''\n",
    "        take two dataframes and join the two dataframes\n",
    "    '''\n",
    "    sdf1 = (sdf1.alias(\"a\") \\\n",
    "               .join(sdf2, \n",
    "                     on=['sa2_maincode_2016'], \n",
    "                     how='inner')\n",
    "           )\n",
    "    return sdf1\n",
    "df_buy_pow = join_agg(sa2_trx, unique_cons)\n",
    "df_buy_pow = join_agg(df_buy_pow, unique_merc)\n",
    "    \n",
    "# renaming a few columns\n",
    "field_name_change = {\"sum(dollar_value)\": \"total_dollar_value\", \n",
    "                     \"count(order_id)\": \"transaction_freq\",\n",
    "                     \"count(consumer_id)\": \"n_unique_consumer\",\n",
    "                     \"count(merchant_abn)\": \"n_unique_merchant\"}\n",
    "for old, new in field_name_change.items():\n",
    "    df_buy_pow = df_buy_pow.withColumnRenamed(old, new)\n",
    "\n",
    "cols = ['sa2_maincode_2016', 'n_unique_consumer', \n",
    "        'transaction_freq', 'total_dollar_value', 'n_unique_merchant']\n",
    "df_buy_pow = df_buy_pow[cols].sort(['sa2_maincode_2016'])\n",
    "\n",
    "df_buy_pow = (df_buy_pow.\n",
    "             withColumn('spending_per_customer', \n",
    "                        col(\"total_dollar_value\") / col(\"n_unique_consumer\")))\n",
    "\n",
    "df_buy_pow = (df_buy_pow.\n",
    "             withColumn('num_trx_per_customer', \n",
    "                        col(\"transaction_freq\") / col(\"n_unique_consumer\")))\n",
    "\n",
    "df_buy_pow = (df_buy_pow.\n",
    "             withColumn('sales_per_merchant', \n",
    "                        col(\"total_dollar_value\") / col(\"n_unique_merchant\")))\n",
    "\n",
    "df_buy_pow = (df_buy_pow.\n",
    "             withColumn('num_trx_per_merchant', \n",
    "                        col(\"transaction_freq\") / col(\"n_unique_merchant\")))"
   ]
  },
  {
   "cell_type": "code",
   "execution_count": 74,
   "metadata": {},
   "outputs": [
    {
     "name": "stderr",
     "output_type": "stream",
     "text": [
      "[Stage 458:==============>                                          (1 + 3) / 4]\r"
     ]
    },
    {
     "name": "stdout",
     "output_type": "stream",
     "text": [
      "-RECORD 0-----------------------------------\n",
      " sa2_maincode_2016     | 101021007.0        \n",
      " n_unique_consumer     | 9                  \n",
      " transaction_freq      | 2924               \n",
      " total_dollar_value    | 453726.3662912975  \n",
      " n_unique_merchant     | 914                \n",
      " spending_per_customer | 50414.04069903305  \n",
      " num_trx_per_customer  | 324.8888888888889  \n",
      " sales_per_merchant    | 496.41834386356396 \n",
      " num_trx_per_merchant  | 3.199124726477024  \n",
      "only showing top 1 row\n",
      "\n"
     ]
    },
    {
     "name": "stderr",
     "output_type": "stream",
     "text": [
      "                                                                                \r"
     ]
    }
   ],
   "source": [
    "df_buy_pow.show(1, vertical=True)"
   ]
  },
  {
   "cell_type": "code",
   "execution_count": 77,
   "metadata": {
    "collapsed": true,
    "jupyter": {
     "outputs_hidden": true
    },
    "tags": []
   },
   "outputs": [
    {
     "name": "stdout",
     "output_type": "stream",
     "text": [
      "Distribution for n_unique_consumer\n"
     ]
    },
    {
     "name": "stderr",
     "output_type": "stream",
     "text": [
      "                                                                                \r"
     ]
    },
    {
     "name": "stdout",
     "output_type": "stream",
     "text": [
      "Minimum n_unique_consumer by SA2: 1\n",
      "Median n_unique_consumer by SA2: 10.0\n",
      "Maximum n_unique_consumer by SA2: 152\n"
     ]
    },
    {
     "data": {
      "image/png": "[encoded data removed]",
      "text/plain": [
       "<Figure size 360x360 with 1 Axes>"
      ]
     },
     "metadata": {
      "needs_background": "light"
     },
     "output_type": "display_data"
    },
    {
     "name": "stdout",
     "output_type": "stream",
     "text": [
      "---------------------------------------------------------------------------\n",
      "Distribution for transaction_freq\n"
     ]
    },
    {
     "name": "stderr",
     "output_type": "stream",
     "text": [
      "                                                                                \r"
     ]
    },
    {
     "name": "stdout",
     "output_type": "stream",
     "text": [
      "Minimum transaction_freq by SA2: 294\n",
      "Median transaction_freq by SA2: 3189.0\n",
      "Maximum transaction_freq by SA2: 49643\n"
     ]
    },
    {
     "data": {
      "image/png": "[encoded data removed]",
      "text/plain": [
       "<Figure size 360x360 with 1 Axes>"
      ]
     },
     "metadata": {
      "needs_background": "light"
     },
     "output_type": "display_data"
    },
    {
     "name": "stdout",
     "output_type": "stream",
     "text": [
      "---------------------------------------------------------------------------\n",
      "Distribution for total_dollar_value\n"
     ]
    },
    {
     "name": "stderr",
     "output_type": "stream",
     "text": [
      "                                                                                \r"
     ]
    },
    {
     "name": "stdout",
     "output_type": "stream",
     "text": [
      "Minimum total_dollar_value by SA2: 40952.08141779106\n",
      "Median total_dollar_value by SA2: 493890.4444876573\n",
      "Maximum total_dollar_value by SA2: 7975319.401259059\n"
     ]
    },
    {
     "data": {
      "image/png": "[encoded data removed]",
      "text/plain": [
       "<Figure size 360x360 with 1 Axes>"
      ]
     },
     "metadata": {
      "needs_background": "light"
     },
     "output_type": "display_data"
    },
    {
     "name": "stdout",
     "output_type": "stream",
     "text": [
      "---------------------------------------------------------------------------\n",
      "Distribution for n_unique_merchant\n"
     ]
    },
    {
     "name": "stderr",
     "output_type": "stream",
     "text": [
      "                                                                                \r"
     ]
    },
    {
     "name": "stdout",
     "output_type": "stream",
     "text": [
      "Minimum n_unique_merchant by SA2: 205\n",
      "Median n_unique_merchant by SA2: 973.0\n",
      "Maximum n_unique_merchant by SA2: 2613\n"
     ]
    },
    {
     "data": {
      "image/png": "[encoded data removed]",
      "text/plain": [
       "<Figure size 360x360 with 1 Axes>"
      ]
     },
     "metadata": {
      "needs_background": "light"
     },
     "output_type": "display_data"
    },
    {
     "name": "stdout",
     "output_type": "stream",
     "text": [
      "---------------------------------------------------------------------------\n",
      "Distribution for spending_per_customer\n"
     ]
    },
    {
     "name": "stderr",
     "output_type": "stream",
     "text": [
      "                                                                                \r"
     ]
    },
    {
     "name": "stdout",
     "output_type": "stream",
     "text": [
      "Minimum spending_per_customer by SA2: 40952.08141779106\n",
      "Median spending_per_customer by SA2: 51272.491660421096\n",
      "Maximum spending_per_customer by SA2: 64688.66983317636\n"
     ]
    },
    {
     "data": {
      "image/png": "[encoded data removed]",
      "text/plain": [
       "<Figure size 360x360 with 1 Axes>"
      ]
     },
     "metadata": {
      "needs_background": "light"
     },
     "output_type": "display_data"
    },
    {
     "name": "stdout",
     "output_type": "stream",
     "text": [
      "---------------------------------------------------------------------------\n",
      "Distribution for num_trx_per_customer\n"
     ]
    },
    {
     "name": "stderr",
     "output_type": "stream",
     "text": [
      "                                                                                \r"
     ]
    },
    {
     "name": "stdout",
     "output_type": "stream",
     "text": [
      "Minimum num_trx_per_customer by SA2: 294.0\n",
      "Median num_trx_per_customer by SA2: 324.671568627451\n",
      "Maximum num_trx_per_customer by SA2: 353.0\n"
     ]
    },
    {
     "data": {
      "image/png": "[encoded data removed]",
      "text/plain": [
       "<Figure size 360x360 with 1 Axes>"
      ]
     },
     "metadata": {
      "needs_background": "light"
     },
     "output_type": "display_data"
    },
    {
     "name": "stdout",
     "output_type": "stream",
     "text": [
      "---------------------------------------------------------------------------\n",
      "Distribution for sales_per_merchant\n"
     ]
    },
    {
     "name": "stderr",
     "output_type": "stream",
     "text": [
      "                                                                                \r"
     ]
    },
    {
     "name": "stdout",
     "output_type": "stream",
     "text": [
      "Minimum sales_per_merchant by SA2: 199.76625081849298\n",
      "Median sales_per_merchant by SA2: 509.91577324413583\n",
      "Maximum sales_per_merchant by SA2: 3052.169690493325\n"
     ]
    },
    {
     "data": {
      "image/png": "[encoded data removed]",
      "text/plain": [
       "<Figure size 360x360 with 1 Axes>"
      ]
     },
     "metadata": {
      "needs_background": "light"
     },
     "output_type": "display_data"
    },
    {
     "name": "stdout",
     "output_type": "stream",
     "text": [
      "---------------------------------------------------------------------------\n",
      "Distribution for num_trx_per_merchant\n"
     ]
    },
    {
     "name": "stderr",
     "output_type": "stream",
     "text": [
      "                                                                                \r"
     ]
    },
    {
     "name": "stdout",
     "output_type": "stream",
     "text": [
      "Minimum num_trx_per_merchant by SA2: 1.4266666666666667\n",
      "Median num_trx_per_merchant by SA2: 3.209843725155235\n",
      "Maximum num_trx_per_merchant by SA2: 18.998469192499044\n"
     ]
    },
    {
     "data": {
      "image/png": "[encoded data removed]",
      "text/plain": [
       "<Figure size 360x360 with 1 Axes>"
      ]
     },
     "metadata": {
      "needs_background": "light"
     },
     "output_type": "display_data"
    },
    {
     "name": "stdout",
     "output_type": "stream",
     "text": [
      "---------------------------------------------------------------------------\n"
     ]
    }
   ],
   "source": [
    "fields = ['n_unique_consumer', 'transaction_freq', 'total_dollar_value',\n",
    "          'n_unique_merchant', 'spending_per_customer', 'num_trx_per_customer',\n",
    "          'sales_per_merchant', 'num_trx_per_merchant']\n",
    "\n",
    "for field in fields:\n",
    "    print(f'Distribution for {field}')\n",
    "    df_field = df_buy_pow[[field]].toPandas()\n",
    "\n",
    "    print(f'Minimum {field} by SA2: {df_field.min()[0]}')\n",
    "    print(f'Median {field} by SA2: {df_field.median()[0]}')\n",
    "    print(f'Maximum {field} by SA2: {df_field.max()[0]}')\n",
    "\n",
    "    sns.displot(df_field[field], \n",
    "                stat=\"density\", kde=True, bins=25)\n",
    "    plt.title(f'Density Plot for {field}', fontsize=15)\n",
    "    plt.xlabel(f'{field}')\n",
    "    plt.show()\n",
    "    \n",
    "    print('---' * 25)"
   ]
  },
  {
   "cell_type": "code",
   "execution_count": 84,
   "metadata": {},
   "outputs": [
    {
     "name": "stderr",
     "output_type": "stream",
     "text": [
      "Exception in thread \"serve-GetRows\" java.net.SocketTimeoutException: Accept timed out\n",
      "\tat java.base/sun.nio.ch.NioSocketImpl.timedAccept(NioSocketImpl.java:708)\n",
      "\tat java.base/sun.nio.ch.NioSocketImpl.accept(NioSocketImpl.java:752)\n",
      "\tat java.base/java.net.ServerSocket.implAccept(ServerSocket.java:684)\n",
      "\tat java.base/java.net.ServerSocket.platformImplAccept(ServerSocket.java:650)\n",
      "\tat java.base/java.net.ServerSocket.implAccept(ServerSocket.java:626)\n",
      "\tat java.base/java.net.ServerSocket.implAccept(ServerSocket.java:583)\n",
      "\tat java.base/java.net.ServerSocket.accept(ServerSocket.java:540)\n",
      "\tat org.apache.spark.security.SocketAuthServer$$anon$1.run(SocketAuthServer.scala:64)\n",
      "                                                                                \r"
     ]
    },
    {
     "data": {
      "text/html": [
       "<table border='1'>\n",
       "<tr><th>sa2_maincode_2016</th><th>n_unique_consumer</th><th>transaction_freq</th><th>total_dollar_value</th><th>n_unique_merchant</th><th>spending_per_customer</th><th>num_trx_per_customer</th><th>sales_per_merchant</th><th>num_trx_per_merchant</th></tr>\n",
       "<tr><td>401051019.0</td><td>8</td><td>2578</td><td>517509.3586654109</td><td>901</td><td>64688.66983317636</td><td>322.25</td><td>574.3722071758167</td><td>2.86126526082131</td></tr>\n",
       "<tr><td>407021158.0</td><td>6</td><td>1935</td><td>370895.9301295354</td><td>745</td><td>61815.98835492256</td><td>322.5</td><td>497.84688607991325</td><td>2.597315436241611</td></tr>\n",
       "<tr><td>121031408.0</td><td>7</td><td>2318</td><td>432676.09265448886</td><td>848</td><td>61810.8703792127</td><td>331.14285714285717</td><td>510.23124133784063</td><td>2.733490566037736</td></tr>\n",
       "<tr><td>212021297.0</td><td>5</td><td>1625</td><td>305129.90819958545</td><td>704</td><td>61025.98163991709</td><td>325.0</td><td>433.4231650562293</td><td>2.3082386363636362</td></tr>\n",
       "<tr><td>123021440.0</td><td>7</td><td>2273</td><td>425276.60216874303</td><td>863</td><td>60753.800309820435</td><td>324.7142857142857</td><td>492.78864677722254</td><td>2.6338354577056777</td></tr>\n",
       "<tr><td>125011586.0</td><td>10</td><td>3295</td><td>607365.0102319636</td><td>1006</td><td>60736.50102319636</td><td>329.5</td><td>603.7425549025482</td><td>3.275347912524851</td></tr>\n",
       "<tr><td>112011237.0</td><td>9</td><td>2944</td><td>546351.1778801798</td><td>948</td><td>60705.68643113109</td><td>327.1111111111111</td><td>576.3198078904851</td><td>3.1054852320675104</td></tr>\n",
       "<tr><td>119041382.0</td><td>6</td><td>1932</td><td>363710.2830667319</td><td>791</td><td>60618.38051112198</td><td>322.0</td><td>459.8107244838583</td><td>2.4424778761061945</td></tr>\n",
       "<tr><td>201011005.0</td><td>4</td><td>1279</td><td>241371.06660849572</td><td>591</td><td>60342.76665212393</td><td>319.75</td><td>408.4112802174208</td><td>2.1641285956006766</td></tr>\n",
       "<tr><td>111031228.0</td><td>4</td><td>1300</td><td>240680.84772803984</td><td>626</td><td>60170.21193200996</td><td>325.0</td><td>384.47419764862593</td><td>2.07667731629393</td></tr>\n",
       "</table>\n"
      ],
      "text/plain": [
       "+-----------------+-----------------+----------------+------------------+-----------------+---------------------+--------------------+------------------+--------------------+\n",
       "|sa2_maincode_2016|n_unique_consumer|transaction_freq|total_dollar_value|n_unique_merchant|spending_per_customer|num_trx_per_customer|sales_per_merchant|num_trx_per_merchant|\n",
       "+-----------------+-----------------+----------------+------------------+-----------------+---------------------+--------------------+------------------+--------------------+\n",
       "|      401051019.0|                8|            2578| 517509.3586654109|              901|    64688.66983317636|              322.25| 574.3722071758167|    2.86126526082131|\n",
       "|      407021158.0|                6|            1935| 370895.9301295354|              745|    61815.98835492256|               322.5|497.84688607991325|   2.597315436241611|\n",
       "|      121031408.0|                7|            2318|432676.09265448886|              848|     61810.8703792127|  331.14285714285717|510.23124133784063|   2.733490566037736|\n",
       "|      212021297.0|                5|            1625|305129.90819958545|              704|    61025.98163991709|               325.0| 433.4231650562293|  2.3082386363636362|\n",
       "|      123021440.0|                7|            2273|425276.60216874303|              863|   60753.800309820435|   324.7142857142857|492.78864677722254|  2.6338354577056777|\n",
       "|      125011586.0|               10|            3295| 607365.0102319636|             1006|    60736.50102319636|               329.5| 603.7425549025482|   3.275347912524851|\n",
       "|      112011237.0|                9|            2944| 546351.1778801798|              948|    60705.68643113109|   327.1111111111111| 576.3198078904851|  3.1054852320675104|\n",
       "|      119041382.0|                6|            1932| 363710.2830667319|              791|    60618.38051112198|               322.0| 459.8107244838583|  2.4424778761061945|\n",
       "|      201011005.0|                4|            1279|241371.06660849572|              591|    60342.76665212393|              319.75| 408.4112802174208|  2.1641285956006766|\n",
       "|      111031228.0|                4|            1300|240680.84772803984|              626|    60170.21193200996|               325.0|384.47419764862593|    2.07667731629393|\n",
       "+-----------------+-----------------+----------------+------------------+-----------------+---------------------+--------------------+------------------+--------------------+"
      ]
     },
     "execution_count": 84,
     "metadata": {},
     "output_type": "execute_result"
    }
   ],
   "source": [
    "# Rank SA2 with the highest buying power (spending per customer)\n",
    "df_buy_pow.sort('spending_per_customer', ascending=False).limit(10)"
   ]
  },
  {
   "cell_type": "code",
   "execution_count": 85,
   "metadata": {},
   "outputs": [
    {
     "name": "stderr",
     "output_type": "stream",
     "text": [
      "                                                                                \r"
     ]
    },
    {
     "data": {
      "text/html": [
       "<table border='1'>\n",
       "<tr><th>sa2_maincode_2016</th><th>n_unique_consumer</th><th>transaction_freq</th><th>total_dollar_value</th><th>n_unique_merchant</th><th>spending_per_customer</th><th>num_trx_per_customer</th><th>sales_per_merchant</th><th>num_trx_per_merchant</th></tr>\n",
       "<tr><td>309031239.0</td><td>2</td><td>706</td><td>114982.77883716644</td><td>384</td><td>57491.38941858322</td><td>353.0</td><td>299.43431988845424</td><td>1.8385416666666667</td></tr>\n",
       "<tr><td>801091106.0</td><td>3</td><td>1034</td><td>168391.48344223428</td><td>507</td><td>56130.49448074476</td><td>344.6666666666667</td><td>332.13310343635953</td><td>2.0394477317554243</td></tr>\n",
       "<tr><td>507051187.0</td><td>4</td><td>1365</td><td>207767.6020278964</td><td>584</td><td>51941.9005069741</td><td>341.25</td><td>355.76644182858973</td><td>2.337328767123288</td></tr>\n",
       "<tr><td>801051124.0</td><td>7</td><td>2381</td><td>409495.86888433853</td><td>861</td><td>58499.40984061979</td><td>340.14285714285717</td><td>475.6049580538194</td><td>2.7653890824622533</td></tr>\n",
       "<tr><td>301031021.0</td><td>4</td><td>1358</td><td>199311.82814170106</td><td>608</td><td>49827.957035425265</td><td>339.5</td><td>327.8155068120083</td><td>2.2335526315789473</td></tr>\n",
       "<tr><td>313021367.0</td><td>5</td><td>1696</td><td>294619.5363851127</td><td>705</td><td>58923.90727702253</td><td>339.2</td><td>417.9000516100889</td><td>2.405673758865248</td></tr>\n",
       "<tr><td>210051250.0</td><td>5</td><td>1694</td><td>270330.1499038856</td><td>700</td><td>54066.02998077712</td><td>338.8</td><td>386.18592843412233</td><td>2.42</td></tr>\n",
       "<tr><td>209021205.0</td><td>3</td><td>1015</td><td>159980.48863622954</td><td>456</td><td>53326.82954540985</td><td>338.3333333333333</td><td>350.83440490401216</td><td>2.2258771929824563</td></tr>\n",
       "<tr><td>601031015.0</td><td>4</td><td>1353</td><td>200468.50700399553</td><td>612</td><td>50117.12675099888</td><td>338.25</td><td>327.5629199411692</td><td>2.2107843137254903</td></tr>\n",
       "<tr><td>303011048.0</td><td>9</td><td>3041</td><td>491988.9279296253</td><td>947</td><td>54665.43643662504</td><td>337.8888888888889</td><td>519.523683135824</td><td>3.211193241816262</td></tr>\n",
       "</table>\n"
      ],
      "text/plain": [
       "+-----------------+-----------------+----------------+------------------+-----------------+---------------------+--------------------+------------------+--------------------+\n",
       "|sa2_maincode_2016|n_unique_consumer|transaction_freq|total_dollar_value|n_unique_merchant|spending_per_customer|num_trx_per_customer|sales_per_merchant|num_trx_per_merchant|\n",
       "+-----------------+-----------------+----------------+------------------+-----------------+---------------------+--------------------+------------------+--------------------+\n",
       "|      309031239.0|                2|             706|114982.77883716644|              384|    57491.38941858322|               353.0|299.43431988845424|  1.8385416666666667|\n",
       "|      801091106.0|                3|            1034|168391.48344223428|              507|    56130.49448074476|   344.6666666666667|332.13310343635953|  2.0394477317554243|\n",
       "|      507051187.0|                4|            1365| 207767.6020278964|              584|     51941.9005069741|              341.25|355.76644182858973|   2.337328767123288|\n",
       "|      801051124.0|                7|            2381|409495.86888433853|              861|    58499.40984061979|  340.14285714285717| 475.6049580538194|  2.7653890824622533|\n",
       "|      301031021.0|                4|            1358|199311.82814170106|              608|   49827.957035425265|               339.5| 327.8155068120083|  2.2335526315789473|\n",
       "|      313021367.0|                5|            1696| 294619.5363851127|              705|    58923.90727702253|               339.2| 417.9000516100889|   2.405673758865248|\n",
       "|      210051250.0|                5|            1694| 270330.1499038856|              700|    54066.02998077712|               338.8|386.18592843412233|                2.42|\n",
       "|      209021205.0|                3|            1015|159980.48863622954|              456|    53326.82954540985|   338.3333333333333|350.83440490401216|  2.2258771929824563|\n",
       "|      601031015.0|                4|            1353|200468.50700399553|              612|    50117.12675099888|              338.25| 327.5629199411692|  2.2107843137254903|\n",
       "|      303011048.0|                9|            3041| 491988.9279296253|              947|    54665.43643662504|   337.8888888888889|  519.523683135824|   3.211193241816262|\n",
       "+-----------------+-----------------+----------------+------------------+-----------------+---------------------+--------------------+------------------+--------------------+"
      ]
     },
     "execution_count": 85,
     "metadata": {},
     "output_type": "execute_result"
    }
   ],
   "source": [
    "# Rank SA2 with the highest transaction frequency (num_trx_per_customer)\n",
    "df_buy_pow.sort('num_trx_per_customer', ascending=False).limit(10)"
   ]
  },
  {
   "cell_type": "code",
   "execution_count": 90,
   "metadata": {},
   "outputs": [
    {
     "name": "stderr",
     "output_type": "stream",
     "text": [
      "                                                                                \r"
     ]
    },
    {
     "data": {
      "text/html": [
       "<table border='1'>\n",
       "<tr><th>consumer_id</th><th>sum(dollar_value)</th><th>count(order_id)</th></tr>\n",
       "<tr><td>41960</td><td>50475.727704169294</td><td>363</td></tr>\n",
       "<tr><td>332215</td><td>64507.051132997134</td><td>343</td></tr>\n",
       "</table>\n"
      ],
      "text/plain": [
       "+-----------+------------------+---------------+\n",
       "|consumer_id| sum(dollar_value)|count(order_id)|\n",
       "+-----------+------------------+---------------+\n",
       "|      41960|50475.727704169294|            363|\n",
       "|     332215|64507.051132997134|            343|\n",
       "+-----------+------------------+---------------+"
      ]
     },
     "execution_count": 90,
     "metadata": {},
     "output_type": "execute_result"
    }
   ],
   "source": [
    "# check if the table above by taking one SA2 code\n",
    "(df_trx_sa2.filter(F.col('sa2_maincode_2016') == 309031239.0)\n",
    " .groupby('consumer_id').agg({\n",
    "                               'order_id':'count',\n",
    "                               'dollar_value': 'sum' \n",
    "                            }))"
   ]
  },
  {
   "cell_type": "code",
   "execution_count": 123,
   "metadata": {
    "tags": []
   },
   "outputs": [
    {
     "data": {
      "text/html": [
       "<div>\n",
       "<style scoped>\n",
       "    .dataframe tbody tr th:only-of-type {\n",
       "        vertical-align: middle;\n",
       "    }\n",
       "\n",
       "    .dataframe tbody tr th {\n",
       "        vertical-align: top;\n",
       "    }\n",
       "\n",
       "    .dataframe thead th {\n",
       "        text-align: right;\n",
       "    }\n",
       "</style>\n",
       "<table border=\"1\" class=\"dataframe\">\n",
       "  <thead>\n",
       "    <tr style=\"text-align: right;\">\n",
       "      <th></th>\n",
       "      <th>gml_id</th>\n",
       "      <th>sa2_main16</th>\n",
       "      <th>state_code</th>\n",
       "      <th>state_name</th>\n",
       "      <th>gccsa_code16</th>\n",
       "      <th>gccsa_name16</th>\n",
       "      <th>sa4_code16</th>\n",
       "      <th>sa4_name16</th>\n",
       "      <th>sa3_code16</th>\n",
       "      <th>sa3_name16</th>\n",
       "      <th>...</th>\n",
       "      <th>persons_age_65_69</th>\n",
       "      <th>persons_age_70_74</th>\n",
       "      <th>persons_age_75_79</th>\n",
       "      <th>persons_age_80_84</th>\n",
       "      <th>persons_age_85_plus</th>\n",
       "      <th>persons_total</th>\n",
       "      <th>geometry</th>\n",
       "      <th>males_above_20</th>\n",
       "      <th>females_above_20</th>\n",
       "      <th>persons_above_20</th>\n",
       "    </tr>\n",
       "  </thead>\n",
       "  <tbody>\n",
       "    <tr>\n",
       "      <th>0</th>\n",
       "      <td>abs_regional_population_age_sex_sa2_2019.10102...</td>\n",
       "      <td>101021007</td>\n",
       "      <td>1</td>\n",
       "      <td>New South Wales</td>\n",
       "      <td>1RNSW</td>\n",
       "      <td>Rest of NSW</td>\n",
       "      <td>101</td>\n",
       "      <td>Capital Region</td>\n",
       "      <td>10102</td>\n",
       "      <td>Queanbeyan</td>\n",
       "      <td>...</td>\n",
       "      <td>333</td>\n",
       "      <td>288</td>\n",
       "      <td>194</td>\n",
       "      <td>89</td>\n",
       "      <td>75</td>\n",
       "      <td>4222</td>\n",
       "      <td>MULTIPOLYGON (((149.58420 -35.44430, 149.58440...</td>\n",
       "      <td>1532</td>\n",
       "      <td>1510</td>\n",
       "      <td>3042</td>\n",
       "    </tr>\n",
       "    <tr>\n",
       "      <th>1</th>\n",
       "      <td>abs_regional_population_age_sex_sa2_2019.10102...</td>\n",
       "      <td>101021008</td>\n",
       "      <td>1</td>\n",
       "      <td>New South Wales</td>\n",
       "      <td>1RNSW</td>\n",
       "      <td>Rest of NSW</td>\n",
       "      <td>101</td>\n",
       "      <td>Capital Region</td>\n",
       "      <td>10102</td>\n",
       "      <td>Queanbeyan</td>\n",
       "      <td>...</td>\n",
       "      <td>410</td>\n",
       "      <td>332</td>\n",
       "      <td>249</td>\n",
       "      <td>136</td>\n",
       "      <td>105</td>\n",
       "      <td>8372</td>\n",
       "      <td>MULTIPOLYGON (((149.21900 -35.36740, 149.21800...</td>\n",
       "      <td>3006</td>\n",
       "      <td>3081</td>\n",
       "      <td>6087</td>\n",
       "    </tr>\n",
       "    <tr>\n",
       "      <th>2</th>\n",
       "      <td>abs_regional_population_age_sex_sa2_2019.10103...</td>\n",
       "      <td>101031015</td>\n",
       "      <td>1</td>\n",
       "      <td>New South Wales</td>\n",
       "      <td>1RNSW</td>\n",
       "      <td>Rest of NSW</td>\n",
       "      <td>101</td>\n",
       "      <td>Capital Region</td>\n",
       "      <td>10103</td>\n",
       "      <td>Snowy Mountains</td>\n",
       "      <td>...</td>\n",
       "      <td>292</td>\n",
       "      <td>220</td>\n",
       "      <td>176</td>\n",
       "      <td>91</td>\n",
       "      <td>66</td>\n",
       "      <td>3382</td>\n",
       "      <td>MULTIPOLYGON (((148.60440 -36.13520, 148.60450...</td>\n",
       "      <td>1289</td>\n",
       "      <td>1189</td>\n",
       "      <td>2478</td>\n",
       "    </tr>\n",
       "    <tr>\n",
       "      <th>3</th>\n",
       "      <td>abs_regional_population_age_sex_sa2_2019.10103...</td>\n",
       "      <td>101031016</td>\n",
       "      <td>1</td>\n",
       "      <td>New South Wales</td>\n",
       "      <td>1RNSW</td>\n",
       "      <td>Rest of NSW</td>\n",
       "      <td>101</td>\n",
       "      <td>Capital Region</td>\n",
       "      <td>10103</td>\n",
       "      <td>Snowy Mountains</td>\n",
       "      <td>...</td>\n",
       "      <td>368</td>\n",
       "      <td>265</td>\n",
       "      <td>167</td>\n",
       "      <td>90</td>\n",
       "      <td>72</td>\n",
       "      <td>7215</td>\n",
       "      <td>MULTIPOLYGON (((148.27030 -36.46410, 148.27060...</td>\n",
       "      <td>2926</td>\n",
       "      <td>2440</td>\n",
       "      <td>5366</td>\n",
       "    </tr>\n",
       "    <tr>\n",
       "      <th>4</th>\n",
       "      <td>abs_regional_population_age_sex_sa2_2019.10104...</td>\n",
       "      <td>101041017</td>\n",
       "      <td>1</td>\n",
       "      <td>New South Wales</td>\n",
       "      <td>1RNSW</td>\n",
       "      <td>Rest of NSW</td>\n",
       "      <td>101</td>\n",
       "      <td>Capital Region</td>\n",
       "      <td>10104</td>\n",
       "      <td>South Coast</td>\n",
       "      <td>...</td>\n",
       "      <td>700</td>\n",
       "      <td>662</td>\n",
       "      <td>480</td>\n",
       "      <td>264</td>\n",
       "      <td>310</td>\n",
       "      <td>8025</td>\n",
       "      <td>MULTIPOLYGON (((150.23540 -35.70390, 150.23530...</td>\n",
       "      <td>2889</td>\n",
       "      <td>2942</td>\n",
       "      <td>5831</td>\n",
       "    </tr>\n",
       "  </tbody>\n",
       "</table>\n",
       "<p>5 rows × 72 columns</p>\n",
       "</div>"
      ],
      "text/plain": [
       "                                              gml_id  sa2_main16  state_code  \\\n",
       "0  abs_regional_population_age_sex_sa2_2019.10102...   101021007           1   \n",
       "1  abs_regional_population_age_sex_sa2_2019.10102...   101021008           1   \n",
       "2  abs_regional_population_age_sex_sa2_2019.10103...   101031015           1   \n",
       "3  abs_regional_population_age_sex_sa2_2019.10103...   101031016           1   \n",
       "4  abs_regional_population_age_sex_sa2_2019.10104...   101041017           1   \n",
       "\n",
       "        state_name gccsa_code16 gccsa_name16  sa4_code16      sa4_name16  \\\n",
       "0  New South Wales        1RNSW  Rest of NSW         101  Capital Region   \n",
       "1  New South Wales        1RNSW  Rest of NSW         101  Capital Region   \n",
       "2  New South Wales        1RNSW  Rest of NSW         101  Capital Region   \n",
       "3  New South Wales        1RNSW  Rest of NSW         101  Capital Region   \n",
       "4  New South Wales        1RNSW  Rest of NSW         101  Capital Region   \n",
       "\n",
       "   sa3_code16       sa3_name16  ... persons_age_65_69  persons_age_70_74  \\\n",
       "0       10102       Queanbeyan  ...               333                288   \n",
       "1       10102       Queanbeyan  ...               410                332   \n",
       "2       10103  Snowy Mountains  ...               292                220   \n",
       "3       10103  Snowy Mountains  ...               368                265   \n",
       "4       10104      South Coast  ...               700                662   \n",
       "\n",
       "   persons_age_75_79  persons_age_80_84  persons_age_85_plus  persons_total  \\\n",
       "0                194                 89                   75           4222   \n",
       "1                249                136                  105           8372   \n",
       "2                176                 91                   66           3382   \n",
       "3                167                 90                   72           7215   \n",
       "4                480                264                  310           8025   \n",
       "\n",
       "                                            geometry  males_above_20  \\\n",
       "0  MULTIPOLYGON (((149.58420 -35.44430, 149.58440...            1532   \n",
       "1  MULTIPOLYGON (((149.21900 -35.36740, 149.21800...            3006   \n",
       "2  MULTIPOLYGON (((148.60440 -36.13520, 148.60450...            1289   \n",
       "3  MULTIPOLYGON (((148.27030 -36.46410, 148.27060...            2926   \n",
       "4  MULTIPOLYGON (((150.23540 -35.70390, 150.23530...            2889   \n",
       "\n",
       "   females_above_20  persons_above_20  \n",
       "0              1510              3042  \n",
       "1              3081              6087  \n",
       "2              1189              2478  \n",
       "3              2440              5366  \n",
       "4              2942              5831  \n",
       "\n",
       "[5 rows x 72 columns]"
      ]
     },
     "execution_count": 123,
     "metadata": {},
     "output_type": "execute_result"
    }
   ],
   "source": [
    "age.head()"
   ]
  },
  {
   "cell_type": "code",
   "execution_count": 120,
   "metadata": {},
   "outputs": [],
   "source": [
    "# calculate population of age above 20\n",
    "left_age = 25\n",
    "right_age = 29\n",
    "age['males_above_20'] = age['males_age_20_24']\n",
    "age['females_above_20'] = age['females_age_20_24']\n",
    "age['persons_above_20'] = age['persons_age_20_24']\n",
    "\n",
    "while right_age < 89:\n",
    "    if right_age == 89:\n",
    "        right_age = 'plus'\n",
    "\n",
    "    age['males_above_20'] += age[f'males_age_{left_age}_{right_age}']\n",
    "    age['females_above_20'] += age[f'females_age_{left_age}_{right_age}']\n",
    "    age['persons_above_20'] += age[f'persons_age_{left_age}_{right_age}']\n",
    "    \n",
    "    left_age += 5\n",
    "    right_age += 5"
   ]
  },
  {
   "cell_type": "code",
   "execution_count": 145,
   "metadata": {},
   "outputs": [],
   "source": [
    "pdf_buy_pow = df_buy_pow.toPandas()"
   ]
  },
  {
   "cell_type": "code",
   "execution_count": 146,
   "metadata": {},
   "outputs": [],
   "source": [
    "# merge df_trx_sa2 with income, age, and population\n",
    "income['sa2_code'] = income['sa2_code'].astype('float').astype('str')\n",
    "income_col = ['sa2_code', 'median_aud', 'earners_persons', \n",
    "              'median_age_of_earners_years']\n",
    "pdf_buy_pow = pdf_buy_pow.merge(income[income_col],\n",
    "                                left_on='sa2_maincode_2016',\n",
    "                                right_on='sa2_code', how='left')\n",
    "\n",
    "age['sa2_main16'] = age['sa2_main16'].astype('float').astype('str')\n",
    "age_col = ['sa2_main16', 'males_above_20', \n",
    "           'females_above_20', 'persons_above_20']\n",
    "pdf_buy_pow = pdf_buy_pow.merge(age[age_col],\n",
    "                                left_on='sa2_maincode_2016',\n",
    "                                right_on='sa2_main16', how='left')"
   ]
  },
  {
   "cell_type": "code",
   "execution_count": 147,
   "metadata": {},
   "outputs": [
    {
     "name": "stdout",
     "output_type": "stream",
     "text": [
      "<class 'pandas.core.frame.DataFrame'>\n",
      "Int64Index: 1314 entries, 0 to 1313\n",
      "Data columns (total 17 columns):\n",
      " #   Column                       Non-Null Count  Dtype  \n",
      "---  ------                       --------------  -----  \n",
      " 0   sa2_maincode_2016            1314 non-null   object \n",
      " 1   n_unique_consumer            1314 non-null   int64  \n",
      " 2   transaction_freq             1314 non-null   int64  \n",
      " 3   total_dollar_value           1314 non-null   float64\n",
      " 4   n_unique_merchant            1314 non-null   int64  \n",
      " 5   spending_per_customer        1314 non-null   float64\n",
      " 6   num_trx_per_customer         1314 non-null   float64\n",
      " 7   sales_per_merchant           1314 non-null   float64\n",
      " 8   num_trx_per_merchant         1314 non-null   float64\n",
      " 9   sa2_code                     1307 non-null   object \n",
      " 10  median_aud                   1293 non-null   float64\n",
      " 11  earners_persons              1293 non-null   float64\n",
      " 12  median_age_of_earners_years  1293 non-null   float64\n",
      " 13  sa2_main16                   1307 non-null   object \n",
      " 14  males_above_20               1307 non-null   float64\n",
      " 15  females_above_20             1307 non-null   float64\n",
      " 16  persons_above_20             1307 non-null   float64\n",
      "dtypes: float64(11), int64(3), object(3)\n",
      "memory usage: 184.8+ KB\n"
     ]
    }
   ],
   "source": [
    "pdf_buy_pow.info()"
   ]
  },
  {
   "cell_type": "code",
   "execution_count": 148,
   "metadata": {},
   "outputs": [
    {
     "data": {
      "image/png": "[encoded data removed]",
      "text/plain": [
       "<Figure size 864x504 with 2 Axes>"
      ]
     },
     "metadata": {
      "needs_background": "light"
     },
     "output_type": "display_data"
    }
   ],
   "source": [
    "# check \n",
    "fields = ['n_unique_consumer', 'transaction_freq', 'total_dollar_value',\n",
    "          'n_unique_merchant', 'spending_per_customer', 'num_trx_per_customer',\n",
    "          'sales_per_merchant', 'num_trx_per_merchant', 'median_aud', \n",
    "          'earners_persons', 'median_age_of_earners_years', \n",
    "          'males_above_20', 'females_above_20', 'persons_above_20']\n",
    "plt.figure(figsize=(12,7))\n",
    "sns.heatmap(pdf_buy_pow[fields].corr(method='pearson'), \n",
    "            vmin=-1, vmax=1, annot=True, cmap='BrBG')\n",
    "\n",
    "plt.title('Pearson Correlation Metrics', fontsize=18)\n",
    "plt.show()"
   ]
  },
  {
   "cell_type": "markdown",
   "metadata": {},
   "source": [
    "---\n",
    "### SA2 (Income, Age and Buying Power) Geospatial Visualization"
   ]
  },
  {
   "cell_type": "code",
   "execution_count": null,
   "metadata": {},
   "outputs": [],
   "source": []
  },
  {
   "cell_type": "code",
   "execution_count": null,
   "metadata": {},
   "outputs": [],
   "source": []
  },
  {
   "cell_type": "code",
   "execution_count": null,
   "metadata": {},
   "outputs": [],
   "source": []
  }
 ],
 "metadata": {
  "kernelspec": {
   "display_name": "Python 3 (ipykernel)",
   "language": "python",
   "name": "python3"
  },
  "language_info": {
   "codemirror_mode": {
    "name": "ipython",
    "version": 3
   },
   "file_extension": ".py",
   "mimetype": "text/x-python",
   "name": "python",
   "nbconvert_exporter": "python",
   "pygments_lexer": "ipython3",
   "version": "3.9.7"
  },
  "vscode": {
   "interpreter": {
    "hash": "916dbcbb3f70747c44a77c7bcd40155683ae19c65e1c03b4aa3499c5328201f1"
   }
  }
 },
 "nbformat": 4,
 "nbformat_minor": 4
}
