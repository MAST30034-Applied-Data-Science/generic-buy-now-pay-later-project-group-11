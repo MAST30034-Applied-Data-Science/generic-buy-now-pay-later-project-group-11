{
 "cells": [
  {
   "cell_type": "markdown",
   "id": "cea0315e-b6d7-4ff1-acfa-81f5f1dacdc7",
   "metadata": {},
   "source": [
    "## Summary\n",
    "#### This notebook is a high-level summary for our whole merchant ranking model.\n"
   ]
  },
  {
   "cell_type": "markdown",
   "id": "ed0dd5f2-f2a2-482c-80e2-391a58b8930b",
   "metadata": {},
   "source": [
    "#### High-level\n",
    "1. **Downloading** all the external datasets by running `script/download.py`\n",
    "2. **Pre-process**\n",
    "- Translates postcodes to SA2 codes `notebook/poa_to_sa2.ipynb`\n",
    "- Join all datasets into the transaction dataset, done in `script/ETL.py`\n",
    "- Clean the dataset, done in `script/ETL.pyb`\n",
    "- Removing outliers by categories, done in done in `notebooks/outlier_detection_removal.ipynb`\n",
    "3. Fraud analysis and removal\n",
    "4. Feature Engineering\n",
    "5. Modelling\n",
    "---"
   ]
  },
  {
   "cell_type": "code",
   "execution_count": 2,
   "id": "d559653a-f264-4f02-872d-27a5021937d0",
   "metadata": {},
   "outputs": [],
   "source": [
    "import io\n",
    "import zipfile\n",
    "\n",
    "import pandas as pd\n",
    "import numpy as np\n",
    "import seaborn as sns\n",
    "import geopandas as gpd\n",
    "from datetime import datetime\n",
    "import matplotlib.pyplot as plt\n",
    "%matplotlib inline\n",
    "\n",
    "from pyspark.sql import SparkSession, Window, functions as F\n",
    "from pyspark.sql.functions import countDistinct, col, date_format\n",
    "import pyspark.sql.functions as func\n",
    "from pyspark.sql.functions import sum, avg, count, lag, date_sub, split\n",
    "from pyspark.sql.window import Window\n",
    "from pyspark.sql.types import (\n",
    "    StringType,\n",
    "    LongType,\n",
    "    DoubleType,\n",
    "    StructField,\n",
    "    StructType,\n",
    "    FloatType\n",
    ")\n",
    "from scipy.stats import zscore\n",
    "\n",
    "import warnings\n",
    "warnings.filterwarnings(\"ignore\")"
   ]
  },
  {
   "cell_type": "markdown",
   "id": "ccb0c24b-2be4-49ee-88fa-cb96dd6237e7",
   "metadata": {},
   "source": [
    "### External datasets\n",
    "In the earliest sprint of this project, we decided on which external dataset that can be used to support our merchant ranking model. We decided to find dataset(s) that has _income and age population_ by SA2 code (people in one SA2 area interacts together socially and economically). Initially, we want to find dataset that has _household spending_, but we can only found by state level (which is not specific enough). Therefore, we discard the idea of using _household spending_. \n",
    "\n",
    "From projects from previous subject, we learnt that most of Australian Bureau of Statistics data is available through Australian Urban Research Infrastructure Network (AURIN) so we utilise AURIN Data Provider (ADP - AURIN API) to retrieve the datasets; _2017-2018 Personal Income by SA2_ and _2020 Age Population by SA2_."
   ]
  },
  {
   "cell_type": "code",
   "execution_count": 3,
   "id": "dbc272ce-c1ff-4621-b765-79014b426ab5",
   "metadata": {},
   "outputs": [],
   "source": [
    "age = gpd.read_file(\"../data/abs/sa2_age.gml\")\n",
    "income = gpd.read_file(\"../data/abs/sa2_income.gml\")"
   ]
  },
  {
   "cell_type": "code",
   "execution_count": 4,
   "id": "3252edf5-d95d-496a-b318-68062fc78e91",
   "metadata": {},
   "outputs": [
    {
     "data": {
      "text/html": [
       "<div>\n",
       "<style scoped>\n",
       "    .dataframe tbody tr th:only-of-type {\n",
       "        vertical-align: middle;\n",
       "    }\n",
       "\n",
       "    .dataframe tbody tr th {\n",
       "        vertical-align: top;\n",
       "    }\n",
       "\n",
       "    .dataframe thead th {\n",
       "        text-align: right;\n",
       "    }\n",
       "</style>\n",
       "<table border=\"1\" class=\"dataframe\">\n",
       "  <thead>\n",
       "    <tr style=\"text-align: right;\">\n",
       "      <th></th>\n",
       "      <th>sa2_main16</th>\n",
       "      <th>persons_age_20_24</th>\n",
       "      <th>persons_age_25_29</th>\n",
       "      <th>persons_age_30_34</th>\n",
       "      <th>persons_age_35_39</th>\n",
       "      <th>persons_age_40_44</th>\n",
       "      <th>persons_age_50_54</th>\n",
       "    </tr>\n",
       "  </thead>\n",
       "  <tbody>\n",
       "    <tr>\n",
       "      <th>0</th>\n",
       "      <td>101021007</td>\n",
       "      <td>197</td>\n",
       "      <td>137</td>\n",
       "      <td>148</td>\n",
       "      <td>184</td>\n",
       "      <td>221</td>\n",
       "      <td>316</td>\n",
       "    </tr>\n",
       "    <tr>\n",
       "      <th>1</th>\n",
       "      <td>101021008</td>\n",
       "      <td>479</td>\n",
       "      <td>541</td>\n",
       "      <td>585</td>\n",
       "      <td>576</td>\n",
       "      <td>564</td>\n",
       "      <td>615</td>\n",
       "    </tr>\n",
       "    <tr>\n",
       "      <th>2</th>\n",
       "      <td>101031015</td>\n",
       "      <td>204</td>\n",
       "      <td>112</td>\n",
       "      <td>126</td>\n",
       "      <td>122</td>\n",
       "      <td>149</td>\n",
       "      <td>242</td>\n",
       "    </tr>\n",
       "    <tr>\n",
       "      <th>3</th>\n",
       "      <td>101031016</td>\n",
       "      <td>440</td>\n",
       "      <td>433</td>\n",
       "      <td>597</td>\n",
       "      <td>495</td>\n",
       "      <td>426</td>\n",
       "      <td>599</td>\n",
       "    </tr>\n",
       "    <tr>\n",
       "      <th>4</th>\n",
       "      <td>101041017</td>\n",
       "      <td>420</td>\n",
       "      <td>322</td>\n",
       "      <td>337</td>\n",
       "      <td>326</td>\n",
       "      <td>385</td>\n",
       "      <td>443</td>\n",
       "    </tr>\n",
       "  </tbody>\n",
       "</table>\n",
       "</div>"
      ],
      "text/plain": [
       "   sa2_main16  persons_age_20_24  persons_age_25_29  persons_age_30_34  \\\n",
       "0   101021007                197                137                148   \n",
       "1   101021008                479                541                585   \n",
       "2   101031015                204                112                126   \n",
       "3   101031016                440                433                597   \n",
       "4   101041017                420                322                337   \n",
       "\n",
       "   persons_age_35_39  persons_age_40_44  persons_age_50_54  \n",
       "0                184                221                316  \n",
       "1                576                564                615  \n",
       "2                122                149                242  \n",
       "3                495                426                599  \n",
       "4                326                385                443  "
      ]
     },
     "metadata": {},
     "output_type": "display_data"
    },
    {
     "data": {
      "text/html": [
       "<div>\n",
       "<style scoped>\n",
       "    .dataframe tbody tr th:only-of-type {\n",
       "        vertical-align: middle;\n",
       "    }\n",
       "\n",
       "    .dataframe tbody tr th {\n",
       "        vertical-align: top;\n",
       "    }\n",
       "\n",
       "    .dataframe thead th {\n",
       "        text-align: right;\n",
       "    }\n",
       "</style>\n",
       "<table border=\"1\" class=\"dataframe\">\n",
       "  <thead>\n",
       "    <tr style=\"text-align: right;\">\n",
       "      <th></th>\n",
       "      <th>sa2_code</th>\n",
       "      <th>median_age_of_earners_years</th>\n",
       "      <th>median_aud</th>\n",
       "      <th>gini_coefficient_coef</th>\n",
       "    </tr>\n",
       "  </thead>\n",
       "  <tbody>\n",
       "    <tr>\n",
       "      <th>2283</th>\n",
       "      <td>801101137</td>\n",
       "      <td>NaN</td>\n",
       "      <td>NaN</td>\n",
       "      <td>NaN</td>\n",
       "    </tr>\n",
       "    <tr>\n",
       "      <th>2284</th>\n",
       "      <td>801101138</td>\n",
       "      <td>NaN</td>\n",
       "      <td>NaN</td>\n",
       "      <td>NaN</td>\n",
       "    </tr>\n",
       "    <tr>\n",
       "      <th>2285</th>\n",
       "      <td>801101139</td>\n",
       "      <td>34.0</td>\n",
       "      <td>76754.0</td>\n",
       "      <td>0.342</td>\n",
       "    </tr>\n",
       "    <tr>\n",
       "      <th>2286</th>\n",
       "      <td>801111140</td>\n",
       "      <td>39.0</td>\n",
       "      <td>61096.0</td>\n",
       "      <td>0.404</td>\n",
       "    </tr>\n",
       "    <tr>\n",
       "      <th>2287</th>\n",
       "      <td>801111141</td>\n",
       "      <td>28.0</td>\n",
       "      <td>58498.0</td>\n",
       "      <td>NaN</td>\n",
       "    </tr>\n",
       "  </tbody>\n",
       "</table>\n",
       "</div>"
      ],
      "text/plain": [
       "       sa2_code  median_age_of_earners_years  median_aud  \\\n",
       "2283  801101137                          NaN         NaN   \n",
       "2284  801101138                          NaN         NaN   \n",
       "2285  801101139                         34.0     76754.0   \n",
       "2286  801111140                         39.0     61096.0   \n",
       "2287  801111141                         28.0     58498.0   \n",
       "\n",
       "      gini_coefficient_coef  \n",
       "2283                    NaN  \n",
       "2284                    NaN  \n",
       "2285                  0.342  \n",
       "2286                  0.404  \n",
       "2287                    NaN  "
      ]
     },
     "metadata": {},
     "output_type": "display_data"
    }
   ],
   "source": [
    "age_col = ['sa2_main16', 'persons_age_20_24', 'persons_age_25_29', \n",
    "           'persons_age_30_34', 'persons_age_35_39', 'persons_age_40_44', \n",
    "           'persons_age_50_54']\n",
    "income_col = ['sa2_code', 'median_age_of_earners_years', 'median_aud', \n",
    "              'gini_coefficient_coef']\n",
    "\n",
    "display(age[age_col].head())\n",
    "display(income[income_col].tail())"
   ]
  },
  {
   "cell_type": "markdown",
   "id": "e277205e-9ad4-4d1c-981b-9f001153c6b9",
   "metadata": {},
   "source": [
    "Aside from these two datasets, we also selected _postcode to SA2 (from 2011)_, _postcode boundaries (from 2016)_ and _SA2 boundaries (from 2016)_ data. These datasets will be used to translates postcodes in the consumer dataset to SA2, so _income_ and _age population_ data can be joined."
   ]
  },
  {
   "cell_type": "code",
   "execution_count": 8,
   "id": "f6a0f2f0-1cb1-41a5-98cc-530d6c157957",
   "metadata": {},
   "outputs": [],
   "source": [
    "unzip_poa_sa2 = zipfile.ZipFile('../data/abs/poa_sa2_lookup.zip')\n",
    "poa_to_sa2 = pd.read_excel(unzip_poa_sa2\n",
    "                           .open('1270055006_CG_POSTCODE_2011_SA2_2011.xls')\n",
    "                        , sheet_name='Table 3', skiprows=5)\n",
    "poa_to_sa2 = poa_to_sa2.dropna()"
   ]
  },
  {
   "cell_type": "code",
   "execution_count": 9,
   "id": "d36e8641-a3a3-4362-b99b-9c6bd4a93734",
   "metadata": {},
   "outputs": [
    {
     "data": {
      "text/html": [
       "<div>\n",
       "<style scoped>\n",
       "    .dataframe tbody tr th:only-of-type {\n",
       "        vertical-align: middle;\n",
       "    }\n",
       "\n",
       "    .dataframe tbody tr th {\n",
       "        vertical-align: top;\n",
       "    }\n",
       "\n",
       "    .dataframe thead th {\n",
       "        text-align: right;\n",
       "    }\n",
       "</style>\n",
       "<table border=\"1\" class=\"dataframe\">\n",
       "  <thead>\n",
       "    <tr style=\"text-align: right;\">\n",
       "      <th></th>\n",
       "      <th>POSTCODE</th>\n",
       "      <th>POSTCODE.1</th>\n",
       "      <th>SA2_MAINCODE_2011</th>\n",
       "      <th>SA2_NAME_2011</th>\n",
       "      <th>RATIO</th>\n",
       "      <th>PERCENTAGE</th>\n",
       "    </tr>\n",
       "  </thead>\n",
       "  <tbody>\n",
       "    <tr>\n",
       "      <th>1</th>\n",
       "      <td>0800</td>\n",
       "      <td>800.0</td>\n",
       "      <td>701011002.0</td>\n",
       "      <td>Darwin City</td>\n",
       "      <td>1.000000</td>\n",
       "      <td>99.999998</td>\n",
       "    </tr>\n",
       "    <tr>\n",
       "      <th>2</th>\n",
       "      <td>0810</td>\n",
       "      <td>810.0</td>\n",
       "      <td>701021010.0</td>\n",
       "      <td>Alawa</td>\n",
       "      <td>0.071997</td>\n",
       "      <td>7.199707</td>\n",
       "    </tr>\n",
       "    <tr>\n",
       "      <th>3</th>\n",
       "      <td>0810</td>\n",
       "      <td>810.0</td>\n",
       "      <td>701021013.0</td>\n",
       "      <td>Brinkin - Nakara</td>\n",
       "      <td>0.096392</td>\n",
       "      <td>9.639178</td>\n",
       "    </tr>\n",
       "    <tr>\n",
       "      <th>4</th>\n",
       "      <td>0810</td>\n",
       "      <td>810.0</td>\n",
       "      <td>701021016.0</td>\n",
       "      <td>Coconut Grove</td>\n",
       "      <td>0.096494</td>\n",
       "      <td>9.649355</td>\n",
       "    </tr>\n",
       "    <tr>\n",
       "      <th>5</th>\n",
       "      <td>0810</td>\n",
       "      <td>810.0</td>\n",
       "      <td>701021018.0</td>\n",
       "      <td>Jingili</td>\n",
       "      <td>0.061562</td>\n",
       "      <td>6.156198</td>\n",
       "    </tr>\n",
       "  </tbody>\n",
       "</table>\n",
       "</div>"
      ],
      "text/plain": [
       "  POSTCODE  POSTCODE.1  SA2_MAINCODE_2011     SA2_NAME_2011     RATIO  \\\n",
       "1     0800       800.0        701011002.0       Darwin City  1.000000   \n",
       "2     0810       810.0        701021010.0             Alawa  0.071997   \n",
       "3     0810       810.0        701021013.0  Brinkin - Nakara  0.096392   \n",
       "4     0810       810.0        701021016.0     Coconut Grove  0.096494   \n",
       "5     0810       810.0        701021018.0           Jingili  0.061562   \n",
       "\n",
       "   PERCENTAGE  \n",
       "1   99.999998  \n",
       "2    7.199707  \n",
       "3    9.639178  \n",
       "4    9.649355  \n",
       "5    6.156198  "
      ]
     },
     "execution_count": 9,
     "metadata": {},
     "output_type": "execute_result"
    }
   ],
   "source": [
    "poa_to_sa2.head()"
   ]
  },
  {
   "cell_type": "code",
   "execution_count": 7,
   "id": "d59d9629-d703-4889-b75a-455170d463e6",
   "metadata": {},
   "outputs": [],
   "source": [
    "sa2_bound = gpd.read_file(f'../data/abs/sa2_boundaries.gml')\n",
    "poa_bound = gpd.read_file(f'../data/abs/poa_boundaries.gml')"
   ]
  },
  {
   "cell_type": "code",
   "execution_count": 11,
   "id": "30304826-cee2-4fa8-a975-570c8f40ca1d",
   "metadata": {},
   "outputs": [
    {
     "data": {
      "text/html": [
       "<div>\n",
       "<style scoped>\n",
       "    .dataframe tbody tr th:only-of-type {\n",
       "        vertical-align: middle;\n",
       "    }\n",
       "\n",
       "    .dataframe tbody tr th {\n",
       "        vertical-align: top;\n",
       "    }\n",
       "\n",
       "    .dataframe thead th {\n",
       "        text-align: right;\n",
       "    }\n",
       "</style>\n",
       "<table border=\"1\" class=\"dataframe\">\n",
       "  <thead>\n",
       "    <tr style=\"text-align: right;\">\n",
       "      <th></th>\n",
       "      <th>sa2_maincode_2016</th>\n",
       "      <th>geometry</th>\n",
       "    </tr>\n",
       "  </thead>\n",
       "  <tbody>\n",
       "    <tr>\n",
       "      <th>0</th>\n",
       "      <td>101021007</td>\n",
       "      <td>POLYGON ((149.58420 -35.44430, 149.58440 -35.4...</td>\n",
       "    </tr>\n",
       "    <tr>\n",
       "      <th>1</th>\n",
       "      <td>101021008</td>\n",
       "      <td>POLYGON ((149.21900 -35.36740, 149.21800 -35.3...</td>\n",
       "    </tr>\n",
       "    <tr>\n",
       "      <th>2</th>\n",
       "      <td>101031015</td>\n",
       "      <td>POLYGON ((148.60440 -36.13520, 148.60450 -36.1...</td>\n",
       "    </tr>\n",
       "    <tr>\n",
       "      <th>3</th>\n",
       "      <td>101031016</td>\n",
       "      <td>POLYGON ((148.27030 -36.46410, 148.27060 -36.4...</td>\n",
       "    </tr>\n",
       "    <tr>\n",
       "      <th>4</th>\n",
       "      <td>101041017</td>\n",
       "      <td>POLYGON ((150.23540 -35.70390, 150.23530 -35.7...</td>\n",
       "    </tr>\n",
       "  </tbody>\n",
       "</table>\n",
       "</div>"
      ],
      "text/plain": [
       "   sa2_maincode_2016                                           geometry\n",
       "0          101021007  POLYGON ((149.58420 -35.44430, 149.58440 -35.4...\n",
       "1          101021008  POLYGON ((149.21900 -35.36740, 149.21800 -35.3...\n",
       "2          101031015  POLYGON ((148.60440 -36.13520, 148.60450 -36.1...\n",
       "3          101031016  POLYGON ((148.27030 -36.46410, 148.27060 -36.4...\n",
       "4          101041017  POLYGON ((150.23540 -35.70390, 150.23530 -35.7..."
      ]
     },
     "metadata": {},
     "output_type": "display_data"
    },
    {
     "data": {
      "text/html": [
       "<div>\n",
       "<style scoped>\n",
       "    .dataframe tbody tr th:only-of-type {\n",
       "        vertical-align: middle;\n",
       "    }\n",
       "\n",
       "    .dataframe tbody tr th {\n",
       "        vertical-align: top;\n",
       "    }\n",
       "\n",
       "    .dataframe thead th {\n",
       "        text-align: right;\n",
       "    }\n",
       "</style>\n",
       "<table border=\"1\" class=\"dataframe\">\n",
       "  <thead>\n",
       "    <tr style=\"text-align: right;\">\n",
       "      <th></th>\n",
       "      <th>poa_code_2016</th>\n",
       "      <th>geometry</th>\n",
       "    </tr>\n",
       "  </thead>\n",
       "  <tbody>\n",
       "    <tr>\n",
       "      <th>0</th>\n",
       "      <td>800</td>\n",
       "      <td>POLYGON ((130.83450 -12.45800, 130.83390 -12.4...</td>\n",
       "    </tr>\n",
       "    <tr>\n",
       "      <th>1</th>\n",
       "      <td>810</td>\n",
       "      <td>POLYGON ((130.84710 -12.37750, 130.84730 -12.3...</td>\n",
       "    </tr>\n",
       "    <tr>\n",
       "      <th>2</th>\n",
       "      <td>812</td>\n",
       "      <td>POLYGON ((130.89190 -12.36880, 130.89220 -12.3...</td>\n",
       "    </tr>\n",
       "    <tr>\n",
       "      <th>3</th>\n",
       "      <td>815</td>\n",
       "      <td>POLYGON ((130.87240 -12.37650, 130.87230 -12.3...</td>\n",
       "    </tr>\n",
       "    <tr>\n",
       "      <th>4</th>\n",
       "      <td>820</td>\n",
       "      <td>POLYGON ((130.83500 -12.43010, 130.83510 -12.4...</td>\n",
       "    </tr>\n",
       "  </tbody>\n",
       "</table>\n",
       "</div>"
      ],
      "text/plain": [
       "   poa_code_2016                                           geometry\n",
       "0            800  POLYGON ((130.83450 -12.45800, 130.83390 -12.4...\n",
       "1            810  POLYGON ((130.84710 -12.37750, 130.84730 -12.3...\n",
       "2            812  POLYGON ((130.89190 -12.36880, 130.89220 -12.3...\n",
       "3            815  POLYGON ((130.87240 -12.37650, 130.87230 -12.3...\n",
       "4            820  POLYGON ((130.83500 -12.43010, 130.83510 -12.4..."
      ]
     },
     "metadata": {},
     "output_type": "display_data"
    }
   ],
   "source": [
    "display(sa2_bound[['sa2_maincode_2016', 'geometry']].head())\n",
    "display(poa_bound[['poa_code_2016', 'geometry']].head())"
   ]
  },
  {
   "cell_type": "markdown",
   "id": "28d75141-c9e3-495b-a95f-f3c784ff5dd7",
   "metadata": {},
   "source": [
    "---\n",
    "## Preprocess\n",
    "### Postcodes to SA2 codes"
   ]
  },
  {
   "cell_type": "markdown",
   "id": "28281654-2723-4f2a-b1dc-696f68147f80",
   "metadata": {},
   "source": [
    "The preprocess steps begins with translating postcodes to SA2 codes. This step is outlined and performed in `notebook/poa_to_sa2.ipynb`. There are two issues we encounter in this step. First, we found that one postcode may be located in two or more SA2 codes. We solve this issue by taking SA2 where the postcode is being covered the most (highest percentage). Second, we found some postcodes are not assigned to any SA2. We solved this issue by using the 2011 Postcode SA2 list.\n",
    "\n",
    "Here is the final table we use to translate postcode to SA2:"
   ]
  },
  {
   "cell_type": "code",
   "execution_count": 12,
   "id": "f5ffb4a4-09ef-4537-8afc-d1bba462c6e7",
   "metadata": {},
   "outputs": [
    {
     "data": {
      "text/html": [
       "<div>\n",
       "<style scoped>\n",
       "    .dataframe tbody tr th:only-of-type {\n",
       "        vertical-align: middle;\n",
       "    }\n",
       "\n",
       "    .dataframe tbody tr th {\n",
       "        vertical-align: top;\n",
       "    }\n",
       "\n",
       "    .dataframe thead th {\n",
       "        text-align: right;\n",
       "    }\n",
       "</style>\n",
       "<table border=\"1\" class=\"dataframe\">\n",
       "  <thead>\n",
       "    <tr style=\"text-align: right;\">\n",
       "      <th></th>\n",
       "      <th>poa_code_2016</th>\n",
       "      <th>poa_name_2016</th>\n",
       "      <th>sa2_maincode_2016</th>\n",
       "      <th>sa2_name_2016</th>\n",
       "      <th>geometry</th>\n",
       "    </tr>\n",
       "  </thead>\n",
       "  <tbody>\n",
       "    <tr>\n",
       "      <th>0</th>\n",
       "      <td>800</td>\n",
       "      <td>800</td>\n",
       "      <td>701011002.0</td>\n",
       "      <td>Darwin City</td>\n",
       "      <td>POLYGON ((130.83450871037445 -12.4579861192223...</td>\n",
       "    </tr>\n",
       "    <tr>\n",
       "      <th>1</th>\n",
       "      <td>810</td>\n",
       "      <td>810</td>\n",
       "      <td>701021013.0</td>\n",
       "      <td>Brinkin - Nakara</td>\n",
       "      <td>POLYGON ((130.86380870963237 -12.3668861187314...</td>\n",
       "    </tr>\n",
       "    <tr>\n",
       "      <th>2</th>\n",
       "      <td>812</td>\n",
       "      <td>812</td>\n",
       "      <td>701021014.0</td>\n",
       "      <td>Buffalo Creek</td>\n",
       "      <td>POLYGON ((130.9010087079157 -12.36578611897383...</td>\n",
       "    </tr>\n",
       "    <tr>\n",
       "      <th>3</th>\n",
       "      <td>815</td>\n",
       "      <td>815</td>\n",
       "      <td>701021013.0</td>\n",
       "      <td>Brinkin - Nakara</td>\n",
       "      <td>POLYGON ((130.86380870963237 -12.3668861187314...</td>\n",
       "    </tr>\n",
       "    <tr>\n",
       "      <th>4</th>\n",
       "      <td>820</td>\n",
       "      <td>820</td>\n",
       "      <td>701011006.0</td>\n",
       "      <td>Ludmilla - The Narrows</td>\n",
       "      <td>POLYGON ((130.8449087101784 -12.41538611897068...</td>\n",
       "    </tr>\n",
       "  </tbody>\n",
       "</table>\n",
       "</div>"
      ],
      "text/plain": [
       "   poa_code_2016  poa_name_2016  sa2_maincode_2016           sa2_name_2016  \\\n",
       "0            800            800        701011002.0             Darwin City   \n",
       "1            810            810        701021013.0        Brinkin - Nakara   \n",
       "2            812            812        701021014.0           Buffalo Creek   \n",
       "3            815            815        701021013.0        Brinkin - Nakara   \n",
       "4            820            820        701011006.0  Ludmilla - The Narrows   \n",
       "\n",
       "                                            geometry  \n",
       "0  POLYGON ((130.83450871037445 -12.4579861192223...  \n",
       "1  POLYGON ((130.86380870963237 -12.3668861187314...  \n",
       "2  POLYGON ((130.9010087079157 -12.36578611897383...  \n",
       "3  POLYGON ((130.86380870963237 -12.3668861187314...  \n",
       "4  POLYGON ((130.8449087101784 -12.41538611897068...  "
      ]
     },
     "execution_count": 12,
     "metadata": {},
     "output_type": "execute_result"
    }
   ],
   "source": [
    "poa_to_sa2 = pd.read_csv(\"../data/curated/poa_w_sa2.csv\")\n",
    "poa_to_sa2.head()"
   ]
  },
  {
   "cell_type": "markdown",
   "id": "dd160e51-d6bf-4867-8a8b-4598e6d8a262",
   "metadata": {},
   "source": [
    "### ETL\n",
    "Next step in preprocessing, we extract, transform and load (ETL) all dataset and consolidate into one final dataframe that we will use in the following steps. First, this step join merchant/consumer details to the transaction dataset. Then, we notice that we can clean and separate tags into `product_categories`, `revenue_level` and `take_rate`. Third step, we apply the business rules we found on the internet:\n",
    "- BNPL only allow transaction above `$35`\n",
    "- BNPL charge flat administration fee `$0.3` for each transaction\n",
    "The first rule is applied by filtering out transactions with `dollar_value` below 35 dollars. The second rule is applied in addition to our new column, `revenue`:\n",
    "- `revenue` = `take_rate` * `dollar_value` + 0.3\n",
    "\n",
    "The final step in ETL, we discard the columns that we will not use in the next steps. This will help us avoid running into any memory (RAM) issue in the future.\n",
    "\n",
    "This step also split train and test data by taking first 12 months of transaction data as train and the next 6 months as test data. After running `scripts/ETL.py`, the output of the this step will save two transaction files; train and test."
   ]
  },
  {
   "cell_type": "code",
   "execution_count": 13,
   "id": "651dd56c-6060-478c-a9d7-b979760a175e",
   "metadata": {},
   "outputs": [
    {
     "name": "stderr",
     "output_type": "stream",
     "text": [
      "Setting default log level to \"WARN\".\n",
      "To adjust logging level use sc.setLogLevel(newLevel). For SparkR, use setLogLevel(newLevel).\n"
     ]
    },
    {
     "name": "stdout",
     "output_type": "stream",
     "text": [
      "22/10/11 19:24:54 WARN NativeCodeLoader: Unable to load native-hadoop library for your platform... using builtin-java classes where applicable\n"
     ]
    }
   ],
   "source": [
    "# Start Spark Session\n",
    "from pyspark.sql import SparkSession\n",
    "spark = (\n",
    "    SparkSession.builder.appName(\"MAST30034 Project 2 BNPL\")\n",
    "    .config(\"spark.sql.repl.eagerEval.enabled\", True) \n",
    "    .config(\"spark.sql.parquet.cacheMetadata\", \"true\")\n",
    "    .config(\"spark.sql.session.timeZone\", \"Etc/UTC\")\n",
    "    .config(\"spark.driver.memory\", \"4g\")\n",
    "    .config(\"spark.executor.memory\", \"8g\")\n",
    "    .getOrCreate()\n",
    ")"
   ]
  },
  {
   "cell_type": "code",
   "execution_count": 14,
   "id": "40dc8811-6014-44ae-aeaa-b257321200fb",
   "metadata": {},
   "outputs": [
    {
     "name": "stderr",
     "output_type": "stream",
     "text": [
      "                                                                                \r"
     ]
    }
   ],
   "source": [
    "# load data from ETL\n",
    "df_trx_sa2 = spark.read.parquet('../data/curated/df_trx_sa2.parquet')\n",
    "df_trx_sa2_test = spark.read.parquet('../data/curated/df_trx_sa2_test.parquet')"
   ]
  },
  {
   "cell_type": "code",
   "execution_count": 15,
   "id": "21ceb4f3-bdff-46f3-95bd-24055c66c03b",
   "metadata": {},
   "outputs": [
    {
     "name": "stderr",
     "output_type": "stream",
     "text": [
      "                                                                                \r"
     ]
    },
    {
     "data": {
      "text/html": [
       "<table border='1'>\n",
       "<tr><th>merchant_abn</th><th>user_id</th><th>consumer_id</th><th>gender</th><th>dollar_value</th><th>order_id</th><th>order_datetime</th><th>sa2_maincode_2016</th><th>categories</th><th>revenue_level</th><th>take_rate</th><th>revenue</th></tr>\n",
       "<tr><td>79417999332</td><td>10</td><td>1058499</td><td>Female</td><td>50.62647394670802</td><td>30e3f217-9ba4-439...</td><td>2021-08-19</td><td>203021046.0</td><td>gift, card, novel...</td><td>b</td><td>4.95</td><td>2.8060102</td></tr>\n",
       "</table>\n"
      ],
      "text/plain": [
       "+------------+-------+-----------+------+-----------------+--------------------+--------------+-----------------+--------------------+-------------+---------+---------+\n",
       "|merchant_abn|user_id|consumer_id|gender|     dollar_value|            order_id|order_datetime|sa2_maincode_2016|          categories|revenue_level|take_rate|  revenue|\n",
       "+------------+-------+-----------+------+-----------------+--------------------+--------------+-----------------+--------------------+-------------+---------+---------+\n",
       "| 79417999332|     10|    1058499|Female|50.62647394670802|30e3f217-9ba4-439...|    2021-08-19|      203021046.0|gift, card, novel...|            b|     4.95|2.8060102|\n",
       "+------------+-------+-----------+------+-----------------+--------------------+--------------+-----------------+--------------------+-------------+---------+---------+"
      ]
     },
     "metadata": {},
     "output_type": "display_data"
    },
    {
     "data": {
      "text/html": [
       "<table border='1'>\n",
       "<tr><th>merchant_abn</th><th>user_id</th><th>consumer_id</th><th>gender</th><th>dollar_value</th><th>order_id</th><th>order_datetime</th><th>sa2_maincode_2016</th><th>categories</th><th>revenue_level</th><th>take_rate</th><th>revenue</th></tr>\n",
       "<tr><td>82307164889</td><td>5</td><td>712975</td><td>Female</td><td>350.45937268758155</td><td>58548b62-b6a2-420...</td><td>2022-03-19</td><td>509031247.0</td><td>artist supply and...</td><td>a</td><td>6.96</td><td>24.691973</td></tr>\n",
       "</table>\n"
      ],
      "text/plain": [
       "+------------+-------+-----------+------+------------------+--------------------+--------------+-----------------+--------------------+-------------+---------+---------+\n",
       "|merchant_abn|user_id|consumer_id|gender|      dollar_value|            order_id|order_datetime|sa2_maincode_2016|          categories|revenue_level|take_rate|  revenue|\n",
       "+------------+-------+-----------+------+------------------+--------------------+--------------+-----------------+--------------------+-------------+---------+---------+\n",
       "| 82307164889|      5|     712975|Female|350.45937268758155|58548b62-b6a2-420...|    2022-03-19|      509031247.0|artist supply and...|            a|     6.96|24.691973|\n",
       "+------------+-------+-----------+------+------------------+--------------------+--------------+-----------------+--------------------+-------------+---------+---------+"
      ]
     },
     "metadata": {},
     "output_type": "display_data"
    }
   ],
   "source": [
    "display(df_trx_sa2.limit(1))\n",
    "display(df_trx_sa2_test.limit(1))"
   ]
  },
  {
   "cell_type": "markdown",
   "id": "62654dd5-3ad6-4706-8e02-7c5eb1acacd7",
   "metadata": {
    "tags": []
   },
   "source": [
    "### Removing outliers\n",
    "In removing outliers, firstly we checked the initial distribution of revenue.\n",
    "<img src=\"../plots/train_initial_distribution.png\">\n",
    "<img src=\"../plots/test_initial_distribution.png\">"
   ]
  },
  {
   "cell_type": "markdown",
   "id": "81bf8419-82b6-4052-93f8-afe8a60e4f43",
   "metadata": {},
   "source": [
    "We then check the distribution of revenue for each product categories by looking at the quartile range. Here is an example for one category (=music shops - musical instruments, pianos, and sheet music). \n",
    "- 0 Quantile:     0.43227726221084595\n",
    "- 0.1 Quantile:   2.7491043329238893\n",
    "- 0.2 Quantile:   3.7892702102661135\n",
    "- 0.3 Quantile:   4.980803442001343\n",
    "- 0.4 Quantile:   6.308183288574219\n",
    "- 0.5 Quantile:   7.696613311767578\n",
    "- 0.6 Quantile:   9.151762199401855\n",
    "- 0.7 Quantile:   13.548162078857413\n",
    "- 0.8 Quantile:   22.482472229003914\n",
    "- 0.9 Quantile:   41.3664180755615\n",
    "- 0.91 Quantile:  44.23343235015869\n",
    "- 0.92 Quantile:  47.46060867309574\n",
    "- 0.93 Quantile:  51.12157638549806\n",
    "- 0.94 Quantile:  55.17259437561035\n",
    "- 0.95 Quantile:  60.2568155288696\n",
    "- 0.96 Quantile:  65.95178344726574\n",
    "- 0.97 Quantile:  73.02463157653838\n",
    "- 0.98 Quantile:  84.09613769531268\n",
    "- 0.99 Quantile:  103.42505798339911\n",
    "- 1.0 Quantile:   `341.98474121001163`\n",
    "It is evident here that there is a huge gap between 0.99 quantile to the 1.00 quantile (max value). This trend is also visible in other product categories. Therefore, for each categories we only take transactions with revenue less than or equal to the 0.99 quantile of each category. Here is the plot of one category's revenue distribution plot before and after outliers removed.\n",
    "<img src=\"../plots/3_before_distribution.png\">\n",
    "<img src=\"../plots/3_after_distribution.png\">"
   ]
  },
  {
   "cell_type": "markdown",
   "id": "502e5dbe-a227-47ae-b72c-b9c979ab8a65",
   "metadata": {},
   "source": [
    "    - Train dataframe size before: 4368706\n",
    "    - Test dataframe size before: 2361542\n",
    "\n",
    "    - Train dataframe size after: 4325008\n",
    "    - Test dataframe size after: 2337914"
   ]
  },
  {
   "cell_type": "markdown",
   "id": "8fe9b590-f6a3-483a-a8d5-73aef65c9fb8",
   "metadata": {},
   "source": [
    "This step is performed under `notebooks/outlier_detection_removal.ipynb`. This notebook save two dataframes; train and test."
   ]
  },
  {
   "cell_type": "code",
   "execution_count": null,
   "id": "a148ad10-9716-4f58-858f-432b97297a09",
   "metadata": {},
   "outputs": [],
   "source": []
  }
 ],
 "metadata": {
  "kernelspec": {
   "display_name": "Python 3 (ipykernel)",
   "language": "python",
   "name": "python3"
  },
  "language_info": {
   "codemirror_mode": {
    "name": "ipython",
    "version": 3
   },
   "file_extension": ".py",
   "mimetype": "text/x-python",
   "name": "python",
   "nbconvert_exporter": "python",
   "pygments_lexer": "ipython3",
   "version": "3.9.7"
  }
 },
 "nbformat": 4,
 "nbformat_minor": 5
}
