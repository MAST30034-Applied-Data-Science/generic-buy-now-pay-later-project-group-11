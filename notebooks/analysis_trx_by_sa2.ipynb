{
 "cells": [
  {
   "cell_type": "markdown",
   "id": "dfce5719-aa5e-4daf-9d4c-8ade9254bed6",
   "metadata": {},
   "source": [
    "### Analyse Transaction by SA2\n",
    "1. Merge SA2 to transaction by postcode\n",
    "2. Check how many unique SA2\n",
    "3. Check for null SA2 values\n",
    "4. Per SA2 aggregate: total_population, median age, the transaction average dollar amount (AOV), transaction frequency, and the number of unique customers, use BPNL % (num_unique_cust/total_population), use BPNL by the mode age group % (num_unique_cust/total_population_age_group)\n",
    "5. groupby month/weeknum over transaction freq/gmv/profit, visualize"
   ]
  },
  {
   "cell_type": "code",
   "execution_count": 139,
   "id": "b71fc43b-3888-42c8-af7d-6b866dbb5abd",
   "metadata": {},
   "outputs": [],
   "source": [
    "import pandas as pd\n",
    "import numpy as np\n",
    "import seaborn as sns\n",
    "import geopandas as gpd\n",
    "from datetime import datetime\n",
    "import matplotlib.pyplot as plt\n",
    "%matplotlib inline\n",
    "\n",
    "import geopandas as gpd\n",
    "import folium\n",
    "from pyspark.sql import SparkSession, Window, functions as F\n",
    "from pyspark.sql.functions import countDistinct, col, date_format\n",
    "import numpy as np\n",
    "import pyspark.sql.functions as func\n",
    "from pyspark.sql.types import (\n",
    "    StringType,\n",
    "    LongType,\n",
    "    DoubleType,\n",
    "    StructField,\n",
    "    StructType,\n",
    "    FloatType\n",
    ")\n",
    "\n",
    "import warnings\n",
    "warnings.filterwarnings(\"ignore\")"
   ]
  },
  {
   "cell_type": "code",
   "execution_count": 2,
   "id": "f70d8181-c311-4dd8-90ba-36602176a36c",
   "metadata": {},
   "outputs": [
    {
     "name": "stderr",
     "output_type": "stream",
     "text": [
      "Setting default log level to \"WARN\".\n",
      "To adjust logging level use sc.setLogLevel(newLevel). For SparkR, use setLogLevel(newLevel).\n"
     ]
    },
    {
     "name": "stdout",
     "output_type": "stream",
     "text": [
      "22/09/07 20:44:38 WARN NativeCodeLoader: Unable to load native-hadoop library for your platform... using builtin-java classes where applicable\n"
     ]
    }
   ],
   "source": [
    "# Start Spark Session\n",
    "from pyspark.sql import SparkSession\n",
    "spark = (\n",
    "    SparkSession.builder.appName(\"MAST30034 Project 2 BNPL\")\n",
    "    .config(\"spark.sql.repl.eagerEval.enabled\", True) \n",
    "    .config(\"spark.sql.parquet.cacheMetadata\", \"true\")\n",
    "    .config(\"spark.sql.session.timeZone\", \"Etc/UTC\")\n",
    "    .config(\"spark.driver.memory\", \"4g\")\n",
    "    .config(\"spark.executor.memory\", \"8g\")\n",
    "    .getOrCreate()\n",
    ")"
   ]
  },
  {
   "cell_type": "code",
   "execution_count": 3,
   "id": "77caf39d-799e-4ef8-b9b5-120db7649202",
   "metadata": {},
   "outputs": [],
   "source": [
    "# load BNPL dataset\n",
    "consumer = spark.read.csv(\"../data/tables/tbl_consumer.csv\", header=True, sep=\"|\")\n",
    "details = spark.read.parquet(\"../data/tables/consumer_user_details.parquet\")\n",
    "merchants = spark.read.parquet(\"../data/tables/tbl_merchants.parquet\")"
   ]
  },
  {
   "cell_type": "code",
   "execution_count": 4,
   "id": "659724b7-751e-4439-9933-f8e08160db7e",
   "metadata": {},
   "outputs": [
    {
     "name": "stderr",
     "output_type": "stream",
     "text": [
      "                                                                                \r"
     ]
    },
    {
     "name": "stdout",
     "output_type": "stream",
     "text": [
      "added transactions_20210228_20210827_snapshot\n"
     ]
    },
    {
     "name": "stderr",
     "output_type": "stream",
     "text": [
      "                                                                                \r"
     ]
    },
    {
     "name": "stdout",
     "output_type": "stream",
     "text": [
      "added transactions_20210828_20220227_snapshot\n"
     ]
    }
   ],
   "source": [
    "# load all transactions datasets\n",
    "paths=['../data/tables/transactions_20210228_20210827_snapshot',\n",
    "       '../data/tables/transactions_20210828_20220227_snapshot']\n",
    "\n",
    "first = 1\n",
    "for path in paths:\n",
    "    if first:\n",
    "        transactions = spark.read.parquet(path)\n",
    "        print(f'added {path.split(\"/\")[3]}')\n",
    "        first = 0\n",
    "    else:\n",
    "        append_transactions = spark.read.parquet(path)\n",
    "        transactions = transactions.union(append_transactions)\n",
    "        print(f'added {path.split(\"/\")[3]}')"
   ]
  },
  {
   "cell_type": "code",
   "execution_count": 5,
   "id": "2bf7f91f-fdbd-49fe-a2ff-4b3adcef5260",
   "metadata": {},
   "outputs": [],
   "source": [
    "# load poa_to_sa2 dataset\n",
    "poa_to_sa2 = spark.read.csv(\"../data/curated/poa_w_sa2.csv\", header=True)"
   ]
  },
  {
   "cell_type": "code",
   "execution_count": 6,
   "id": "d307578c-71b9-4102-9aaf-e8cea0874d68",
   "metadata": {},
   "outputs": [
    {
     "name": "stdout",
     "output_type": "stream",
     "text": [
      "root\n",
      " |-- user_id: long (nullable = true)\n",
      " |-- merchant_abn: long (nullable = true)\n",
      " |-- dollar_value: double (nullable = true)\n",
      " |-- order_id: string (nullable = true)\n",
      " |-- order_datetime: date (nullable = true)\n",
      "\n"
     ]
    }
   ],
   "source": [
    "transactions.printSchema()"
   ]
  },
  {
   "cell_type": "code",
   "execution_count": 7,
   "id": "150bf2ae-addd-49a3-a767-cf14264079ab",
   "metadata": {},
   "outputs": [
    {
     "name": "stderr",
     "output_type": "stream",
     "text": [
      "                                                                                \r"
     ]
    },
    {
     "name": "stdout",
     "output_type": "stream",
     "text": [
      "+-------------------+\n",
      "|max(order_datetime)|\n",
      "+-------------------+\n",
      "|         2022-02-27|\n",
      "+-------------------+\n",
      "\n"
     ]
    },
    {
     "name": "stderr",
     "output_type": "stream",
     "text": [
      "[Stage 11:==============================>                          (8 + 4) / 15]\r"
     ]
    },
    {
     "name": "stdout",
     "output_type": "stream",
     "text": [
      "+-------------------+\n",
      "|min(order_datetime)|\n",
      "+-------------------+\n",
      "|         2021-02-28|\n",
      "+-------------------+\n",
      "\n"
     ]
    },
    {
     "name": "stderr",
     "output_type": "stream",
     "text": [
      "                                                                                \r"
     ]
    }
   ],
   "source": [
    "transactions.agg({'order_datetime': 'max'}).show()\n",
    "transactions.agg({'order_datetime': 'min'}).show()"
   ]
  },
  {
   "cell_type": "code",
   "execution_count": 8,
   "id": "e43775f0-3eea-4787-8c0d-e211c1c71f6a",
   "metadata": {},
   "outputs": [],
   "source": [
    "# rename columns\n",
    "merchants = merchants.withColumnRenamed('name', 'merchant_name')\n",
    "consumer = consumer.withColumnRenamed('name', 'consumer_name')\n"
   ]
  },
  {
   "cell_type": "markdown",
   "id": "1c6b7c8a-b23e-45f0-8745-cf307b85dcbf",
   "metadata": {},
   "source": [
    "---\n",
    "#### 1. Merge SA2 to transaction by postcode"
   ]
  },
  {
   "cell_type": "code",
   "execution_count": 9,
   "id": "2dbbfd14-868f-4438-8025-9ec0f78beaa3",
   "metadata": {},
   "outputs": [],
   "source": [
    "# Join consumers with their respective details\n",
    "consumer_detail = consumer.join(details, on=\"consumer_id\")\n",
    "\n",
    "# Join consumers with their respective transactions\n",
    "consumer_trx = consumer_detail.join(transactions, on=\"user_id\")\n",
    "\n",
    "# Join transactions with the respective merchants\n",
    "df_trx = consumer_trx.join(merchants, on=\"merchant_abn\")"
   ]
  },
  {
   "cell_type": "code",
   "execution_count": 10,
   "id": "04bd350b-3e62-4849-8b4a-8a4fe42698a5",
   "metadata": {
    "tags": []
   },
   "outputs": [
    {
     "name": "stderr",
     "output_type": "stream",
     "text": [
      "[Stage 17:===========================================>              (3 + 1) / 4]\r"
     ]
    },
    {
     "name": "stdout",
     "output_type": "stream",
     "text": [
      "-RECORD 0------------------------------\n",
      " merchant_abn   | 33064796871          \n",
      " user_id        | 7                    \n",
      " consumer_id    | 511685               \n",
      " consumer_name  | Andrea Jones         \n",
      " address        | 122 Brandon Cliff    \n",
      " state          | QLD                  \n",
      " postcode       | 4606                 \n",
      " gender         | Female               \n",
      " dollar_value   | 373.0873675184212    \n",
      " order_id       | fe188788-b89f-4dd... \n",
      " order_datetime | 2021-08-20           \n",
      " merchant_name  | Curabitur Massa C... \n",
      " tags           | ((computer progra... \n",
      "-RECORD 1------------------------------\n",
      " merchant_abn   | 68435002949          \n",
      " user_id        | 7                    \n",
      " consumer_id    | 511685               \n",
      " consumer_name  | Andrea Jones         \n",
      " address        | 122 Brandon Cliff    \n",
      " state          | QLD                  \n",
      " postcode       | 4606                 \n",
      " gender         | Female               \n",
      " dollar_value   | 232.5364986739752    \n",
      " order_id       | b4a89891-a113-45e... \n",
      " order_datetime | 2021-08-20           \n",
      " merchant_name  | Aliquam Eu Inc.      \n",
      " tags           | [(artist supply a... \n",
      "-RECORD 2------------------------------\n",
      " merchant_abn   | 41944909975          \n",
      " user_id        | 7                    \n",
      " consumer_id    | 511685               \n",
      " consumer_name  | Andrea Jones         \n",
      " address        | 122 Brandon Cliff    \n",
      " state          | QLD                  \n",
      " postcode       | 4606                 \n",
      " gender         | Female               \n",
      " dollar_value   | 30.910755230234322   \n",
      " order_id       | 302ae628-8eba-4a5... \n",
      " order_datetime | 2021-08-20           \n",
      " merchant_name  | Et Nunc Consulting   \n",
      " tags           | ([books, periodic... \n",
      "-RECORD 3------------------------------\n",
      " merchant_abn   | 21439773999          \n",
      " user_id        | 7                    \n",
      " consumer_id    | 511685               \n",
      " consumer_name  | Andrea Jones         \n",
      " address        | 122 Brandon Cliff    \n",
      " state          | QLD                  \n",
      " postcode       | 4606                 \n",
      " gender         | Female               \n",
      " dollar_value   | 91.18655746114226    \n",
      " order_id       | 4524fdc9-73f0-477... \n",
      " order_datetime | 2021-08-21           \n",
      " merchant_name  | Mauris Non Institute \n",
      " tags           | ([cable, satellit... \n",
      "-RECORD 4------------------------------\n",
      " merchant_abn   | 86662713230          \n",
      " user_id        | 7                    \n",
      " consumer_id    | 511685               \n",
      " consumer_name  | Andrea Jones         \n",
      " address        | 122 Brandon Cliff    \n",
      " state          | QLD                  \n",
      " postcode       | 4606                 \n",
      " gender         | Female               \n",
      " dollar_value   | 38.8137172956379     \n",
      " order_id       | 28f9e0f3-858d-445... \n",
      " order_datetime | 2021-08-19           \n",
      " merchant_name  | Vestibulum Accums... \n",
      " tags           | [[watch, clock, a... \n",
      "only showing top 5 rows\n",
      "\n"
     ]
    },
    {
     "name": "stderr",
     "output_type": "stream",
     "text": [
      "                                                                                \r"
     ]
    }
   ],
   "source": [
    "df_trx.show(5, vertical=True)"
   ]
  },
  {
   "cell_type": "code",
   "execution_count": 11,
   "id": "ca8b9d32-f3f4-4fb7-90d2-8f6745266b6e",
   "metadata": {},
   "outputs": [
    {
     "name": "stdout",
     "output_type": "stream",
     "text": [
      "root\n",
      " |-- merchant_abn: long (nullable = true)\n",
      " |-- user_id: long (nullable = true)\n",
      " |-- consumer_id: string (nullable = true)\n",
      " |-- consumer_name: string (nullable = true)\n",
      " |-- address: string (nullable = true)\n",
      " |-- state: string (nullable = true)\n",
      " |-- postcode: string (nullable = true)\n",
      " |-- gender: string (nullable = true)\n",
      " |-- dollar_value: double (nullable = true)\n",
      " |-- order_id: string (nullable = true)\n",
      " |-- order_datetime: date (nullable = true)\n",
      " |-- merchant_name: string (nullable = true)\n",
      " |-- tags: string (nullable = true)\n",
      "\n"
     ]
    }
   ],
   "source": [
    "df_trx.printSchema()"
   ]
  },
  {
   "cell_type": "code",
   "execution_count": 12,
   "id": "f0f9db6a-20d9-4467-ab4c-d90c6117a29a",
   "metadata": {},
   "outputs": [
    {
     "name": "stdout",
     "output_type": "stream",
     "text": [
      "-RECORD 0---------------------------------\n",
      " poa_code_2016     | 800                  \n",
      " poa_name_2016     | 0800                 \n",
      " sa2_maincode_2016 | 701011002.0          \n",
      " sa2_name_2016     | Darwin City          \n",
      " geometry          | POLYGON ((130.834... \n",
      "-RECORD 1---------------------------------\n",
      " poa_code_2016     | 810                  \n",
      " poa_name_2016     | 0810                 \n",
      " sa2_maincode_2016 | 701021013.0          \n",
      " sa2_name_2016     | Brinkin - Nakara     \n",
      " geometry          | POLYGON ((130.863... \n",
      "-RECORD 2---------------------------------\n",
      " poa_code_2016     | 812                  \n",
      " poa_name_2016     | 0812                 \n",
      " sa2_maincode_2016 | 701021014.0          \n",
      " sa2_name_2016     | Buffalo Creek        \n",
      " geometry          | POLYGON ((130.901... \n",
      "-RECORD 3---------------------------------\n",
      " poa_code_2016     | 815                  \n",
      " poa_name_2016     | 0815                 \n",
      " sa2_maincode_2016 | 701021013.0          \n",
      " sa2_name_2016     | Brinkin - Nakara     \n",
      " geometry          | POLYGON ((130.863... \n",
      "-RECORD 4---------------------------------\n",
      " poa_code_2016     | 820                  \n",
      " poa_name_2016     | 0820                 \n",
      " sa2_maincode_2016 | 701011006.0          \n",
      " sa2_name_2016     | Ludmilla - The Na... \n",
      " geometry          | POLYGON ((130.844... \n",
      "only showing top 5 rows\n",
      "\n"
     ]
    }
   ],
   "source": [
    "poa_to_sa2.show(5, vertical=True)"
   ]
  },
  {
   "cell_type": "code",
   "execution_count": 13,
   "id": "2c2604c8-4e1c-45d2-b915-5f566311c485",
   "metadata": {},
   "outputs": [],
   "source": [
    "# translate postcodes in transaction to sa2 codes\n",
    "sa2_cols = ['poa_name_2016', 'sa2_maincode_2016', 'sa2_name_2016', 'geometry']\n",
    "df_trx_sa2 = (df_trx \\\n",
    "                .join(poa_to_sa2[sa2_cols], \n",
    "                     on=[df_trx['postcode'] == poa_to_sa2['poa_name_2016']],\n",
    "                     how='inner')\n",
    "                .drop('poa_name_2016')\n",
    "             )"
   ]
  },
  {
   "cell_type": "markdown",
   "id": "6fb50a7d-5350-47e2-8c8c-fa3a21200a73",
   "metadata": {},
   "source": [
    "---\n",
    "#### 2. Check how many unique SA2"
   ]
  },
  {
   "cell_type": "code",
   "execution_count": 14,
   "id": "ae527de5-c447-4bb8-b751-3a08bd60fa0c",
   "metadata": {},
   "outputs": [
    {
     "name": "stderr",
     "output_type": "stream",
     "text": [
      "                                                                                \r"
     ]
    },
    {
     "data": {
      "text/plain": [
       "1314"
      ]
     },
     "execution_count": 14,
     "metadata": {},
     "output_type": "execute_result"
    }
   ],
   "source": [
    "df_trx_sa2.select('sa2_maincode_2016').distinct().count()"
   ]
  },
  {
   "cell_type": "code",
   "execution_count": 15,
   "id": "b49e78df-5638-4d1a-a798-17b482af5907",
   "metadata": {},
   "outputs": [
    {
     "name": "stdout",
     "output_type": "stream",
     "text": [
      "root\n",
      " |-- merchant_abn: long (nullable = true)\n",
      " |-- user_id: long (nullable = true)\n",
      " |-- consumer_id: string (nullable = true)\n",
      " |-- consumer_name: string (nullable = true)\n",
      " |-- address: string (nullable = true)\n",
      " |-- state: string (nullable = true)\n",
      " |-- postcode: string (nullable = true)\n",
      " |-- gender: string (nullable = true)\n",
      " |-- dollar_value: double (nullable = true)\n",
      " |-- order_id: string (nullable = true)\n",
      " |-- order_datetime: date (nullable = true)\n",
      " |-- merchant_name: string (nullable = true)\n",
      " |-- tags: string (nullable = true)\n",
      " |-- sa2_maincode_2016: string (nullable = true)\n",
      " |-- sa2_name_2016: string (nullable = true)\n",
      " |-- geometry: string (nullable = true)\n",
      "\n"
     ]
    }
   ],
   "source": [
    "df_trx_sa2.printSchema()"
   ]
  },
  {
   "cell_type": "markdown",
   "id": "87ee4a54-083f-4774-845d-69e91f215d2a",
   "metadata": {},
   "source": [
    "---\n",
    "#### 3. Check for null in SA2 values"
   ]
  },
  {
   "cell_type": "code",
   "execution_count": 16,
   "id": "f1cb6ce0-afac-435e-b80c-4417417ca831",
   "metadata": {},
   "outputs": [
    {
     "name": "stderr",
     "output_type": "stream",
     "text": [
      "                                                                                \r"
     ]
    },
    {
     "data": {
      "text/plain": [
       "{'merchant_abn': 0,\n",
       " 'user_id': 0,\n",
       " 'consumer_id': 0,\n",
       " 'consumer_name': 0,\n",
       " 'address': 0,\n",
       " 'state': 0,\n",
       " 'postcode': 0,\n",
       " 'gender': 0,\n",
       " 'dollar_value': 0,\n",
       " 'order_id': 0,\n",
       " 'order_datetime': 0,\n",
       " 'merchant_name': 0,\n",
       " 'tags': 0,\n",
       " 'sa2_maincode_2016': 0,\n",
       " 'sa2_name_2016': 0,\n",
       " 'geometry': 12090}"
      ]
     },
     "execution_count": 16,
     "metadata": {},
     "output_type": "execute_result"
    }
   ],
   "source": [
    "dict_null = {col:df_trx_sa2.filter(df_trx_sa2[col].isNull()).count() \n",
    "             for col in df_trx_sa2.columns}\n",
    "dict_null"
   ]
  },
  {
   "cell_type": "markdown",
   "id": "345ce84d-cfc7-440f-9d81-8a7422cf19a6",
   "metadata": {},
   "source": [
    "### 4. Analyse by State (monthly):\n",
    "- by Total Dollar Value, \n",
    "- Active Merchants, \n",
    "- Active Consumers,\n",
    "- AOV (overall, male vs female), \n",
    "- BNPL user % (num_unique_cust/total_population_over_18)\n"
   ]
  },
  {
   "cell_type": "code",
   "execution_count": 19,
   "id": "35f14325-d114-4daa-a1e1-1496ac429480",
   "metadata": {},
   "outputs": [
    {
     "name": "stderr",
     "output_type": "stream",
     "text": [
      "[Stage 176:===================================>                     (5 + 3) / 8]\r"
     ]
    },
    {
     "name": "stdout",
     "output_type": "stream",
     "text": [
      "-RECORD 0---------------------------------\n",
      " merchant_abn      | 23661821077          \n",
      " user_id           | 13882                \n",
      " consumer_id       | 151968               \n",
      " consumer_name     | Scott Dean           \n",
      " address           | 09010 Brandi Prairie \n",
      " state             | NSW                  \n",
      " postcode          | 2016                 \n",
      " gender            | Male                 \n",
      " dollar_value      | 51.527409870273424   \n",
      " order_id          | f20fdc13-9500-483... \n",
      " order_datetime    | 2021-08-19           \n",
      " merchant_name     | Suspendisse Eleif... \n",
      " tags              | ((computer progra... \n",
      " sa2_maincode_2016 | 117031335.0          \n",
      " sa2_name_2016     | Redfern - Chippen... \n",
      " geometry          | POLYGON ((151.196... \n",
      "-RECORD 1---------------------------------\n",
      " merchant_abn      | 88202878932          \n",
      " user_id           | 13882                \n",
      " consumer_id       | 151968               \n",
      " consumer_name     | Scott Dean           \n",
      " address           | 09010 Brandi Prairie \n",
      " state             | NSW                  \n",
      " postcode          | 2016                 \n",
      " gender            | Male                 \n",
      " dollar_value      | 90.92173922851352    \n",
      " order_id          | 36d57e18-6402-44e... \n",
      " order_datetime    | 2021-08-14           \n",
      " merchant_name     | Tellus Id Limited    \n",
      " tags              | ((gift, card, nov... \n",
      " sa2_maincode_2016 | 117031335.0          \n",
      " sa2_name_2016     | Redfern - Chippen... \n",
      " geometry          | POLYGON ((151.196... \n",
      "-RECORD 2---------------------------------\n",
      " merchant_abn      | 11439466003          \n",
      " user_id           | 13882                \n",
      " consumer_id       | 151968               \n",
      " consumer_name     | Scott Dean           \n",
      " address           | 09010 Brandi Prairie \n",
      " state             | NSW                  \n",
      " postcode          | 2016                 \n",
      " gender            | Male                 \n",
      " dollar_value      | 12.139515327904407   \n",
      " order_id          | b92c9327-8873-460... \n",
      " order_datetime    | 2021-08-14           \n",
      " merchant_name     | Blandit At LLC       \n",
      " tags              | [[shoe shops], [a... \n",
      " sa2_maincode_2016 | 117031335.0          \n",
      " sa2_name_2016     | Redfern - Chippen... \n",
      " geometry          | POLYGON ((151.196... \n",
      "-RECORD 3---------------------------------\n",
      " merchant_abn      | 46987545043          \n",
      " user_id           | 13882                \n",
      " consumer_id       | 151968               \n",
      " consumer_name     | Scott Dean           \n",
      " address           | 09010 Brandi Prairie \n",
      " state             | NSW                  \n",
      " postcode          | 2016                 \n",
      " gender            | Male                 \n",
      " dollar_value      | 69.43691754899224    \n",
      " order_id          | c44a4858-63a2-424... \n",
      " order_datetime    | 2021-08-16           \n",
      " merchant_name     | Lobortis Nisi Nib... \n",
      " tags              | [[cable, satellit... \n",
      " sa2_maincode_2016 | 117031335.0          \n",
      " sa2_name_2016     | Redfern - Chippen... \n",
      " geometry          | POLYGON ((151.196... \n",
      "-RECORD 4---------------------------------\n",
      " merchant_abn      | 96334476428          \n",
      " user_id           | 13882                \n",
      " consumer_id       | 151968               \n",
      " consumer_name     | Scott Dean           \n",
      " address           | 09010 Brandi Prairie \n",
      " state             | NSW                  \n",
      " postcode          | 2016                 \n",
      " gender            | Male                 \n",
      " dollar_value      | 82.67685821098736    \n",
      " order_id          | e0a4ef72-c10c-474... \n",
      " order_datetime    | 2021-08-16           \n",
      " merchant_name     | Sed Est Ltd          \n",
      " tags              | [(bicycle shops -... \n",
      " sa2_maincode_2016 | 117031335.0          \n",
      " sa2_name_2016     | Redfern - Chippen... \n",
      " geometry          | POLYGON ((151.196... \n",
      "only showing top 5 rows\n",
      "\n"
     ]
    },
    {
     "name": "stderr",
     "output_type": "stream",
     "text": [
      "                                                                                \r"
     ]
    }
   ],
   "source": [
    "df_trx_sa2.show(5, vertical=True)"
   ]
  },
  {
   "cell_type": "code",
   "execution_count": 68,
   "id": "b1ef3225-90e8-4a33-a172-f05883b2bff9",
   "metadata": {},
   "outputs": [],
   "source": [
    "df_trx_sa2 = df_trx_sa2.withColumn(\"order_month\", \n",
    "                     date_format(col(\"order_datetime\"), \"M\").cast('INT'))\n",
    "\n",
    "df_trx_sa2 = df_trx_sa2.withColumn(\"order_year\", \n",
    "                     date_format(col(\"order_datetime\"), \"y\").cast('INT'))\n"
   ]
  },
  {
   "cell_type": "code",
   "execution_count": 81,
   "id": "97524a94-2950-4e40-a72b-9c098e21702a",
   "metadata": {},
   "outputs": [],
   "source": [
    "state_trx = (df_trx_sa2.groupby(['state', 'order_year', 'order_month'])\n",
    "             .agg({'order_id':'count', 'dollar_value':'sum'})\n",
    "             .sort(['state', 'order_year', 'order_month']))\n",
    "unique_cons = (df_trx_sa2.groupby(['state', 'order_year', 'order_month'])\n",
    "               .agg(countDistinct('consumer_id'))\n",
    "               .sort(['state', 'order_year', 'order_month']))\n",
    "unique_merc = (df_trx_sa2.groupby(['state', 'order_year', 'order_month'])\n",
    "               .agg(countDistinct('merchant_abn'))\n",
    "               .sort(['state', 'order_year', 'order_month']))\n",
    "\n",
    "def join_agg(sdf1, sdf2):\n",
    "    '''\n",
    "        take two dataframes and join the two dataframes\n",
    "    '''\n",
    "    sdf1 = (sdf1.alias(\"a\") \\\n",
    "               .join(sdf2, \n",
    "                     on=['state', 'order_year', 'order_month'], \n",
    "                     how='inner')\n",
    "           )\n",
    "    return sdf1\n",
    "state_trx = join_agg(state_trx, unique_cons)\n",
    "state_trx = join_agg(state_trx, unique_merc)\n",
    "    \n",
    "# renaming a few columns\n",
    "field_name_change = {\"sum(dollar_value)\": \"total_dollar_value\", \n",
    "                     \"count(order_id)\": \"transaction_freq\",\n",
    "                     \"count(consumer_id)\": \"n_unique_consumer\",\n",
    "                     \"count(merchant_abn)\": \"n_unique_merchant\"}\n",
    "for old, new in field_name_change.items():\n",
    "    state_trx = state_trx.withColumnRenamed(old, new)\n",
    "\n",
    "cols = ['state', 'order_year', 'order_month', 'n_unique_consumer', \n",
    "        'transaction_freq', 'total_dollar_value', 'n_unique_merchant']\n",
    "state_trx = state_trx[cols].sort(['state', 'order_year', 'order_month'])\n",
    "\n",
    "state_trx = (state_trx.\n",
    "             withColumn('avg_sales_per_consumer', \n",
    "                        col(\"total_dollar_value\") / col(\"n_unique_consumer\")))\n",
    "\n",
    "state_trx = (state_trx.\n",
    "             withColumn('avg_sales_per_merchant', \n",
    "                        col(\"total_dollar_value\") / col(\"n_unique_merchant\")))"
   ]
  },
  {
   "cell_type": "code",
   "execution_count": 89,
   "id": "24b6d268-0ee4-4b63-8106-455e308bc10e",
   "metadata": {},
   "outputs": [
    {
     "name": "stderr",
     "output_type": "stream",
     "text": [
      "                                                                                \r"
     ]
    }
   ],
   "source": [
    "state_trx.write.csv('/Users/patrick/Downloads/state_trx.csv')"
   ]
  },
  {
   "cell_type": "code",
   "execution_count": 93,
   "id": "f6089928-6024-4461-88bd-d7701bd9af2a",
   "metadata": {},
   "outputs": [],
   "source": [
    "consumer_trx = (df_trx_sa2.groupby(['consumer_id', 'state', 'postcode', \n",
    "                                    'sa2_maincode_2016'])\n",
    "                 .agg({'order_id':'count', 'dollar_value':'sum'})\n",
    "                 .sort(['consumer_id']))\n",
    "\n",
    "consumer_trx = (consumer_trx.\n",
    "             withColumn('aov_consumer', \n",
    "                        col(\"sum(dollar_value)\") / col(\"count(order_id)\")))"
   ]
  },
  {
   "cell_type": "code",
   "execution_count": 96,
   "id": "e4231b00-a65d-4b10-88e9-0f38d170a78e",
   "metadata": {},
   "outputs": [
    {
     "name": "stderr",
     "output_type": "stream",
     "text": [
      "                                                                                \r"
     ]
    },
    {
     "data": {
      "text/html": [
       "<table border='1'>\n",
       "<tr><th>state</th><th>avg(aov_consumer)</th></tr>\n",
       "<tr><td>ACT</td><td>158.7767030922387</td></tr>\n",
       "<tr><td>SA</td><td>158.38187416774943</td></tr>\n",
       "<tr><td>TAS</td><td>159.05346106470913</td></tr>\n",
       "<tr><td>WA</td><td>158.93517295210245</td></tr>\n",
       "<tr><td>QLD</td><td>158.97512088335768</td></tr>\n",
       "<tr><td>VIC</td><td>158.1636956303271</td></tr>\n",
       "<tr><td>NSW</td><td>158.57322324864256</td></tr>\n",
       "</table>\n"
      ],
      "text/plain": [
       "+-----+------------------+\n",
       "|state| avg(aov_consumer)|\n",
       "+-----+------------------+\n",
       "|  ACT| 158.7767030922387|\n",
       "|   SA|158.38187416774943|\n",
       "|  TAS|159.05346106470913|\n",
       "|   WA|158.93517295210245|\n",
       "|  QLD|158.97512088335768|\n",
       "|  VIC| 158.1636956303271|\n",
       "|  NSW|158.57322324864256|\n",
       "+-----+------------------+"
      ]
     },
     "execution_count": 96,
     "metadata": {},
     "output_type": "execute_result"
    }
   ],
   "source": [
    "# average consumer order value per transaction by state\n",
    "consumer_trx.groupby('state').agg({'aov_consumer':'mean'})"
   ]
  },
  {
   "cell_type": "code",
   "execution_count": 104,
   "id": "cf2bf592-4f90-48ed-b457-0e4cdff51018",
   "metadata": {},
   "outputs": [
    {
     "name": "stderr",
     "output_type": "stream",
     "text": [
      "[Stage 1297:>                                                       (0 + 1) / 1]\r"
     ]
    },
    {
     "name": "stdout",
     "output_type": "stream",
     "text": [
      "+-----+---------+\n",
      "|state|   median|\n",
      "+-----+---------+\n",
      "|  ACT|154.34036|\n",
      "|   SA|153.94508|\n",
      "|  TAS|154.93332|\n",
      "|   WA|155.44766|\n",
      "|  QLD|154.76787|\n",
      "|  VIC|153.99507|\n",
      "|  NSW|154.43105|\n",
      "+-----+---------+\n",
      "\n"
     ]
    },
    {
     "name": "stderr",
     "output_type": "stream",
     "text": [
      "                                                                                \r"
     ]
    }
   ],
   "source": [
    "consumer_trx"
   ]
  },
  {
   "cell_type": "code",
   "execution_count": 105,
   "id": "5a152f92-d68a-4f05-94c2-b14ea9b6c4b0",
   "metadata": {},
   "outputs": [
    {
     "name": "stdout",
     "output_type": "stream",
     "text": [
      "root\n",
      " |-- poa_code_2016: string (nullable = true)\n",
      " |-- poa_name_2016: string (nullable = true)\n",
      " |-- sa2_maincode_2016: string (nullable = true)\n",
      " |-- sa2_name_2016: string (nullable = true)\n",
      " |-- geometry: string (nullable = true)\n",
      "\n"
     ]
    }
   ],
   "source": [
    "poa_to_sa2.printSchema()"
   ]
  },
  {
   "cell_type": "code",
   "execution_count": null,
   "id": "82a369e7-0c1a-4b1e-93eb-1e4adca49223",
   "metadata": {},
   "outputs": [],
   "source": []
  },
  {
   "cell_type": "code",
   "execution_count": null,
   "id": "cadd7bb2-eaed-4bff-943b-3e96b00baadb",
   "metadata": {},
   "outputs": [],
   "source": []
  },
  {
   "cell_type": "code",
   "execution_count": null,
   "id": "8fad4d94-726b-4bf7-8815-03064f828fdd",
   "metadata": {},
   "outputs": [],
   "source": []
  },
  {
   "cell_type": "markdown",
   "id": "271447ed-5ec0-4690-b45a-d4c3a303bf06",
   "metadata": {},
   "source": [
    "---\n",
    "### 5. Geospatial Visualization"
   ]
  },
  {
   "cell_type": "code",
   "execution_count": 109,
   "id": "1d92a902-6350-44c2-9f27-a8686205cec3",
   "metadata": {},
   "outputs": [],
   "source": [
    "poa_to_sa2 = pd.read_csv(\"../data/curated/poa_w_sa2.csv\")"
   ]
  },
  {
   "cell_type": "code",
   "execution_count": 110,
   "id": "d0db0769-e4a8-4bbf-931b-ed9bb175a201",
   "metadata": {},
   "outputs": [
    {
     "name": "stdout",
     "output_type": "stream",
     "text": [
      "<class 'pandas.core.frame.DataFrame'>\n",
      "RangeIndex: 2669 entries, 0 to 2668\n",
      "Data columns (total 5 columns):\n",
      " #   Column             Non-Null Count  Dtype  \n",
      "---  ------             --------------  -----  \n",
      " 0   poa_code_2016      2669 non-null   int64  \n",
      " 1   poa_name_2016      2669 non-null   int64  \n",
      " 2   sa2_maincode_2016  2669 non-null   float64\n",
      " 3   sa2_name_2016      2669 non-null   object \n",
      " 4   geometry           2664 non-null   object \n",
      "dtypes: float64(1), int64(2), object(2)\n",
      "memory usage: 104.4+ KB\n"
     ]
    }
   ],
   "source": [
    "poa_to_sa2.info()"
   ]
  },
  {
   "cell_type": "code",
   "execution_count": 124,
   "id": "2ba6c0a5-bad1-44bb-bda6-b91a9a843379",
   "metadata": {},
   "outputs": [],
   "source": [
    "sa2_trx = (df_trx_sa2.groupby(['sa2_maincode_2016', 'order_year', 'order_month'])\n",
    "             .agg({'order_id':'count', 'dollar_value':'sum'})\n",
    "             .sort(['sa2_maincode_2016', 'order_year', 'order_month']))\n",
    "unique_cons = (df_trx_sa2.groupby(['sa2_maincode_2016', 'order_year', 'order_month'])\n",
    "               .agg(countDistinct('consumer_id'))\n",
    "               .sort(['sa2_maincode_2016', 'order_year', 'order_month']))\n",
    "unique_merc = (df_trx_sa2.groupby(['sa2_maincode_2016', 'order_year', 'order_month'])\n",
    "               .agg(countDistinct('merchant_abn'))\n",
    "               .sort(['sa2_maincode_2016', 'order_year', 'order_month']))\n",
    "\n",
    "def join_agg(sdf1, sdf2):\n",
    "    '''\n",
    "        take two dataframes and join the two dataframes\n",
    "    '''\n",
    "    sdf1 = (sdf1.alias(\"a\") \\\n",
    "               .join(sdf2, \n",
    "                     on=['sa2_maincode_2016', 'order_year', 'order_month'], \n",
    "                     how='inner')\n",
    "           )\n",
    "    return sdf1\n",
    "sa2_trx = join_agg(sa2_trx, unique_cons)\n",
    "sa2_trx = join_agg(sa2_trx, unique_merc)\n",
    "    \n",
    "# renaming a few columns\n",
    "field_name_change = {\"sum(dollar_value)\": \"total_dollar_value\", \n",
    "                     \"count(order_id)\": \"transaction_freq\",\n",
    "                     \"count(consumer_id)\": \"n_unique_consumer\",\n",
    "                     \"count(merchant_abn)\": \"n_unique_merchant\"}\n",
    "for old, new in field_name_change.items():\n",
    "    sa2_trx = sa2_trx.withColumnRenamed(old, new)\n",
    "\n",
    "cols = ['sa2_maincode_2016', 'order_year', 'order_month', 'n_unique_consumer', \n",
    "        'transaction_freq', 'total_dollar_value', 'n_unique_merchant']\n",
    "sa2_trx = sa2_trx[cols].sort(['sa2_maincode_2016', 'order_year', 'order_month'])\n",
    "\n",
    "sa2_trx = (sa2_trx.\n",
    "             withColumn('avg_sales_per_consumer', \n",
    "                        col(\"total_dollar_value\") / col(\"n_unique_consumer\")))\n",
    "\n",
    "sa2_trx = (sa2_trx.\n",
    "             withColumn('avg_sales_per_order', \n",
    "                        col(\"total_dollar_value\") / col(\"transaction_freq\")))\n",
    "\n",
    "sa2_trx = (sa2_trx.\n",
    "             withColumn('avg_sales_per_merchant', \n",
    "                        col(\"total_dollar_value\") / col(\"n_unique_merchant\")))\n"
   ]
  },
  {
   "cell_type": "code",
   "execution_count": 114,
   "id": "1d7cede6-f6a2-454f-9521-310adae0185e",
   "metadata": {},
   "outputs": [
    {
     "name": "stderr",
     "output_type": "stream",
     "text": [
      "                                                                                \r"
     ]
    },
    {
     "name": "stdout",
     "output_type": "stream",
     "text": [
      "-RECORD 0------------------------------------\n",
      " sa2_maincode_2016      | 101021007.0        \n",
      " order_year             | 2021               \n",
      " order_month            | 2                  \n",
      " n_unique_consumer      | 4                  \n",
      " transaction_freq       | 6                  \n",
      " total_dollar_value     | 314.02321483179026 \n",
      " n_unique_merchant      | 6                  \n",
      " avg_sales_per_consumer | 78.50580370794756  \n",
      " avg_sales_per_merchant | 52.33720247196504  \n",
      "-RECORD 1------------------------------------\n",
      " sa2_maincode_2016      | 101021007.0        \n",
      " order_year             | 2021               \n",
      " order_month            | 3                  \n",
      " n_unique_consumer      | 9                  \n",
      " transaction_freq       | 218                \n",
      " total_dollar_value     | 29431.817265521724 \n",
      " n_unique_merchant      | 157                \n",
      " avg_sales_per_consumer | 3270.2019183913026 \n",
      " avg_sales_per_merchant | 187.46380423899188 \n",
      "-RECORD 2------------------------------------\n",
      " sa2_maincode_2016      | 101021007.0        \n",
      " order_year             | 2021               \n",
      " order_month            | 4                  \n",
      " n_unique_consumer      | 9                  \n",
      " transaction_freq       | 206                \n",
      " total_dollar_value     | 31134.35532361312  \n",
      " n_unique_merchant      | 165                \n",
      " avg_sales_per_consumer | 3459.372813734791  \n",
      " avg_sales_per_merchant | 188.69306256735223 \n",
      "-RECORD 3------------------------------------\n",
      " sa2_maincode_2016      | 101021007.0        \n",
      " order_year             | 2021               \n",
      " order_month            | 5                  \n",
      " n_unique_consumer      | 9                  \n",
      " transaction_freq       | 243                \n",
      " total_dollar_value     | 38613.896036918384 \n",
      " n_unique_merchant      | 184                \n",
      " avg_sales_per_consumer | 4290.432892990932  \n",
      " avg_sales_per_merchant | 209.858130635426   \n",
      "-RECORD 4------------------------------------\n",
      " sa2_maincode_2016      | 101021007.0        \n",
      " order_year             | 2021               \n",
      " order_month            | 6                  \n",
      " n_unique_consumer      | 9                  \n",
      " transaction_freq       | 228                \n",
      " total_dollar_value     | 51485.1918691452   \n",
      " n_unique_merchant      | 170                \n",
      " avg_sales_per_consumer | 5720.576874349466  \n",
      " avg_sales_per_merchant | 302.85406981850116 \n",
      "only showing top 5 rows\n",
      "\n"
     ]
    }
   ],
   "source": [
    "sa2_trx.show(5, vertical=True)"
   ]
  },
  {
   "cell_type": "code",
   "execution_count": 159,
   "id": "6717f1fc-36e9-4b16-8018-5fe2490d9f0e",
   "metadata": {},
   "outputs": [],
   "source": [
    "poa_to_sa2 = poa_to_sa2.dropna()"
   ]
  },
  {
   "cell_type": "code",
   "execution_count": 160,
   "id": "fa1ba87f-3298-4ec3-adcd-cd0e68558f68",
   "metadata": {
    "tags": []
   },
   "outputs": [],
   "source": [
    "from shapely import wkt\n",
    "\n",
    "poa_to_sa2['geometry'] = poa_to_sa2['geometry'].astype('str').apply(wkt.loads)\n",
    "gdf = gpd.GeoDataFrame(poa_to_sa2, crs='epsg:4326')\n"
   ]
  },
  {
   "cell_type": "code",
   "execution_count": 161,
   "id": "e0a9c953-6e82-4a2b-a794-3476dd88e3b3",
   "metadata": {},
   "outputs": [],
   "source": [
    "gdf['geometry'] = gdf['geometry'].to_crs(\"+proj=longlat +ellps=WGS84 +datum=WGS84 +no_defs\")"
   ]
  },
  {
   "cell_type": "code",
   "execution_count": 163,
   "id": "d4333daa-ccb8-43a0-9cab-c5779fcbdc83",
   "metadata": {},
   "outputs": [
    {
     "name": "stdout",
     "output_type": "stream",
     "text": [
      "{\"type\": \"FeatureCollection\", \"features\": [{\"id\": \"0\", \"type\": \"Feature\", \"properties\": {\"sa2_maincode_2016\": 701011002.0}, \"geometry\": {\"type\": \"Polygon\", \"coordinates\": [[[130.83450871037445, -12.457986119222362], [130.8339087104066, -12.457386119213936], [130.8338087104126, -12.457186119211778], \n"
     ]
    }
   ],
   "source": [
    "# create a JSON \n",
    "geoJSON = gdf[['sa2_maincode_2016', 'geometry']].drop_duplicates('sa2_maincode_2016').to_json()\n",
    "\n",
    "# print the first 300 chars of the json\n",
    "print(geoJSON[:300])"
   ]
  },
  {
   "cell_type": "code",
   "execution_count": 126,
   "id": "dd2e8a2a-c0be-4787-bfa4-3c1d728e59df",
   "metadata": {},
   "outputs": [
    {
     "name": "stderr",
     "output_type": "stream",
     "text": [
      "                                                                                \r"
     ]
    }
   ],
   "source": [
    "sa2_trx = sa2_trx.toPandas()"
   ]
  },
  {
   "cell_type": "code",
   "execution_count": 127,
   "id": "74ece1ce-110a-43ea-8ad4-886c58f411ce",
   "metadata": {},
   "outputs": [
    {
     "name": "stdout",
     "output_type": "stream",
     "text": [
      "<class 'pandas.core.frame.DataFrame'>\n",
      "RangeIndex: 17059 entries, 0 to 17058\n",
      "Data columns (total 10 columns):\n",
      " #   Column                  Non-Null Count  Dtype  \n",
      "---  ------                  --------------  -----  \n",
      " 0   sa2_maincode_2016       17059 non-null  object \n",
      " 1   order_year              17059 non-null  int32  \n",
      " 2   order_month             17059 non-null  int32  \n",
      " 3   n_unique_consumer       17059 non-null  int64  \n",
      " 4   transaction_freq        17059 non-null  int64  \n",
      " 5   total_dollar_value      17059 non-null  float64\n",
      " 6   n_unique_merchant       17059 non-null  int64  \n",
      " 7   avg_sales_per_consumer  17059 non-null  float64\n",
      " 8   avg_sales_per_order     17059 non-null  float64\n",
      " 9   avg_sales_per_merchant  17059 non-null  float64\n",
      "dtypes: float64(4), int32(2), int64(3), object(1)\n",
      "memory usage: 1.2+ MB\n"
     ]
    }
   ],
   "source": [
    "sa2_trx.info()"
   ]
  },
  {
   "cell_type": "code",
   "execution_count": null,
   "id": "3bc21e4b-71fb-47b3-ae67-c75c256ac1e8",
   "metadata": {},
   "outputs": [],
   "source": [
    "# visualize trip_count by do_location id\n",
    "m = folium.Map(location=[-38.043995, 145.264296], tiles=\"Stamen Terrain\", zoom_start=8)\n",
    "sa2_trx_filter = sa2_trx.filter(F.col('state') == \"VIC\")\n",
    "\n",
    "custom_scale = (sa2_trx_filter['total_dollar_value'].quantile((0,0.2,0.4,0.6,0.8,1))).tolist()\n",
    "c = folium.Choropleth(\n",
    "    geo_data=geoJSON, # geoJSON \n",
    "    name='choropleth', # name of plot\n",
    "    data=sa2_trx, # data source\n",
    "    columns=['sa2_maincode_2016','total_dollar_value'], # the columns required\n",
    "    key_on='properties.sa2_maincode_2016', # this is from the geoJSON's properties\n",
    "    fill_color='YlOrRd', # color scheme\n",
    "    nan_fill_color='black',\n",
    "    legend_name='Average Sales per Transaction'\n",
    ")\n",
    "\n",
    "c.add_to(m)\n",
    "\n",
    "m"
   ]
  }
 ],
 "metadata": {
  "kernelspec": {
   "display_name": "Python 3 (ipykernel)",
   "language": "python",
   "name": "python3"
  },
  "language_info": {
   "codemirror_mode": {
    "name": "ipython",
    "version": 3
   },
   "file_extension": ".py",
   "mimetype": "text/x-python",
   "name": "python",
   "nbconvert_exporter": "python",
   "pygments_lexer": "ipython3",
   "version": "3.9.7"
  }
 },
 "nbformat": 4,
 "nbformat_minor": 5
}
